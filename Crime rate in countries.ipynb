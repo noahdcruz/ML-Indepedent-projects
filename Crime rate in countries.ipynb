{
 "cells": [
  {
   "cell_type": "code",
   "execution_count": 1,
   "id": "87ab0da3",
   "metadata": {},
   "outputs": [],
   "source": [
    "import pandas as pd\n",
    "import numpy as np\n",
    "import matplotlib.pyplot as plt\n",
    "%matplotlib inline\n",
    "import seaborn as sns\n",
    "import sklearn\n",
    "from sklearn.model_selection import train_test_split\n",
    "from sklearn.linear_model import LinearRegression\n",
    "from sklearn.svm import SVR\n",
    "from sklearn.ensemble import RandomForestRegressor\n",
    "from sklearn.tree import DecisionTreeRegressor"
   ]
  },
  {
   "cell_type": "code",
   "execution_count": 2,
   "id": "341c135a",
   "metadata": {},
   "outputs": [
    {
     "data": {
      "text/html": [
       "<div>\n",
       "<style scoped>\n",
       "    .dataframe tbody tr th:only-of-type {\n",
       "        vertical-align: middle;\n",
       "    }\n",
       "\n",
       "    .dataframe tbody tr th {\n",
       "        vertical-align: top;\n",
       "    }\n",
       "\n",
       "    .dataframe thead th {\n",
       "        text-align: right;\n",
       "    }\n",
       "</style>\n",
       "<table border=\"1\" class=\"dataframe\">\n",
       "  <thead>\n",
       "    <tr style=\"text-align: right;\">\n",
       "      <th></th>\n",
       "      <th>Country</th>\n",
       "      <th>Crime Rate</th>\n",
       "      <th>Unemployment (%)</th>\n",
       "      <th>HDI</th>\n",
       "      <th>Population Density (per sq. km)</th>\n",
       "      <th>Weapons per 100 persons</th>\n",
       "      <th>Per Capita Income</th>\n",
       "      <th>Gini Coefficient</th>\n",
       "      <th>Literacy Rate</th>\n",
       "      <th>Happiness Index</th>\n",
       "    </tr>\n",
       "  </thead>\n",
       "  <tbody>\n",
       "    <tr>\n",
       "      <th>0</th>\n",
       "      <td>Afghanistan</td>\n",
       "      <td>76.31</td>\n",
       "      <td>11.2</td>\n",
       "      <td>0.51</td>\n",
       "      <td>57.00</td>\n",
       "      <td>12.5</td>\n",
       "      <td>508.00</td>\n",
       "      <td>27.8</td>\n",
       "      <td>0.38</td>\n",
       "      <td>2.52</td>\n",
       "    </tr>\n",
       "    <tr>\n",
       "      <th>1</th>\n",
       "      <td>Albania</td>\n",
       "      <td>42.53</td>\n",
       "      <td>11.3</td>\n",
       "      <td>0.80</td>\n",
       "      <td>100.00</td>\n",
       "      <td>12.0</td>\n",
       "      <td>5,181.00</td>\n",
       "      <td>33.2</td>\n",
       "      <td>0.98</td>\n",
       "      <td>5.12</td>\n",
       "    </tr>\n",
       "    <tr>\n",
       "      <th>2</th>\n",
       "      <td>Algeria</td>\n",
       "      <td>52.03</td>\n",
       "      <td>11.5</td>\n",
       "      <td>0.75</td>\n",
       "      <td>18.00</td>\n",
       "      <td>2.1</td>\n",
       "      <td>3,368.00</td>\n",
       "      <td>27.6</td>\n",
       "      <td>0.80</td>\n",
       "      <td>4.89</td>\n",
       "    </tr>\n",
       "    <tr>\n",
       "      <th>3</th>\n",
       "      <td>Argentina</td>\n",
       "      <td>63.82</td>\n",
       "      <td>7.0</td>\n",
       "      <td>0.85</td>\n",
       "      <td>16.00</td>\n",
       "      <td>7.4</td>\n",
       "      <td>8,476.00</td>\n",
       "      <td>41.4</td>\n",
       "      <td>0.98</td>\n",
       "      <td>5.93</td>\n",
       "    </tr>\n",
       "    <tr>\n",
       "      <th>4</th>\n",
       "      <td>Armenia</td>\n",
       "      <td>22.79</td>\n",
       "      <td>7.7</td>\n",
       "      <td>0.78</td>\n",
       "      <td>99.00</td>\n",
       "      <td>6.1</td>\n",
       "      <td>4,266.00</td>\n",
       "      <td>34.4</td>\n",
       "      <td>1.00</td>\n",
       "      <td>5.28</td>\n",
       "    </tr>\n",
       "    <tr>\n",
       "      <th>...</th>\n",
       "      <td>...</td>\n",
       "      <td>...</td>\n",
       "      <td>...</td>\n",
       "      <td>...</td>\n",
       "      <td>...</td>\n",
       "      <td>...</td>\n",
       "      <td>...</td>\n",
       "      <td>...</td>\n",
       "      <td>...</td>\n",
       "      <td>...</td>\n",
       "    </tr>\n",
       "    <tr>\n",
       "      <th>109</th>\n",
       "      <td>Uzbekistan</td>\n",
       "      <td>33.42</td>\n",
       "      <td>8.9</td>\n",
       "      <td>0.72</td>\n",
       "      <td>73.00</td>\n",
       "      <td>0.4</td>\n",
       "      <td>1,724.00</td>\n",
       "      <td>39.7</td>\n",
       "      <td>1.00</td>\n",
       "      <td>6.18</td>\n",
       "    </tr>\n",
       "    <tr>\n",
       "      <th>110</th>\n",
       "      <td>Venezuela</td>\n",
       "      <td>83.76</td>\n",
       "      <td>9.4</td>\n",
       "      <td>0.71</td>\n",
       "      <td>32.00</td>\n",
       "      <td>18.5</td>\n",
       "      <td>3,740.00</td>\n",
       "      <td>46.9</td>\n",
       "      <td>0.95</td>\n",
       "      <td>4.89</td>\n",
       "    </tr>\n",
       "    <tr>\n",
       "      <th>111</th>\n",
       "      <td>Vietnam</td>\n",
       "      <td>46.19</td>\n",
       "      <td>8.8</td>\n",
       "      <td>0.70</td>\n",
       "      <td>289.00</td>\n",
       "      <td>1.6</td>\n",
       "      <td>2,786.00</td>\n",
       "      <td>35.7</td>\n",
       "      <td>0.95</td>\n",
       "      <td>5.41</td>\n",
       "    </tr>\n",
       "    <tr>\n",
       "      <th>112</th>\n",
       "      <td>Zambia</td>\n",
       "      <td>43.62</td>\n",
       "      <td>11.4</td>\n",
       "      <td>0.58</td>\n",
       "      <td>23.00</td>\n",
       "      <td>0.9</td>\n",
       "      <td>985.00</td>\n",
       "      <td>57.1</td>\n",
       "      <td>0.63</td>\n",
       "      <td>4.07</td>\n",
       "    </tr>\n",
       "    <tr>\n",
       "      <th>113</th>\n",
       "      <td>Zimbabwe</td>\n",
       "      <td>59.30</td>\n",
       "      <td>5.0</td>\n",
       "      <td>0.57</td>\n",
       "      <td>37.00</td>\n",
       "      <td>2.8</td>\n",
       "      <td>1,466.00</td>\n",
       "      <td>44.3</td>\n",
       "      <td>0.87</td>\n",
       "      <td>3.15</td>\n",
       "    </tr>\n",
       "  </tbody>\n",
       "</table>\n",
       "<p>114 rows × 10 columns</p>\n",
       "</div>"
      ],
      "text/plain": [
       "         Country  Crime Rate  Unemployment (%)   HDI  \\\n",
       "0    Afghanistan       76.31              11.2  0.51   \n",
       "1        Albania       42.53              11.3  0.80   \n",
       "2        Algeria       52.03              11.5  0.75   \n",
       "3      Argentina       63.82               7.0  0.85   \n",
       "4        Armenia       22.79               7.7  0.78   \n",
       "..           ...         ...               ...   ...   \n",
       "109   Uzbekistan       33.42               8.9  0.72   \n",
       "110    Venezuela       83.76               9.4  0.71   \n",
       "111      Vietnam       46.19               8.8  0.70   \n",
       "112       Zambia       43.62              11.4  0.58   \n",
       "113     Zimbabwe       59.30               5.0  0.57   \n",
       "\n",
       "    Population Density (per sq. km)  Weapons per 100 persons  \\\n",
       "0                             57.00                     12.5   \n",
       "1                            100.00                     12.0   \n",
       "2                             18.00                      2.1   \n",
       "3                             16.00                      7.4   \n",
       "4                             99.00                      6.1   \n",
       "..                              ...                      ...   \n",
       "109                           73.00                      0.4   \n",
       "110                           32.00                     18.5   \n",
       "111                          289.00                      1.6   \n",
       "112                           23.00                      0.9   \n",
       "113                           37.00                      2.8   \n",
       "\n",
       "    Per Capita Income  Gini Coefficient  Literacy Rate  Happiness Index  \n",
       "0              508.00              27.8           0.38             2.52  \n",
       "1            5,181.00              33.2           0.98             5.12  \n",
       "2            3,368.00              27.6           0.80             4.89  \n",
       "3            8,476.00              41.4           0.98             5.93  \n",
       "4            4,266.00              34.4           1.00             5.28  \n",
       "..                ...               ...            ...              ...  \n",
       "109          1,724.00              39.7           1.00             6.18  \n",
       "110          3,740.00              46.9           0.95             4.89  \n",
       "111          2,786.00              35.7           0.95             5.41  \n",
       "112            985.00              57.1           0.63             4.07  \n",
       "113          1,466.00              44.3           0.87             3.15  \n",
       "\n",
       "[114 rows x 10 columns]"
      ]
     },
     "execution_count": 2,
     "metadata": {},
     "output_type": "execute_result"
    }
   ],
   "source": [
    "df = pd.read_csv(\"Crime Economics - data.csv\")\n",
    "df"
   ]
  },
  {
   "cell_type": "code",
   "execution_count": 3,
   "id": "559b91c1",
   "metadata": {},
   "outputs": [
    {
     "data": {
      "text/html": [
       "<div>\n",
       "<style scoped>\n",
       "    .dataframe tbody tr th:only-of-type {\n",
       "        vertical-align: middle;\n",
       "    }\n",
       "\n",
       "    .dataframe tbody tr th {\n",
       "        vertical-align: top;\n",
       "    }\n",
       "\n",
       "    .dataframe thead th {\n",
       "        text-align: right;\n",
       "    }\n",
       "</style>\n",
       "<table border=\"1\" class=\"dataframe\">\n",
       "  <thead>\n",
       "    <tr style=\"text-align: right;\">\n",
       "      <th></th>\n",
       "      <th>Country</th>\n",
       "      <th>Crime Rate</th>\n",
       "      <th>Unemployment (%)</th>\n",
       "      <th>HDI</th>\n",
       "      <th>Population Density (per sq. km)</th>\n",
       "      <th>Weapons per 100 persons</th>\n",
       "      <th>Per Capita Income</th>\n",
       "      <th>Gini Coefficient</th>\n",
       "      <th>Literacy Rate</th>\n",
       "      <th>Happiness Index</th>\n",
       "    </tr>\n",
       "  </thead>\n",
       "  <tbody>\n",
       "    <tr>\n",
       "      <th>0</th>\n",
       "      <td>Afghanistan</td>\n",
       "      <td>76.31</td>\n",
       "      <td>11.2</td>\n",
       "      <td>0.51</td>\n",
       "      <td>57.00</td>\n",
       "      <td>12.5</td>\n",
       "      <td>508.00</td>\n",
       "      <td>27.8</td>\n",
       "      <td>0.38</td>\n",
       "      <td>2.52</td>\n",
       "    </tr>\n",
       "    <tr>\n",
       "      <th>1</th>\n",
       "      <td>Albania</td>\n",
       "      <td>42.53</td>\n",
       "      <td>11.3</td>\n",
       "      <td>0.80</td>\n",
       "      <td>100.00</td>\n",
       "      <td>12.0</td>\n",
       "      <td>5,181.00</td>\n",
       "      <td>33.2</td>\n",
       "      <td>0.98</td>\n",
       "      <td>5.12</td>\n",
       "    </tr>\n",
       "    <tr>\n",
       "      <th>2</th>\n",
       "      <td>Algeria</td>\n",
       "      <td>52.03</td>\n",
       "      <td>11.5</td>\n",
       "      <td>0.75</td>\n",
       "      <td>18.00</td>\n",
       "      <td>2.1</td>\n",
       "      <td>3,368.00</td>\n",
       "      <td>27.6</td>\n",
       "      <td>0.80</td>\n",
       "      <td>4.89</td>\n",
       "    </tr>\n",
       "    <tr>\n",
       "      <th>3</th>\n",
       "      <td>Argentina</td>\n",
       "      <td>63.82</td>\n",
       "      <td>7.0</td>\n",
       "      <td>0.85</td>\n",
       "      <td>16.00</td>\n",
       "      <td>7.4</td>\n",
       "      <td>8,476.00</td>\n",
       "      <td>41.4</td>\n",
       "      <td>0.98</td>\n",
       "      <td>5.93</td>\n",
       "    </tr>\n",
       "    <tr>\n",
       "      <th>4</th>\n",
       "      <td>Armenia</td>\n",
       "      <td>22.79</td>\n",
       "      <td>7.7</td>\n",
       "      <td>0.78</td>\n",
       "      <td>99.00</td>\n",
       "      <td>6.1</td>\n",
       "      <td>4,266.00</td>\n",
       "      <td>34.4</td>\n",
       "      <td>1.00</td>\n",
       "      <td>5.28</td>\n",
       "    </tr>\n",
       "  </tbody>\n",
       "</table>\n",
       "</div>"
      ],
      "text/plain": [
       "       Country  Crime Rate  Unemployment (%)   HDI  \\\n",
       "0  Afghanistan       76.31              11.2  0.51   \n",
       "1      Albania       42.53              11.3  0.80   \n",
       "2      Algeria       52.03              11.5  0.75   \n",
       "3    Argentina       63.82               7.0  0.85   \n",
       "4      Armenia       22.79               7.7  0.78   \n",
       "\n",
       "  Population Density (per sq. km)  Weapons per 100 persons Per Capita Income  \\\n",
       "0                           57.00                     12.5            508.00   \n",
       "1                          100.00                     12.0          5,181.00   \n",
       "2                           18.00                      2.1          3,368.00   \n",
       "3                           16.00                      7.4          8,476.00   \n",
       "4                           99.00                      6.1          4,266.00   \n",
       "\n",
       "   Gini Coefficient  Literacy Rate  Happiness Index  \n",
       "0              27.8           0.38             2.52  \n",
       "1              33.2           0.98             5.12  \n",
       "2              27.6           0.80             4.89  \n",
       "3              41.4           0.98             5.93  \n",
       "4              34.4           1.00             5.28  "
      ]
     },
     "execution_count": 3,
     "metadata": {},
     "output_type": "execute_result"
    }
   ],
   "source": [
    "df.head()"
   ]
  },
  {
   "cell_type": "code",
   "execution_count": 4,
   "id": "72acf807",
   "metadata": {},
   "outputs": [
    {
     "data": {
      "text/html": [
       "<div>\n",
       "<style scoped>\n",
       "    .dataframe tbody tr th:only-of-type {\n",
       "        vertical-align: middle;\n",
       "    }\n",
       "\n",
       "    .dataframe tbody tr th {\n",
       "        vertical-align: top;\n",
       "    }\n",
       "\n",
       "    .dataframe thead th {\n",
       "        text-align: right;\n",
       "    }\n",
       "</style>\n",
       "<table border=\"1\" class=\"dataframe\">\n",
       "  <thead>\n",
       "    <tr style=\"text-align: right;\">\n",
       "      <th></th>\n",
       "      <th>Country</th>\n",
       "      <th>Crime Rate</th>\n",
       "      <th>Unemployment (%)</th>\n",
       "      <th>HDI</th>\n",
       "      <th>Population Density (per sq. km)</th>\n",
       "      <th>Weapons per 100 persons</th>\n",
       "      <th>Per Capita Income</th>\n",
       "      <th>Gini Coefficient</th>\n",
       "      <th>Literacy Rate</th>\n",
       "      <th>Happiness Index</th>\n",
       "    </tr>\n",
       "  </thead>\n",
       "  <tbody>\n",
       "    <tr>\n",
       "      <th>109</th>\n",
       "      <td>Uzbekistan</td>\n",
       "      <td>33.42</td>\n",
       "      <td>8.9</td>\n",
       "      <td>0.72</td>\n",
       "      <td>73.00</td>\n",
       "      <td>0.4</td>\n",
       "      <td>1,724.00</td>\n",
       "      <td>39.7</td>\n",
       "      <td>1.00</td>\n",
       "      <td>6.18</td>\n",
       "    </tr>\n",
       "    <tr>\n",
       "      <th>110</th>\n",
       "      <td>Venezuela</td>\n",
       "      <td>83.76</td>\n",
       "      <td>9.4</td>\n",
       "      <td>0.71</td>\n",
       "      <td>32.00</td>\n",
       "      <td>18.5</td>\n",
       "      <td>3,740.00</td>\n",
       "      <td>46.9</td>\n",
       "      <td>0.95</td>\n",
       "      <td>4.89</td>\n",
       "    </tr>\n",
       "    <tr>\n",
       "      <th>111</th>\n",
       "      <td>Vietnam</td>\n",
       "      <td>46.19</td>\n",
       "      <td>8.8</td>\n",
       "      <td>0.70</td>\n",
       "      <td>289.00</td>\n",
       "      <td>1.6</td>\n",
       "      <td>2,786.00</td>\n",
       "      <td>35.7</td>\n",
       "      <td>0.95</td>\n",
       "      <td>5.41</td>\n",
       "    </tr>\n",
       "    <tr>\n",
       "      <th>112</th>\n",
       "      <td>Zambia</td>\n",
       "      <td>43.62</td>\n",
       "      <td>11.4</td>\n",
       "      <td>0.58</td>\n",
       "      <td>23.00</td>\n",
       "      <td>0.9</td>\n",
       "      <td>985.00</td>\n",
       "      <td>57.1</td>\n",
       "      <td>0.63</td>\n",
       "      <td>4.07</td>\n",
       "    </tr>\n",
       "    <tr>\n",
       "      <th>113</th>\n",
       "      <td>Zimbabwe</td>\n",
       "      <td>59.30</td>\n",
       "      <td>5.0</td>\n",
       "      <td>0.57</td>\n",
       "      <td>37.00</td>\n",
       "      <td>2.8</td>\n",
       "      <td>1,466.00</td>\n",
       "      <td>44.3</td>\n",
       "      <td>0.87</td>\n",
       "      <td>3.15</td>\n",
       "    </tr>\n",
       "  </tbody>\n",
       "</table>\n",
       "</div>"
      ],
      "text/plain": [
       "        Country  Crime Rate  Unemployment (%)   HDI  \\\n",
       "109  Uzbekistan       33.42               8.9  0.72   \n",
       "110   Venezuela       83.76               9.4  0.71   \n",
       "111     Vietnam       46.19               8.8  0.70   \n",
       "112      Zambia       43.62              11.4  0.58   \n",
       "113    Zimbabwe       59.30               5.0  0.57   \n",
       "\n",
       "    Population Density (per sq. km)  Weapons per 100 persons  \\\n",
       "109                           73.00                      0.4   \n",
       "110                           32.00                     18.5   \n",
       "111                          289.00                      1.6   \n",
       "112                           23.00                      0.9   \n",
       "113                           37.00                      2.8   \n",
       "\n",
       "    Per Capita Income  Gini Coefficient  Literacy Rate  Happiness Index  \n",
       "109          1,724.00              39.7           1.00             6.18  \n",
       "110          3,740.00              46.9           0.95             4.89  \n",
       "111          2,786.00              35.7           0.95             5.41  \n",
       "112            985.00              57.1           0.63             4.07  \n",
       "113          1,466.00              44.3           0.87             3.15  "
      ]
     },
     "execution_count": 4,
     "metadata": {},
     "output_type": "execute_result"
    }
   ],
   "source": [
    "df.tail()"
   ]
  },
  {
   "cell_type": "code",
   "execution_count": 5,
   "id": "e1d74ff9",
   "metadata": {},
   "outputs": [
    {
     "data": {
      "text/html": [
       "<div>\n",
       "<style scoped>\n",
       "    .dataframe tbody tr th:only-of-type {\n",
       "        vertical-align: middle;\n",
       "    }\n",
       "\n",
       "    .dataframe tbody tr th {\n",
       "        vertical-align: top;\n",
       "    }\n",
       "\n",
       "    .dataframe thead th {\n",
       "        text-align: right;\n",
       "    }\n",
       "</style>\n",
       "<table border=\"1\" class=\"dataframe\">\n",
       "  <thead>\n",
       "    <tr style=\"text-align: right;\">\n",
       "      <th></th>\n",
       "      <th>Crime Rate</th>\n",
       "      <th>Unemployment (%)</th>\n",
       "      <th>HDI</th>\n",
       "      <th>Weapons per 100 persons</th>\n",
       "      <th>Gini Coefficient</th>\n",
       "      <th>Literacy Rate</th>\n",
       "      <th>Happiness Index</th>\n",
       "    </tr>\n",
       "  </thead>\n",
       "  <tbody>\n",
       "    <tr>\n",
       "      <th>count</th>\n",
       "      <td>114.000000</td>\n",
       "      <td>114.000000</td>\n",
       "      <td>114.000000</td>\n",
       "      <td>114.00000</td>\n",
       "      <td>114.000000</td>\n",
       "      <td>114.000000</td>\n",
       "      <td>114.000000</td>\n",
       "    </tr>\n",
       "    <tr>\n",
       "      <th>mean</th>\n",
       "      <td>44.498421</td>\n",
       "      <td>7.743860</td>\n",
       "      <td>0.782456</td>\n",
       "      <td>12.35000</td>\n",
       "      <td>37.091754</td>\n",
       "      <td>0.899912</td>\n",
       "      <td>5.748333</td>\n",
       "    </tr>\n",
       "    <tr>\n",
       "      <th>std</th>\n",
       "      <td>14.220020</td>\n",
       "      <td>5.642052</td>\n",
       "      <td>0.122609</td>\n",
       "      <td>14.30866</td>\n",
       "      <td>9.578128</td>\n",
       "      <td>0.138765</td>\n",
       "      <td>1.025004</td>\n",
       "    </tr>\n",
       "    <tr>\n",
       "      <th>min</th>\n",
       "      <td>15.230000</td>\n",
       "      <td>0.700000</td>\n",
       "      <td>0.490000</td>\n",
       "      <td>0.00000</td>\n",
       "      <td>0.360000</td>\n",
       "      <td>0.380000</td>\n",
       "      <td>2.520000</td>\n",
       "    </tr>\n",
       "    <tr>\n",
       "      <th>25%</th>\n",
       "      <td>33.420000</td>\n",
       "      <td>4.200000</td>\n",
       "      <td>0.712500</td>\n",
       "      <td>2.85000</td>\n",
       "      <td>31.425000</td>\n",
       "      <td>0.837500</td>\n",
       "      <td>5.045000</td>\n",
       "    </tr>\n",
       "    <tr>\n",
       "      <th>50%</th>\n",
       "      <td>44.715000</td>\n",
       "      <td>6.400000</td>\n",
       "      <td>0.780000</td>\n",
       "      <td>9.25000</td>\n",
       "      <td>35.050000</td>\n",
       "      <td>0.960000</td>\n",
       "      <td>5.845000</td>\n",
       "    </tr>\n",
       "    <tr>\n",
       "      <th>75%</th>\n",
       "      <td>54.212500</td>\n",
       "      <td>9.825000</td>\n",
       "      <td>0.890000</td>\n",
       "      <td>16.65000</td>\n",
       "      <td>42.125000</td>\n",
       "      <td>0.990000</td>\n",
       "      <td>6.367500</td>\n",
       "    </tr>\n",
       "    <tr>\n",
       "      <th>max</th>\n",
       "      <td>83.760000</td>\n",
       "      <td>35.300000</td>\n",
       "      <td>0.960000</td>\n",
       "      <td>120.50000</td>\n",
       "      <td>69.300000</td>\n",
       "      <td>1.000000</td>\n",
       "      <td>7.840000</td>\n",
       "    </tr>\n",
       "  </tbody>\n",
       "</table>\n",
       "</div>"
      ],
      "text/plain": [
       "       Crime Rate  Unemployment (%)         HDI  Weapons per 100 persons  \\\n",
       "count  114.000000        114.000000  114.000000                114.00000   \n",
       "mean    44.498421          7.743860    0.782456                 12.35000   \n",
       "std     14.220020          5.642052    0.122609                 14.30866   \n",
       "min     15.230000          0.700000    0.490000                  0.00000   \n",
       "25%     33.420000          4.200000    0.712500                  2.85000   \n",
       "50%     44.715000          6.400000    0.780000                  9.25000   \n",
       "75%     54.212500          9.825000    0.890000                 16.65000   \n",
       "max     83.760000         35.300000    0.960000                120.50000   \n",
       "\n",
       "       Gini Coefficient  Literacy Rate  Happiness Index  \n",
       "count        114.000000     114.000000       114.000000  \n",
       "mean          37.091754       0.899912         5.748333  \n",
       "std            9.578128       0.138765         1.025004  \n",
       "min            0.360000       0.380000         2.520000  \n",
       "25%           31.425000       0.837500         5.045000  \n",
       "50%           35.050000       0.960000         5.845000  \n",
       "75%           42.125000       0.990000         6.367500  \n",
       "max           69.300000       1.000000         7.840000  "
      ]
     },
     "execution_count": 5,
     "metadata": {},
     "output_type": "execute_result"
    }
   ],
   "source": [
    "df.describe()"
   ]
  },
  {
   "cell_type": "code",
   "execution_count": 6,
   "id": "a42ab999",
   "metadata": {},
   "outputs": [
    {
     "name": "stdout",
     "output_type": "stream",
     "text": [
      "<class 'pandas.core.frame.DataFrame'>\n",
      "RangeIndex: 114 entries, 0 to 113\n",
      "Data columns (total 10 columns):\n",
      " #   Column                           Non-Null Count  Dtype  \n",
      "---  ------                           --------------  -----  \n",
      " 0   Country                          114 non-null    object \n",
      " 1   Crime Rate                       114 non-null    float64\n",
      " 2   Unemployment (%)                 114 non-null    float64\n",
      " 3   HDI                              114 non-null    float64\n",
      " 4   Population Density (per sq. km)  114 non-null    object \n",
      " 5   Weapons per 100 persons          114 non-null    float64\n",
      " 6   Per Capita Income                114 non-null    object \n",
      " 7   Gini Coefficient                 114 non-null    float64\n",
      " 8   Literacy Rate                    114 non-null    float64\n",
      " 9   Happiness Index                  114 non-null    float64\n",
      "dtypes: float64(7), object(3)\n",
      "memory usage: 9.0+ KB\n"
     ]
    }
   ],
   "source": [
    "df.info()"
   ]
  },
  {
   "cell_type": "code",
   "execution_count": 7,
   "id": "604ea22d",
   "metadata": {
    "scrolled": true
   },
   "outputs": [
    {
     "data": {
      "text/plain": [
       "Country                             object\n",
       "Crime Rate                         float64\n",
       "Unemployment (%)                   float64\n",
       "HDI                                float64\n",
       "Population Density (per sq. km)     object\n",
       "Weapons per 100 persons            float64\n",
       "Per Capita Income                   object\n",
       "Gini Coefficient                   float64\n",
       "Literacy Rate                      float64\n",
       "Happiness Index                    float64\n",
       "dtype: object"
      ]
     },
     "execution_count": 7,
     "metadata": {},
     "output_type": "execute_result"
    }
   ],
   "source": [
    "df.dtypes"
   ]
  },
  {
   "cell_type": "code",
   "execution_count": 8,
   "id": "05d6f64f",
   "metadata": {},
   "outputs": [],
   "source": [
    "df['Population Density (per sq. km)'] = df['Population Density (per sq. km)'].str.replace(',', '').astype(float)\n"
   ]
  },
  {
   "cell_type": "code",
   "execution_count": 9,
   "id": "6bb8f985",
   "metadata": {},
   "outputs": [],
   "source": [
    "df['Per Capita Income'] = df['Per Capita Income'].str.replace(',', '').astype(float)"
   ]
  },
  {
   "cell_type": "code",
   "execution_count": 10,
   "id": "1f19ce34",
   "metadata": {},
   "outputs": [
    {
     "data": {
      "text/html": [
       "<div>\n",
       "<style scoped>\n",
       "    .dataframe tbody tr th:only-of-type {\n",
       "        vertical-align: middle;\n",
       "    }\n",
       "\n",
       "    .dataframe tbody tr th {\n",
       "        vertical-align: top;\n",
       "    }\n",
       "\n",
       "    .dataframe thead th {\n",
       "        text-align: right;\n",
       "    }\n",
       "</style>\n",
       "<table border=\"1\" class=\"dataframe\">\n",
       "  <thead>\n",
       "    <tr style=\"text-align: right;\">\n",
       "      <th></th>\n",
       "      <th>Country</th>\n",
       "      <th>Crime Rate</th>\n",
       "      <th>Unemployment (%)</th>\n",
       "      <th>HDI</th>\n",
       "      <th>Population Density (per sq. km)</th>\n",
       "      <th>Weapons per 100 persons</th>\n",
       "      <th>Per Capita Income</th>\n",
       "      <th>Gini Coefficient</th>\n",
       "      <th>Literacy Rate</th>\n",
       "      <th>Happiness Index</th>\n",
       "    </tr>\n",
       "  </thead>\n",
       "  <tbody>\n",
       "    <tr>\n",
       "      <th>0</th>\n",
       "      <td>Afghanistan</td>\n",
       "      <td>76.31</td>\n",
       "      <td>11.2</td>\n",
       "      <td>0.51</td>\n",
       "      <td>57.0</td>\n",
       "      <td>12.5</td>\n",
       "      <td>508.0</td>\n",
       "      <td>27.8</td>\n",
       "      <td>0.38</td>\n",
       "      <td>2.52</td>\n",
       "    </tr>\n",
       "    <tr>\n",
       "      <th>1</th>\n",
       "      <td>Albania</td>\n",
       "      <td>42.53</td>\n",
       "      <td>11.3</td>\n",
       "      <td>0.80</td>\n",
       "      <td>100.0</td>\n",
       "      <td>12.0</td>\n",
       "      <td>5181.0</td>\n",
       "      <td>33.2</td>\n",
       "      <td>0.98</td>\n",
       "      <td>5.12</td>\n",
       "    </tr>\n",
       "    <tr>\n",
       "      <th>2</th>\n",
       "      <td>Algeria</td>\n",
       "      <td>52.03</td>\n",
       "      <td>11.5</td>\n",
       "      <td>0.75</td>\n",
       "      <td>18.0</td>\n",
       "      <td>2.1</td>\n",
       "      <td>3368.0</td>\n",
       "      <td>27.6</td>\n",
       "      <td>0.80</td>\n",
       "      <td>4.89</td>\n",
       "    </tr>\n",
       "    <tr>\n",
       "      <th>3</th>\n",
       "      <td>Argentina</td>\n",
       "      <td>63.82</td>\n",
       "      <td>7.0</td>\n",
       "      <td>0.85</td>\n",
       "      <td>16.0</td>\n",
       "      <td>7.4</td>\n",
       "      <td>8476.0</td>\n",
       "      <td>41.4</td>\n",
       "      <td>0.98</td>\n",
       "      <td>5.93</td>\n",
       "    </tr>\n",
       "    <tr>\n",
       "      <th>4</th>\n",
       "      <td>Armenia</td>\n",
       "      <td>22.79</td>\n",
       "      <td>7.7</td>\n",
       "      <td>0.78</td>\n",
       "      <td>99.0</td>\n",
       "      <td>6.1</td>\n",
       "      <td>4266.0</td>\n",
       "      <td>34.4</td>\n",
       "      <td>1.00</td>\n",
       "      <td>5.28</td>\n",
       "    </tr>\n",
       "    <tr>\n",
       "      <th>...</th>\n",
       "      <td>...</td>\n",
       "      <td>...</td>\n",
       "      <td>...</td>\n",
       "      <td>...</td>\n",
       "      <td>...</td>\n",
       "      <td>...</td>\n",
       "      <td>...</td>\n",
       "      <td>...</td>\n",
       "      <td>...</td>\n",
       "      <td>...</td>\n",
       "    </tr>\n",
       "    <tr>\n",
       "      <th>109</th>\n",
       "      <td>Uzbekistan</td>\n",
       "      <td>33.42</td>\n",
       "      <td>8.9</td>\n",
       "      <td>0.72</td>\n",
       "      <td>73.0</td>\n",
       "      <td>0.4</td>\n",
       "      <td>1724.0</td>\n",
       "      <td>39.7</td>\n",
       "      <td>1.00</td>\n",
       "      <td>6.18</td>\n",
       "    </tr>\n",
       "    <tr>\n",
       "      <th>110</th>\n",
       "      <td>Venezuela</td>\n",
       "      <td>83.76</td>\n",
       "      <td>9.4</td>\n",
       "      <td>0.71</td>\n",
       "      <td>32.0</td>\n",
       "      <td>18.5</td>\n",
       "      <td>3740.0</td>\n",
       "      <td>46.9</td>\n",
       "      <td>0.95</td>\n",
       "      <td>4.89</td>\n",
       "    </tr>\n",
       "    <tr>\n",
       "      <th>111</th>\n",
       "      <td>Vietnam</td>\n",
       "      <td>46.19</td>\n",
       "      <td>8.8</td>\n",
       "      <td>0.70</td>\n",
       "      <td>289.0</td>\n",
       "      <td>1.6</td>\n",
       "      <td>2786.0</td>\n",
       "      <td>35.7</td>\n",
       "      <td>0.95</td>\n",
       "      <td>5.41</td>\n",
       "    </tr>\n",
       "    <tr>\n",
       "      <th>112</th>\n",
       "      <td>Zambia</td>\n",
       "      <td>43.62</td>\n",
       "      <td>11.4</td>\n",
       "      <td>0.58</td>\n",
       "      <td>23.0</td>\n",
       "      <td>0.9</td>\n",
       "      <td>985.0</td>\n",
       "      <td>57.1</td>\n",
       "      <td>0.63</td>\n",
       "      <td>4.07</td>\n",
       "    </tr>\n",
       "    <tr>\n",
       "      <th>113</th>\n",
       "      <td>Zimbabwe</td>\n",
       "      <td>59.30</td>\n",
       "      <td>5.0</td>\n",
       "      <td>0.57</td>\n",
       "      <td>37.0</td>\n",
       "      <td>2.8</td>\n",
       "      <td>1466.0</td>\n",
       "      <td>44.3</td>\n",
       "      <td>0.87</td>\n",
       "      <td>3.15</td>\n",
       "    </tr>\n",
       "  </tbody>\n",
       "</table>\n",
       "<p>114 rows × 10 columns</p>\n",
       "</div>"
      ],
      "text/plain": [
       "         Country  Crime Rate  Unemployment (%)   HDI  \\\n",
       "0    Afghanistan       76.31              11.2  0.51   \n",
       "1        Albania       42.53              11.3  0.80   \n",
       "2        Algeria       52.03              11.5  0.75   \n",
       "3      Argentina       63.82               7.0  0.85   \n",
       "4        Armenia       22.79               7.7  0.78   \n",
       "..           ...         ...               ...   ...   \n",
       "109   Uzbekistan       33.42               8.9  0.72   \n",
       "110    Venezuela       83.76               9.4  0.71   \n",
       "111      Vietnam       46.19               8.8  0.70   \n",
       "112       Zambia       43.62              11.4  0.58   \n",
       "113     Zimbabwe       59.30               5.0  0.57   \n",
       "\n",
       "     Population Density (per sq. km)  Weapons per 100 persons  \\\n",
       "0                               57.0                     12.5   \n",
       "1                              100.0                     12.0   \n",
       "2                               18.0                      2.1   \n",
       "3                               16.0                      7.4   \n",
       "4                               99.0                      6.1   \n",
       "..                               ...                      ...   \n",
       "109                             73.0                      0.4   \n",
       "110                             32.0                     18.5   \n",
       "111                            289.0                      1.6   \n",
       "112                             23.0                      0.9   \n",
       "113                             37.0                      2.8   \n",
       "\n",
       "     Per Capita Income  Gini Coefficient  Literacy Rate  Happiness Index  \n",
       "0                508.0              27.8           0.38             2.52  \n",
       "1               5181.0              33.2           0.98             5.12  \n",
       "2               3368.0              27.6           0.80             4.89  \n",
       "3               8476.0              41.4           0.98             5.93  \n",
       "4               4266.0              34.4           1.00             5.28  \n",
       "..                 ...               ...            ...              ...  \n",
       "109             1724.0              39.7           1.00             6.18  \n",
       "110             3740.0              46.9           0.95             4.89  \n",
       "111             2786.0              35.7           0.95             5.41  \n",
       "112              985.0              57.1           0.63             4.07  \n",
       "113             1466.0              44.3           0.87             3.15  \n",
       "\n",
       "[114 rows x 10 columns]"
      ]
     },
     "execution_count": 10,
     "metadata": {},
     "output_type": "execute_result"
    }
   ],
   "source": [
    "df"
   ]
  },
  {
   "cell_type": "code",
   "execution_count": 11,
   "id": "d2395ab5",
   "metadata": {},
   "outputs": [
    {
     "data": {
      "text/plain": [
       "Country                             object\n",
       "Crime Rate                         float64\n",
       "Unemployment (%)                   float64\n",
       "HDI                                float64\n",
       "Population Density (per sq. km)    float64\n",
       "Weapons per 100 persons            float64\n",
       "Per Capita Income                  float64\n",
       "Gini Coefficient                   float64\n",
       "Literacy Rate                      float64\n",
       "Happiness Index                    float64\n",
       "dtype: object"
      ]
     },
     "execution_count": 11,
     "metadata": {},
     "output_type": "execute_result"
    }
   ],
   "source": [
    "df.dtypes"
   ]
  },
  {
   "cell_type": "code",
   "execution_count": 12,
   "id": "c2516ad5",
   "metadata": {},
   "outputs": [
    {
     "data": {
      "text/plain": [
       "RangeIndex(start=0, stop=114, step=1)"
      ]
     },
     "execution_count": 12,
     "metadata": {},
     "output_type": "execute_result"
    }
   ],
   "source": [
    "df.index"
   ]
  },
  {
   "cell_type": "code",
   "execution_count": 13,
   "id": "459e0022",
   "metadata": {},
   "outputs": [],
   "source": [
    "corr = df.corr()"
   ]
  },
  {
   "cell_type": "code",
   "execution_count": 14,
   "id": "54e8336c",
   "metadata": {},
   "outputs": [
    {
     "data": {
      "text/plain": [
       "<seaborn.axisgrid.PairGrid at 0x1a73481d040>"
      ]
     },
     "execution_count": 14,
     "metadata": {},
     "output_type": "execute_result"
    },
    {
     "data": {
      "image/png": "[encoded data removed]",
      "text/plain": [
       "<Figure size 2250x2250 with 90 Axes>"
      ]
     },
     "metadata": {},
     "output_type": "display_data"
    }
   ],
   "source": [
    "sns.pairplot(corr)"
   ]
  },
  {
   "cell_type": "code",
   "execution_count": 15,
   "id": "177092d5",
   "metadata": {},
   "outputs": [
    {
     "data": {
      "text/plain": [
       "<AxesSubplot:>"
      ]
     },
     "execution_count": 15,
     "metadata": {},
     "output_type": "execute_result"
    },
    {
     "data": {
      "image/png": "[encoded data removed]",
      "text/plain": [
       "<Figure size 640x480 with 2 Axes>"
      ]
     },
     "metadata": {},
     "output_type": "display_data"
    }
   ],
   "source": [
    "sns.heatmap(corr)"
   ]
  },
  {
   "cell_type": "code",
   "execution_count": 16,
   "id": "5e72fe3c",
   "metadata": {},
   "outputs": [
    {
     "data": {
      "text/plain": [
       "Index(['Country', 'Crime Rate', 'Unemployment (%)', 'HDI',\n",
       "       'Population Density (per sq. km)', 'Weapons per 100 persons',\n",
       "       'Per Capita Income', 'Gini Coefficient', 'Literacy Rate',\n",
       "       'Happiness Index'],\n",
       "      dtype='object')"
      ]
     },
     "execution_count": 16,
     "metadata": {},
     "output_type": "execute_result"
    }
   ],
   "source": [
    "df.columns"
   ]
  },
  {
   "cell_type": "code",
   "execution_count": 17,
   "id": "1230b0e3",
   "metadata": {},
   "outputs": [
    {
     "name": "stdout",
     "output_type": "stream",
     "text": [
      "Unique values in Country:\n",
      "['Afghanistan' 'Albania' 'Algeria' 'Argentina' 'Armenia' 'Australia'\n",
      " 'Austria' 'Azerbaijan' 'Bangladesh' 'Belarus' 'Belgium' 'Bolivia'\n",
      " 'Bosnia and Herzegovina' 'Brazil' 'Bulgaria' 'Cambodia' 'Cameroon'\n",
      " 'Canada' 'Chile' 'China' 'Colombia' 'Costa Rica' 'Croatia' 'Cyprus'\n",
      " 'Czech Republic' 'Denmark' 'Dominican Republic' 'Ecuador' 'Egypt'\n",
      " 'El Salvador' 'Estonia' 'Ethiopia' 'Finland' 'France' 'Georgia' 'Germany'\n",
      " 'Ghana' 'Greece' 'Guatemala' 'Honduras' 'Hong Kong' 'Hungary' 'Iceland'\n",
      " 'India' 'Indonesia' 'Iran' 'Iraq' 'Ireland' 'Israel' 'Italy' 'Jamaica'\n",
      " 'Japan' 'Jordan' 'Kazakhstan' 'Kenya' 'Kyrgyzstan' 'Latvia' 'Lebanon'\n",
      " 'Libya' 'Lithuania' 'Luxembourg' 'Malaysia' 'Maldives' 'Malta'\n",
      " 'Mauritius' 'Mexico' 'Moldova' 'Mongolia' 'Montenegro' 'Morocco'\n",
      " 'Myanmar' 'Namibia' 'Nepal' 'Netherlands' 'New Zealand' 'Nicaragua'\n",
      " 'Nigeria' 'North Macedonia' 'Norway' 'Pakistan' 'Panama' 'Paraguay'\n",
      " 'Peru' 'Philippines' 'Poland' 'Portugal' 'Romania' 'Russia' 'Rwanda'\n",
      " 'Saudi Arabia' 'Serbia' 'Singapore' 'Slovakia' 'Slovenia' 'South Africa'\n",
      " 'South Korea' 'Spain' 'Sri Lanka' 'Sweden' 'Switzerland' 'Tanzania'\n",
      " 'Thailand' 'Tunisia' 'Turkey' 'Uganda' 'Ukraine' 'United Arab Emirates'\n",
      " 'United States' 'Uruguay' 'Uzbekistan' 'Venezuela' 'Vietnam' 'Zambia'\n",
      " 'Zimbabwe']\n",
      "Unique values in Crime Rate:\n",
      "[76.31 42.53 52.03 63.82 22.79 43.03 25.54 32.02 63.9  59.58 44.58 57.77\n",
      " 42.99 67.49 38.21 51.13 65.24 41.89 53.42 30.14 56.87 54.22 24.59 31.28\n",
      " 25.52 26.22 61.02 55.23 46.83 67.79 23.71 49.3  27.59 51.99 23.38 35.79\n",
      " 46.98 45.85 58.67 74.54 22.   34.36 23.75 44.43 45.93 49.38 48.42 45.51\n",
      " 31.47 44.85 67.42 22.19 39.96 53.77 60.14 38.77 46.77 61.78 33.42 34.13\n",
      " 57.29 55.34 40.39 48.88 54.19 46.35 56.01 41.18 48.66 46.51 65.21 36.01\n",
      " 27.16 42.88 47.89 64.06 39.12 33.72 42.51 45.15 49.37 66.72 42.46 30.5\n",
      " 29.91 28.3  39.99 24.89 25.23 38.1  27.96 30.37 22.28 76.86 26.68 33.32\n",
      " 41.39 48.   21.62 56.   39.35 43.69 39.62 56.12 47.42 15.23 47.81 51.73\n",
      " 83.76 46.19 43.62 59.3 ]\n",
      "Unique values in Unemployment (%):\n",
      "[11.2 11.3 11.5  7.   7.7  7.1  5.7  6.   4.2  4.6  5.3  3.5 18.4  2.9\n",
      "  4.7  0.7  3.4  6.9 10.4  6.7 14.2 22.   7.5  9.4  9.3  5.9  4.9  6.8\n",
      "  1.5  8.4 11.9 20.4  5.4  1.   5.2  6.4  7.2  7.9 12.8  1.9 10.7  1.6\n",
      " 14.6  5.   2.6  6.6  8.5  6.3 18.6  9.6  2.5  3.9 30.   3.8  2.   5.6\n",
      " 12.7  1.7 23.   7.4  2.7  4.4 16.4 10.   3.1 14.   7.3  3.6 35.3 13.3\n",
      "  8.9  5.1 16.2  9.9  2.4 11.1  8.8 11.4]\n",
      "Unique values in HDI:\n",
      "[0.51 0.8  0.75 0.85 0.78 0.94 0.92 0.76 0.63 0.82 0.93 0.72 0.77 0.59\n",
      " 0.56 0.81 0.89 0.9  0.71 0.67 0.49 0.95 0.61 0.66 0.65 0.96 0.73 0.83\n",
      " 0.6  0.7  0.87 0.74 0.88 0.69 0.58 0.54 0.86 0.53 0.57]\n",
      "Unique values in Population Density (per sq. km):\n",
      "[5.700e+01 1.000e+02 1.800e+01 1.600e+01 9.900e+01 3.000e+00 1.060e+02\n",
      " 1.150e+02 1.087e+03 4.600e+01 3.760e+02 1.000e+01 6.500e+01 2.500e+01\n",
      " 6.400e+01 9.000e+01 5.300e+01 4.000e+00 1.490e+02 4.300e+01 9.800e+01\n",
      " 7.300e+01 1.290e+02 1.350e+02 1.330e+02 2.210e+02 6.700e+01 3.050e+02\n",
      " 2.900e+01 1.180e+02 2.330e+02 1.250e+02 8.000e+01 1.580e+02 8.500e+01\n",
      " 6.677e+03 1.040e+02 4.110e+02 1.400e+02 5.000e+01 8.800e+01 6.900e+01\n",
      " 4.310e+02 2.010e+02 2.670e+02 3.370e+02 1.120e+02 7.000e+00 8.700e+01\n",
      " 3.200e+01 3.000e+01 6.560e+02 2.340e+02 9.500e+01 1.719e+03 1.390e+03\n",
      " 6.440e+02 1.200e+02 2.000e+00 4.500e+01 8.100e+01 7.900e+01 1.910e+02\n",
      " 4.570e+02 2.120e+02 2.410e+02 5.500e+01 1.700e+01 3.560e+02 1.220e+02\n",
      " 1.110e+02 8.200e+01 9.000e+00 4.670e+02 8.041e+03 1.020e+02 4.700e+01\n",
      " 5.110e+02 9.200e+01 3.240e+02 2.200e+01 2.070e+02 5.900e+01 7.100e+01\n",
      " 1.050e+02 1.770e+02 3.400e+01 2.000e+01 2.890e+02 2.300e+01 3.700e+01]\n",
      "Unique values in Weapons per 100 persons:\n",
      "[ 12.5  12.    2.1   7.4   6.1  14.5  30.    3.6   0.4  12.7   2.   31.2\n",
      "   8.3   8.4   4.5  34.7  12.1  10.1  10.   13.7  34.    9.9   2.4   4.1\n",
      "   5.   32.4  19.6   8.   17.6  14.1  10.5  31.7   5.3   0.    7.3   7.2\n",
      "   6.7  14.4   8.8   0.3  18.7   2.8   1.5  31.9  13.3  13.6  18.9   0.7\n",
      "   6.2  28.3  12.9   3.    7.9  39.1   4.8   1.6  15.4   2.6  26.3   5.2\n",
      "   3.2  29.8  28.8  22.3  10.8  16.7   2.5  21.3  12.3   0.5   6.5  15.6\n",
      "   9.7   0.2   7.5  23.1  27.6   0.8  15.1   1.1  16.5 120.5  18.5   0.9]\n",
      "Unique values in Per Capita Income:\n",
      "[   508.   5181.   3368.   8476.   4266.  55823.  48106.   4202.   2001.\n",
      "   6377.  45028.   3133.   6035.   6797.  10058.   1513.   1502.  43560.\n",
      "  13232.  10229.   5333.  12077.  13934.  28133.  22911.  61477.   7268.\n",
      "   5600.   3609.   3799.  23106.    840.  48685.  38959.   3984.  45909.\n",
      "   2206.  18117.   4332.   2406.  46611.  16129.  63644.   1931.   3870.\n",
      "  11183.   4146.  86251.  47034.  31238.   4665.  39990.   4283.   9111.\n",
      "   1879.   1186.  17871.   9310.   4243.  20772. 117182.  10402.   6924.\n",
      "  33771.   8587.   8326.   2954.   4007.   7626.   3108.   1292.   4215.\n",
      "   1135.  53334.  43972.   1905.   2085.   5886.  66871.   1167.  12269.\n",
      "   4950.   6163.   3299.  15764.  22413.  12929.  10166.    798.  20110.\n",
      "   7656.  58114.  19264.  25777.   5094.  31947.  27409.   3768.  53575.\n",
      "  86919.   1115.   7189.   3318.   8538.    846.   3557.  36285.  63123.\n",
      "  15438.   1724.   3740.   2786.    985.   1466.]\n",
      "Unique values in Gini Coefficient:\n",
      "[27.8  33.2  27.6  41.4  34.4  29.7  26.6  32.4  25.2  27.4  42.2  33.\n",
      " 53.3  40.4  69.2  46.6  33.8  44.4  38.5  50.4  48.   30.4  31.4  24.9\n",
      " 28.7  43.7  45.4  31.5  38.6  35.   31.6  36.4  31.9  43.5  48.3  52.1\n",
      " 46.7  30.6  26.8  37.8  39.   40.8  29.5  32.8  35.9  45.5  32.9  33.7\n",
      " 27.5  27.7  35.6  31.8  69.3  37.3  34.9  41.   31.3  29.2  36.8  25.7\n",
      " 32.7  39.5  30.7  59.1  28.5  32.5  46.2  35.1  34.2  27.   33.5  49.2\n",
      " 42.8  36.   37.5  54.1  36.2   0.36 24.2  63.   34.7  39.8  28.8  40.5\n",
      " 41.9  26.1  34.8  39.7  46.9  35.7  57.1  44.3 ]\n",
      "Unique values in Literacy Rate:\n",
      "[0.38 0.98 0.8  1.   0.99 0.76 0.96 0.92 0.77 0.75 0.97 0.95 0.79 0.68\n",
      " 0.74 0.49 0.89 0.94 0.87 0.44 0.78 0.91 0.66 0.39 0.82 0.65 0.83 0.6\n",
      " 0.59 0.71 0.93 0.86 0.63]\n",
      "Unique values in Happiness Index:\n",
      "[2.52 5.12 4.89 5.93 5.28 7.18 7.27 5.17 5.03 5.53 6.83 5.72 5.81 6.33\n",
      " 5.27 4.83 5.14 7.1  6.17 5.34 6.01 7.07 5.88 6.22 6.97 7.62 5.55 5.76\n",
      " 4.28 6.06 6.19 7.84 6.69 7.16 5.09 6.44 5.92 5.48 5.99 7.55 3.82 5.35\n",
      " 4.72 4.85 7.09 6.48 6.31 5.94 4.4  6.15 4.61 5.74 6.03 4.58 5.41 6.26\n",
      " 7.32 5.38 5.2  6.6  6.05 6.32 5.77 5.68 5.58 4.92 4.43 4.57 7.46 7.28\n",
      " 5.97 4.76 5.1  7.39 4.93 6.18 5.65 5.84 6.14 3.42 6.49 6.08 6.38 6.46\n",
      " 4.96 5.85 4.33 7.36 7.57 3.62 4.6  4.95 4.64 4.88 6.56 6.95 6.43 4.07\n",
      " 3.15]\n"
     ]
    }
   ],
   "source": [
    "for column in df.columns:\n",
    "    unique = df[column].unique()\n",
    "    print(f\"Unique values in {column}:\")\n",
    "    print(unique)"
   ]
  },
  {
   "cell_type": "code",
   "execution_count": 18,
   "id": "7cb85192",
   "metadata": {},
   "outputs": [
    {
     "data": {
      "text/html": [
       "<div>\n",
       "<style scoped>\n",
       "    .dataframe tbody tr th:only-of-type {\n",
       "        vertical-align: middle;\n",
       "    }\n",
       "\n",
       "    .dataframe tbody tr th {\n",
       "        vertical-align: top;\n",
       "    }\n",
       "\n",
       "    .dataframe thead th {\n",
       "        text-align: right;\n",
       "    }\n",
       "</style>\n",
       "<table border=\"1\" class=\"dataframe\">\n",
       "  <thead>\n",
       "    <tr style=\"text-align: right;\">\n",
       "      <th></th>\n",
       "      <th>Country</th>\n",
       "      <th>Crime Rate</th>\n",
       "      <th>Unemployment (%)</th>\n",
       "      <th>HDI</th>\n",
       "      <th>Population Density (per sq. km)</th>\n",
       "      <th>Weapons per 100 persons</th>\n",
       "      <th>Per Capita Income</th>\n",
       "      <th>Gini Coefficient</th>\n",
       "      <th>Literacy Rate</th>\n",
       "      <th>Happiness Index</th>\n",
       "    </tr>\n",
       "  </thead>\n",
       "  <tbody>\n",
       "    <tr>\n",
       "      <th>0</th>\n",
       "      <td>False</td>\n",
       "      <td>False</td>\n",
       "      <td>False</td>\n",
       "      <td>False</td>\n",
       "      <td>False</td>\n",
       "      <td>False</td>\n",
       "      <td>False</td>\n",
       "      <td>False</td>\n",
       "      <td>False</td>\n",
       "      <td>False</td>\n",
       "    </tr>\n",
       "    <tr>\n",
       "      <th>1</th>\n",
       "      <td>False</td>\n",
       "      <td>False</td>\n",
       "      <td>False</td>\n",
       "      <td>False</td>\n",
       "      <td>False</td>\n",
       "      <td>False</td>\n",
       "      <td>False</td>\n",
       "      <td>False</td>\n",
       "      <td>False</td>\n",
       "      <td>False</td>\n",
       "    </tr>\n",
       "    <tr>\n",
       "      <th>2</th>\n",
       "      <td>False</td>\n",
       "      <td>False</td>\n",
       "      <td>False</td>\n",
       "      <td>False</td>\n",
       "      <td>False</td>\n",
       "      <td>False</td>\n",
       "      <td>False</td>\n",
       "      <td>False</td>\n",
       "      <td>False</td>\n",
       "      <td>False</td>\n",
       "    </tr>\n",
       "    <tr>\n",
       "      <th>3</th>\n",
       "      <td>False</td>\n",
       "      <td>False</td>\n",
       "      <td>False</td>\n",
       "      <td>False</td>\n",
       "      <td>False</td>\n",
       "      <td>False</td>\n",
       "      <td>False</td>\n",
       "      <td>False</td>\n",
       "      <td>False</td>\n",
       "      <td>False</td>\n",
       "    </tr>\n",
       "    <tr>\n",
       "      <th>4</th>\n",
       "      <td>False</td>\n",
       "      <td>False</td>\n",
       "      <td>False</td>\n",
       "      <td>False</td>\n",
       "      <td>False</td>\n",
       "      <td>False</td>\n",
       "      <td>False</td>\n",
       "      <td>False</td>\n",
       "      <td>False</td>\n",
       "      <td>False</td>\n",
       "    </tr>\n",
       "    <tr>\n",
       "      <th>...</th>\n",
       "      <td>...</td>\n",
       "      <td>...</td>\n",
       "      <td>...</td>\n",
       "      <td>...</td>\n",
       "      <td>...</td>\n",
       "      <td>...</td>\n",
       "      <td>...</td>\n",
       "      <td>...</td>\n",
       "      <td>...</td>\n",
       "      <td>...</td>\n",
       "    </tr>\n",
       "    <tr>\n",
       "      <th>109</th>\n",
       "      <td>False</td>\n",
       "      <td>False</td>\n",
       "      <td>False</td>\n",
       "      <td>False</td>\n",
       "      <td>False</td>\n",
       "      <td>False</td>\n",
       "      <td>False</td>\n",
       "      <td>False</td>\n",
       "      <td>False</td>\n",
       "      <td>False</td>\n",
       "    </tr>\n",
       "    <tr>\n",
       "      <th>110</th>\n",
       "      <td>False</td>\n",
       "      <td>False</td>\n",
       "      <td>False</td>\n",
       "      <td>False</td>\n",
       "      <td>False</td>\n",
       "      <td>False</td>\n",
       "      <td>False</td>\n",
       "      <td>False</td>\n",
       "      <td>False</td>\n",
       "      <td>False</td>\n",
       "    </tr>\n",
       "    <tr>\n",
       "      <th>111</th>\n",
       "      <td>False</td>\n",
       "      <td>False</td>\n",
       "      <td>False</td>\n",
       "      <td>False</td>\n",
       "      <td>False</td>\n",
       "      <td>False</td>\n",
       "      <td>False</td>\n",
       "      <td>False</td>\n",
       "      <td>False</td>\n",
       "      <td>False</td>\n",
       "    </tr>\n",
       "    <tr>\n",
       "      <th>112</th>\n",
       "      <td>False</td>\n",
       "      <td>False</td>\n",
       "      <td>False</td>\n",
       "      <td>False</td>\n",
       "      <td>False</td>\n",
       "      <td>False</td>\n",
       "      <td>False</td>\n",
       "      <td>False</td>\n",
       "      <td>False</td>\n",
       "      <td>False</td>\n",
       "    </tr>\n",
       "    <tr>\n",
       "      <th>113</th>\n",
       "      <td>False</td>\n",
       "      <td>False</td>\n",
       "      <td>False</td>\n",
       "      <td>False</td>\n",
       "      <td>False</td>\n",
       "      <td>False</td>\n",
       "      <td>False</td>\n",
       "      <td>False</td>\n",
       "      <td>False</td>\n",
       "      <td>False</td>\n",
       "    </tr>\n",
       "  </tbody>\n",
       "</table>\n",
       "<p>114 rows × 10 columns</p>\n",
       "</div>"
      ],
      "text/plain": [
       "     Country  Crime Rate  Unemployment (%)    HDI  \\\n",
       "0      False       False             False  False   \n",
       "1      False       False             False  False   \n",
       "2      False       False             False  False   \n",
       "3      False       False             False  False   \n",
       "4      False       False             False  False   \n",
       "..       ...         ...               ...    ...   \n",
       "109    False       False             False  False   \n",
       "110    False       False             False  False   \n",
       "111    False       False             False  False   \n",
       "112    False       False             False  False   \n",
       "113    False       False             False  False   \n",
       "\n",
       "     Population Density (per sq. km)  Weapons per 100 persons  \\\n",
       "0                              False                    False   \n",
       "1                              False                    False   \n",
       "2                              False                    False   \n",
       "3                              False                    False   \n",
       "4                              False                    False   \n",
       "..                               ...                      ...   \n",
       "109                            False                    False   \n",
       "110                            False                    False   \n",
       "111                            False                    False   \n",
       "112                            False                    False   \n",
       "113                            False                    False   \n",
       "\n",
       "     Per Capita Income  Gini Coefficient  Literacy Rate  Happiness Index  \n",
       "0                False             False          False            False  \n",
       "1                False             False          False            False  \n",
       "2                False             False          False            False  \n",
       "3                False             False          False            False  \n",
       "4                False             False          False            False  \n",
       "..                 ...               ...            ...              ...  \n",
       "109              False             False          False            False  \n",
       "110              False             False          False            False  \n",
       "111              False             False          False            False  \n",
       "112              False             False          False            False  \n",
       "113              False             False          False            False  \n",
       "\n",
       "[114 rows x 10 columns]"
      ]
     },
     "execution_count": 18,
     "metadata": {},
     "output_type": "execute_result"
    }
   ],
   "source": [
    "df.isnull()"
   ]
  },
  {
   "cell_type": "code",
   "execution_count": 19,
   "id": "cf1757b3",
   "metadata": {},
   "outputs": [
    {
     "data": {
      "text/plain": [
       "Country                            0\n",
       "Crime Rate                         0\n",
       "Unemployment (%)                   0\n",
       "HDI                                0\n",
       "Population Density (per sq. km)    0\n",
       "Weapons per 100 persons            0\n",
       "Per Capita Income                  0\n",
       "Gini Coefficient                   0\n",
       "Literacy Rate                      0\n",
       "Happiness Index                    0\n",
       "dtype: int64"
      ]
     },
     "execution_count": 19,
     "metadata": {},
     "output_type": "execute_result"
    }
   ],
   "source": [
    "df.isnull().sum()"
   ]
  },
  {
   "cell_type": "code",
   "execution_count": 20,
   "id": "d0aeed5f",
   "metadata": {},
   "outputs": [
    {
     "data": {
      "text/html": [
       "<div>\n",
       "<style scoped>\n",
       "    .dataframe tbody tr th:only-of-type {\n",
       "        vertical-align: middle;\n",
       "    }\n",
       "\n",
       "    .dataframe tbody tr th {\n",
       "        vertical-align: top;\n",
       "    }\n",
       "\n",
       "    .dataframe thead th {\n",
       "        text-align: right;\n",
       "    }\n",
       "</style>\n",
       "<table border=\"1\" class=\"dataframe\">\n",
       "  <thead>\n",
       "    <tr style=\"text-align: right;\">\n",
       "      <th></th>\n",
       "      <th>Country</th>\n",
       "      <th>Crime Rate</th>\n",
       "      <th>Unemployment (%)</th>\n",
       "      <th>HDI</th>\n",
       "      <th>Population Density (per sq. km)</th>\n",
       "      <th>Weapons per 100 persons</th>\n",
       "      <th>Per Capita Income</th>\n",
       "      <th>Gini Coefficient</th>\n",
       "      <th>Literacy Rate</th>\n",
       "      <th>Happiness Index</th>\n",
       "    </tr>\n",
       "  </thead>\n",
       "  <tbody>\n",
       "    <tr>\n",
       "      <th>0</th>\n",
       "      <td>False</td>\n",
       "      <td>False</td>\n",
       "      <td>False</td>\n",
       "      <td>False</td>\n",
       "      <td>False</td>\n",
       "      <td>False</td>\n",
       "      <td>False</td>\n",
       "      <td>False</td>\n",
       "      <td>False</td>\n",
       "      <td>False</td>\n",
       "    </tr>\n",
       "    <tr>\n",
       "      <th>1</th>\n",
       "      <td>False</td>\n",
       "      <td>False</td>\n",
       "      <td>False</td>\n",
       "      <td>False</td>\n",
       "      <td>False</td>\n",
       "      <td>False</td>\n",
       "      <td>False</td>\n",
       "      <td>False</td>\n",
       "      <td>False</td>\n",
       "      <td>False</td>\n",
       "    </tr>\n",
       "    <tr>\n",
       "      <th>2</th>\n",
       "      <td>False</td>\n",
       "      <td>False</td>\n",
       "      <td>False</td>\n",
       "      <td>False</td>\n",
       "      <td>False</td>\n",
       "      <td>False</td>\n",
       "      <td>False</td>\n",
       "      <td>False</td>\n",
       "      <td>False</td>\n",
       "      <td>False</td>\n",
       "    </tr>\n",
       "    <tr>\n",
       "      <th>3</th>\n",
       "      <td>False</td>\n",
       "      <td>False</td>\n",
       "      <td>False</td>\n",
       "      <td>False</td>\n",
       "      <td>False</td>\n",
       "      <td>False</td>\n",
       "      <td>False</td>\n",
       "      <td>False</td>\n",
       "      <td>False</td>\n",
       "      <td>False</td>\n",
       "    </tr>\n",
       "    <tr>\n",
       "      <th>4</th>\n",
       "      <td>False</td>\n",
       "      <td>False</td>\n",
       "      <td>False</td>\n",
       "      <td>False</td>\n",
       "      <td>False</td>\n",
       "      <td>False</td>\n",
       "      <td>False</td>\n",
       "      <td>False</td>\n",
       "      <td>False</td>\n",
       "      <td>False</td>\n",
       "    </tr>\n",
       "    <tr>\n",
       "      <th>...</th>\n",
       "      <td>...</td>\n",
       "      <td>...</td>\n",
       "      <td>...</td>\n",
       "      <td>...</td>\n",
       "      <td>...</td>\n",
       "      <td>...</td>\n",
       "      <td>...</td>\n",
       "      <td>...</td>\n",
       "      <td>...</td>\n",
       "      <td>...</td>\n",
       "    </tr>\n",
       "    <tr>\n",
       "      <th>109</th>\n",
       "      <td>False</td>\n",
       "      <td>False</td>\n",
       "      <td>False</td>\n",
       "      <td>False</td>\n",
       "      <td>False</td>\n",
       "      <td>False</td>\n",
       "      <td>False</td>\n",
       "      <td>False</td>\n",
       "      <td>False</td>\n",
       "      <td>False</td>\n",
       "    </tr>\n",
       "    <tr>\n",
       "      <th>110</th>\n",
       "      <td>False</td>\n",
       "      <td>False</td>\n",
       "      <td>False</td>\n",
       "      <td>False</td>\n",
       "      <td>False</td>\n",
       "      <td>False</td>\n",
       "      <td>False</td>\n",
       "      <td>False</td>\n",
       "      <td>False</td>\n",
       "      <td>False</td>\n",
       "    </tr>\n",
       "    <tr>\n",
       "      <th>111</th>\n",
       "      <td>False</td>\n",
       "      <td>False</td>\n",
       "      <td>False</td>\n",
       "      <td>False</td>\n",
       "      <td>False</td>\n",
       "      <td>False</td>\n",
       "      <td>False</td>\n",
       "      <td>False</td>\n",
       "      <td>False</td>\n",
       "      <td>False</td>\n",
       "    </tr>\n",
       "    <tr>\n",
       "      <th>112</th>\n",
       "      <td>False</td>\n",
       "      <td>False</td>\n",
       "      <td>False</td>\n",
       "      <td>False</td>\n",
       "      <td>False</td>\n",
       "      <td>False</td>\n",
       "      <td>False</td>\n",
       "      <td>False</td>\n",
       "      <td>False</td>\n",
       "      <td>False</td>\n",
       "    </tr>\n",
       "    <tr>\n",
       "      <th>113</th>\n",
       "      <td>False</td>\n",
       "      <td>False</td>\n",
       "      <td>False</td>\n",
       "      <td>False</td>\n",
       "      <td>False</td>\n",
       "      <td>False</td>\n",
       "      <td>False</td>\n",
       "      <td>False</td>\n",
       "      <td>False</td>\n",
       "      <td>False</td>\n",
       "    </tr>\n",
       "  </tbody>\n",
       "</table>\n",
       "<p>114 rows × 10 columns</p>\n",
       "</div>"
      ],
      "text/plain": [
       "     Country  Crime Rate  Unemployment (%)    HDI  \\\n",
       "0      False       False             False  False   \n",
       "1      False       False             False  False   \n",
       "2      False       False             False  False   \n",
       "3      False       False             False  False   \n",
       "4      False       False             False  False   \n",
       "..       ...         ...               ...    ...   \n",
       "109    False       False             False  False   \n",
       "110    False       False             False  False   \n",
       "111    False       False             False  False   \n",
       "112    False       False             False  False   \n",
       "113    False       False             False  False   \n",
       "\n",
       "     Population Density (per sq. km)  Weapons per 100 persons  \\\n",
       "0                              False                    False   \n",
       "1                              False                    False   \n",
       "2                              False                    False   \n",
       "3                              False                    False   \n",
       "4                              False                    False   \n",
       "..                               ...                      ...   \n",
       "109                            False                    False   \n",
       "110                            False                    False   \n",
       "111                            False                    False   \n",
       "112                            False                    False   \n",
       "113                            False                    False   \n",
       "\n",
       "     Per Capita Income  Gini Coefficient  Literacy Rate  Happiness Index  \n",
       "0                False             False          False            False  \n",
       "1                False             False          False            False  \n",
       "2                False             False          False            False  \n",
       "3                False             False          False            False  \n",
       "4                False             False          False            False  \n",
       "..                 ...               ...            ...              ...  \n",
       "109              False             False          False            False  \n",
       "110              False             False          False            False  \n",
       "111              False             False          False            False  \n",
       "112              False             False          False            False  \n",
       "113              False             False          False            False  \n",
       "\n",
       "[114 rows x 10 columns]"
      ]
     },
     "execution_count": 20,
     "metadata": {},
     "output_type": "execute_result"
    }
   ],
   "source": [
    "df.isna()"
   ]
  },
  {
   "cell_type": "code",
   "execution_count": 21,
   "id": "5f78f9f9",
   "metadata": {
    "scrolled": true
   },
   "outputs": [
    {
     "data": {
      "text/plain": [
       "Country                            0\n",
       "Crime Rate                         0\n",
       "Unemployment (%)                   0\n",
       "HDI                                0\n",
       "Population Density (per sq. km)    0\n",
       "Weapons per 100 persons            0\n",
       "Per Capita Income                  0\n",
       "Gini Coefficient                   0\n",
       "Literacy Rate                      0\n",
       "Happiness Index                    0\n",
       "dtype: int64"
      ]
     },
     "execution_count": 21,
     "metadata": {},
     "output_type": "execute_result"
    }
   ],
   "source": [
    "df.isna().sum()"
   ]
  },
  {
   "cell_type": "code",
   "execution_count": 22,
   "id": "359876ae",
   "metadata": {},
   "outputs": [
    {
     "data": {
      "text/plain": [
       "<AxesSubplot:xlabel='Crime Rate', ylabel='Count'>"
      ]
     },
     "execution_count": 22,
     "metadata": {},
     "output_type": "execute_result"
    },
    {
     "data": {
      "image/png": "[encoded data removed]",
      "text/plain": [
       "<Figure size 640x480 with 1 Axes>"
      ]
     },
     "metadata": {},
     "output_type": "display_data"
    }
   ],
   "source": [
    "sns.histplot(x = df['Crime Rate'], data=df)"
   ]
  },
  {
   "cell_type": "code",
   "execution_count": 23,
   "id": "20b831ae",
   "metadata": {},
   "outputs": [
    {
     "data": {
      "text/plain": [
       "<AxesSubplot:xlabel='Unemployment (%)', ylabel='Count'>"
      ]
     },
     "execution_count": 23,
     "metadata": {},
     "output_type": "execute_result"
    },
    {
     "data": {
      "image/png": "[encoded data removed]",
      "text/plain": [
       "<Figure size 640x480 with 1 Axes>"
      ]
     },
     "metadata": {},
     "output_type": "display_data"
    }
   ],
   "source": [
    "sns.histplot(x = df['Unemployment (%)'], data=df)"
   ]
  },
  {
   "cell_type": "code",
   "execution_count": 24,
   "id": "60d2aa1f",
   "metadata": {},
   "outputs": [
    {
     "data": {
      "text/plain": [
       "<AxesSubplot:xlabel='HDI', ylabel='Count'>"
      ]
     },
     "execution_count": 24,
     "metadata": {},
     "output_type": "execute_result"
    },
    {
     "data": {
      "image/png": "[encoded data removed]",
      "text/plain": [
       "<Figure size 640x480 with 1 Axes>"
      ]
     },
     "metadata": {},
     "output_type": "display_data"
    }
   ],
   "source": [
    "sns.histplot(x = df['HDI'], data=df)"
   ]
  },
  {
   "cell_type": "code",
   "execution_count": 25,
   "id": "3075d705",
   "metadata": {
    "scrolled": true
   },
   "outputs": [
    {
     "data": {
      "text/plain": [
       "<AxesSubplot:xlabel='Weapons per 100 persons', ylabel='Count'>"
      ]
     },
     "execution_count": 25,
     "metadata": {},
     "output_type": "execute_result"
    },
    {
     "data": {
      "image/png": "[encoded data removed]",
      "text/plain": [
       "<Figure size 640x480 with 1 Axes>"
      ]
     },
     "metadata": {},
     "output_type": "display_data"
    }
   ],
   "source": [
    "sns.histplot(x = df['Weapons per 100 persons'], data=df)"
   ]
  },
  {
   "cell_type": "code",
   "execution_count": 26,
   "id": "fb8aab79",
   "metadata": {
    "scrolled": true
   },
   "outputs": [
    {
     "data": {
      "text/plain": [
       "<AxesSubplot:xlabel='Gini Coefficient', ylabel='Count'>"
      ]
     },
     "execution_count": 26,
     "metadata": {},
     "output_type": "execute_result"
    },
    {
     "data": {
      "image/png": "[encoded data removed]",
      "text/plain": [
       "<Figure size 640x480 with 1 Axes>"
      ]
     },
     "metadata": {},
     "output_type": "display_data"
    }
   ],
   "source": [
    "sns.histplot(x = df['Gini Coefficient'], data=df)"
   ]
  },
  {
   "cell_type": "code",
   "execution_count": 27,
   "id": "54d397c5",
   "metadata": {},
   "outputs": [
    {
     "data": {
      "text/plain": [
       "<AxesSubplot:xlabel='Literacy Rate', ylabel='Count'>"
      ]
     },
     "execution_count": 27,
     "metadata": {},
     "output_type": "execute_result"
    },
    {
     "data": {
      "image/png": "[encoded data removed]",
      "text/plain": [
       "<Figure size 640x480 with 1 Axes>"
      ]
     },
     "metadata": {},
     "output_type": "display_data"
    }
   ],
   "source": [
    "sns.histplot(x = df['Literacy Rate'], data=df)"
   ]
  },
  {
   "cell_type": "code",
   "execution_count": 28,
   "id": "deda9da4",
   "metadata": {},
   "outputs": [
    {
     "data": {
      "text/plain": [
       "<AxesSubplot:xlabel='Happiness Index', ylabel='Count'>"
      ]
     },
     "execution_count": 28,
     "metadata": {},
     "output_type": "execute_result"
    },
    {
     "data": {
      "image/png": "[encoded data removed]",
      "text/plain": [
       "<Figure size 640x480 with 1 Axes>"
      ]
     },
     "metadata": {},
     "output_type": "display_data"
    }
   ],
   "source": [
    "sns.histplot(x = df['Happiness Index'], data=df)"
   ]
  },
  {
   "cell_type": "code",
   "execution_count": 29,
   "id": "34470f73",
   "metadata": {},
   "outputs": [
    {
     "data": {
      "image/png": "[encoded data removed]",
      "text/plain": [
       "<Figure size 640x480 with 1 Axes>"
      ]
     },
     "metadata": {},
     "output_type": "display_data"
    }
   ],
   "source": [
    "plt.scatter(x = df['Unemployment (%)'], y = df['Crime Rate'], c='r')\n",
    "plt.xlabel(\"Unemployment\")\n",
    "plt.ylabel(\"Crime Rate\")\n",
    "plt.show()"
   ]
  },
  {
   "cell_type": "code",
   "execution_count": 30,
   "id": "d41e81d3",
   "metadata": {},
   "outputs": [
    {
     "data": {
      "image/png": "[encoded data removed]",
      "text/plain": [
       "<Figure size 640x480 with 1 Axes>"
      ]
     },
     "metadata": {},
     "output_type": "display_data"
    }
   ],
   "source": [
    "plt.scatter(x = df['HDI'], y = df['Crime Rate'], c='r')\n",
    "plt.xlabel(\"HDI\")\n",
    "plt.ylabel(\"Crime Rate\")\n",
    "plt.show()"
   ]
  },
  {
   "cell_type": "code",
   "execution_count": 31,
   "id": "f8d67708",
   "metadata": {},
   "outputs": [
    {
     "data": {
      "image/png": "[encoded data removed]",
      "text/plain": [
       "<Figure size 640x480 with 1 Axes>"
      ]
     },
     "metadata": {},
     "output_type": "display_data"
    }
   ],
   "source": [
    "plt.scatter(x = df['Population Density (per sq. km)'], y = df['Crime Rate'], c='r')\n",
    "plt.xlabel(\"Population Density (per sq. km)\")\n",
    "plt.ylabel(\"Crime Rate\")\n",
    "plt.show()"
   ]
  },
  {
   "cell_type": "code",
   "execution_count": 32,
   "id": "b1c8c40c",
   "metadata": {},
   "outputs": [
    {
     "data": {
      "image/png": "[encoded data removed]",
      "text/plain": [
       "<Figure size 640x480 with 1 Axes>"
      ]
     },
     "metadata": {},
     "output_type": "display_data"
    }
   ],
   "source": [
    "plt.scatter(x = df['Weapons per 100 persons'], y = df['Crime Rate'], c='r')\n",
    "plt.xlabel(\"Weapons per 100 persons\")\n",
    "plt.ylabel(\"Crime Rate\")\n",
    "plt.show()"
   ]
  },
  {
   "cell_type": "code",
   "execution_count": 33,
   "id": "55fabb8f",
   "metadata": {},
   "outputs": [
    {
     "data": {
      "image/png": "[encoded data removed]",
      "text/plain": [
       "<Figure size 640x480 with 1 Axes>"
      ]
     },
     "metadata": {},
     "output_type": "display_data"
    }
   ],
   "source": [
    "plt.scatter(x = df['Per Capita Income'], y = df['Crime Rate'], c='r')\n",
    "plt.xlabel(\"Per Capita Income\")\n",
    "plt.ylabel(\"Crime Rate\")\n",
    "plt.show()"
   ]
  },
  {
   "cell_type": "code",
   "execution_count": 34,
   "id": "72554be4",
   "metadata": {},
   "outputs": [
    {
     "data": {
      "image/png": "[encoded data removed]",
      "text/plain": [
       "<Figure size 640x480 with 1 Axes>"
      ]
     },
     "metadata": {},
     "output_type": "display_data"
    }
   ],
   "source": [
    "plt.scatter(x = df['Gini Coefficient'], y = df['Crime Rate'], c='r')\n",
    "plt.xlabel(\"Literacy Rate\")\n",
    "plt.ylabel(\"Crime Rate\")\n",
    "plt.show()"
   ]
  },
  {
   "cell_type": "code",
   "execution_count": 35,
   "id": "88492486",
   "metadata": {},
   "outputs": [
    {
     "data": {
      "image/png": "[encoded data removed]",
      "text/plain": [
       "<Figure size 640x480 with 1 Axes>"
      ]
     },
     "metadata": {},
     "output_type": "display_data"
    }
   ],
   "source": [
    "plt.scatter(x = df['Literacy Rate'], y = df['Crime Rate'], c='r')\n",
    "plt.xlabel(\"Literacy Rate\")\n",
    "plt.ylabel(\"Crime Rate\")\n",
    "plt.show()"
   ]
  },
  {
   "cell_type": "code",
   "execution_count": 36,
   "id": "6e6f77a1",
   "metadata": {
    "scrolled": true
   },
   "outputs": [
    {
     "data": {
      "image/png": "[encoded data removed]",
      "text/plain": [
       "<Figure size 640x480 with 1 Axes>"
      ]
     },
     "metadata": {},
     "output_type": "display_data"
    }
   ],
   "source": [
    "plt.scatter(x = df['Happiness Index'], y = df['Crime Rate'], c='r')\n",
    "plt.xlabel(\"Happiness Index\")\n",
    "plt.ylabel(\"Crime Rate\")\n",
    "plt.show()"
   ]
  },
  {
   "cell_type": "code",
   "execution_count": 37,
   "id": "c6868f81",
   "metadata": {
    "scrolled": true
   },
   "outputs": [
    {
     "name": "stdout",
     "output_type": "stream",
     "text": [
      "The data has dimensions 114 by 10\n"
     ]
    }
   ],
   "source": [
    "print(f\"The data has dimensions {df.shape[0]} by {df.shape[1]}\")"
   ]
  },
  {
   "cell_type": "markdown",
   "id": "4014af6e",
   "metadata": {},
   "source": [
    "Models"
   ]
  },
  {
   "cell_type": "markdown",
   "id": "ec0dbd73",
   "metadata": {},
   "source": [
    "Linear Regression"
   ]
  },
  {
   "cell_type": "code",
   "execution_count": 38,
   "id": "e0110bb6",
   "metadata": {},
   "outputs": [],
   "source": [
    "x = df['Unemployment (%)']\n",
    "y = df['Crime Rate']"
   ]
  },
  {
   "cell_type": "code",
   "execution_count": 39,
   "id": "16425561",
   "metadata": {},
   "outputs": [],
   "source": [
    "x_train, x_test, y_train, y_test = train_test_split(x,y,test_size = 0.2, random_state = 1)"
   ]
  },
  {
   "cell_type": "code",
   "execution_count": 40,
   "id": "8472a997",
   "metadata": {},
   "outputs": [
    {
     "name": "stdout",
     "output_type": "stream",
     "text": [
      "(91,)\n",
      "(23,)\n",
      "(91,)\n",
      "(23,)\n"
     ]
    }
   ],
   "source": [
    "print(x_train.shape)\n",
    "print(x_test.shape)\n",
    "print(y_train.shape)\n",
    "print(y_test.shape)"
   ]
  },
  {
   "cell_type": "code",
   "execution_count": 41,
   "id": "ba722132",
   "metadata": {},
   "outputs": [],
   "source": [
    "x_train = x_train.values.reshape(-1,1)\n",
    "x_test = x_test.values.reshape(-1,1)"
   ]
  },
  {
   "cell_type": "code",
   "execution_count": 42,
   "id": "268f7d02",
   "metadata": {},
   "outputs": [],
   "source": [
    "model = LinearRegression()"
   ]
  },
  {
   "cell_type": "code",
   "execution_count": 43,
   "id": "1bf43bf0",
   "metadata": {},
   "outputs": [
    {
     "data": {
      "text/plain": [
       "LinearRegression()"
      ]
     },
     "execution_count": 43,
     "metadata": {},
     "output_type": "execute_result"
    }
   ],
   "source": [
    "model.fit(x_train,y_train)"
   ]
  },
  {
   "cell_type": "code",
   "execution_count": 44,
   "id": "ec4b85fe",
   "metadata": {},
   "outputs": [
    {
     "data": {
      "text/plain": [
       "-0.007634769384835982"
      ]
     },
     "execution_count": 44,
     "metadata": {},
     "output_type": "execute_result"
    }
   ],
   "source": [
    "model.score(x_test,y_test)"
   ]
  },
  {
   "cell_type": "code",
   "execution_count": 45,
   "id": "efd0f40c",
   "metadata": {},
   "outputs": [
    {
     "data": {
      "text/plain": [
       "array([0.02319364])"
      ]
     },
     "execution_count": 45,
     "metadata": {},
     "output_type": "execute_result"
    }
   ],
   "source": [
    "model.coef_"
   ]
  },
  {
   "cell_type": "code",
   "execution_count": 46,
   "id": "306da2ca",
   "metadata": {},
   "outputs": [
    {
     "data": {
      "text/plain": [
       "43.92981780961712"
      ]
     },
     "execution_count": 46,
     "metadata": {},
     "output_type": "execute_result"
    }
   ],
   "source": [
    "model.intercept_"
   ]
  },
  {
   "cell_type": "code",
   "execution_count": 47,
   "id": "3d8b39ad",
   "metadata": {
    "scrolled": true
   },
   "outputs": [
    {
     "data": {
      "text/plain": [
       "array([44.04346663, 44.09449263, 44.12696373, 44.31019346, 44.224377  ,\n",
       "       44.15943482, 43.97388572, 44.36121946, 44.05506345, 43.95301145,\n",
       "       44.01795363, 44.7485532 , 44.19654464, 44.30555473, 44.19422527,\n",
       "       44.045786  , 43.97620508, 44.05506345, 44.09217327, 44.096812  ,\n",
       "       44.05274409, 44.08985391, 44.01099554])"
      ]
     },
     "execution_count": 47,
     "metadata": {},
     "output_type": "execute_result"
    }
   ],
   "source": [
    "model.predict(x_test)"
   ]
  },
  {
   "cell_type": "markdown",
   "id": "d5816031",
   "metadata": {},
   "source": [
    "SVR"
   ]
  },
  {
   "cell_type": "code",
   "execution_count": 48,
   "id": "a01f166b",
   "metadata": {},
   "outputs": [],
   "source": [
    "svr_reg = SVR(kernel='rbf')"
   ]
  },
  {
   "cell_type": "code",
   "execution_count": 49,
   "id": "5231df50",
   "metadata": {},
   "outputs": [
    {
     "data": {
      "text/plain": [
       "SVR()"
      ]
     },
     "execution_count": 49,
     "metadata": {},
     "output_type": "execute_result"
    }
   ],
   "source": [
    "svr_reg.fit(x_train, y_train)"
   ]
  },
  {
   "cell_type": "code",
   "execution_count": 50,
   "id": "8001be7f",
   "metadata": {},
   "outputs": [
    {
     "data": {
      "text/plain": [
       "-0.0130052739576616"
      ]
     },
     "execution_count": 50,
     "metadata": {},
     "output_type": "execute_result"
    }
   ],
   "source": [
    "svr_reg.score(x_test, y_test)"
   ]
  },
  {
   "cell_type": "code",
   "execution_count": 51,
   "id": "0338812d",
   "metadata": {
    "scrolled": false
   },
   "outputs": [
    {
     "data": {
      "text/plain": [
       "array([44.46390688, 43.1346723 , 42.74214205, 42.46102554, 42.57927347,\n",
       "       42.65155736, 46.33796802, 43.18547422, 44.10723728, 46.58850538,\n",
       "       45.2636075 , 45.04111084, 42.64761599, 42.43307761, 42.6498702 ,\n",
       "       44.39131868, 46.29854224, 44.10723728, 43.17759932, 43.09377038,\n",
       "       44.17709812, 43.22253485, 45.47010505])"
      ]
     },
     "execution_count": 51,
     "metadata": {},
     "output_type": "execute_result"
    }
   ],
   "source": [
    "svr_reg.predict(x_test)"
   ]
  },
  {
   "cell_type": "markdown",
   "id": "18d84fd6",
   "metadata": {},
   "source": [
    "Random Forest"
   ]
  },
  {
   "cell_type": "code",
   "execution_count": 52,
   "id": "ad8d1cb8",
   "metadata": {},
   "outputs": [],
   "source": [
    "forest_reg = RandomForestRegressor(n_estimators=100)"
   ]
  },
  {
   "cell_type": "code",
   "execution_count": 53,
   "id": "4c981bab",
   "metadata": {},
   "outputs": [
    {
     "data": {
      "text/plain": [
       "RandomForestRegressor()"
      ]
     },
     "execution_count": 53,
     "metadata": {},
     "output_type": "execute_result"
    }
   ],
   "source": [
    "forest_reg.fit(x_train, y_train)"
   ]
  },
  {
   "cell_type": "code",
   "execution_count": 54,
   "id": "33114fe0",
   "metadata": {},
   "outputs": [
    {
     "data": {
      "text/plain": [
       "-0.18084155194459428"
      ]
     },
     "execution_count": 54,
     "metadata": {},
     "output_type": "execute_result"
    }
   ],
   "source": [
    "forest_reg.score(x_test, y_test)"
   ]
  },
  {
   "cell_type": "code",
   "execution_count": 55,
   "id": "ee8f2586",
   "metadata": {
    "scrolled": false
   },
   "outputs": [
    {
     "data": {
      "text/plain": [
       "array([44.38873056, 47.9662    , 34.19316   , 42.05879333, 39.19645   ,\n",
       "       41.00206667, 50.13535024, 38.1855    , 45.63565   , 47.3021    ,\n",
       "       46.21371667, 50.3416    , 47.08810333, 44.00199333, 47.08810333,\n",
       "       53.02751889, 47.39150857, 45.63565   , 56.49124   , 34.3573    ,\n",
       "       48.90143333, 37.78749   , 57.45489333])"
      ]
     },
     "execution_count": 55,
     "metadata": {},
     "output_type": "execute_result"
    }
   ],
   "source": [
    "forest_reg.predict(x_test)"
   ]
  },
  {
   "cell_type": "markdown",
   "id": "528d0215",
   "metadata": {},
   "source": [
    "1"
   ]
  },
  {
   "cell_type": "markdown",
   "id": "5e23392c",
   "metadata": {},
   "source": [
    "Linear Regression"
   ]
  },
  {
   "cell_type": "code",
   "execution_count": 56,
   "id": "538b2bd8",
   "metadata": {},
   "outputs": [],
   "source": [
    "x1 = df['HDI']\n",
    "y1 = df['Crime Rate']"
   ]
  },
  {
   "cell_type": "code",
   "execution_count": 57,
   "id": "635ffa4b",
   "metadata": {},
   "outputs": [],
   "source": [
    "x1_train, x1_test, y1_train, y1_test = train_test_split(x1,y1,test_size=0.2,random_state=1)"
   ]
  },
  {
   "cell_type": "code",
   "execution_count": 58,
   "id": "ecbfa0b3",
   "metadata": {},
   "outputs": [
    {
     "name": "stdout",
     "output_type": "stream",
     "text": [
      "(91,)\n",
      "(23,)\n",
      "(91,)\n",
      "(23,)\n"
     ]
    }
   ],
   "source": [
    "print(x1_train.shape)\n",
    "print(x1_test.shape)\n",
    "print(y1_train.shape)\n",
    "print(y1_test.shape)"
   ]
  },
  {
   "cell_type": "code",
   "execution_count": 59,
   "id": "f6226f5a",
   "metadata": {},
   "outputs": [],
   "source": [
    "x1_train = x1_train.values.reshape(-1,1)\n",
    "x1_test = x1_test.values.reshape(-1,1)"
   ]
  },
  {
   "cell_type": "code",
   "execution_count": 60,
   "id": "57a9f3eb",
   "metadata": {},
   "outputs": [],
   "source": [
    "model1 = LinearRegression()"
   ]
  },
  {
   "cell_type": "code",
   "execution_count": 61,
   "id": "b8796412",
   "metadata": {},
   "outputs": [
    {
     "data": {
      "text/plain": [
       "LinearRegression()"
      ]
     },
     "execution_count": 61,
     "metadata": {},
     "output_type": "execute_result"
    }
   ],
   "source": [
    "model1.fit(x1_train,y1_train)"
   ]
  },
  {
   "cell_type": "code",
   "execution_count": 62,
   "id": "3ca798fa",
   "metadata": {},
   "outputs": [
    {
     "data": {
      "text/plain": [
       "0.32143810677152107"
      ]
     },
     "execution_count": 62,
     "metadata": {},
     "output_type": "execute_result"
    }
   ],
   "source": [
    "model1.score(x1_test,y1_test)"
   ]
  },
  {
   "cell_type": "code",
   "execution_count": 63,
   "id": "a0fbeb9f",
   "metadata": {},
   "outputs": [
    {
     "data": {
      "text/plain": [
       "array([-63.99590998])"
      ]
     },
     "execution_count": 63,
     "metadata": {},
     "output_type": "execute_result"
    }
   ],
   "source": [
    "model1.coef_"
   ]
  },
  {
   "cell_type": "code",
   "execution_count": 64,
   "id": "f85c80ba",
   "metadata": {},
   "outputs": [
    {
     "data": {
      "text/plain": [
       "94.03296273541734"
      ]
     },
     "execution_count": 64,
     "metadata": {},
     "output_type": "execute_result"
    }
   ],
   "source": [
    "model1.intercept_"
   ]
  },
  {
   "cell_type": "code",
   "execution_count": 65,
   "id": "a23347dd",
   "metadata": {
    "scrolled": true
   },
   "outputs": [
    {
     "data": {
      "text/plain": [
       "array([35.15672555, 47.95590755, 38.35652105, 44.11615295, 49.87578485,\n",
       "       44.11615295, 44.11615295, 47.95590755, 33.23684825, 51.79566215,\n",
       "       44.11615295, 48.59586665, 46.03603025, 46.67598935, 56.91533494,\n",
       "       40.91635745, 60.11513044, 44.11615295, 38.99648015, 33.23684825,\n",
       "       34.51676645, 34.51676645, 32.59688915])"
      ]
     },
     "execution_count": 65,
     "metadata": {},
     "output_type": "execute_result"
    }
   ],
   "source": [
    "model1.predict(x1_test)"
   ]
  },
  {
   "cell_type": "markdown",
   "id": "5fbfff00",
   "metadata": {},
   "source": [
    "SVR"
   ]
  },
  {
   "cell_type": "code",
   "execution_count": 66,
   "id": "5f6b9721",
   "metadata": {},
   "outputs": [],
   "source": [
    "svr_reg1 = SVR(kernel='rbf')"
   ]
  },
  {
   "cell_type": "code",
   "execution_count": 67,
   "id": "8c8218db",
   "metadata": {},
   "outputs": [
    {
     "data": {
      "text/plain": [
       "SVR()"
      ]
     },
     "execution_count": 67,
     "metadata": {},
     "output_type": "execute_result"
    }
   ],
   "source": [
    "svr_reg1.fit(x1_train, y1_train)"
   ]
  },
  {
   "cell_type": "code",
   "execution_count": 68,
   "id": "4cdb1717",
   "metadata": {},
   "outputs": [
    {
     "data": {
      "text/plain": [
       "0.3127046067027307"
      ]
     },
     "execution_count": 68,
     "metadata": {},
     "output_type": "execute_result"
    }
   ],
   "source": [
    "svr_reg1.score(x1_test, y1_test)"
   ]
  },
  {
   "cell_type": "code",
   "execution_count": 69,
   "id": "89958776",
   "metadata": {
    "scrolled": true
   },
   "outputs": [
    {
     "data": {
      "text/plain": [
       "array([34.23008381, 47.57808431, 35.98305197, 44.11910437, 48.1916991 ,\n",
       "       44.11910437, 44.11910437, 47.57808431, 34.79484483, 48.32911347,\n",
       "       44.11910437, 47.85188657, 46.25008374, 46.78225915, 47.93194721,\n",
       "       39.40017803, 47.4137718 , 44.11910437, 36.71618651, 34.79484483,\n",
       "       34.29533805, 34.29533805, 35.19957637])"
      ]
     },
     "execution_count": 69,
     "metadata": {},
     "output_type": "execute_result"
    }
   ],
   "source": [
    "svr_reg1.predict(x1_test)"
   ]
  },
  {
   "cell_type": "markdown",
   "id": "35ce2a04",
   "metadata": {},
   "source": [
    "Random Forest"
   ]
  },
  {
   "cell_type": "code",
   "execution_count": 70,
   "id": "5171d482",
   "metadata": {},
   "outputs": [],
   "source": [
    "forest_reg1 = RandomForestRegressor(n_estimators=100)"
   ]
  },
  {
   "cell_type": "code",
   "execution_count": 71,
   "id": "236ed07b",
   "metadata": {},
   "outputs": [
    {
     "data": {
      "text/plain": [
       "RandomForestRegressor()"
      ]
     },
     "execution_count": 71,
     "metadata": {},
     "output_type": "execute_result"
    }
   ],
   "source": [
    "forest_reg1.fit(x1_train, y1_train)"
   ]
  },
  {
   "cell_type": "code",
   "execution_count": 72,
   "id": "4387badd",
   "metadata": {},
   "outputs": [
    {
     "data": {
      "text/plain": [
       "0.3452532418140508"
      ]
     },
     "execution_count": 72,
     "metadata": {},
     "output_type": "execute_result"
    }
   ],
   "source": [
    "forest_reg1.score(x1_test, y1_test)"
   ]
  },
  {
   "cell_type": "code",
   "execution_count": 73,
   "id": "11384c7a",
   "metadata": {},
   "outputs": [
    {
     "data": {
      "text/plain": [
       "array([28.19300896, 44.7477156 , 31.25552738, 38.50618694, 52.970615  ,\n",
       "       38.50618694, 38.50618694, 44.7477156 , 35.2240506 , 51.84502833,\n",
       "       38.50618694, 62.00152583, 48.25800643, 52.15575714, 49.664675  ,\n",
       "       35.29104758, 48.72078389, 38.50618694, 34.59829381, 35.2240506 ,\n",
       "       43.46410524, 43.46410524, 35.63863119])"
      ]
     },
     "execution_count": 73,
     "metadata": {},
     "output_type": "execute_result"
    }
   ],
   "source": [
    "forest_reg1.predict(x1_test)"
   ]
  },
  {
   "cell_type": "markdown",
   "id": "04b6cd60",
   "metadata": {},
   "source": [
    "2"
   ]
  },
  {
   "cell_type": "markdown",
   "id": "30306d69",
   "metadata": {},
   "source": [
    "Linear Regression"
   ]
  },
  {
   "cell_type": "code",
   "execution_count": 74,
   "id": "1ce14686",
   "metadata": {},
   "outputs": [],
   "source": [
    "x2 = df['Population Density (per sq. km)']\n",
    "y2 = df['Crime Rate']"
   ]
  },
  {
   "cell_type": "code",
   "execution_count": 75,
   "id": "e9b79890",
   "metadata": {},
   "outputs": [],
   "source": [
    "x2_train, x2_test, y2_train, y2_test = train_test_split(x2,y2,test_size=0.2,random_state=1)"
   ]
  },
  {
   "cell_type": "code",
   "execution_count": 76,
   "id": "d4d23ec2",
   "metadata": {},
   "outputs": [
    {
     "name": "stdout",
     "output_type": "stream",
     "text": [
      "(91,)\n",
      "(23,)\n",
      "(91,)\n",
      "(23,)\n"
     ]
    }
   ],
   "source": [
    "print(x2_train.shape)\n",
    "print(x2_test.shape)\n",
    "print(y2_train.shape)\n",
    "print(y2_test.shape)"
   ]
  },
  {
   "cell_type": "code",
   "execution_count": 77,
   "id": "f234f2e3",
   "metadata": {},
   "outputs": [],
   "source": [
    "x2_train = x2_train.values.reshape(-1,1)\n",
    "x2_test = x2_test.values.reshape(-1,1)"
   ]
  },
  {
   "cell_type": "code",
   "execution_count": 78,
   "id": "1459ff51",
   "metadata": {},
   "outputs": [],
   "source": [
    "model2 = LinearRegression()"
   ]
  },
  {
   "cell_type": "code",
   "execution_count": 79,
   "id": "7fb99d5e",
   "metadata": {},
   "outputs": [
    {
     "data": {
      "text/plain": [
       "LinearRegression()"
      ]
     },
     "execution_count": 79,
     "metadata": {},
     "output_type": "execute_result"
    }
   ],
   "source": [
    "model2.fit(x2_train,y2_train)"
   ]
  },
  {
   "cell_type": "code",
   "execution_count": 80,
   "id": "84d7e287",
   "metadata": {},
   "outputs": [
    {
     "data": {
      "text/plain": [
       "-0.005095386322439888"
      ]
     },
     "execution_count": 80,
     "metadata": {},
     "output_type": "execute_result"
    }
   ],
   "source": [
    "model2.score(x2_test,y2_test)"
   ]
  },
  {
   "cell_type": "code",
   "execution_count": 81,
   "id": "c68454cb",
   "metadata": {},
   "outputs": [
    {
     "data": {
      "text/plain": [
       "array([-0.00251465])"
      ]
     },
     "execution_count": 81,
     "metadata": {},
     "output_type": "execute_result"
    }
   ],
   "source": [
    "model2.coef_"
   ]
  },
  {
   "cell_type": "code",
   "execution_count": 82,
   "id": "c18d5fce",
   "metadata": {},
   "outputs": [
    {
     "data": {
      "text/plain": [
       "44.94808952748543"
      ]
     },
     "execution_count": 82,
     "metadata": {},
     "output_type": "execute_result"
    }
   ],
   "source": [
    "model2.intercept_"
   ]
  },
  {
   "cell_type": "code",
   "execution_count": 83,
   "id": "77507ebd",
   "metadata": {
    "scrolled": true
   },
   "outputs": [
    {
     "data": {
      "text/plain": [
       "array([44.69159477, 44.5960379 , 44.87264989, 44.88522317, 44.74440251,\n",
       "       44.76451975, 44.60861117, 44.93803091, 44.36217503, 44.55077412,\n",
       "       44.78715164, 44.82990077, 44.90282575, 44.76954906, 44.89025247,\n",
       "       44.93048695, 44.79972491, 44.13334147, 44.66896288, 44.94054556,\n",
       "       44.90282575, 44.93803091, 44.90785506])"
      ]
     },
     "execution_count": 83,
     "metadata": {},
     "output_type": "execute_result"
    }
   ],
   "source": [
    "model2.predict(x2_test)"
   ]
  },
  {
   "cell_type": "markdown",
   "id": "22d37f26",
   "metadata": {},
   "source": [
    "SVR"
   ]
  },
  {
   "cell_type": "code",
   "execution_count": 84,
   "id": "1c4a9b4e",
   "metadata": {},
   "outputs": [],
   "source": [
    "svr_reg2 = SVR(kernel='rbf')"
   ]
  },
  {
   "cell_type": "code",
   "execution_count": 85,
   "id": "fee534ba",
   "metadata": {},
   "outputs": [
    {
     "data": {
      "text/plain": [
       "SVR()"
      ]
     },
     "execution_count": 85,
     "metadata": {},
     "output_type": "execute_result"
    }
   ],
   "source": [
    "svr_reg2.fit(x2_train, y2_train)"
   ]
  },
  {
   "cell_type": "code",
   "execution_count": 86,
   "id": "0f577170",
   "metadata": {},
   "outputs": [
    {
     "data": {
      "text/plain": [
       "-0.00013250373905360213"
      ]
     },
     "execution_count": 86,
     "metadata": {},
     "output_type": "execute_result"
    }
   ],
   "source": [
    "svr_reg2.score(x2_test, y2_test)"
   ]
  },
  {
   "cell_type": "code",
   "execution_count": 87,
   "id": "b4f58636",
   "metadata": {
    "scrolled": true
   },
   "outputs": [
    {
     "data": {
      "text/plain": [
       "array([45.15593899, 45.07773789, 45.29843327, 45.307964  , 45.19839552,\n",
       "       45.21439539, 45.08811036, 45.34737195, 44.88271286, 45.04023721,\n",
       "       45.23226875, 45.26563408, 45.3212137 , 45.21837911, 45.31176087,\n",
       "       45.34180602, 45.24213743, 44.6945231 , 45.13756166, 45.34922237,\n",
       "       45.3212137 , 45.34737195, 45.32497884])"
      ]
     },
     "execution_count": 87,
     "metadata": {},
     "output_type": "execute_result"
    }
   ],
   "source": [
    "svr_reg2.predict(x2_test)"
   ]
  },
  {
   "cell_type": "markdown",
   "id": "3272a6d5",
   "metadata": {},
   "source": [
    "Random Forest"
   ]
  },
  {
   "cell_type": "code",
   "execution_count": 88,
   "id": "04a103e8",
   "metadata": {},
   "outputs": [],
   "source": [
    "forest_reg2 = RandomForestRegressor(n_estimators=100)"
   ]
  },
  {
   "cell_type": "code",
   "execution_count": 89,
   "id": "7973a5de",
   "metadata": {},
   "outputs": [
    {
     "data": {
      "text/plain": [
       "RandomForestRegressor()"
      ]
     },
     "execution_count": 89,
     "metadata": {},
     "output_type": "execute_result"
    }
   ],
   "source": [
    "forest_reg2.fit(x2_train, y2_train)"
   ]
  },
  {
   "cell_type": "code",
   "execution_count": 90,
   "id": "c78d8882",
   "metadata": {},
   "outputs": [
    {
     "data": {
      "text/plain": [
       "-0.01640067852072602"
      ]
     },
     "execution_count": 90,
     "metadata": {},
     "output_type": "execute_result"
    }
   ],
   "source": [
    "forest_reg2.score(x2_test, y2_test)"
   ]
  },
  {
   "cell_type": "code",
   "execution_count": 91,
   "id": "9d126aef",
   "metadata": {},
   "outputs": [
    {
     "data": {
      "text/plain": [
       "array([39.52772738, 26.3438    , 40.49636083, 58.15442   , 40.2067    ,\n",
       "       30.68758833, 26.9288    , 53.04505333, 39.3867    , 35.9838    ,\n",
       "       41.70095   , 53.82524167, 45.57842   , 39.19027167, 52.08337   ,\n",
       "       46.55233   , 50.32431   , 33.4489    , 32.03393333, 53.04505333,\n",
       "       45.57842   , 53.04505333, 37.05922833])"
      ]
     },
     "execution_count": 91,
     "metadata": {},
     "output_type": "execute_result"
    }
   ],
   "source": [
    "forest_reg2.predict(x2_test)"
   ]
  },
  {
   "cell_type": "markdown",
   "id": "cb390c30",
   "metadata": {},
   "source": [
    "3"
   ]
  },
  {
   "cell_type": "markdown",
   "id": "1db8f2b3",
   "metadata": {},
   "source": [
    "Linear Regression"
   ]
  },
  {
   "cell_type": "code",
   "execution_count": 92,
   "id": "f7f27878",
   "metadata": {},
   "outputs": [],
   "source": [
    "x3 = df['Weapons per 100 persons']\n",
    "y3 = df['Crime Rate']"
   ]
  },
  {
   "cell_type": "code",
   "execution_count": 93,
   "id": "73870963",
   "metadata": {},
   "outputs": [],
   "source": [
    "x3_train, x3_test, y3_train, y3_test = train_test_split(x3,y3,test_size=0.2,random_state=1)"
   ]
  },
  {
   "cell_type": "code",
   "execution_count": 94,
   "id": "10fc65ce",
   "metadata": {},
   "outputs": [
    {
     "name": "stdout",
     "output_type": "stream",
     "text": [
      "(91,)\n",
      "(23,)\n",
      "(91,)\n",
      "(23,)\n"
     ]
    }
   ],
   "source": [
    "print(x3_train.shape)\n",
    "print(x3_test.shape)\n",
    "print(y3_train.shape)\n",
    "print(y3_test.shape)"
   ]
  },
  {
   "cell_type": "code",
   "execution_count": 95,
   "id": "90d00d1b",
   "metadata": {},
   "outputs": [],
   "source": [
    "x3_train = x3_train.values.reshape(-1,1)\n",
    "x3_test = x3_test.values.reshape(-1,1)"
   ]
  },
  {
   "cell_type": "code",
   "execution_count": 96,
   "id": "499a0079",
   "metadata": {},
   "outputs": [],
   "source": [
    "model3 = LinearRegression()"
   ]
  },
  {
   "cell_type": "code",
   "execution_count": 97,
   "id": "ca139865",
   "metadata": {},
   "outputs": [
    {
     "data": {
      "text/plain": [
       "LinearRegression()"
      ]
     },
     "execution_count": 97,
     "metadata": {},
     "output_type": "execute_result"
    }
   ],
   "source": [
    "model3.fit(x3_train,y3_train)"
   ]
  },
  {
   "cell_type": "code",
   "execution_count": 98,
   "id": "02bfd446",
   "metadata": {},
   "outputs": [
    {
     "data": {
      "text/plain": [
       "0.011175677484889457"
      ]
     },
     "execution_count": 98,
     "metadata": {},
     "output_type": "execute_result"
    }
   ],
   "source": [
    "model3.score(x3_test,y3_test)"
   ]
  },
  {
   "cell_type": "code",
   "execution_count": 99,
   "id": "ab9e8bfd",
   "metadata": {},
   "outputs": [
    {
     "data": {
      "text/plain": [
       "array([-0.0514453])"
      ]
     },
     "execution_count": 99,
     "metadata": {},
     "output_type": "execute_result"
    }
   ],
   "source": [
    "model3.coef_"
   ]
  },
  {
   "cell_type": "code",
   "execution_count": 100,
   "id": "84cd3099",
   "metadata": {},
   "outputs": [
    {
     "data": {
      "text/plain": [
       "44.74899843687709"
      ]
     },
     "execution_count": 100,
     "metadata": {},
     "output_type": "execute_result"
    }
   ],
   "source": [
    "model3.intercept_"
   ]
  },
  {
   "cell_type": "code",
   "execution_count": 101,
   "id": "978d06a8",
   "metadata": {
    "scrolled": false
   },
   "outputs": [
    {
     "data": {
      "text/plain": [
       "array([43.94645174, 44.74899844, 44.20882278, 44.64610784, 44.50206099,\n",
       "       44.23968996, 43.97217439, 44.06477594, 43.74067054, 44.1265103 ,\n",
       "       44.08535406, 44.24997902, 44.64096331, 44.69240861, 44.70269767,\n",
       "       44.60495159, 44.7078422 , 44.62552971, 44.41460398, 43.1181824 ,\n",
       "       43.39598702, 42.9638465 , 43.26737377])"
      ]
     },
     "execution_count": 101,
     "metadata": {},
     "output_type": "execute_result"
    }
   ],
   "source": [
    "model3.predict(x3_test)"
   ]
  },
  {
   "cell_type": "markdown",
   "id": "46da43a2",
   "metadata": {},
   "source": [
    "SVR"
   ]
  },
  {
   "cell_type": "code",
   "execution_count": 102,
   "id": "4667373f",
   "metadata": {},
   "outputs": [],
   "source": [
    "svr_reg3 = SVR(kernel='rbf')"
   ]
  },
  {
   "cell_type": "code",
   "execution_count": 103,
   "id": "e7661561",
   "metadata": {},
   "outputs": [
    {
     "data": {
      "text/plain": [
       "SVR()"
      ]
     },
     "execution_count": 103,
     "metadata": {},
     "output_type": "execute_result"
    }
   ],
   "source": [
    "svr_reg3.fit(x3_train, y3_train)"
   ]
  },
  {
   "cell_type": "code",
   "execution_count": 104,
   "id": "4a6e6e41",
   "metadata": {},
   "outputs": [
    {
     "data": {
      "text/plain": [
       "0.10048243215727704"
      ]
     },
     "execution_count": 104,
     "metadata": {},
     "output_type": "execute_result"
    }
   ],
   "source": [
    "svr_reg3.score(x3_test, y3_test)"
   ]
  },
  {
   "cell_type": "code",
   "execution_count": 105,
   "id": "4c85b2cc",
   "metadata": {
    "scrolled": true
   },
   "outputs": [
    {
     "data": {
      "text/plain": [
       "array([44.14316076, 46.15945938, 45.3836997 , 46.24589361, 46.18384984,\n",
       "       45.50493833, 44.27533258, 44.73799666, 43.08044816, 45.02870683,\n",
       "       44.83683512, 45.54372369, 46.2475019 , 46.2194387 , 46.21071938,\n",
       "       46.25103422, 46.20598554, 46.2506833 , 46.03520341, 40.98775912,\n",
       "       41.58914448, 40.95896123, 41.22694699])"
      ]
     },
     "execution_count": 105,
     "metadata": {},
     "output_type": "execute_result"
    }
   ],
   "source": [
    "svr_reg3.predict(x3_test)"
   ]
  },
  {
   "cell_type": "markdown",
   "id": "9bbaf8af",
   "metadata": {},
   "source": [
    "Random Forest"
   ]
  },
  {
   "cell_type": "code",
   "execution_count": 106,
   "id": "a49bc6f4",
   "metadata": {},
   "outputs": [],
   "source": [
    "forest_reg3 = RandomForestRegressor(n_estimators=100)"
   ]
  },
  {
   "cell_type": "code",
   "execution_count": 107,
   "id": "d6bccb47",
   "metadata": {},
   "outputs": [
    {
     "data": {
      "text/plain": [
       "RandomForestRegressor()"
      ]
     },
     "execution_count": 107,
     "metadata": {},
     "output_type": "execute_result"
    }
   ],
   "source": [
    "forest_reg3.fit(x3_train, y3_train)"
   ]
  },
  {
   "cell_type": "code",
   "execution_count": 108,
   "id": "8c1c6ac6",
   "metadata": {},
   "outputs": [
    {
     "data": {
      "text/plain": [
       "-0.6611520413716885"
      ]
     },
     "execution_count": 108,
     "metadata": {},
     "output_type": "execute_result"
    }
   ],
   "source": [
    "forest_reg3.score(x3_test, y3_test)"
   ]
  },
  {
   "cell_type": "code",
   "execution_count": 109,
   "id": "7acf40d5",
   "metadata": {},
   "outputs": [
    {
     "data": {
      "text/plain": [
       "array([58.7413    , 28.089425  , 37.824025  , 58.15426667, 34.382     ,\n",
       "       35.32251667, 60.6626    , 32.2933    , 48.64389   , 53.79801   ,\n",
       "       48.35365   , 35.54521667, 60.97126667, 53.48525833, 53.29064   ,\n",
       "       52.46877   , 53.29064   , 45.59397571, 38.6878    , 42.5926    ,\n",
       "       28.5001    , 43.9949    , 37.6976    ])"
      ]
     },
     "execution_count": 109,
     "metadata": {},
     "output_type": "execute_result"
    }
   ],
   "source": [
    "forest_reg3.predict(x3_test)"
   ]
  },
  {
   "cell_type": "markdown",
   "id": "4844b965",
   "metadata": {},
   "source": [
    "4"
   ]
  },
  {
   "cell_type": "markdown",
   "id": "e07c3acd",
   "metadata": {},
   "source": [
    "Linear Regression"
   ]
  },
  {
   "cell_type": "code",
   "execution_count": 110,
   "id": "30fb5109",
   "metadata": {},
   "outputs": [],
   "source": [
    "x4 = df['Per Capita Income']\n",
    "y4 = df['Crime Rate']"
   ]
  },
  {
   "cell_type": "code",
   "execution_count": 111,
   "id": "a0251e36",
   "metadata": {},
   "outputs": [],
   "source": [
    "x4_train, x4_test, y4_train, y4_test = train_test_split(x4,y4,test_size=0.2,random_state=1)"
   ]
  },
  {
   "cell_type": "code",
   "execution_count": 112,
   "id": "9ddf9761",
   "metadata": {},
   "outputs": [
    {
     "name": "stdout",
     "output_type": "stream",
     "text": [
      "(91,)\n",
      "(23,)\n",
      "(91,)\n",
      "(23,)\n"
     ]
    }
   ],
   "source": [
    "print(x4_train.shape)\n",
    "print(x4_test.shape)\n",
    "print(y4_train.shape)\n",
    "print(y4_test.shape)"
   ]
  },
  {
   "cell_type": "code",
   "execution_count": 113,
   "id": "42e43767",
   "metadata": {},
   "outputs": [],
   "source": [
    "x4_train = x4_train.values.reshape(-1,1)\n",
    "x4_test = x4_test.values.reshape(-1,1)"
   ]
  },
  {
   "cell_type": "code",
   "execution_count": 114,
   "id": "fce8c644",
   "metadata": {},
   "outputs": [],
   "source": [
    "model4 = LinearRegression()"
   ]
  },
  {
   "cell_type": "code",
   "execution_count": 115,
   "id": "629e0f56",
   "metadata": {},
   "outputs": [
    {
     "data": {
      "text/plain": [
       "LinearRegression()"
      ]
     },
     "execution_count": 115,
     "metadata": {},
     "output_type": "execute_result"
    }
   ],
   "source": [
    "model4.fit(x4_train,y4_train)"
   ]
  },
  {
   "cell_type": "code",
   "execution_count": 116,
   "id": "bb3d231e",
   "metadata": {},
   "outputs": [
    {
     "data": {
      "text/plain": [
       "0.3153957542949096"
      ]
     },
     "execution_count": 116,
     "metadata": {},
     "output_type": "execute_result"
    }
   ],
   "source": [
    "model4.score(x4_test,y4_test)"
   ]
  },
  {
   "cell_type": "code",
   "execution_count": 117,
   "id": "c0ff1fa6",
   "metadata": {},
   "outputs": [
    {
     "data": {
      "text/plain": [
       "array([-0.00027998])"
      ]
     },
     "execution_count": 117,
     "metadata": {},
     "output_type": "execute_result"
    }
   ],
   "source": [
    "model4.coef_"
   ]
  },
  {
   "cell_type": "code",
   "execution_count": 118,
   "id": "5e1b948d",
   "metadata": {},
   "outputs": [
    {
     "data": {
      "text/plain": [
       "49.1055243486027"
      ]
     },
     "execution_count": 118,
     "metadata": {},
     "output_type": "execute_result"
    }
   ],
   "source": [
    "model4.intercept_"
   ]
  },
  {
   "cell_type": "code",
   "execution_count": 119,
   "id": "d967eef1",
   "metadata": {
    "scrolled": true
   },
   "outputs": [
    {
     "data": {
      "text/plain": [
       "array([41.88857751, 48.02201641, 44.10206945, 47.38003095, 48.23535828,\n",
       "       48.10964896, 47.09277536, 47.91758528, 36.2520964 , 47.8926674 ,\n",
       "       46.7744424 , 47.67932552, 48.16256446, 48.17656327, 48.82974778,\n",
       "       46.55466108, 48.79335087, 48.05057398, 43.71206259, 31.28671827,\n",
       "       36.79441033, 36.90976053, 30.38323503])"
      ]
     },
     "execution_count": 119,
     "metadata": {},
     "output_type": "execute_result"
    }
   ],
   "source": [
    "model4.predict(x4_test)"
   ]
  },
  {
   "cell_type": "markdown",
   "id": "7003b14e",
   "metadata": {},
   "source": [
    "SVR"
   ]
  },
  {
   "cell_type": "code",
   "execution_count": 120,
   "id": "f546a4a0",
   "metadata": {},
   "outputs": [],
   "source": [
    "svr_reg4 = SVR(kernel='rbf')"
   ]
  },
  {
   "cell_type": "code",
   "execution_count": 121,
   "id": "4141b63e",
   "metadata": {},
   "outputs": [
    {
     "data": {
      "text/plain": [
       "SVR()"
      ]
     },
     "execution_count": 121,
     "metadata": {},
     "output_type": "execute_result"
    }
   ],
   "source": [
    "svr_reg4.fit(x4_train, y4_train)"
   ]
  },
  {
   "cell_type": "code",
   "execution_count": 122,
   "id": "1053680b",
   "metadata": {},
   "outputs": [
    {
     "data": {
      "text/plain": [
       "0.28090009868366994"
      ]
     },
     "execution_count": 122,
     "metadata": {},
     "output_type": "execute_result"
    }
   ],
   "source": [
    "svr_reg4.score(x4_test, y4_test)"
   ]
  },
  {
   "cell_type": "code",
   "execution_count": 123,
   "id": "04bf4145",
   "metadata": {
    "scrolled": true
   },
   "outputs": [
    {
     "data": {
      "text/plain": [
       "array([35.85091264, 46.61052663, 39.89481009, 45.94106534, 46.77775343,\n",
       "       46.68263052, 45.56495234, 46.51843352, 33.8265832 , 46.49547476,\n",
       "       45.09759201, 46.28356272, 46.72386823, 46.73448688, 47.09362575,\n",
       "       44.74634918, 47.08064274, 46.63454435, 39.09175899, 36.81532655,\n",
       "       33.61639667, 33.57837264, 37.32828955])"
      ]
     },
     "execution_count": 123,
     "metadata": {},
     "output_type": "execute_result"
    }
   ],
   "source": [
    "svr_reg4.predict(x4_test)"
   ]
  },
  {
   "cell_type": "markdown",
   "id": "26c1dbf1",
   "metadata": {},
   "source": [
    "Random Forest"
   ]
  },
  {
   "cell_type": "code",
   "execution_count": 124,
   "id": "c5394493",
   "metadata": {},
   "outputs": [],
   "source": [
    "forest_reg4 = RandomForestRegressor(n_estimators=100)"
   ]
  },
  {
   "cell_type": "code",
   "execution_count": 125,
   "id": "23cd7158",
   "metadata": {},
   "outputs": [
    {
     "data": {
      "text/plain": [
       "RandomForestRegressor()"
      ]
     },
     "execution_count": 125,
     "metadata": {},
     "output_type": "execute_result"
    }
   ],
   "source": [
    "forest_reg4.fit(x4_train, y4_train)"
   ]
  },
  {
   "cell_type": "code",
   "execution_count": 126,
   "id": "2ba05b28",
   "metadata": {},
   "outputs": [
    {
     "data": {
      "text/plain": [
       "-0.3994050497065751"
      ]
     },
     "execution_count": 126,
     "metadata": {},
     "output_type": "execute_result"
    }
   ],
   "source": [
    "forest_reg4.score(x4_test, y4_test)"
   ]
  },
  {
   "cell_type": "code",
   "execution_count": 127,
   "id": "5c091d2b",
   "metadata": {},
   "outputs": [
    {
     "data": {
      "text/plain": [
       "array([31.5444, 59.3112, 41.0899, 46.6959, 53.3791, 59.8615, 59.595 ,\n",
       "       36.7283, 28.1862, 39.9704, 55.2157, 45.9484, 47.9635, 47.5894,\n",
       "       52.4315, 46.8404, 39.9893, 76.5287, 31.6221, 40.4215, 36.8379,\n",
       "       36.8379, 40.4215])"
      ]
     },
     "execution_count": 127,
     "metadata": {},
     "output_type": "execute_result"
    }
   ],
   "source": [
    "forest_reg4.predict(x4_test)"
   ]
  },
  {
   "cell_type": "markdown",
   "id": "731745a1",
   "metadata": {},
   "source": [
    "5"
   ]
  },
  {
   "cell_type": "markdown",
   "id": "43a57520",
   "metadata": {},
   "source": [
    "Linear Regression"
   ]
  },
  {
   "cell_type": "code",
   "execution_count": 128,
   "id": "bbe0e65d",
   "metadata": {},
   "outputs": [],
   "source": [
    "x5 = df['Gini Coefficient']\n",
    "y5 = df['Crime Rate']"
   ]
  },
  {
   "cell_type": "code",
   "execution_count": 129,
   "id": "d3644773",
   "metadata": {},
   "outputs": [],
   "source": [
    "x5_train, x5_test, y5_train, y5_test = train_test_split(x5,y5,test_size=0.2,random_state=1)"
   ]
  },
  {
   "cell_type": "code",
   "execution_count": 130,
   "id": "f5120a3a",
   "metadata": {},
   "outputs": [
    {
     "name": "stdout",
     "output_type": "stream",
     "text": [
      "(91,)\n",
      "(23,)\n",
      "(91,)\n",
      "(23,)\n"
     ]
    }
   ],
   "source": [
    "print(x5_train.shape)\n",
    "print(x5_test.shape)\n",
    "print(y5_train.shape)\n",
    "print(y5_test.shape)"
   ]
  },
  {
   "cell_type": "code",
   "execution_count": 131,
   "id": "d68a378c",
   "metadata": {},
   "outputs": [],
   "source": [
    "x5_train = x5_train.values.reshape(-1,1)\n",
    "x5_test = x5_test.values.reshape(-1,1)"
   ]
  },
  {
   "cell_type": "code",
   "execution_count": 132,
   "id": "37f26b0e",
   "metadata": {},
   "outputs": [],
   "source": [
    "model5 = LinearRegression()"
   ]
  },
  {
   "cell_type": "code",
   "execution_count": 133,
   "id": "eeec2223",
   "metadata": {},
   "outputs": [
    {
     "data": {
      "text/plain": [
       "LinearRegression()"
      ]
     },
     "execution_count": 133,
     "metadata": {},
     "output_type": "execute_result"
    }
   ],
   "source": [
    "model5.fit(x5_train,y5_train)"
   ]
  },
  {
   "cell_type": "code",
   "execution_count": 134,
   "id": "21d9469b",
   "metadata": {},
   "outputs": [
    {
     "data": {
      "text/plain": [
       "0.4530645360329869"
      ]
     },
     "execution_count": 134,
     "metadata": {},
     "output_type": "execute_result"
    }
   ],
   "source": [
    "model5.score(x5_test,y5_test)"
   ]
  },
  {
   "cell_type": "code",
   "execution_count": 135,
   "id": "ec00c81e",
   "metadata": {},
   "outputs": [
    {
     "data": {
      "text/plain": [
       "array([0.62063201])"
      ]
     },
     "execution_count": 135,
     "metadata": {},
     "output_type": "execute_result"
    }
   ],
   "source": [
    "model5.coef_"
   ]
  },
  {
   "cell_type": "code",
   "execution_count": 136,
   "id": "b64c9bf7",
   "metadata": {},
   "outputs": [
    {
     "data": {
      "text/plain": [
       "21.211269769609814"
      ]
     },
     "execution_count": 136,
     "metadata": {},
     "output_type": "execute_result"
    }
   ],
   "source": [
    "model5.intercept_"
   ]
  },
  {
   "cell_type": "code",
   "execution_count": 137,
   "id": "cca6513b",
   "metadata": {
    "scrolled": true
   },
   "outputs": [
    {
     "data": {
      "text/plain": [
       "array([36.2305644 , 45.41591813, 43.3057693 , 47.77431977, 45.72623414,\n",
       "       37.40976521, 43.80227491, 64.22106802, 41.00943087, 51.18779582,\n",
       "       49.38796299, 60.31108636, 38.34071323, 41.56799968, 56.6493575 ,\n",
       "       38.27865003, 46.34686615, 45.91242374, 36.85119641, 37.84420762,\n",
       "       41.38181007, 42.18863169, 37.96833402])"
      ]
     },
     "execution_count": 137,
     "metadata": {},
     "output_type": "execute_result"
    }
   ],
   "source": [
    "model5.predict(x5_test)"
   ]
  },
  {
   "cell_type": "markdown",
   "id": "e5f56269",
   "metadata": {},
   "source": [
    "SVR"
   ]
  },
  {
   "cell_type": "code",
   "execution_count": 138,
   "id": "ded46542",
   "metadata": {},
   "outputs": [],
   "source": [
    "svr_reg5 = SVR(kernel='rbf')"
   ]
  },
  {
   "cell_type": "code",
   "execution_count": 139,
   "id": "875b12c2",
   "metadata": {},
   "outputs": [
    {
     "data": {
      "text/plain": [
       "SVR()"
      ]
     },
     "execution_count": 139,
     "metadata": {},
     "output_type": "execute_result"
    }
   ],
   "source": [
    "svr_reg5.fit(x5_train, y5_train)"
   ]
  },
  {
   "cell_type": "code",
   "execution_count": 140,
   "id": "f2718f38",
   "metadata": {},
   "outputs": [
    {
     "data": {
      "text/plain": [
       "0.2008518024611211"
      ]
     },
     "execution_count": 140,
     "metadata": {},
     "output_type": "execute_result"
    }
   ],
   "source": [
    "svr_reg5.score(x5_test, y5_test)"
   ]
  },
  {
   "cell_type": "code",
   "execution_count": 141,
   "id": "1f1cf789",
   "metadata": {
    "scrolled": true
   },
   "outputs": [
    {
     "data": {
      "text/plain": [
       "array([45.89564691, 45.77020051, 43.28107089, 49.2475491 , 46.23177636,\n",
       "       44.99652934, 43.72687361, 48.9795316 , 42.65225759, 51.76912538,\n",
       "       50.96163082, 49.42310439, 44.23403081, 42.5907365 , 50.29389484,\n",
       "       44.28452963, 47.17708882, 46.51355887, 45.43895478, 44.64108119,\n",
       "       42.59703536, 42.67910806, 44.5389364 ])"
      ]
     },
     "execution_count": 141,
     "metadata": {},
     "output_type": "execute_result"
    }
   ],
   "source": [
    "svr_reg5.predict(x5_test)"
   ]
  },
  {
   "cell_type": "markdown",
   "id": "6fbe675d",
   "metadata": {},
   "source": [
    "Random Forest"
   ]
  },
  {
   "cell_type": "code",
   "execution_count": 142,
   "id": "e243b2e8",
   "metadata": {},
   "outputs": [],
   "source": [
    "forest_reg5 = RandomForestRegressor(n_estimators=100)"
   ]
  },
  {
   "cell_type": "code",
   "execution_count": 143,
   "id": "9003d0ea",
   "metadata": {},
   "outputs": [
    {
     "data": {
      "text/plain": [
       "RandomForestRegressor()"
      ]
     },
     "execution_count": 143,
     "metadata": {},
     "output_type": "execute_result"
    }
   ],
   "source": [
    "forest_reg5.fit(x5_train, y5_train)"
   ]
  },
  {
   "cell_type": "code",
   "execution_count": 144,
   "id": "a1039d82",
   "metadata": {},
   "outputs": [
    {
     "data": {
      "text/plain": [
       "0.3588368129241213"
      ]
     },
     "execution_count": 144,
     "metadata": {},
     "output_type": "execute_result"
    }
   ],
   "source": [
    "forest_reg5.score(x5_test, y5_test)"
   ]
  },
  {
   "cell_type": "code",
   "execution_count": 145,
   "id": "84a77230",
   "metadata": {},
   "outputs": [
    {
     "data": {
      "text/plain": [
       "array([35.05723333, 39.89549   , 44.7086    , 55.9291    , 35.854275  ,\n",
       "       43.49393333, 30.2801    , 53.5648    , 44.79775   , 54.1714    ,\n",
       "       57.50536   , 59.4784    , 59.14012667, 40.67691667, 54.8984    ,\n",
       "       39.92108833, 43.38316667, 35.50665667, 48.34063333, 34.37767   ,\n",
       "       26.95124167, 33.8825    , 34.05347   ])"
      ]
     },
     "execution_count": 145,
     "metadata": {},
     "output_type": "execute_result"
    }
   ],
   "source": [
    "forest_reg5.predict(x5_test)"
   ]
  },
  {
   "cell_type": "markdown",
   "id": "e8cb14ba",
   "metadata": {},
   "source": [
    "6"
   ]
  },
  {
   "cell_type": "markdown",
   "id": "ccba23dc",
   "metadata": {},
   "source": [
    "Linear Regression"
   ]
  },
  {
   "cell_type": "code",
   "execution_count": 146,
   "id": "99c59cb0",
   "metadata": {},
   "outputs": [],
   "source": [
    "x6 = df['Literacy Rate']\n",
    "y6 = df['Crime Rate']"
   ]
  },
  {
   "cell_type": "code",
   "execution_count": 147,
   "id": "4f997116",
   "metadata": {},
   "outputs": [],
   "source": [
    "x6_train, x6_test, y6_train, y6_test = train_test_split(x6,y6,test_size=0.2,random_state=1)"
   ]
  },
  {
   "cell_type": "code",
   "execution_count": 148,
   "id": "726fd16b",
   "metadata": {},
   "outputs": [
    {
     "name": "stdout",
     "output_type": "stream",
     "text": [
      "(91,)\n",
      "(23,)\n",
      "(91,)\n",
      "(23,)\n"
     ]
    }
   ],
   "source": [
    "print(x6_train.shape)\n",
    "print(x6_test.shape)\n",
    "print(y6_train.shape)\n",
    "print(y6_test.shape)"
   ]
  },
  {
   "cell_type": "code",
   "execution_count": 149,
   "id": "c30d12bf",
   "metadata": {},
   "outputs": [],
   "source": [
    "x6_train = x6_train.values.reshape(-1,1)\n",
    "x6_test = x6_test.values.reshape(-1,1)"
   ]
  },
  {
   "cell_type": "code",
   "execution_count": 150,
   "id": "2a98678c",
   "metadata": {},
   "outputs": [],
   "source": [
    "model6 = LinearRegression()"
   ]
  },
  {
   "cell_type": "code",
   "execution_count": 151,
   "id": "711839f1",
   "metadata": {},
   "outputs": [
    {
     "data": {
      "text/plain": [
       "LinearRegression()"
      ]
     },
     "execution_count": 151,
     "metadata": {},
     "output_type": "execute_result"
    }
   ],
   "source": [
    "model6.fit(x6_train,y6_train)"
   ]
  },
  {
   "cell_type": "code",
   "execution_count": 152,
   "id": "4de4f92f",
   "metadata": {},
   "outputs": [
    {
     "data": {
      "text/plain": [
       "0.04319159714172249"
      ]
     },
     "execution_count": 152,
     "metadata": {},
     "output_type": "execute_result"
    }
   ],
   "source": [
    "model6.score(x6_test,y6_test)"
   ]
  },
  {
   "cell_type": "code",
   "execution_count": 153,
   "id": "0538dca2",
   "metadata": {},
   "outputs": [
    {
     "data": {
      "text/plain": [
       "array([-34.45618803])"
      ]
     },
     "execution_count": 153,
     "metadata": {},
     "output_type": "execute_result"
    }
   ],
   "source": [
    "model6.coef_"
   ]
  },
  {
   "cell_type": "code",
   "execution_count": 154,
   "id": "4038d427",
   "metadata": {},
   "outputs": [
    {
     "data": {
      "text/plain": [
       "74.95362857734011"
      ]
     },
     "execution_count": 154,
     "metadata": {},
     "output_type": "execute_result"
    }
   ],
   "source": [
    "model6.intercept_"
   ]
  },
  {
   "cell_type": "code",
   "execution_count": 155,
   "id": "4ebecf28",
   "metadata": {
    "scrolled": true
   },
   "outputs": [
    {
     "data": {
      "text/plain": [
       "array([40.49744055, 42.56481183, 40.49744055, 42.22024995, 49.45604944,\n",
       "       40.49744055, 41.53112619, 43.59849747, 40.84200243, 47.73324004,\n",
       "       42.56481183, 42.56481183, 47.38867815, 46.69955439, 53.24623012,\n",
       "       40.49744055, 47.38867815, 42.90937371, 40.49744055, 40.84200243,\n",
       "       40.84200243, 40.84200243, 40.84200243])"
      ]
     },
     "execution_count": 155,
     "metadata": {},
     "output_type": "execute_result"
    }
   ],
   "source": [
    "model6.predict(x6_test)"
   ]
  },
  {
   "cell_type": "markdown",
   "id": "6f1287fa",
   "metadata": {},
   "source": [
    "SVR"
   ]
  },
  {
   "cell_type": "code",
   "execution_count": 156,
   "id": "daebb578",
   "metadata": {},
   "outputs": [],
   "source": [
    "svr_reg6 = SVR(kernel='rbf')"
   ]
  },
  {
   "cell_type": "code",
   "execution_count": 157,
   "id": "a9f4ba8f",
   "metadata": {},
   "outputs": [
    {
     "data": {
      "text/plain": [
       "SVR()"
      ]
     },
     "execution_count": 157,
     "metadata": {},
     "output_type": "execute_result"
    }
   ],
   "source": [
    "svr_reg6.fit(x6_train, y6_train)"
   ]
  },
  {
   "cell_type": "code",
   "execution_count": 158,
   "id": "9478de65",
   "metadata": {},
   "outputs": [
    {
     "data": {
      "text/plain": [
       "0.167615464513455"
      ]
     },
     "execution_count": 158,
     "metadata": {},
     "output_type": "execute_result"
    }
   ],
   "source": [
    "svr_reg6.score(x6_test, y6_test)"
   ]
  },
  {
   "cell_type": "code",
   "execution_count": 159,
   "id": "3584dfac",
   "metadata": {
    "scrolled": true
   },
   "outputs": [
    {
     "data": {
      "text/plain": [
       "array([40.84631457, 44.53683658, 40.84631457, 43.78676105, 50.5587106 ,\n",
       "       40.84631457, 42.40412438, 46.81952691, 41.2802156 , 51.18262257,\n",
       "       44.53683658, 44.53683658, 51.18904877, 51.0267064 , 48.64329591,\n",
       "       40.84631457, 51.18904877, 45.30356173, 40.84631457, 41.2802156 ,\n",
       "       41.2802156 , 41.2802156 , 41.2802156 ])"
      ]
     },
     "execution_count": 159,
     "metadata": {},
     "output_type": "execute_result"
    }
   ],
   "source": [
    "svr_reg6.predict(x6_test)"
   ]
  },
  {
   "cell_type": "markdown",
   "id": "d910cbae",
   "metadata": {},
   "source": [
    "Random Forest"
   ]
  },
  {
   "cell_type": "code",
   "execution_count": 160,
   "id": "8199cefe",
   "metadata": {},
   "outputs": [],
   "source": [
    "forest_reg6 = RandomForestRegressor(n_estimators=100)"
   ]
  },
  {
   "cell_type": "code",
   "execution_count": 161,
   "id": "20594793",
   "metadata": {},
   "outputs": [
    {
     "data": {
      "text/plain": [
       "RandomForestRegressor()"
      ]
     },
     "execution_count": 161,
     "metadata": {},
     "output_type": "execute_result"
    }
   ],
   "source": [
    "forest_reg6.fit(x6_train, y6_train)"
   ]
  },
  {
   "cell_type": "code",
   "execution_count": 162,
   "id": "6bb4050c",
   "metadata": {},
   "outputs": [
    {
     "data": {
      "text/plain": [
       "-0.19039503863544294"
      ]
     },
     "execution_count": 162,
     "metadata": {},
     "output_type": "execute_result"
    }
   ],
   "source": [
    "forest_reg6.score(x6_test, y6_test)"
   ]
  },
  {
   "cell_type": "code",
   "execution_count": 163,
   "id": "564c509c",
   "metadata": {},
   "outputs": [
    {
     "data": {
      "text/plain": [
       "array([36.70503748, 33.20642723, 36.70503748, 48.07715818, 43.22954167,\n",
       "       36.70503748, 37.31651916, 54.891555  , 35.17039062, 55.2653    ,\n",
       "       33.20642723, 33.20642723, 57.20365   , 60.34185   , 45.4062    ,\n",
       "       36.70503748, 57.20365   , 59.90141976, 36.70503748, 35.17039062,\n",
       "       35.17039062, 35.17039062, 35.17039062])"
      ]
     },
     "execution_count": 163,
     "metadata": {},
     "output_type": "execute_result"
    }
   ],
   "source": [
    "forest_reg6.predict(x6_test)"
   ]
  },
  {
   "cell_type": "markdown",
   "id": "56962d7e",
   "metadata": {},
   "source": [
    "7"
   ]
  },
  {
   "cell_type": "markdown",
   "id": "07cdc229",
   "metadata": {},
   "source": [
    "Linear Regression"
   ]
  },
  {
   "cell_type": "code",
   "execution_count": 164,
   "id": "f208421c",
   "metadata": {},
   "outputs": [],
   "source": [
    "x7 = df['Happiness Index']\n",
    "y7 = df['Crime Rate']"
   ]
  },
  {
   "cell_type": "code",
   "execution_count": 165,
   "id": "e5149b28",
   "metadata": {},
   "outputs": [],
   "source": [
    "x7_train, x7_test, y7_train, y7_test = train_test_split(x7,y7,test_size=0.2,random_state=1)"
   ]
  },
  {
   "cell_type": "code",
   "execution_count": 166,
   "id": "d2e1fc8a",
   "metadata": {},
   "outputs": [
    {
     "name": "stdout",
     "output_type": "stream",
     "text": [
      "(91,)\n",
      "(23,)\n",
      "(91,)\n",
      "(23,)\n"
     ]
    }
   ],
   "source": [
    "print(x7_train.shape)\n",
    "print(x7_test.shape)\n",
    "print(y7_train.shape)\n",
    "print(y7_test.shape)"
   ]
  },
  {
   "cell_type": "code",
   "execution_count": 167,
   "id": "1384e48c",
   "metadata": {},
   "outputs": [],
   "source": [
    "x7_train = x7_train.values.reshape(-1,1)\n",
    "x7_test = x7_test.values.reshape(-1,1)"
   ]
  },
  {
   "cell_type": "code",
   "execution_count": 168,
   "id": "69f055be",
   "metadata": {},
   "outputs": [],
   "source": [
    "model7 = LinearRegression()"
   ]
  },
  {
   "cell_type": "code",
   "execution_count": 169,
   "id": "5d8ff286",
   "metadata": {},
   "outputs": [
    {
     "data": {
      "text/plain": [
       "LinearRegression()"
      ]
     },
     "execution_count": 169,
     "metadata": {},
     "output_type": "execute_result"
    }
   ],
   "source": [
    "model7.fit(x7_train,y7_train)"
   ]
  },
  {
   "cell_type": "code",
   "execution_count": 170,
   "id": "26d5b6a2",
   "metadata": {},
   "outputs": [
    {
     "data": {
      "text/plain": [
       "0.16410372862277356"
      ]
     },
     "execution_count": 170,
     "metadata": {},
     "output_type": "execute_result"
    }
   ],
   "source": [
    "model7.score(x7_test,y7_test)"
   ]
  },
  {
   "cell_type": "code",
   "execution_count": 171,
   "id": "7273e52d",
   "metadata": {},
   "outputs": [
    {
     "data": {
      "text/plain": [
       "array([-5.12646703])"
      ]
     },
     "execution_count": 171,
     "metadata": {},
     "output_type": "execute_result"
    }
   ],
   "source": [
    "model7.coef_"
   ]
  },
  {
   "cell_type": "code",
   "execution_count": 172,
   "id": "2e98ab0f",
   "metadata": {},
   "outputs": [
    {
     "data": {
      "text/plain": [
       "73.52237520652292"
      ]
     },
     "execution_count": 172,
     "metadata": {},
     "output_type": "execute_result"
    }
   ],
   "source": [
    "model7.intercept_"
   ]
  },
  {
   "cell_type": "code",
   "execution_count": 173,
   "id": "e1c8d929",
   "metadata": {
    "scrolled": false
   },
   "outputs": [
    {
     "data": {
      "text/plain": [
       "array([40.40539817, 46.09577658, 42.60977899, 43.58380773, 48.3001574 ,\n",
       "       48.50521608, 42.81483767, 45.78818855, 36.81687124, 40.50792751,\n",
       "       41.12310355, 48.09509872, 48.45395141, 49.94062685, 52.65765438,\n",
       "       41.99460295, 54.96456454, 51.32477295, 41.07183888, 34.8175491 ,\n",
       "       36.2016952 , 37.12445927, 35.63778383])"
      ]
     },
     "execution_count": 173,
     "metadata": {},
     "output_type": "execute_result"
    }
   ],
   "source": [
    "model7.predict(x7_test)"
   ]
  },
  {
   "cell_type": "markdown",
   "id": "3d6b0ec8",
   "metadata": {},
   "source": [
    "SVR"
   ]
  },
  {
   "cell_type": "code",
   "execution_count": 174,
   "id": "74aab3ba",
   "metadata": {},
   "outputs": [],
   "source": [
    "svr_reg7 = SVR(kernel='rbf')"
   ]
  },
  {
   "cell_type": "code",
   "execution_count": 175,
   "id": "b37da49c",
   "metadata": {},
   "outputs": [
    {
     "data": {
      "text/plain": [
       "SVR()"
      ]
     },
     "execution_count": 175,
     "metadata": {},
     "output_type": "execute_result"
    }
   ],
   "source": [
    "svr_reg7.fit(x7_train, y7_train)"
   ]
  },
  {
   "cell_type": "code",
   "execution_count": 176,
   "id": "6b5cdf5e",
   "metadata": {},
   "outputs": [
    {
     "data": {
      "text/plain": [
       "0.12153635315848066"
      ]
     },
     "execution_count": 176,
     "metadata": {},
     "output_type": "execute_result"
    }
   ],
   "source": [
    "svr_reg7.score(x7_test, y7_test)"
   ]
  },
  {
   "cell_type": "code",
   "execution_count": 177,
   "id": "3fd35771",
   "metadata": {
    "scrolled": true
   },
   "outputs": [
    {
     "data": {
      "text/plain": [
       "array([43.34250604, 46.25396994, 44.34833436, 44.86317948, 47.16200822,\n",
       "       47.20802026, 44.45347727, 46.08999993, 41.82092284, 43.3851016 ,\n",
       "       43.64712273, 47.10757259, 47.19733564, 47.25960698, 46.16714444,\n",
       "       44.04504053, 45.15250608, 46.84693609, 43.62477838, 41.16943637,\n",
       "       41.5701516 , 41.95389023, 41.37176619])"
      ]
     },
     "execution_count": 177,
     "metadata": {},
     "output_type": "execute_result"
    }
   ],
   "source": [
    "svr_reg7.predict(x7_test)"
   ]
  },
  {
   "cell_type": "markdown",
   "id": "1e49478e",
   "metadata": {},
   "source": [
    "Random Forest"
   ]
  },
  {
   "cell_type": "code",
   "execution_count": 178,
   "id": "d1dc4347",
   "metadata": {},
   "outputs": [],
   "source": [
    "forest_reg7 = RandomForestRegressor(n_estimators=100)"
   ]
  },
  {
   "cell_type": "code",
   "execution_count": 179,
   "id": "59a624dc",
   "metadata": {},
   "outputs": [
    {
     "data": {
      "text/plain": [
       "RandomForestRegressor()"
      ]
     },
     "execution_count": 179,
     "metadata": {},
     "output_type": "execute_result"
    }
   ],
   "source": [
    "forest_reg7.fit(x7_train, y7_train)"
   ]
  },
  {
   "cell_type": "code",
   "execution_count": 180,
   "id": "877bbbe0",
   "metadata": {},
   "outputs": [
    {
     "data": {
      "text/plain": [
       "-0.6553073368071656"
      ]
     },
     "execution_count": 180,
     "metadata": {},
     "output_type": "execute_result"
    }
   ],
   "source": [
    "forest_reg7.score(x7_test, y7_test)"
   ]
  },
  {
   "cell_type": "code",
   "execution_count": 181,
   "id": "637594bd",
   "metadata": {},
   "outputs": [
    {
     "data": {
      "text/plain": [
       "array([40.661835  , 37.634     , 55.6608    , 30.22006667, 42.65736667,\n",
       "       52.50917667, 38.80165   , 47.45156   , 36.5825    , 47.75648333,\n",
       "       63.1008    , 41.29906667, 52.50917667, 57.2738    , 47.74817095,\n",
       "       32.71185   , 33.9463    , 47.61097095, 63.0869    , 24.3231    ,\n",
       "       29.5589    , 46.7577    , 41.0305    ])"
      ]
     },
     "execution_count": 181,
     "metadata": {},
     "output_type": "execute_result"
    }
   ],
   "source": [
    "forest_reg7.predict(x7_test)"
   ]
  },
  {
   "cell_type": "code",
   "execution_count": 182,
   "id": "7dbafdd5",
   "metadata": {
    "scrolled": true
   },
   "outputs": [
    {
     "data": {
      "text/html": [
       "<div>\n",
       "<style scoped>\n",
       "    .dataframe tbody tr th:only-of-type {\n",
       "        vertical-align: middle;\n",
       "    }\n",
       "\n",
       "    .dataframe tbody tr th {\n",
       "        vertical-align: top;\n",
       "    }\n",
       "\n",
       "    .dataframe thead th {\n",
       "        text-align: right;\n",
       "    }\n",
       "</style>\n",
       "<table border=\"1\" class=\"dataframe\">\n",
       "  <thead>\n",
       "    <tr style=\"text-align: right;\">\n",
       "      <th></th>\n",
       "      <th>Country</th>\n",
       "      <th>Crime Rate</th>\n",
       "      <th>Unemployment (%)</th>\n",
       "      <th>HDI</th>\n",
       "      <th>Population Density (per sq. km)</th>\n",
       "      <th>Weapons per 100 persons</th>\n",
       "      <th>Per Capita Income</th>\n",
       "      <th>Gini Coefficient</th>\n",
       "      <th>Literacy Rate</th>\n",
       "      <th>Happiness Index</th>\n",
       "    </tr>\n",
       "  </thead>\n",
       "  <tbody>\n",
       "    <tr>\n",
       "      <th>0</th>\n",
       "      <td>Afghanistan</td>\n",
       "      <td>76.31</td>\n",
       "      <td>11.2</td>\n",
       "      <td>0.51</td>\n",
       "      <td>57.0</td>\n",
       "      <td>12.5</td>\n",
       "      <td>508.0</td>\n",
       "      <td>27.8</td>\n",
       "      <td>0.38</td>\n",
       "      <td>2.52</td>\n",
       "    </tr>\n",
       "    <tr>\n",
       "      <th>1</th>\n",
       "      <td>Albania</td>\n",
       "      <td>42.53</td>\n",
       "      <td>11.3</td>\n",
       "      <td>0.80</td>\n",
       "      <td>100.0</td>\n",
       "      <td>12.0</td>\n",
       "      <td>5181.0</td>\n",
       "      <td>33.2</td>\n",
       "      <td>0.98</td>\n",
       "      <td>5.12</td>\n",
       "    </tr>\n",
       "    <tr>\n",
       "      <th>2</th>\n",
       "      <td>Algeria</td>\n",
       "      <td>52.03</td>\n",
       "      <td>11.5</td>\n",
       "      <td>0.75</td>\n",
       "      <td>18.0</td>\n",
       "      <td>2.1</td>\n",
       "      <td>3368.0</td>\n",
       "      <td>27.6</td>\n",
       "      <td>0.80</td>\n",
       "      <td>4.89</td>\n",
       "    </tr>\n",
       "    <tr>\n",
       "      <th>3</th>\n",
       "      <td>Argentina</td>\n",
       "      <td>63.82</td>\n",
       "      <td>7.0</td>\n",
       "      <td>0.85</td>\n",
       "      <td>16.0</td>\n",
       "      <td>7.4</td>\n",
       "      <td>8476.0</td>\n",
       "      <td>41.4</td>\n",
       "      <td>0.98</td>\n",
       "      <td>5.93</td>\n",
       "    </tr>\n",
       "    <tr>\n",
       "      <th>4</th>\n",
       "      <td>Armenia</td>\n",
       "      <td>22.79</td>\n",
       "      <td>7.7</td>\n",
       "      <td>0.78</td>\n",
       "      <td>99.0</td>\n",
       "      <td>6.1</td>\n",
       "      <td>4266.0</td>\n",
       "      <td>34.4</td>\n",
       "      <td>1.00</td>\n",
       "      <td>5.28</td>\n",
       "    </tr>\n",
       "    <tr>\n",
       "      <th>...</th>\n",
       "      <td>...</td>\n",
       "      <td>...</td>\n",
       "      <td>...</td>\n",
       "      <td>...</td>\n",
       "      <td>...</td>\n",
       "      <td>...</td>\n",
       "      <td>...</td>\n",
       "      <td>...</td>\n",
       "      <td>...</td>\n",
       "      <td>...</td>\n",
       "    </tr>\n",
       "    <tr>\n",
       "      <th>109</th>\n",
       "      <td>Uzbekistan</td>\n",
       "      <td>33.42</td>\n",
       "      <td>8.9</td>\n",
       "      <td>0.72</td>\n",
       "      <td>73.0</td>\n",
       "      <td>0.4</td>\n",
       "      <td>1724.0</td>\n",
       "      <td>39.7</td>\n",
       "      <td>1.00</td>\n",
       "      <td>6.18</td>\n",
       "    </tr>\n",
       "    <tr>\n",
       "      <th>110</th>\n",
       "      <td>Venezuela</td>\n",
       "      <td>83.76</td>\n",
       "      <td>9.4</td>\n",
       "      <td>0.71</td>\n",
       "      <td>32.0</td>\n",
       "      <td>18.5</td>\n",
       "      <td>3740.0</td>\n",
       "      <td>46.9</td>\n",
       "      <td>0.95</td>\n",
       "      <td>4.89</td>\n",
       "    </tr>\n",
       "    <tr>\n",
       "      <th>111</th>\n",
       "      <td>Vietnam</td>\n",
       "      <td>46.19</td>\n",
       "      <td>8.8</td>\n",
       "      <td>0.70</td>\n",
       "      <td>289.0</td>\n",
       "      <td>1.6</td>\n",
       "      <td>2786.0</td>\n",
       "      <td>35.7</td>\n",
       "      <td>0.95</td>\n",
       "      <td>5.41</td>\n",
       "    </tr>\n",
       "    <tr>\n",
       "      <th>112</th>\n",
       "      <td>Zambia</td>\n",
       "      <td>43.62</td>\n",
       "      <td>11.4</td>\n",
       "      <td>0.58</td>\n",
       "      <td>23.0</td>\n",
       "      <td>0.9</td>\n",
       "      <td>985.0</td>\n",
       "      <td>57.1</td>\n",
       "      <td>0.63</td>\n",
       "      <td>4.07</td>\n",
       "    </tr>\n",
       "    <tr>\n",
       "      <th>113</th>\n",
       "      <td>Zimbabwe</td>\n",
       "      <td>59.30</td>\n",
       "      <td>5.0</td>\n",
       "      <td>0.57</td>\n",
       "      <td>37.0</td>\n",
       "      <td>2.8</td>\n",
       "      <td>1466.0</td>\n",
       "      <td>44.3</td>\n",
       "      <td>0.87</td>\n",
       "      <td>3.15</td>\n",
       "    </tr>\n",
       "  </tbody>\n",
       "</table>\n",
       "<p>114 rows × 10 columns</p>\n",
       "</div>"
      ],
      "text/plain": [
       "         Country  Crime Rate  Unemployment (%)   HDI  \\\n",
       "0    Afghanistan       76.31              11.2  0.51   \n",
       "1        Albania       42.53              11.3  0.80   \n",
       "2        Algeria       52.03              11.5  0.75   \n",
       "3      Argentina       63.82               7.0  0.85   \n",
       "4        Armenia       22.79               7.7  0.78   \n",
       "..           ...         ...               ...   ...   \n",
       "109   Uzbekistan       33.42               8.9  0.72   \n",
       "110    Venezuela       83.76               9.4  0.71   \n",
       "111      Vietnam       46.19               8.8  0.70   \n",
       "112       Zambia       43.62              11.4  0.58   \n",
       "113     Zimbabwe       59.30               5.0  0.57   \n",
       "\n",
       "     Population Density (per sq. km)  Weapons per 100 persons  \\\n",
       "0                               57.0                     12.5   \n",
       "1                              100.0                     12.0   \n",
       "2                               18.0                      2.1   \n",
       "3                               16.0                      7.4   \n",
       "4                               99.0                      6.1   \n",
       "..                               ...                      ...   \n",
       "109                             73.0                      0.4   \n",
       "110                             32.0                     18.5   \n",
       "111                            289.0                      1.6   \n",
       "112                             23.0                      0.9   \n",
       "113                             37.0                      2.8   \n",
       "\n",
       "     Per Capita Income  Gini Coefficient  Literacy Rate  Happiness Index  \n",
       "0                508.0              27.8           0.38             2.52  \n",
       "1               5181.0              33.2           0.98             5.12  \n",
       "2               3368.0              27.6           0.80             4.89  \n",
       "3               8476.0              41.4           0.98             5.93  \n",
       "4               4266.0              34.4           1.00             5.28  \n",
       "..                 ...               ...            ...              ...  \n",
       "109             1724.0              39.7           1.00             6.18  \n",
       "110             3740.0              46.9           0.95             4.89  \n",
       "111             2786.0              35.7           0.95             5.41  \n",
       "112              985.0              57.1           0.63             4.07  \n",
       "113             1466.0              44.3           0.87             3.15  \n",
       "\n",
       "[114 rows x 10 columns]"
      ]
     },
     "execution_count": 182,
     "metadata": {},
     "output_type": "execute_result"
    }
   ],
   "source": [
    "df"
   ]
  },
  {
   "cell_type": "markdown",
   "id": "3f487279",
   "metadata": {},
   "source": [
    "Multi Linear Regression"
   ]
  },
  {
   "cell_type": "code",
   "execution_count": 183,
   "id": "2258192b",
   "metadata": {},
   "outputs": [],
   "source": [
    "xm1 = df[['HDI','Per Capita Income','Gini Coefficient']]\n",
    "ym1 = df['Crime Rate']"
   ]
  },
  {
   "cell_type": "code",
   "execution_count": 184,
   "id": "0b905afb",
   "metadata": {
    "scrolled": true
   },
   "outputs": [
    {
     "data": {
      "text/html": [
       "<div>\n",
       "<style scoped>\n",
       "    .dataframe tbody tr th:only-of-type {\n",
       "        vertical-align: middle;\n",
       "    }\n",
       "\n",
       "    .dataframe tbody tr th {\n",
       "        vertical-align: top;\n",
       "    }\n",
       "\n",
       "    .dataframe thead th {\n",
       "        text-align: right;\n",
       "    }\n",
       "</style>\n",
       "<table border=\"1\" class=\"dataframe\">\n",
       "  <thead>\n",
       "    <tr style=\"text-align: right;\">\n",
       "      <th></th>\n",
       "      <th>HDI</th>\n",
       "      <th>Per Capita Income</th>\n",
       "      <th>Gini Coefficient</th>\n",
       "    </tr>\n",
       "  </thead>\n",
       "  <tbody>\n",
       "    <tr>\n",
       "      <th>0</th>\n",
       "      <td>0.51</td>\n",
       "      <td>508.0</td>\n",
       "      <td>27.8</td>\n",
       "    </tr>\n",
       "    <tr>\n",
       "      <th>1</th>\n",
       "      <td>0.80</td>\n",
       "      <td>5181.0</td>\n",
       "      <td>33.2</td>\n",
       "    </tr>\n",
       "    <tr>\n",
       "      <th>2</th>\n",
       "      <td>0.75</td>\n",
       "      <td>3368.0</td>\n",
       "      <td>27.6</td>\n",
       "    </tr>\n",
       "    <tr>\n",
       "      <th>3</th>\n",
       "      <td>0.85</td>\n",
       "      <td>8476.0</td>\n",
       "      <td>41.4</td>\n",
       "    </tr>\n",
       "    <tr>\n",
       "      <th>4</th>\n",
       "      <td>0.78</td>\n",
       "      <td>4266.0</td>\n",
       "      <td>34.4</td>\n",
       "    </tr>\n",
       "    <tr>\n",
       "      <th>...</th>\n",
       "      <td>...</td>\n",
       "      <td>...</td>\n",
       "      <td>...</td>\n",
       "    </tr>\n",
       "    <tr>\n",
       "      <th>109</th>\n",
       "      <td>0.72</td>\n",
       "      <td>1724.0</td>\n",
       "      <td>39.7</td>\n",
       "    </tr>\n",
       "    <tr>\n",
       "      <th>110</th>\n",
       "      <td>0.71</td>\n",
       "      <td>3740.0</td>\n",
       "      <td>46.9</td>\n",
       "    </tr>\n",
       "    <tr>\n",
       "      <th>111</th>\n",
       "      <td>0.70</td>\n",
       "      <td>2786.0</td>\n",
       "      <td>35.7</td>\n",
       "    </tr>\n",
       "    <tr>\n",
       "      <th>112</th>\n",
       "      <td>0.58</td>\n",
       "      <td>985.0</td>\n",
       "      <td>57.1</td>\n",
       "    </tr>\n",
       "    <tr>\n",
       "      <th>113</th>\n",
       "      <td>0.57</td>\n",
       "      <td>1466.0</td>\n",
       "      <td>44.3</td>\n",
       "    </tr>\n",
       "  </tbody>\n",
       "</table>\n",
       "<p>114 rows × 3 columns</p>\n",
       "</div>"
      ],
      "text/plain": [
       "      HDI  Per Capita Income  Gini Coefficient\n",
       "0    0.51              508.0              27.8\n",
       "1    0.80             5181.0              33.2\n",
       "2    0.75             3368.0              27.6\n",
       "3    0.85             8476.0              41.4\n",
       "4    0.78             4266.0              34.4\n",
       "..    ...                ...               ...\n",
       "109  0.72             1724.0              39.7\n",
       "110  0.71             3740.0              46.9\n",
       "111  0.70             2786.0              35.7\n",
       "112  0.58              985.0              57.1\n",
       "113  0.57             1466.0              44.3\n",
       "\n",
       "[114 rows x 3 columns]"
      ]
     },
     "execution_count": 184,
     "metadata": {},
     "output_type": "execute_result"
    }
   ],
   "source": [
    "xm1"
   ]
  },
  {
   "cell_type": "code",
   "execution_count": 185,
   "id": "fd5246fd",
   "metadata": {},
   "outputs": [
    {
     "data": {
      "text/plain": [
       "0      76.31\n",
       "1      42.53\n",
       "2      52.03\n",
       "3      63.82\n",
       "4      22.79\n",
       "       ...  \n",
       "109    33.42\n",
       "110    83.76\n",
       "111    46.19\n",
       "112    43.62\n",
       "113    59.30\n",
       "Name: Crime Rate, Length: 114, dtype: float64"
      ]
     },
     "execution_count": 185,
     "metadata": {},
     "output_type": "execute_result"
    }
   ],
   "source": [
    "ym1"
   ]
  },
  {
   "cell_type": "code",
   "execution_count": 186,
   "id": "bd6776c7",
   "metadata": {},
   "outputs": [],
   "source": [
    "xm1_train, xm1_test, ym1_train, ym1_test = train_test_split(xm1,ym1,test_size=0.2,random_state=1)"
   ]
  },
  {
   "cell_type": "code",
   "execution_count": 187,
   "id": "e12b1fc0",
   "metadata": {
    "scrolled": true
   },
   "outputs": [
    {
     "name": "stdout",
     "output_type": "stream",
     "text": [
      "(91, 3)\n",
      "(23, 3)\n",
      "(91,)\n",
      "(23,)\n"
     ]
    }
   ],
   "source": [
    "print(xm1_train.shape)\n",
    "print(xm1_test.shape)\n",
    "print(ym1_train.shape)\n",
    "print(ym1_test.shape)"
   ]
  },
  {
   "cell_type": "code",
   "execution_count": 188,
   "id": "c5ddf9f9",
   "metadata": {},
   "outputs": [],
   "source": [
    "modelm1 = LinearRegression()"
   ]
  },
  {
   "cell_type": "code",
   "execution_count": 189,
   "id": "22b20d63",
   "metadata": {},
   "outputs": [
    {
     "data": {
      "text/plain": [
       "LinearRegression()"
      ]
     },
     "execution_count": 189,
     "metadata": {},
     "output_type": "execute_result"
    }
   ],
   "source": [
    "modelm1.fit(xm1_train,ym1_train)"
   ]
  },
  {
   "cell_type": "code",
   "execution_count": 190,
   "id": "f223cc8a",
   "metadata": {},
   "outputs": [
    {
     "data": {
      "text/plain": [
       "0.48113848194465014"
      ]
     },
     "execution_count": 190,
     "metadata": {},
     "output_type": "execute_result"
    }
   ],
   "source": [
    "modelm1.score(xm1_test,ym1_test)"
   ]
  },
  {
   "cell_type": "code",
   "execution_count": 191,
   "id": "6a4c9dd6",
   "metadata": {},
   "outputs": [
    {
     "data": {
      "text/plain": [
       "array([-5.23222342e+01, -2.33629887e-05,  3.48531555e-01])"
      ]
     },
     "execution_count": 191,
     "metadata": {},
     "output_type": "execute_result"
    }
   ],
   "source": [
    "modelm1.coef_"
   ]
  },
  {
   "cell_type": "code",
   "execution_count": 192,
   "id": "163c0ade",
   "metadata": {},
   "outputs": [
    {
     "data": {
      "text/plain": [
       "72.48753222576923"
      ]
     },
     "execution_count": 192,
     "metadata": {},
     "output_type": "execute_result"
    }
   ],
   "source": [
    "modelm1.intercept_"
   ]
  },
  {
   "cell_type": "code",
   "execution_count": 193,
   "id": "1bffc6f9",
   "metadata": {
    "scrolled": false
   },
   "outputs": [
    {
     "data": {
      "text/plain": [
       "array([32.18331266, 48.31783951, 38.95739189, 46.44935404, 50.07957491,\n",
       "       40.68976101, 44.19478166, 58.86963124, 32.82699493, 54.68772333,\n",
       "       47.30500194, 57.17722288, 42.78664098, 45.12339556, 62.01877567,\n",
       "       38.43183544, 58.84622637, 45.45971373, 35.82334142, 30.63514139,\n",
       "       34.12781265, 34.59052923, 30.10623299])"
      ]
     },
     "execution_count": 193,
     "metadata": {},
     "output_type": "execute_result"
    }
   ],
   "source": [
    "modelm1.predict(xm1_test)"
   ]
  },
  {
   "cell_type": "markdown",
   "id": "7b0ef7a8",
   "metadata": {},
   "source": [
    "SVR"
   ]
  },
  {
   "cell_type": "code",
   "execution_count": 194,
   "id": "1106ea49",
   "metadata": {},
   "outputs": [],
   "source": [
    "svr_regm1 = SVR(kernel='rbf')"
   ]
  },
  {
   "cell_type": "code",
   "execution_count": 195,
   "id": "e0b6eab6",
   "metadata": {},
   "outputs": [
    {
     "data": {
      "text/plain": [
       "SVR()"
      ]
     },
     "execution_count": 195,
     "metadata": {},
     "output_type": "execute_result"
    }
   ],
   "source": [
    "svr_regm1.fit(xm1_train, ym1_train)"
   ]
  },
  {
   "cell_type": "code",
   "execution_count": 196,
   "id": "b5481554",
   "metadata": {},
   "outputs": [
    {
     "data": {
      "text/plain": [
       "0.26912304434070666"
      ]
     },
     "execution_count": 196,
     "metadata": {},
     "output_type": "execute_result"
    }
   ],
   "source": [
    "svr_regm1.score(xm1_test, ym1_test)"
   ]
  },
  {
   "cell_type": "code",
   "execution_count": 197,
   "id": "993c9848",
   "metadata": {
    "scrolled": true
   },
   "outputs": [
    {
     "data": {
      "text/plain": [
       "array([37.54415613, 46.6103703 , 41.09669345, 46.0088298 , 46.77337422,\n",
       "       46.67960435, 45.68855913, 46.52373865, 34.46078224, 46.50240448,\n",
       "       45.29966594, 46.30954469, 46.71987568, 46.73033788, 47.12632391,\n",
       "       45.01174941, 47.10903443, 46.63328372, 40.42876815, 36.98823361,\n",
       "       34.36363646, 34.35139456, 37.49824151])"
      ]
     },
     "execution_count": 197,
     "metadata": {},
     "output_type": "execute_result"
    }
   ],
   "source": [
    "svr_regm1.predict(xm1_test)"
   ]
  },
  {
   "cell_type": "markdown",
   "id": "3d371c80",
   "metadata": {},
   "source": [
    "Random Forest"
   ]
  },
  {
   "cell_type": "code",
   "execution_count": 198,
   "id": "d05ed50b",
   "metadata": {},
   "outputs": [],
   "source": [
    "forest_regm1 = RandomForestRegressor(n_estimators=100)"
   ]
  },
  {
   "cell_type": "code",
   "execution_count": 199,
   "id": "8e50c66e",
   "metadata": {},
   "outputs": [
    {
     "data": {
      "text/plain": [
       "RandomForestRegressor()"
      ]
     },
     "execution_count": 199,
     "metadata": {},
     "output_type": "execute_result"
    }
   ],
   "source": [
    "forest_regm1.fit(xm1_train, ym1_train)"
   ]
  },
  {
   "cell_type": "code",
   "execution_count": 200,
   "id": "c78b0a9d",
   "metadata": {},
   "outputs": [
    {
     "data": {
      "text/plain": [
       "0.615189731813497"
      ]
     },
     "execution_count": 200,
     "metadata": {},
     "output_type": "execute_result"
    }
   ],
   "source": [
    "forest_regm1.score(xm1_test, ym1_test)"
   ]
  },
  {
   "cell_type": "code",
   "execution_count": 201,
   "id": "7e2b62cf",
   "metadata": {},
   "outputs": [
    {
     "data": {
      "text/plain": [
       "array([29.8903, 49.9496, 38.5791, 54.8225, 53.4245, 37.152 , 41.1599,\n",
       "       63.7695, 36.5538, 69.121 , 56.6845, 65.6901, 48.6371, 45.5487,\n",
       "       61.3467, 43.3275, 51.9259, 37.3772, 30.3314, 35.4381, 28.708 ,\n",
       "       34.6374, 34.3302])"
      ]
     },
     "execution_count": 201,
     "metadata": {},
     "output_type": "execute_result"
    }
   ],
   "source": [
    "forest_regm1.predict(xm1_test)"
   ]
  }
 ],
 "metadata": {
  "kernelspec": {
   "display_name": "Python 3 (ipykernel)",
   "language": "python",
   "name": "python3"
  },
  "language_info": {
   "codemirror_mode": {
    "name": "ipython",
    "version": 3
   },
   "file_extension": ".py",
   "mimetype": "text/x-python",
   "name": "python",
   "nbconvert_exporter": "python",
   "pygments_lexer": "ipython3",
   "version": "3.9.13"
  }
 },
 "nbformat": 4,
 "nbformat_minor": 5
}
