{
 "cells": [
  {
   "cell_type": "markdown",
   "id": "c7d2205c",
   "metadata": {},
   "source": [
    "Linear, Logistic, KNN, SVM, Random Forest"
   ]
  },
  {
   "cell_type": "code",
   "execution_count": 317,
   "id": "2c1c86d1",
   "metadata": {},
   "outputs": [],
   "source": [
    "import pandas as pd\n",
    "import numpy as np\n",
    "import seaborn as sns\n",
    "import sklearn\n",
    "from sklearn import preprocessing\n",
    "from sklearn.model_selection import train_test_split\n",
    "from sklearn.linear_model import LinearRegression\n",
    "from sklearn.linear_model import LogisticRegression\n",
    "import matplotlib.pyplot as plt\n",
    "from sklearn.metrics import confusion_matrix, classification_report"
   ]
  },
  {
   "cell_type": "code",
   "execution_count": 318,
   "id": "6c972b0c",
   "metadata": {
    "scrolled": false
   },
   "outputs": [
    {
     "data": {
      "text/html": [
       "<div>\n",
       "<style scoped>\n",
       "    .dataframe tbody tr th:only-of-type {\n",
       "        vertical-align: middle;\n",
       "    }\n",
       "\n",
       "    .dataframe tbody tr th {\n",
       "        vertical-align: top;\n",
       "    }\n",
       "\n",
       "    .dataframe thead th {\n",
       "        text-align: right;\n",
       "    }\n",
       "</style>\n",
       "<table border=\"1\" class=\"dataframe\">\n",
       "  <thead>\n",
       "    <tr style=\"text-align: right;\">\n",
       "      <th></th>\n",
       "      <th>age</th>\n",
       "      <th>sex</th>\n",
       "      <th>bmi</th>\n",
       "      <th>children</th>\n",
       "      <th>smoker</th>\n",
       "      <th>region</th>\n",
       "      <th>charges</th>\n",
       "    </tr>\n",
       "  </thead>\n",
       "  <tbody>\n",
       "    <tr>\n",
       "      <th>0</th>\n",
       "      <td>19</td>\n",
       "      <td>female</td>\n",
       "      <td>27.900</td>\n",
       "      <td>0</td>\n",
       "      <td>yes</td>\n",
       "      <td>southwest</td>\n",
       "      <td>16884.92400</td>\n",
       "    </tr>\n",
       "    <tr>\n",
       "      <th>1</th>\n",
       "      <td>18</td>\n",
       "      <td>male</td>\n",
       "      <td>33.770</td>\n",
       "      <td>1</td>\n",
       "      <td>no</td>\n",
       "      <td>southeast</td>\n",
       "      <td>1725.55230</td>\n",
       "    </tr>\n",
       "    <tr>\n",
       "      <th>2</th>\n",
       "      <td>28</td>\n",
       "      <td>male</td>\n",
       "      <td>33.000</td>\n",
       "      <td>3</td>\n",
       "      <td>no</td>\n",
       "      <td>southeast</td>\n",
       "      <td>4449.46200</td>\n",
       "    </tr>\n",
       "    <tr>\n",
       "      <th>3</th>\n",
       "      <td>33</td>\n",
       "      <td>male</td>\n",
       "      <td>22.705</td>\n",
       "      <td>0</td>\n",
       "      <td>no</td>\n",
       "      <td>northwest</td>\n",
       "      <td>21984.47061</td>\n",
       "    </tr>\n",
       "    <tr>\n",
       "      <th>4</th>\n",
       "      <td>32</td>\n",
       "      <td>male</td>\n",
       "      <td>28.880</td>\n",
       "      <td>0</td>\n",
       "      <td>no</td>\n",
       "      <td>northwest</td>\n",
       "      <td>3866.85520</td>\n",
       "    </tr>\n",
       "    <tr>\n",
       "      <th>...</th>\n",
       "      <td>...</td>\n",
       "      <td>...</td>\n",
       "      <td>...</td>\n",
       "      <td>...</td>\n",
       "      <td>...</td>\n",
       "      <td>...</td>\n",
       "      <td>...</td>\n",
       "    </tr>\n",
       "    <tr>\n",
       "      <th>1333</th>\n",
       "      <td>50</td>\n",
       "      <td>male</td>\n",
       "      <td>30.970</td>\n",
       "      <td>3</td>\n",
       "      <td>no</td>\n",
       "      <td>northwest</td>\n",
       "      <td>10600.54830</td>\n",
       "    </tr>\n",
       "    <tr>\n",
       "      <th>1334</th>\n",
       "      <td>18</td>\n",
       "      <td>female</td>\n",
       "      <td>31.920</td>\n",
       "      <td>0</td>\n",
       "      <td>no</td>\n",
       "      <td>northeast</td>\n",
       "      <td>2205.98080</td>\n",
       "    </tr>\n",
       "    <tr>\n",
       "      <th>1335</th>\n",
       "      <td>18</td>\n",
       "      <td>female</td>\n",
       "      <td>36.850</td>\n",
       "      <td>0</td>\n",
       "      <td>no</td>\n",
       "      <td>southeast</td>\n",
       "      <td>1629.83350</td>\n",
       "    </tr>\n",
       "    <tr>\n",
       "      <th>1336</th>\n",
       "      <td>21</td>\n",
       "      <td>female</td>\n",
       "      <td>25.800</td>\n",
       "      <td>0</td>\n",
       "      <td>no</td>\n",
       "      <td>southwest</td>\n",
       "      <td>2007.94500</td>\n",
       "    </tr>\n",
       "    <tr>\n",
       "      <th>1337</th>\n",
       "      <td>61</td>\n",
       "      <td>female</td>\n",
       "      <td>29.070</td>\n",
       "      <td>0</td>\n",
       "      <td>yes</td>\n",
       "      <td>northwest</td>\n",
       "      <td>29141.36030</td>\n",
       "    </tr>\n",
       "  </tbody>\n",
       "</table>\n",
       "<p>1338 rows × 7 columns</p>\n",
       "</div>"
      ],
      "text/plain": [
       "      age     sex     bmi  children smoker     region      charges\n",
       "0      19  female  27.900         0    yes  southwest  16884.92400\n",
       "1      18    male  33.770         1     no  southeast   1725.55230\n",
       "2      28    male  33.000         3     no  southeast   4449.46200\n",
       "3      33    male  22.705         0     no  northwest  21984.47061\n",
       "4      32    male  28.880         0     no  northwest   3866.85520\n",
       "...   ...     ...     ...       ...    ...        ...          ...\n",
       "1333   50    male  30.970         3     no  northwest  10600.54830\n",
       "1334   18  female  31.920         0     no  northeast   2205.98080\n",
       "1335   18  female  36.850         0     no  southeast   1629.83350\n",
       "1336   21  female  25.800         0     no  southwest   2007.94500\n",
       "1337   61  female  29.070         0    yes  northwest  29141.36030\n",
       "\n",
       "[1338 rows x 7 columns]"
      ]
     },
     "execution_count": 318,
     "metadata": {},
     "output_type": "execute_result"
    }
   ],
   "source": [
    "data = pd.read_csv(\"Insurance.csv\")\n",
    "data"
   ]
  },
  {
   "cell_type": "code",
   "execution_count": 319,
   "id": "65dc3764",
   "metadata": {},
   "outputs": [
    {
     "data": {
      "text/plain": [
       "Index(['age', 'sex', 'bmi', 'children', 'smoker', 'region', 'charges'], dtype='object')"
      ]
     },
     "execution_count": 319,
     "metadata": {},
     "output_type": "execute_result"
    }
   ],
   "source": [
    "data.columns"
   ]
  },
  {
   "cell_type": "code",
   "execution_count": 320,
   "id": "0d009537",
   "metadata": {},
   "outputs": [
    {
     "data": {
      "text/plain": [
       "array([19, 18, 28, 33, 32, 31, 46, 37, 60, 25, 62, 23, 56, 27, 52, 30, 34,\n",
       "       59, 63, 55, 22, 26, 35, 24, 41, 38, 36, 21, 48, 40, 58, 53, 43, 64,\n",
       "       20, 61, 44, 57, 29, 45, 54, 49, 47, 51, 42, 50, 39], dtype=int64)"
      ]
     },
     "execution_count": 320,
     "metadata": {},
     "output_type": "execute_result"
    }
   ],
   "source": [
    "data['age'].unique()"
   ]
  },
  {
   "cell_type": "code",
   "execution_count": 321,
   "id": "961117c5",
   "metadata": {},
   "outputs": [
    {
     "data": {
      "text/plain": [
       "array(['female', 'male'], dtype=object)"
      ]
     },
     "execution_count": 321,
     "metadata": {},
     "output_type": "execute_result"
    }
   ],
   "source": [
    "data['sex'].unique()"
   ]
  },
  {
   "cell_type": "code",
   "execution_count": 322,
   "id": "489f57cc",
   "metadata": {},
   "outputs": [
    {
     "data": {
      "text/plain": [
       "array([27.9  , 33.77 , 33.   , 22.705, 28.88 , 25.74 , 33.44 , 27.74 ,\n",
       "       29.83 , 25.84 , 26.22 , 26.29 , 34.4  , 39.82 , 42.13 , 24.6  ,\n",
       "       30.78 , 23.845, 40.3  , 35.3  , 36.005, 32.4  , 34.1  , 31.92 ,\n",
       "       28.025, 27.72 , 23.085, 32.775, 17.385, 36.3  , 35.6  , 26.315,\n",
       "       28.6  , 28.31 , 36.4  , 20.425, 32.965, 20.8  , 36.67 , 39.9  ,\n",
       "       26.6  , 36.63 , 21.78 , 30.8  , 37.05 , 37.3  , 38.665, 34.77 ,\n",
       "       24.53 , 35.2  , 35.625, 33.63 , 28.   , 34.43 , 28.69 , 36.955,\n",
       "       31.825, 31.68 , 22.88 , 37.335, 27.36 , 33.66 , 24.7  , 25.935,\n",
       "       22.42 , 28.9  , 39.1  , 36.19 , 23.98 , 24.75 , 28.5  , 28.1  ,\n",
       "       32.01 , 27.4  , 34.01 , 29.59 , 35.53 , 39.805, 26.885, 38.285,\n",
       "       37.62 , 41.23 , 34.8  , 22.895, 31.16 , 27.2  , 26.98 , 39.49 ,\n",
       "       24.795, 31.3  , 38.28 , 19.95 , 19.3  , 31.6  , 25.46 , 30.115,\n",
       "       29.92 , 27.5  , 28.4  , 30.875, 27.94 , 35.09 , 29.7  , 35.72 ,\n",
       "       32.205, 28.595, 49.06 , 27.17 , 23.37 , 37.1  , 23.75 , 28.975,\n",
       "       31.35 , 33.915, 28.785, 28.3  , 37.4  , 17.765, 34.7  , 26.505,\n",
       "       22.04 , 35.9  , 25.555, 28.05 , 25.175, 31.9  , 36.   , 32.49 ,\n",
       "       25.3  , 29.735, 38.83 , 30.495, 37.73 , 37.43 , 24.13 , 37.145,\n",
       "       39.52 , 24.42 , 27.83 , 36.85 , 39.6  , 29.8  , 29.64 , 28.215,\n",
       "       37.   , 33.155, 18.905, 41.47 , 30.3  , 15.96 , 33.345, 37.7  ,\n",
       "       27.835, 29.2  , 26.41 , 30.69 , 41.895, 30.9  , 32.2  , 32.11 ,\n",
       "       31.57 , 26.2  , 30.59 , 32.8  , 18.05 , 39.33 , 32.23 , 24.035,\n",
       "       36.08 , 22.3  , 26.4  , 31.8  , 26.73 , 23.1  , 23.21 , 33.7  ,\n",
       "       33.25 , 24.64 , 33.88 , 38.06 , 41.91 , 31.635, 36.195, 17.8  ,\n",
       "       24.51 , 22.22 , 38.39 , 29.07 , 22.135, 26.8  , 30.02 , 35.86 ,\n",
       "       20.9  , 17.29 , 34.21 , 25.365, 40.15 , 24.415, 25.2  , 26.84 ,\n",
       "       24.32 , 42.35 , 19.8  , 32.395, 30.2  , 29.37 , 34.2  , 27.455,\n",
       "       27.55 , 20.615, 24.3  , 31.79 , 21.56 , 28.12 , 40.565, 27.645,\n",
       "       31.2  , 26.62 , 48.07 , 36.765, 33.4  , 45.54 , 28.82 , 22.99 ,\n",
       "       27.7  , 25.41 , 34.39 , 22.61 , 37.51 , 38.   , 33.33 , 34.865,\n",
       "       33.06 , 35.97 , 31.4  , 25.27 , 40.945, 34.105, 36.48 , 33.8  ,\n",
       "       36.7  , 36.385, 34.5  , 32.3  , 27.6  , 29.26 , 35.75 , 23.18 ,\n",
       "       25.6  , 35.245, 43.89 , 20.79 , 30.5  , 21.7  , 21.89 , 24.985,\n",
       "       32.015, 30.4  , 21.09 , 22.23 , 32.9  , 24.89 , 31.46 , 17.955,\n",
       "       30.685, 43.34 , 39.05 , 30.21 , 31.445, 19.855, 31.02 , 38.17 ,\n",
       "       20.6  , 47.52 , 20.4  , 38.38 , 24.31 , 23.6  , 21.12 , 30.03 ,\n",
       "       17.48 , 20.235, 17.195, 23.9  , 35.15 , 35.64 , 22.6  , 39.16 ,\n",
       "       27.265, 29.165, 16.815, 33.1  , 26.9  , 33.11 , 31.73 , 46.75 ,\n",
       "       29.45 , 32.68 , 33.5  , 43.01 , 36.52 , 26.695, 25.65 , 29.6  ,\n",
       "       38.6  , 23.4  , 46.53 , 30.14 , 30.   , 38.095, 28.38 , 28.7  ,\n",
       "       33.82 , 24.09 , 32.67 , 25.1  , 32.56 , 41.325, 39.5  , 34.3  ,\n",
       "       31.065, 21.47 , 25.08 , 43.4  , 25.7  , 27.93 , 39.2  , 26.03 ,\n",
       "       30.25 , 28.93 , 35.7  , 35.31 , 31.   , 44.22 , 26.07 , 25.8  ,\n",
       "       39.425, 40.48 , 38.9  , 47.41 , 35.435, 46.7  , 46.2  , 21.4  ,\n",
       "       23.8  , 44.77 , 32.12 , 29.1  , 37.29 , 43.12 , 36.86 , 34.295,\n",
       "       23.465, 45.43 , 23.65 , 20.7  , 28.27 , 35.91 , 29.   , 19.57 ,\n",
       "       31.13 , 21.85 , 40.26 , 33.725, 29.48 , 32.6  , 37.525, 23.655,\n",
       "       37.8  , 19.   , 21.3  , 33.535, 42.46 , 38.95 , 36.1  , 29.3  ,\n",
       "       39.7  , 38.19 , 42.4  , 34.96 , 42.68 , 31.54 , 29.81 , 21.375,\n",
       "       40.81 , 17.4  , 20.3  , 18.5  , 26.125, 41.69 , 24.1  , 36.2  ,\n",
       "       40.185, 39.27 , 34.87 , 44.745, 29.545, 23.54 , 40.47 , 40.66 ,\n",
       "       36.6  , 35.4  , 27.075, 28.405, 21.755, 40.28 , 30.1  , 32.1  ,\n",
       "       23.7  , 35.5  , 29.15 , 27.   , 37.905, 22.77 , 22.8  , 34.58 ,\n",
       "       27.1  , 19.475, 26.7  , 34.32 , 24.4  , 41.14 , 22.515, 41.8  ,\n",
       "       26.18 , 42.24 , 26.51 , 35.815, 41.42 , 36.575, 42.94 , 21.01 ,\n",
       "       24.225, 17.67 , 31.5  , 31.1  , 32.78 , 32.45 , 50.38 , 47.6  ,\n",
       "       25.4  , 29.9  , 43.7  , 24.86 , 28.8  , 29.5  , 29.04 , 38.94 ,\n",
       "       44.   , 20.045, 40.92 , 35.1  , 29.355, 32.585, 32.34 , 39.8  ,\n",
       "       24.605, 33.99 , 28.2  , 25.   , 33.2  , 23.2  , 20.1  , 32.5  ,\n",
       "       37.18 , 46.09 , 39.93 , 35.8  , 31.255, 18.335, 42.9  , 26.79 ,\n",
       "       39.615, 25.9  , 25.745, 28.16 , 23.56 , 40.5  , 35.42 , 39.995,\n",
       "       34.675, 20.52 , 23.275, 36.29 , 32.7  , 19.19 , 20.13 , 23.32 ,\n",
       "       45.32 , 34.6  , 18.715, 21.565, 23.   , 37.07 , 52.58 , 42.655,\n",
       "       21.66 , 32.   , 18.3  , 47.74 , 22.1  , 19.095, 31.24 , 29.925,\n",
       "       20.35 , 25.85 , 42.75 , 18.6  , 23.87 , 45.9  , 21.5  , 30.305,\n",
       "       44.88 , 41.1  , 40.37 , 28.49 , 33.55 , 40.375, 27.28 , 17.86 ,\n",
       "       33.3  , 39.14 , 21.945, 24.97 , 23.94 , 34.485, 21.8  , 23.3  ,\n",
       "       36.96 , 21.28 , 29.4  , 27.3  , 37.9  , 37.715, 23.76 , 25.52 ,\n",
       "       27.61 , 27.06 , 39.4  , 34.9  , 22.   , 30.36 , 27.8  , 53.13 ,\n",
       "       39.71 , 32.87 , 44.7  , 30.97 ])"
      ]
     },
     "execution_count": 322,
     "metadata": {},
     "output_type": "execute_result"
    }
   ],
   "source": [
    "data['bmi'].unique()"
   ]
  },
  {
   "cell_type": "code",
   "execution_count": 323,
   "id": "a834f514",
   "metadata": {},
   "outputs": [
    {
     "data": {
      "text/plain": [
       "array([0, 1, 3, 2, 5, 4], dtype=int64)"
      ]
     },
     "execution_count": 323,
     "metadata": {},
     "output_type": "execute_result"
    }
   ],
   "source": [
    "data['children'].unique()"
   ]
  },
  {
   "cell_type": "code",
   "execution_count": 324,
   "id": "bf69ba52",
   "metadata": {},
   "outputs": [
    {
     "data": {
      "text/plain": [
       "array(['yes', 'no'], dtype=object)"
      ]
     },
     "execution_count": 324,
     "metadata": {},
     "output_type": "execute_result"
    }
   ],
   "source": [
    "data['smoker'].unique()"
   ]
  },
  {
   "cell_type": "code",
   "execution_count": 325,
   "id": "66bc0be2",
   "metadata": {},
   "outputs": [
    {
     "data": {
      "text/plain": [
       "array(['southwest', 'southeast', 'northwest', 'northeast'], dtype=object)"
      ]
     },
     "execution_count": 325,
     "metadata": {},
     "output_type": "execute_result"
    }
   ],
   "source": [
    "data['region'].unique()"
   ]
  },
  {
   "cell_type": "code",
   "execution_count": 326,
   "id": "b17f87ac",
   "metadata": {},
   "outputs": [
    {
     "data": {
      "text/plain": [
       "array([16884.924 ,  1725.5523,  4449.462 , ...,  1629.8335,  2007.945 ,\n",
       "       29141.3603])"
      ]
     },
     "execution_count": 326,
     "metadata": {},
     "output_type": "execute_result"
    }
   ],
   "source": [
    "data['charges'].unique()"
   ]
  },
  {
   "cell_type": "code",
   "execution_count": 327,
   "id": "386d6701",
   "metadata": {},
   "outputs": [
    {
     "data": {
      "text/plain": [
       "1338"
      ]
     },
     "execution_count": 327,
     "metadata": {},
     "output_type": "execute_result"
    }
   ],
   "source": [
    "len(data['charges'])"
   ]
  },
  {
   "cell_type": "code",
   "execution_count": 328,
   "id": "fbf3de7c",
   "metadata": {},
   "outputs": [
    {
     "data": {
      "text/html": [
       "<div>\n",
       "<style scoped>\n",
       "    .dataframe tbody tr th:only-of-type {\n",
       "        vertical-align: middle;\n",
       "    }\n",
       "\n",
       "    .dataframe tbody tr th {\n",
       "        vertical-align: top;\n",
       "    }\n",
       "\n",
       "    .dataframe thead th {\n",
       "        text-align: right;\n",
       "    }\n",
       "</style>\n",
       "<table border=\"1\" class=\"dataframe\">\n",
       "  <thead>\n",
       "    <tr style=\"text-align: right;\">\n",
       "      <th></th>\n",
       "      <th>age</th>\n",
       "      <th>sex</th>\n",
       "      <th>bmi</th>\n",
       "      <th>children</th>\n",
       "      <th>smoker</th>\n",
       "      <th>region</th>\n",
       "      <th>charges</th>\n",
       "    </tr>\n",
       "  </thead>\n",
       "  <tbody>\n",
       "    <tr>\n",
       "      <th>0</th>\n",
       "      <td>19</td>\n",
       "      <td>female</td>\n",
       "      <td>27.900</td>\n",
       "      <td>0</td>\n",
       "      <td>yes</td>\n",
       "      <td>southwest</td>\n",
       "      <td>16884.92400</td>\n",
       "    </tr>\n",
       "    <tr>\n",
       "      <th>1</th>\n",
       "      <td>18</td>\n",
       "      <td>male</td>\n",
       "      <td>33.770</td>\n",
       "      <td>1</td>\n",
       "      <td>no</td>\n",
       "      <td>southeast</td>\n",
       "      <td>1725.55230</td>\n",
       "    </tr>\n",
       "    <tr>\n",
       "      <th>2</th>\n",
       "      <td>28</td>\n",
       "      <td>male</td>\n",
       "      <td>33.000</td>\n",
       "      <td>3</td>\n",
       "      <td>no</td>\n",
       "      <td>southeast</td>\n",
       "      <td>4449.46200</td>\n",
       "    </tr>\n",
       "    <tr>\n",
       "      <th>3</th>\n",
       "      <td>33</td>\n",
       "      <td>male</td>\n",
       "      <td>22.705</td>\n",
       "      <td>0</td>\n",
       "      <td>no</td>\n",
       "      <td>northwest</td>\n",
       "      <td>21984.47061</td>\n",
       "    </tr>\n",
       "    <tr>\n",
       "      <th>4</th>\n",
       "      <td>32</td>\n",
       "      <td>male</td>\n",
       "      <td>28.880</td>\n",
       "      <td>0</td>\n",
       "      <td>no</td>\n",
       "      <td>northwest</td>\n",
       "      <td>3866.85520</td>\n",
       "    </tr>\n",
       "  </tbody>\n",
       "</table>\n",
       "</div>"
      ],
      "text/plain": [
       "   age     sex     bmi  children smoker     region      charges\n",
       "0   19  female  27.900         0    yes  southwest  16884.92400\n",
       "1   18    male  33.770         1     no  southeast   1725.55230\n",
       "2   28    male  33.000         3     no  southeast   4449.46200\n",
       "3   33    male  22.705         0     no  northwest  21984.47061\n",
       "4   32    male  28.880         0     no  northwest   3866.85520"
      ]
     },
     "execution_count": 328,
     "metadata": {},
     "output_type": "execute_result"
    }
   ],
   "source": [
    "data.head()"
   ]
  },
  {
   "cell_type": "code",
   "execution_count": 329,
   "id": "28b634b9",
   "metadata": {
    "scrolled": true
   },
   "outputs": [
    {
     "data": {
      "text/html": [
       "<div>\n",
       "<style scoped>\n",
       "    .dataframe tbody tr th:only-of-type {\n",
       "        vertical-align: middle;\n",
       "    }\n",
       "\n",
       "    .dataframe tbody tr th {\n",
       "        vertical-align: top;\n",
       "    }\n",
       "\n",
       "    .dataframe thead th {\n",
       "        text-align: right;\n",
       "    }\n",
       "</style>\n",
       "<table border=\"1\" class=\"dataframe\">\n",
       "  <thead>\n",
       "    <tr style=\"text-align: right;\">\n",
       "      <th></th>\n",
       "      <th>age</th>\n",
       "      <th>sex</th>\n",
       "      <th>bmi</th>\n",
       "      <th>children</th>\n",
       "      <th>smoker</th>\n",
       "      <th>region</th>\n",
       "      <th>charges</th>\n",
       "    </tr>\n",
       "  </thead>\n",
       "  <tbody>\n",
       "    <tr>\n",
       "      <th>1333</th>\n",
       "      <td>50</td>\n",
       "      <td>male</td>\n",
       "      <td>30.97</td>\n",
       "      <td>3</td>\n",
       "      <td>no</td>\n",
       "      <td>northwest</td>\n",
       "      <td>10600.5483</td>\n",
       "    </tr>\n",
       "    <tr>\n",
       "      <th>1334</th>\n",
       "      <td>18</td>\n",
       "      <td>female</td>\n",
       "      <td>31.92</td>\n",
       "      <td>0</td>\n",
       "      <td>no</td>\n",
       "      <td>northeast</td>\n",
       "      <td>2205.9808</td>\n",
       "    </tr>\n",
       "    <tr>\n",
       "      <th>1335</th>\n",
       "      <td>18</td>\n",
       "      <td>female</td>\n",
       "      <td>36.85</td>\n",
       "      <td>0</td>\n",
       "      <td>no</td>\n",
       "      <td>southeast</td>\n",
       "      <td>1629.8335</td>\n",
       "    </tr>\n",
       "    <tr>\n",
       "      <th>1336</th>\n",
       "      <td>21</td>\n",
       "      <td>female</td>\n",
       "      <td>25.80</td>\n",
       "      <td>0</td>\n",
       "      <td>no</td>\n",
       "      <td>southwest</td>\n",
       "      <td>2007.9450</td>\n",
       "    </tr>\n",
       "    <tr>\n",
       "      <th>1337</th>\n",
       "      <td>61</td>\n",
       "      <td>female</td>\n",
       "      <td>29.07</td>\n",
       "      <td>0</td>\n",
       "      <td>yes</td>\n",
       "      <td>northwest</td>\n",
       "      <td>29141.3603</td>\n",
       "    </tr>\n",
       "  </tbody>\n",
       "</table>\n",
       "</div>"
      ],
      "text/plain": [
       "      age     sex    bmi  children smoker     region     charges\n",
       "1333   50    male  30.97         3     no  northwest  10600.5483\n",
       "1334   18  female  31.92         0     no  northeast   2205.9808\n",
       "1335   18  female  36.85         0     no  southeast   1629.8335\n",
       "1336   21  female  25.80         0     no  southwest   2007.9450\n",
       "1337   61  female  29.07         0    yes  northwest  29141.3603"
      ]
     },
     "execution_count": 329,
     "metadata": {},
     "output_type": "execute_result"
    }
   ],
   "source": [
    "data.tail()"
   ]
  },
  {
   "cell_type": "code",
   "execution_count": 330,
   "id": "9ad03bf9",
   "metadata": {},
   "outputs": [
    {
     "data": {
      "text/plain": [
       "1338"
      ]
     },
     "execution_count": 330,
     "metadata": {},
     "output_type": "execute_result"
    }
   ],
   "source": [
    "len(data)"
   ]
  },
  {
   "cell_type": "code",
   "execution_count": 331,
   "id": "872e544a",
   "metadata": {},
   "outputs": [
    {
     "data": {
      "text/plain": [
       "RangeIndex(start=0, stop=1338, step=1)"
      ]
     },
     "execution_count": 331,
     "metadata": {},
     "output_type": "execute_result"
    }
   ],
   "source": [
    "data.index"
   ]
  },
  {
   "cell_type": "code",
   "execution_count": 332,
   "id": "2879886c",
   "metadata": {},
   "outputs": [
    {
     "data": {
      "text/plain": [
       "age           int64\n",
       "sex          object\n",
       "bmi         float64\n",
       "children      int64\n",
       "smoker       object\n",
       "region       object\n",
       "charges     float64\n",
       "dtype: object"
      ]
     },
     "execution_count": 332,
     "metadata": {},
     "output_type": "execute_result"
    }
   ],
   "source": [
    "data.dtypes"
   ]
  },
  {
   "cell_type": "code",
   "execution_count": 333,
   "id": "b2915d24",
   "metadata": {},
   "outputs": [
    {
     "name": "stdout",
     "output_type": "stream",
     "text": [
      "<class 'pandas.core.frame.DataFrame'>\n",
      "RangeIndex: 1338 entries, 0 to 1337\n",
      "Data columns (total 7 columns):\n",
      " #   Column    Non-Null Count  Dtype  \n",
      "---  ------    --------------  -----  \n",
      " 0   age       1338 non-null   int64  \n",
      " 1   sex       1338 non-null   object \n",
      " 2   bmi       1338 non-null   float64\n",
      " 3   children  1338 non-null   int64  \n",
      " 4   smoker    1338 non-null   object \n",
      " 5   region    1338 non-null   object \n",
      " 6   charges   1338 non-null   float64\n",
      "dtypes: float64(2), int64(2), object(3)\n",
      "memory usage: 73.3+ KB\n"
     ]
    }
   ],
   "source": [
    "data.info()"
   ]
  },
  {
   "cell_type": "code",
   "execution_count": 334,
   "id": "505ece04",
   "metadata": {},
   "outputs": [
    {
     "data": {
      "text/html": [
       "<div>\n",
       "<style scoped>\n",
       "    .dataframe tbody tr th:only-of-type {\n",
       "        vertical-align: middle;\n",
       "    }\n",
       "\n",
       "    .dataframe tbody tr th {\n",
       "        vertical-align: top;\n",
       "    }\n",
       "\n",
       "    .dataframe thead th {\n",
       "        text-align: right;\n",
       "    }\n",
       "</style>\n",
       "<table border=\"1\" class=\"dataframe\">\n",
       "  <thead>\n",
       "    <tr style=\"text-align: right;\">\n",
       "      <th></th>\n",
       "      <th>age</th>\n",
       "      <th>bmi</th>\n",
       "      <th>children</th>\n",
       "      <th>charges</th>\n",
       "    </tr>\n",
       "  </thead>\n",
       "  <tbody>\n",
       "    <tr>\n",
       "      <th>count</th>\n",
       "      <td>1338.000000</td>\n",
       "      <td>1338.000000</td>\n",
       "      <td>1338.000000</td>\n",
       "      <td>1338.000000</td>\n",
       "    </tr>\n",
       "    <tr>\n",
       "      <th>mean</th>\n",
       "      <td>39.207025</td>\n",
       "      <td>30.663397</td>\n",
       "      <td>1.094918</td>\n",
       "      <td>13270.422265</td>\n",
       "    </tr>\n",
       "    <tr>\n",
       "      <th>std</th>\n",
       "      <td>14.049960</td>\n",
       "      <td>6.098187</td>\n",
       "      <td>1.205493</td>\n",
       "      <td>12110.011237</td>\n",
       "    </tr>\n",
       "    <tr>\n",
       "      <th>min</th>\n",
       "      <td>18.000000</td>\n",
       "      <td>15.960000</td>\n",
       "      <td>0.000000</td>\n",
       "      <td>1121.873900</td>\n",
       "    </tr>\n",
       "    <tr>\n",
       "      <th>25%</th>\n",
       "      <td>27.000000</td>\n",
       "      <td>26.296250</td>\n",
       "      <td>0.000000</td>\n",
       "      <td>4740.287150</td>\n",
       "    </tr>\n",
       "    <tr>\n",
       "      <th>50%</th>\n",
       "      <td>39.000000</td>\n",
       "      <td>30.400000</td>\n",
       "      <td>1.000000</td>\n",
       "      <td>9382.033000</td>\n",
       "    </tr>\n",
       "    <tr>\n",
       "      <th>75%</th>\n",
       "      <td>51.000000</td>\n",
       "      <td>34.693750</td>\n",
       "      <td>2.000000</td>\n",
       "      <td>16639.912515</td>\n",
       "    </tr>\n",
       "    <tr>\n",
       "      <th>max</th>\n",
       "      <td>64.000000</td>\n",
       "      <td>53.130000</td>\n",
       "      <td>5.000000</td>\n",
       "      <td>63770.428010</td>\n",
       "    </tr>\n",
       "  </tbody>\n",
       "</table>\n",
       "</div>"
      ],
      "text/plain": [
       "               age          bmi     children       charges\n",
       "count  1338.000000  1338.000000  1338.000000   1338.000000\n",
       "mean     39.207025    30.663397     1.094918  13270.422265\n",
       "std      14.049960     6.098187     1.205493  12110.011237\n",
       "min      18.000000    15.960000     0.000000   1121.873900\n",
       "25%      27.000000    26.296250     0.000000   4740.287150\n",
       "50%      39.000000    30.400000     1.000000   9382.033000\n",
       "75%      51.000000    34.693750     2.000000  16639.912515\n",
       "max      64.000000    53.130000     5.000000  63770.428010"
      ]
     },
     "execution_count": 334,
     "metadata": {},
     "output_type": "execute_result"
    }
   ],
   "source": [
    "data.describe()"
   ]
  },
  {
   "cell_type": "code",
   "execution_count": 335,
   "id": "90043541",
   "metadata": {},
   "outputs": [
    {
     "data": {
      "text/html": [
       "<div>\n",
       "<style scoped>\n",
       "    .dataframe tbody tr th:only-of-type {\n",
       "        vertical-align: middle;\n",
       "    }\n",
       "\n",
       "    .dataframe tbody tr th {\n",
       "        vertical-align: top;\n",
       "    }\n",
       "\n",
       "    .dataframe thead th {\n",
       "        text-align: right;\n",
       "    }\n",
       "</style>\n",
       "<table border=\"1\" class=\"dataframe\">\n",
       "  <thead>\n",
       "    <tr style=\"text-align: right;\">\n",
       "      <th></th>\n",
       "      <th>age</th>\n",
       "      <th>bmi</th>\n",
       "      <th>children</th>\n",
       "      <th>charges</th>\n",
       "    </tr>\n",
       "  </thead>\n",
       "  <tbody>\n",
       "    <tr>\n",
       "      <th>age</th>\n",
       "      <td>1.000000</td>\n",
       "      <td>0.109272</td>\n",
       "      <td>0.042469</td>\n",
       "      <td>0.299008</td>\n",
       "    </tr>\n",
       "    <tr>\n",
       "      <th>bmi</th>\n",
       "      <td>0.109272</td>\n",
       "      <td>1.000000</td>\n",
       "      <td>0.012759</td>\n",
       "      <td>0.198341</td>\n",
       "    </tr>\n",
       "    <tr>\n",
       "      <th>children</th>\n",
       "      <td>0.042469</td>\n",
       "      <td>0.012759</td>\n",
       "      <td>1.000000</td>\n",
       "      <td>0.067998</td>\n",
       "    </tr>\n",
       "    <tr>\n",
       "      <th>charges</th>\n",
       "      <td>0.299008</td>\n",
       "      <td>0.198341</td>\n",
       "      <td>0.067998</td>\n",
       "      <td>1.000000</td>\n",
       "    </tr>\n",
       "  </tbody>\n",
       "</table>\n",
       "</div>"
      ],
      "text/plain": [
       "               age       bmi  children   charges\n",
       "age       1.000000  0.109272  0.042469  0.299008\n",
       "bmi       0.109272  1.000000  0.012759  0.198341\n",
       "children  0.042469  0.012759  1.000000  0.067998\n",
       "charges   0.299008  0.198341  0.067998  1.000000"
      ]
     },
     "execution_count": 335,
     "metadata": {},
     "output_type": "execute_result"
    }
   ],
   "source": [
    "corr = data.corr()\n",
    "corr"
   ]
  },
  {
   "cell_type": "code",
   "execution_count": 336,
   "id": "a1496f6e",
   "metadata": {},
   "outputs": [
    {
     "data": {
      "text/plain": [
       "<AxesSubplot:>"
      ]
     },
     "execution_count": 336,
     "metadata": {},
     "output_type": "execute_result"
    },
    {
     "data": {
      "image/png": "[encoded data removed]",
      "text/plain": [
       "<Figure size 640x480 with 2 Axes>"
      ]
     },
     "metadata": {},
     "output_type": "display_data"
    }
   ],
   "source": [
    "sns.heatmap(corr)"
   ]
  },
  {
   "cell_type": "code",
   "execution_count": 337,
   "id": "2eb62076",
   "metadata": {
    "scrolled": true
   },
   "outputs": [
    {
     "data": {
      "text/html": [
       "<div>\n",
       "<style scoped>\n",
       "    .dataframe tbody tr th:only-of-type {\n",
       "        vertical-align: middle;\n",
       "    }\n",
       "\n",
       "    .dataframe tbody tr th {\n",
       "        vertical-align: top;\n",
       "    }\n",
       "\n",
       "    .dataframe thead th {\n",
       "        text-align: right;\n",
       "    }\n",
       "</style>\n",
       "<table border=\"1\" class=\"dataframe\">\n",
       "  <thead>\n",
       "    <tr style=\"text-align: right;\">\n",
       "      <th></th>\n",
       "      <th>age</th>\n",
       "      <th>sex</th>\n",
       "      <th>bmi</th>\n",
       "      <th>children</th>\n",
       "      <th>smoker</th>\n",
       "      <th>region</th>\n",
       "      <th>charges</th>\n",
       "    </tr>\n",
       "  </thead>\n",
       "  <tbody>\n",
       "    <tr>\n",
       "      <th>0</th>\n",
       "      <td>False</td>\n",
       "      <td>False</td>\n",
       "      <td>False</td>\n",
       "      <td>False</td>\n",
       "      <td>False</td>\n",
       "      <td>False</td>\n",
       "      <td>False</td>\n",
       "    </tr>\n",
       "    <tr>\n",
       "      <th>1</th>\n",
       "      <td>False</td>\n",
       "      <td>False</td>\n",
       "      <td>False</td>\n",
       "      <td>False</td>\n",
       "      <td>False</td>\n",
       "      <td>False</td>\n",
       "      <td>False</td>\n",
       "    </tr>\n",
       "    <tr>\n",
       "      <th>2</th>\n",
       "      <td>False</td>\n",
       "      <td>False</td>\n",
       "      <td>False</td>\n",
       "      <td>False</td>\n",
       "      <td>False</td>\n",
       "      <td>False</td>\n",
       "      <td>False</td>\n",
       "    </tr>\n",
       "    <tr>\n",
       "      <th>3</th>\n",
       "      <td>False</td>\n",
       "      <td>False</td>\n",
       "      <td>False</td>\n",
       "      <td>False</td>\n",
       "      <td>False</td>\n",
       "      <td>False</td>\n",
       "      <td>False</td>\n",
       "    </tr>\n",
       "    <tr>\n",
       "      <th>4</th>\n",
       "      <td>False</td>\n",
       "      <td>False</td>\n",
       "      <td>False</td>\n",
       "      <td>False</td>\n",
       "      <td>False</td>\n",
       "      <td>False</td>\n",
       "      <td>False</td>\n",
       "    </tr>\n",
       "    <tr>\n",
       "      <th>...</th>\n",
       "      <td>...</td>\n",
       "      <td>...</td>\n",
       "      <td>...</td>\n",
       "      <td>...</td>\n",
       "      <td>...</td>\n",
       "      <td>...</td>\n",
       "      <td>...</td>\n",
       "    </tr>\n",
       "    <tr>\n",
       "      <th>1333</th>\n",
       "      <td>False</td>\n",
       "      <td>False</td>\n",
       "      <td>False</td>\n",
       "      <td>False</td>\n",
       "      <td>False</td>\n",
       "      <td>False</td>\n",
       "      <td>False</td>\n",
       "    </tr>\n",
       "    <tr>\n",
       "      <th>1334</th>\n",
       "      <td>False</td>\n",
       "      <td>False</td>\n",
       "      <td>False</td>\n",
       "      <td>False</td>\n",
       "      <td>False</td>\n",
       "      <td>False</td>\n",
       "      <td>False</td>\n",
       "    </tr>\n",
       "    <tr>\n",
       "      <th>1335</th>\n",
       "      <td>False</td>\n",
       "      <td>False</td>\n",
       "      <td>False</td>\n",
       "      <td>False</td>\n",
       "      <td>False</td>\n",
       "      <td>False</td>\n",
       "      <td>False</td>\n",
       "    </tr>\n",
       "    <tr>\n",
       "      <th>1336</th>\n",
       "      <td>False</td>\n",
       "      <td>False</td>\n",
       "      <td>False</td>\n",
       "      <td>False</td>\n",
       "      <td>False</td>\n",
       "      <td>False</td>\n",
       "      <td>False</td>\n",
       "    </tr>\n",
       "    <tr>\n",
       "      <th>1337</th>\n",
       "      <td>False</td>\n",
       "      <td>False</td>\n",
       "      <td>False</td>\n",
       "      <td>False</td>\n",
       "      <td>False</td>\n",
       "      <td>False</td>\n",
       "      <td>False</td>\n",
       "    </tr>\n",
       "  </tbody>\n",
       "</table>\n",
       "<p>1338 rows × 7 columns</p>\n",
       "</div>"
      ],
      "text/plain": [
       "        age    sex    bmi  children  smoker  region  charges\n",
       "0     False  False  False     False   False   False    False\n",
       "1     False  False  False     False   False   False    False\n",
       "2     False  False  False     False   False   False    False\n",
       "3     False  False  False     False   False   False    False\n",
       "4     False  False  False     False   False   False    False\n",
       "...     ...    ...    ...       ...     ...     ...      ...\n",
       "1333  False  False  False     False   False   False    False\n",
       "1334  False  False  False     False   False   False    False\n",
       "1335  False  False  False     False   False   False    False\n",
       "1336  False  False  False     False   False   False    False\n",
       "1337  False  False  False     False   False   False    False\n",
       "\n",
       "[1338 rows x 7 columns]"
      ]
     },
     "execution_count": 337,
     "metadata": {},
     "output_type": "execute_result"
    }
   ],
   "source": [
    "data.isna()"
   ]
  },
  {
   "cell_type": "code",
   "execution_count": 338,
   "id": "1509efa5",
   "metadata": {
    "scrolled": false
   },
   "outputs": [
    {
     "data": {
      "text/plain": [
       "age         0\n",
       "sex         0\n",
       "bmi         0\n",
       "children    0\n",
       "smoker      0\n",
       "region      0\n",
       "charges     0\n",
       "dtype: int64"
      ]
     },
     "execution_count": 338,
     "metadata": {},
     "output_type": "execute_result"
    }
   ],
   "source": [
    "data.isna().sum()"
   ]
  },
  {
   "cell_type": "code",
   "execution_count": 339,
   "id": "75d77e15",
   "metadata": {},
   "outputs": [
    {
     "data": {
      "text/html": [
       "<div>\n",
       "<style scoped>\n",
       "    .dataframe tbody tr th:only-of-type {\n",
       "        vertical-align: middle;\n",
       "    }\n",
       "\n",
       "    .dataframe tbody tr th {\n",
       "        vertical-align: top;\n",
       "    }\n",
       "\n",
       "    .dataframe thead th {\n",
       "        text-align: right;\n",
       "    }\n",
       "</style>\n",
       "<table border=\"1\" class=\"dataframe\">\n",
       "  <thead>\n",
       "    <tr style=\"text-align: right;\">\n",
       "      <th></th>\n",
       "      <th>age</th>\n",
       "      <th>sex</th>\n",
       "      <th>bmi</th>\n",
       "      <th>children</th>\n",
       "      <th>smoker</th>\n",
       "      <th>region</th>\n",
       "      <th>charges</th>\n",
       "    </tr>\n",
       "  </thead>\n",
       "  <tbody>\n",
       "    <tr>\n",
       "      <th>0</th>\n",
       "      <td>False</td>\n",
       "      <td>False</td>\n",
       "      <td>False</td>\n",
       "      <td>False</td>\n",
       "      <td>False</td>\n",
       "      <td>False</td>\n",
       "      <td>False</td>\n",
       "    </tr>\n",
       "    <tr>\n",
       "      <th>1</th>\n",
       "      <td>False</td>\n",
       "      <td>False</td>\n",
       "      <td>False</td>\n",
       "      <td>False</td>\n",
       "      <td>False</td>\n",
       "      <td>False</td>\n",
       "      <td>False</td>\n",
       "    </tr>\n",
       "    <tr>\n",
       "      <th>2</th>\n",
       "      <td>False</td>\n",
       "      <td>False</td>\n",
       "      <td>False</td>\n",
       "      <td>False</td>\n",
       "      <td>False</td>\n",
       "      <td>False</td>\n",
       "      <td>False</td>\n",
       "    </tr>\n",
       "    <tr>\n",
       "      <th>3</th>\n",
       "      <td>False</td>\n",
       "      <td>False</td>\n",
       "      <td>False</td>\n",
       "      <td>False</td>\n",
       "      <td>False</td>\n",
       "      <td>False</td>\n",
       "      <td>False</td>\n",
       "    </tr>\n",
       "    <tr>\n",
       "      <th>4</th>\n",
       "      <td>False</td>\n",
       "      <td>False</td>\n",
       "      <td>False</td>\n",
       "      <td>False</td>\n",
       "      <td>False</td>\n",
       "      <td>False</td>\n",
       "      <td>False</td>\n",
       "    </tr>\n",
       "    <tr>\n",
       "      <th>...</th>\n",
       "      <td>...</td>\n",
       "      <td>...</td>\n",
       "      <td>...</td>\n",
       "      <td>...</td>\n",
       "      <td>...</td>\n",
       "      <td>...</td>\n",
       "      <td>...</td>\n",
       "    </tr>\n",
       "    <tr>\n",
       "      <th>1333</th>\n",
       "      <td>False</td>\n",
       "      <td>False</td>\n",
       "      <td>False</td>\n",
       "      <td>False</td>\n",
       "      <td>False</td>\n",
       "      <td>False</td>\n",
       "      <td>False</td>\n",
       "    </tr>\n",
       "    <tr>\n",
       "      <th>1334</th>\n",
       "      <td>False</td>\n",
       "      <td>False</td>\n",
       "      <td>False</td>\n",
       "      <td>False</td>\n",
       "      <td>False</td>\n",
       "      <td>False</td>\n",
       "      <td>False</td>\n",
       "    </tr>\n",
       "    <tr>\n",
       "      <th>1335</th>\n",
       "      <td>False</td>\n",
       "      <td>False</td>\n",
       "      <td>False</td>\n",
       "      <td>False</td>\n",
       "      <td>False</td>\n",
       "      <td>False</td>\n",
       "      <td>False</td>\n",
       "    </tr>\n",
       "    <tr>\n",
       "      <th>1336</th>\n",
       "      <td>False</td>\n",
       "      <td>False</td>\n",
       "      <td>False</td>\n",
       "      <td>False</td>\n",
       "      <td>False</td>\n",
       "      <td>False</td>\n",
       "      <td>False</td>\n",
       "    </tr>\n",
       "    <tr>\n",
       "      <th>1337</th>\n",
       "      <td>False</td>\n",
       "      <td>False</td>\n",
       "      <td>False</td>\n",
       "      <td>False</td>\n",
       "      <td>False</td>\n",
       "      <td>False</td>\n",
       "      <td>False</td>\n",
       "    </tr>\n",
       "  </tbody>\n",
       "</table>\n",
       "<p>1338 rows × 7 columns</p>\n",
       "</div>"
      ],
      "text/plain": [
       "        age    sex    bmi  children  smoker  region  charges\n",
       "0     False  False  False     False   False   False    False\n",
       "1     False  False  False     False   False   False    False\n",
       "2     False  False  False     False   False   False    False\n",
       "3     False  False  False     False   False   False    False\n",
       "4     False  False  False     False   False   False    False\n",
       "...     ...    ...    ...       ...     ...     ...      ...\n",
       "1333  False  False  False     False   False   False    False\n",
       "1334  False  False  False     False   False   False    False\n",
       "1335  False  False  False     False   False   False    False\n",
       "1336  False  False  False     False   False   False    False\n",
       "1337  False  False  False     False   False   False    False\n",
       "\n",
       "[1338 rows x 7 columns]"
      ]
     },
     "execution_count": 339,
     "metadata": {},
     "output_type": "execute_result"
    }
   ],
   "source": [
    "data.isnull()"
   ]
  },
  {
   "cell_type": "code",
   "execution_count": 340,
   "id": "e21e3b0a",
   "metadata": {},
   "outputs": [
    {
     "data": {
      "text/plain": [
       "age         0\n",
       "sex         0\n",
       "bmi         0\n",
       "children    0\n",
       "smoker      0\n",
       "region      0\n",
       "charges     0\n",
       "dtype: int64"
      ]
     },
     "execution_count": 340,
     "metadata": {},
     "output_type": "execute_result"
    }
   ],
   "source": [
    "data.isnull().sum()"
   ]
  },
  {
   "cell_type": "code",
   "execution_count": 341,
   "id": "c2381525",
   "metadata": {
    "scrolled": true
   },
   "outputs": [
    {
     "data": {
      "text/plain": [
       "<seaborn.axisgrid.PairGrid at 0x262c18d6790>"
      ]
     },
     "execution_count": 341,
     "metadata": {},
     "output_type": "execute_result"
    },
    {
     "data": {
      "image/png": "[encoded data removed]",
      "text/plain": [
       "<Figure size 1000x1000 with 20 Axes>"
      ]
     },
     "metadata": {},
     "output_type": "display_data"
    }
   ],
   "source": [
    "sns.pairplot(data)"
   ]
  },
  {
   "cell_type": "code",
   "execution_count": 342,
   "id": "fe08d17b",
   "metadata": {},
   "outputs": [
    {
     "data": {
      "text/plain": [
       "<AxesSubplot:xlabel='age', ylabel='Count'>"
      ]
     },
     "execution_count": 342,
     "metadata": {},
     "output_type": "execute_result"
    },
    {
     "data": {
      "image/png": "[encoded data removed]",
      "text/plain": [
       "<Figure size 640x480 with 1 Axes>"
      ]
     },
     "metadata": {},
     "output_type": "display_data"
    }
   ],
   "source": [
    "sns.histplot(x=data['age'],data=data)"
   ]
  },
  {
   "cell_type": "code",
   "execution_count": 343,
   "id": "017be1a8",
   "metadata": {},
   "outputs": [
    {
     "data": {
      "text/plain": [
       "<AxesSubplot:xlabel='bmi', ylabel='Count'>"
      ]
     },
     "execution_count": 343,
     "metadata": {},
     "output_type": "execute_result"
    },
    {
     "data": {
      "image/png": "[encoded data removed]",
      "text/plain": [
       "<Figure size 640x480 with 1 Axes>"
      ]
     },
     "metadata": {},
     "output_type": "display_data"
    }
   ],
   "source": [
    "sns.histplot(x=data['bmi'],data=data)"
   ]
  },
  {
   "cell_type": "code",
   "execution_count": 344,
   "id": "c21d2291",
   "metadata": {},
   "outputs": [
    {
     "data": {
      "text/plain": [
       "<AxesSubplot:xlabel='children', ylabel='Count'>"
      ]
     },
     "execution_count": 344,
     "metadata": {},
     "output_type": "execute_result"
    },
    {
     "data": {
      "image/png": "[encoded data removed]",
      "text/plain": [
       "<Figure size 640x480 with 1 Axes>"
      ]
     },
     "metadata": {},
     "output_type": "display_data"
    }
   ],
   "source": [
    "sns.histplot(x=data['children'],data=data)"
   ]
  },
  {
   "cell_type": "code",
   "execution_count": 345,
   "id": "21769a39",
   "metadata": {},
   "outputs": [
    {
     "data": {
      "text/plain": [
       "<AxesSubplot:xlabel='charges', ylabel='Count'>"
      ]
     },
     "execution_count": 345,
     "metadata": {},
     "output_type": "execute_result"
    },
    {
     "data": {
      "image/png": "[encoded data removed]",
      "text/plain": [
       "<Figure size 640x480 with 1 Axes>"
      ]
     },
     "metadata": {},
     "output_type": "display_data"
    }
   ],
   "source": [
    "sns.histplot(x=data['charges'],data=data)"
   ]
  },
  {
   "cell_type": "code",
   "execution_count": 346,
   "id": "cecb60d2",
   "metadata": {
    "scrolled": true
   },
   "outputs": [
    {
     "data": {
      "text/plain": [
       "<AxesSubplot:xlabel='sex', ylabel='count'>"
      ]
     },
     "execution_count": 346,
     "metadata": {},
     "output_type": "execute_result"
    },
    {
     "data": {
      "image/png": "[encoded data removed]",
      "text/plain": [
       "<Figure size 640x480 with 1 Axes>"
      ]
     },
     "metadata": {},
     "output_type": "display_data"
    }
   ],
   "source": [
    "sns.countplot(x = 'sex', data = data, hue = 'children')"
   ]
  },
  {
   "cell_type": "code",
   "execution_count": 347,
   "id": "b87f174b",
   "metadata": {
    "scrolled": false
   },
   "outputs": [
    {
     "data": {
      "text/plain": [
       "<AxesSubplot:xlabel='region', ylabel='count'>"
      ]
     },
     "execution_count": 347,
     "metadata": {},
     "output_type": "execute_result"
    },
    {
     "data": {
      "image/png": "[encoded data removed]",
      "text/plain": [
       "<Figure size 640x480 with 1 Axes>"
      ]
     },
     "metadata": {},
     "output_type": "display_data"
    }
   ],
   "source": [
    "sns.countplot(x='region',data=data,hue='sex')"
   ]
  },
  {
   "cell_type": "code",
   "execution_count": 348,
   "id": "be9fa15b",
   "metadata": {
    "scrolled": true
   },
   "outputs": [
    {
     "data": {
      "image/png": "[encoded data removed]",
      "text/plain": [
       "<Figure size 640x480 with 1 Axes>"
      ]
     },
     "metadata": {},
     "output_type": "display_data"
    }
   ],
   "source": [
    "plt.scatter(x=data['bmi'],y=data['charges'],c='r')\n",
    "plt.xlabel('bmi')\n",
    "plt.ylabel('charges')\n",
    "plt.show()"
   ]
  },
  {
   "cell_type": "code",
   "execution_count": 349,
   "id": "141bff57",
   "metadata": {},
   "outputs": [
    {
     "data": {
      "image/png": "[encoded data removed]",
      "text/plain": [
       "<Figure size 640x480 with 1 Axes>"
      ]
     },
     "metadata": {},
     "output_type": "display_data"
    }
   ],
   "source": [
    "plt.bar(data['bmi'],data['charges'])\n",
    "plt.xlabel('bmi')\n",
    "plt.ylabel('charges')\n",
    "plt.show()"
   ]
  },
  {
   "cell_type": "code",
   "execution_count": 350,
   "id": "20c89365",
   "metadata": {
    "scrolled": true
   },
   "outputs": [
    {
     "data": {
      "image/png": "[encoded data removed]",
      "text/plain": [
       "<Figure size 640x480 with 1 Axes>"
      ]
     },
     "metadata": {},
     "output_type": "display_data"
    }
   ],
   "source": [
    "plt.scatter(x=data['age'],y=data['charges'],c='y')\n",
    "plt.xlabel('age')\n",
    "plt.ylabel('charges')\n",
    "plt.show()"
   ]
  },
  {
   "cell_type": "code",
   "execution_count": 351,
   "id": "179b264d",
   "metadata": {},
   "outputs": [
    {
     "data": {
      "image/png": "[encoded data removed]",
      "text/plain": [
       "<Figure size 640x480 with 1 Axes>"
      ]
     },
     "metadata": {},
     "output_type": "display_data"
    }
   ],
   "source": [
    "plt.bar(data['age'],data['charges'])\n",
    "plt.xlabel('age')\n",
    "plt.ylabel('charges')\n",
    "plt.show()"
   ]
  },
  {
   "cell_type": "code",
   "execution_count": 352,
   "id": "d5fb6c3d",
   "metadata": {
    "scrolled": true
   },
   "outputs": [
    {
     "data": {
      "image/png": "[encoded data removed]",
      "text/plain": [
       "<Figure size 640x480 with 1 Axes>"
      ]
     },
     "metadata": {},
     "output_type": "display_data"
    }
   ],
   "source": [
    "plt.scatter(x=data['children'],y=data['charges'],c='g')\n",
    "plt.xlabel('children')\n",
    "plt.ylabel('charges')\n",
    "plt.show()"
   ]
  },
  {
   "cell_type": "code",
   "execution_count": 353,
   "id": "afe34c2c",
   "metadata": {},
   "outputs": [
    {
     "data": {
      "text/plain": [
       "<AxesSubplot:xlabel='children', ylabel='charges'>"
      ]
     },
     "execution_count": 353,
     "metadata": {},
     "output_type": "execute_result"
    },
    {
     "data": {
      "image/png": "[encoded data removed]",
      "text/plain": [
       "<Figure size 640x480 with 1 Axes>"
      ]
     },
     "metadata": {},
     "output_type": "display_data"
    }
   ],
   "source": [
    "sns.boxplot(x=data[\"children\"], y=data[\"charges\"], data=data)"
   ]
  },
  {
   "cell_type": "code",
   "execution_count": 354,
   "id": "ba5cc383",
   "metadata": {},
   "outputs": [
    {
     "data": {
      "image/png": "[encoded data removed]",
      "text/plain": [
       "<Figure size 640x480 with 1 Axes>"
      ]
     },
     "metadata": {},
     "output_type": "display_data"
    }
   ],
   "source": [
    "plt.scatter(x=data['children'],y=data['bmi'],c='g')\n",
    "plt.xlabel('children')\n",
    "plt.ylabel('bmi')\n",
    "plt.show()"
   ]
  },
  {
   "cell_type": "code",
   "execution_count": 355,
   "id": "ce9c7abb",
   "metadata": {},
   "outputs": [
    {
     "data": {
      "text/plain": [
       "<AxesSubplot:xlabel='children', ylabel='bmi'>"
      ]
     },
     "execution_count": 355,
     "metadata": {},
     "output_type": "execute_result"
    },
    {
     "data": {
      "image/png": "[encoded data removed]",
      "text/plain": [
       "<Figure size 640x480 with 1 Axes>"
      ]
     },
     "metadata": {},
     "output_type": "display_data"
    }
   ],
   "source": [
    "sns.boxplot(x=data[\"children\"], y=data[\"bmi\"], data=data)"
   ]
  },
  {
   "cell_type": "code",
   "execution_count": 356,
   "id": "09ce4320",
   "metadata": {},
   "outputs": [
    {
     "data": {
      "text/plain": [
       "<AxesSubplot:xlabel='region', ylabel='bmi'>"
      ]
     },
     "execution_count": 356,
     "metadata": {},
     "output_type": "execute_result"
    },
    {
     "data": {
      "image/png": "[encoded data removed]",
      "text/plain": [
       "<Figure size 640x480 with 1 Axes>"
      ]
     },
     "metadata": {},
     "output_type": "display_data"
    }
   ],
   "source": [
    "sns.boxplot(x=data[\"region\"], y=data[\"bmi\"], data=data)"
   ]
  },
  {
   "cell_type": "code",
   "execution_count": 357,
   "id": "98f6b90f",
   "metadata": {},
   "outputs": [
    {
     "data": {
      "text/plain": [
       "<AxesSubplot:xlabel='region', ylabel='charges'>"
      ]
     },
     "execution_count": 357,
     "metadata": {},
     "output_type": "execute_result"
    },
    {
     "data": {
      "image/png": "[encoded data removed]",
      "text/plain": [
       "<Figure size 640x480 with 1 Axes>"
      ]
     },
     "metadata": {},
     "output_type": "display_data"
    }
   ],
   "source": [
    "sns.boxplot(x=data[\"region\"], y=data[\"charges\"], data=data)"
   ]
  },
  {
   "cell_type": "code",
   "execution_count": 358,
   "id": "1b138f24",
   "metadata": {
    "scrolled": true
   },
   "outputs": [
    {
     "name": "stdout",
     "output_type": "stream",
     "text": [
      "Our data has dimensions: 1338 by 7\n"
     ]
    }
   ],
   "source": [
    "print(f\"Our data has dimensions: {data.shape[0]} by {data.shape[1]}\")"
   ]
  },
  {
   "cell_type": "code",
   "execution_count": 359,
   "id": "a5bdf68b",
   "metadata": {},
   "outputs": [],
   "source": [
    "x = data['age']\n",
    "y = data['charges']"
   ]
  },
  {
   "cell_type": "code",
   "execution_count": 360,
   "id": "60ace3da",
   "metadata": {},
   "outputs": [],
   "source": [
    "x_train,x_test,y_train,y_test = train_test_split(x,y,test_size=0.2,random_state=1)"
   ]
  },
  {
   "cell_type": "code",
   "execution_count": 361,
   "id": "f0b48713",
   "metadata": {
    "scrolled": true
   },
   "outputs": [
    {
     "name": "stdout",
     "output_type": "stream",
     "text": [
      "(1070,)\n",
      "(268,)\n",
      "(1070,)\n",
      "(268,)\n"
     ]
    }
   ],
   "source": [
    "print(x_train.shape)\n",
    "print(x_test.shape)\n",
    "print(y_train.shape)\n",
    "print(y_test.shape)"
   ]
  },
  {
   "cell_type": "code",
   "execution_count": 362,
   "id": "98a8aca8",
   "metadata": {},
   "outputs": [],
   "source": [
    "x_train=x_train.values.reshape(-1,1)"
   ]
  },
  {
   "cell_type": "code",
   "execution_count": 363,
   "id": "87453239",
   "metadata": {},
   "outputs": [],
   "source": [
    "x_test=x_test.values.reshape(-1,1)"
   ]
  },
  {
   "cell_type": "code",
   "execution_count": 364,
   "id": "43be1e56",
   "metadata": {},
   "outputs": [],
   "source": [
    "model = LinearRegression()"
   ]
  },
  {
   "cell_type": "code",
   "execution_count": 365,
   "id": "fe7e558e",
   "metadata": {},
   "outputs": [
    {
     "data": {
      "text/plain": [
       "LinearRegression()"
      ]
     },
     "execution_count": 365,
     "metadata": {},
     "output_type": "execute_result"
    }
   ],
   "source": [
    "model.fit(x_train,y_train)"
   ]
  },
  {
   "cell_type": "code",
   "execution_count": 366,
   "id": "bce09a71",
   "metadata": {},
   "outputs": [
    {
     "data": {
      "text/plain": [
       "0.07899146595873285"
      ]
     },
     "execution_count": 366,
     "metadata": {},
     "output_type": "execute_result"
    }
   ],
   "source": [
    "model.score(x_test,y_test)"
   ]
  },
  {
   "cell_type": "code",
   "execution_count": 367,
   "id": "01a0897b",
   "metadata": {},
   "outputs": [
    {
     "name": "stdout",
     "output_type": "stream",
     "text": [
      "intercept: 2998.5777306780055\n"
     ]
    }
   ],
   "source": [
    "print(f\"intercept: {model.intercept_}\")"
   ]
  },
  {
   "cell_type": "code",
   "execution_count": 368,
   "id": "5aecc71f",
   "metadata": {},
   "outputs": [
    {
     "name": "stdout",
     "output_type": "stream",
     "text": [
      "slope: [262.31687345]\n"
     ]
    }
   ],
   "source": [
    "print(f\"slope: {model.coef_}\")"
   ]
  },
  {
   "cell_type": "code",
   "execution_count": 369,
   "id": "6a26daf7",
   "metadata": {
    "scrolled": false
   },
   "outputs": [
    {
     "name": "stdout",
     "output_type": "stream",
     "text": [
      "y_pred : [[ 7982.59832619]\n",
      " [17950.63951722]\n",
      " [16376.73827653]\n",
      " [15852.10452963]\n",
      " [ 8507.23207309]\n",
      " [11130.40080757]\n",
      " [15852.10452963]\n",
      " [17688.32264377]\n",
      " [10081.13331377]\n",
      " [12704.30204826]\n",
      " [18737.59013756]\n",
      " [17163.68889687]\n",
      " [13228.93579515]\n",
      " [14015.8864155 ]\n",
      " [ 7720.28145274]\n",
      " [15589.78765618]\n",
      " [11655.03455446]\n",
      " [12179.66830136]\n",
      " [18475.27326411]\n",
      " [19262.22388446]\n",
      " [16639.05514998]\n",
      " [10868.08393412]\n",
      " [15065.15390929]\n",
      " [16114.42140308]\n",
      " [ 7720.28145274]\n",
      " [13753.56954205]\n",
      " [14278.20328894]\n",
      " [15589.78765618]\n",
      " [11655.03455446]\n",
      " [10868.08393412]\n",
      " [17688.32264377]\n",
      " [11917.35142791]\n",
      " [16901.37202342]\n",
      " [ 7982.59832619]\n",
      " [15589.78765618]\n",
      " [16901.37202342]\n",
      " [10868.08393412]\n",
      " [ 8507.23207309]\n",
      " [18212.95639066]\n",
      " [14802.83703584]\n",
      " [10343.45018722]\n",
      " [18212.95639066]\n",
      " [16114.42140308]\n",
      " [18475.27326411]\n",
      " [11130.40080757]\n",
      " [18737.59013756]\n",
      " [ 8244.91519964]\n",
      " [10343.45018722]\n",
      " [16376.73827653]\n",
      " [17950.63951722]\n",
      " [18999.90701101]\n",
      " [17426.00577032]\n",
      " [ 9294.18269343]\n",
      " [14802.83703584]\n",
      " [ 7720.28145274]\n",
      " [11392.71768101]\n",
      " [14278.20328894]\n",
      " [18737.59013756]\n",
      " [ 9031.86581998]\n",
      " [ 7720.28145274]\n",
      " [10605.76706067]\n",
      " [18999.90701101]\n",
      " [ 9031.86581998]\n",
      " [ 9031.86581998]\n",
      " [18737.59013756]\n",
      " [15589.78765618]\n",
      " [15852.10452963]\n",
      " [17950.63951722]\n",
      " [ 7982.59832619]\n",
      " [ 9294.18269343]\n",
      " [16639.05514998]\n",
      " [11130.40080757]\n",
      " [ 7982.59832619]\n",
      " [17163.68889687]\n",
      " [19262.22388446]\n",
      " [14278.20328894]\n",
      " [ 9031.86581998]\n",
      " [10605.76706067]\n",
      " [17688.32264377]\n",
      " [16114.42140308]\n",
      " [ 8507.23207309]\n",
      " [17426.00577032]\n",
      " [16901.37202342]\n",
      " [ 9294.18269343]\n",
      " [13491.2526686 ]\n",
      " [ 9556.49956688]\n",
      " [14015.8864155 ]\n",
      " [14540.52016239]\n",
      " [15852.10452963]\n",
      " [13753.56954205]\n",
      " [12179.66830136]\n",
      " [15852.10452963]\n",
      " [18737.59013756]\n",
      " [15589.78765618]\n",
      " [ 7982.59832619]\n",
      " [16901.37202342]\n",
      " [16376.73827653]\n",
      " [17688.32264377]\n",
      " [18212.95639066]\n",
      " [12179.66830136]\n",
      " [17950.63951722]\n",
      " [ 9556.49956688]\n",
      " [10868.08393412]\n",
      " [ 7982.59832619]\n",
      " [19786.85763135]\n",
      " [ 9031.86581998]\n",
      " [ 7982.59832619]\n",
      " [14802.83703584]\n",
      " [ 7720.28145274]\n",
      " [17426.00577032]\n",
      " [11917.35142791]\n",
      " [ 9818.81644033]\n",
      " [ 7982.59832619]\n",
      " [19524.5407579 ]\n",
      " [ 9294.18269343]\n",
      " [ 7982.59832619]\n",
      " [11655.03455446]\n",
      " [19524.5407579 ]\n",
      " [12179.66830136]\n",
      " [ 8244.91519964]\n",
      " [16114.42140308]\n",
      " [15589.78765618]\n",
      " [12966.6189217 ]\n",
      " [15065.15390929]\n",
      " [17688.32264377]\n",
      " [15589.78765618]\n",
      " [17426.00577032]\n",
      " [12179.66830136]\n",
      " [14015.8864155 ]\n",
      " [14540.52016239]\n",
      " [ 7720.28145274]\n",
      " [ 7982.59832619]\n",
      " [12966.6189217 ]\n",
      " [11655.03455446]\n",
      " [15065.15390929]\n",
      " [ 7982.59832619]\n",
      " [ 7982.59832619]\n",
      " [ 7720.28145274]\n",
      " [16639.05514998]\n",
      " [14802.83703584]\n",
      " [19262.22388446]\n",
      " [12179.66830136]\n",
      " [11917.35142791]\n",
      " [19786.85763135]\n",
      " [18212.95639066]\n",
      " [17426.00577032]\n",
      " [ 7720.28145274]\n",
      " [13753.56954205]\n",
      " [ 7720.28145274]\n",
      " [12704.30204826]\n",
      " [14540.52016239]\n",
      " [ 9818.81644033]\n",
      " [16639.05514998]\n",
      " [17426.00577032]\n",
      " [15589.78765618]\n",
      " [14015.8864155 ]\n",
      " [16376.73827653]\n",
      " [16376.73827653]\n",
      " [15589.78765618]\n",
      " [ 9031.86581998]\n",
      " [11655.03455446]\n",
      " [19786.85763135]\n",
      " [18212.95639066]\n",
      " [ 9818.81644033]\n",
      " [11392.71768101]\n",
      " [ 8507.23207309]\n",
      " [12441.98517481]\n",
      " [17163.68889687]\n",
      " [17688.32264377]\n",
      " [12441.98517481]\n",
      " [11392.71768101]\n",
      " [10343.45018722]\n",
      " [17688.32264377]\n",
      " [18475.27326411]\n",
      " [10081.13331377]\n",
      " [12966.6189217 ]\n",
      " [ 9031.86581998]\n",
      " [18475.27326411]\n",
      " [10343.45018722]\n",
      " [12179.66830136]\n",
      " [18737.59013756]\n",
      " [18999.90701101]\n",
      " [15852.10452963]\n",
      " [14015.8864155 ]\n",
      " [ 9556.49956688]\n",
      " [10081.13331377]\n",
      " [ 8769.54894653]\n",
      " [15327.47078274]\n",
      " [15065.15390929]\n",
      " [13753.56954205]\n",
      " [18999.90701101]\n",
      " [16639.05514998]\n",
      " [11130.40080757]\n",
      " [ 7982.59832619]\n",
      " [12966.6189217 ]\n",
      " [16376.73827653]\n",
      " [12441.98517481]\n",
      " [ 7982.59832619]\n",
      " [16376.73827653]\n",
      " [15065.15390929]\n",
      " [13753.56954205]\n",
      " [13753.56954205]\n",
      " [17163.68889687]\n",
      " [13228.93579515]\n",
      " [12966.6189217 ]\n",
      " [ 7720.28145274]\n",
      " [13491.2526686 ]\n",
      " [14015.8864155 ]\n",
      " [ 8244.91519964]\n",
      " [17950.63951722]\n",
      " [10868.08393412]\n",
      " [16901.37202342]\n",
      " [ 9294.18269343]\n",
      " [ 9818.81644033]\n",
      " [11392.71768101]\n",
      " [19786.85763135]\n",
      " [17426.00577032]\n",
      " [ 8769.54894653]\n",
      " [ 7720.28145274]\n",
      " [14540.52016239]\n",
      " [ 8244.91519964]\n",
      " [16901.37202342]\n",
      " [17426.00577032]\n",
      " [10081.13331377]\n",
      " [ 7982.59832619]\n",
      " [ 9294.18269343]\n",
      " [11392.71768101]\n",
      " [ 9031.86581998]\n",
      " [ 7982.59832619]\n",
      " [19524.5407579 ]\n",
      " [ 8507.23207309]\n",
      " [18475.27326411]\n",
      " [16376.73827653]\n",
      " [11917.35142791]\n",
      " [17163.68889687]\n",
      " [17426.00577032]\n",
      " [10868.08393412]\n",
      " [ 7982.59832619]\n",
      " [15065.15390929]\n",
      " [11392.71768101]\n",
      " [15327.47078274]\n",
      " [ 8507.23207309]\n",
      " [19262.22388446]\n",
      " [ 9294.18269343]\n",
      " [17426.00577032]\n",
      " [16639.05514998]\n",
      " [14278.20328894]\n",
      " [15327.47078274]\n",
      " [ 9556.49956688]\n",
      " [19786.85763135]\n",
      " [16901.37202342]\n",
      " [11130.40080757]\n",
      " [18737.59013756]\n",
      " [16376.73827653]\n",
      " [ 9818.81644033]\n",
      " [ 8769.54894653]\n",
      " [ 7720.28145274]\n",
      " [13491.2526686 ]\n",
      " [ 7982.59832619]\n",
      " [18999.90701101]\n",
      " [14540.52016239]\n",
      " [14015.8864155 ]\n",
      " [15065.15390929]\n",
      " [13228.93579515]\n",
      " [14540.52016239]\n",
      " [15327.47078274]\n",
      " [ 7982.59832619]\n",
      " [12179.66830136]]\n"
     ]
    }
   ],
   "source": [
    "y_pred = model.intercept_ + model.coef_*x_test\n",
    "print(f\"y_pred : {y_pred}\")"
   ]
  },
  {
   "cell_type": "code",
   "execution_count": 370,
   "id": "e657b81d",
   "metadata": {
    "scrolled": true
   },
   "outputs": [
    {
     "name": "stdout",
     "output_type": "stream",
     "text": [
      "(1070, 1)\n",
      "(268,)\n",
      "(268, 1)\n"
     ]
    }
   ],
   "source": [
    "print(x_train.shape)\n",
    "print(y_test.shape)\n",
    "print(y_pred.shape)"
   ]
  },
  {
   "cell_type": "code",
   "execution_count": 371,
   "id": "c72fe04a",
   "metadata": {},
   "outputs": [],
   "source": [
    "y_test = y_test.values.reshape(-1,1)"
   ]
  },
  {
   "cell_type": "code",
   "execution_count": 372,
   "id": "59fa7025",
   "metadata": {},
   "outputs": [
    {
     "name": "stdout",
     "output_type": "stream",
     "text": [
      "(268, 1)\n"
     ]
    }
   ],
   "source": [
    "print(y_test.shape)"
   ]
  },
  {
   "cell_type": "code",
   "execution_count": 373,
   "id": "592442f7",
   "metadata": {},
   "outputs": [],
   "source": [
    "rss = np.sum((y_test - y_pred) ** 2)"
   ]
  },
  {
   "cell_type": "code",
   "execution_count": 374,
   "id": "302bbfc3",
   "metadata": {},
   "outputs": [
    {
     "name": "stdout",
     "output_type": "stream",
     "text": [
      "RSS: 36846983136.88877\n"
     ]
    }
   ],
   "source": [
    "print(\"RSS:\", rss)"
   ]
  },
  {
   "cell_type": "code",
   "execution_count": 375,
   "id": "3646e17a",
   "metadata": {},
   "outputs": [],
   "source": [
    "x1 = data['bmi']\n",
    "y = data['charges']"
   ]
  },
  {
   "cell_type": "code",
   "execution_count": 376,
   "id": "9f5a18eb",
   "metadata": {},
   "outputs": [],
   "source": [
    "x1_train, x1_test, y_train, y_test = train_test_split(x1, y, test_size = 0.2, random_state=1)"
   ]
  },
  {
   "cell_type": "code",
   "execution_count": 377,
   "id": "41734e98",
   "metadata": {},
   "outputs": [
    {
     "name": "stdout",
     "output_type": "stream",
     "text": [
      "(1070,)\n",
      "(268,)\n",
      "(1070,)\n",
      "(268,)\n"
     ]
    }
   ],
   "source": [
    "print(x1_train.shape)\n",
    "print(x1_test.shape)\n",
    "print(y_train.shape)\n",
    "print(y_test.shape)"
   ]
  },
  {
   "cell_type": "code",
   "execution_count": 378,
   "id": "12cfa582",
   "metadata": {},
   "outputs": [],
   "source": [
    "x1_train = x1_train.values.reshape(-1,1)"
   ]
  },
  {
   "cell_type": "code",
   "execution_count": 379,
   "id": "556c19c5",
   "metadata": {},
   "outputs": [],
   "source": [
    "x1_test = x1_test.values.reshape(-1,1)"
   ]
  },
  {
   "cell_type": "code",
   "execution_count": 380,
   "id": "4b5482df",
   "metadata": {},
   "outputs": [],
   "source": [
    "model1 = LinearRegression()"
   ]
  },
  {
   "cell_type": "code",
   "execution_count": 381,
   "id": "b163a0aa",
   "metadata": {},
   "outputs": [
    {
     "data": {
      "text/plain": [
       "LinearRegression()"
      ]
     },
     "execution_count": 381,
     "metadata": {},
     "output_type": "execute_result"
    }
   ],
   "source": [
    "model1.fit(x1_train,y_train)"
   ]
  },
  {
   "cell_type": "code",
   "execution_count": 382,
   "id": "f4f60a9d",
   "metadata": {},
   "outputs": [
    {
     "data": {
      "text/plain": [
       "0.05716373981200229"
      ]
     },
     "execution_count": 382,
     "metadata": {},
     "output_type": "execute_result"
    }
   ],
   "source": [
    "model1.score(x1_test,y_test)"
   ]
  },
  {
   "cell_type": "code",
   "execution_count": 383,
   "id": "b0d26014",
   "metadata": {},
   "outputs": [
    {
     "name": "stdout",
     "output_type": "stream",
     "text": [
      "intercept: 2001.129553376486\n",
      "slope: [262.31687345]\n"
     ]
    }
   ],
   "source": [
    "print(f\"intercept: {model1.intercept_}\")\n",
    "print(f\"slope: {model.coef_}\")"
   ]
  },
  {
   "cell_type": "code",
   "execution_count": 384,
   "id": "675a2a61",
   "metadata": {
    "scrolled": false
   },
   "outputs": [
    {
     "name": "stdout",
     "output_type": "stream",
     "text": [
      "y1_pred: [[15009.47211896]\n",
      " [13548.64220518]\n",
      " [15547.67261351]\n",
      " [15412.20718291]\n",
      " [10165.667668  ]\n",
      " [14592.09214359]\n",
      " [15734.39523407]\n",
      " [12470.41060215]\n",
      " [11531.30565757]\n",
      " [11666.77108818]\n",
      " [10982.12147946]\n",
      " [19099.06363198]\n",
      " [13841.54043351]\n",
      " [12618.69033024]\n",
      " [14606.73705501]\n",
      " [13058.03767273]\n",
      " [10313.94739609]\n",
      " [12142.73070921]\n",
      " [15371.93367651]\n",
      " [14156.40602896]\n",
      " [14174.71216823]\n",
      " [16298.2243236 ]\n",
      " [12157.37562062]\n",
      " [11739.99564526]\n",
      " [13026.91723597]\n",
      " [12400.84727292]\n",
      " [12018.24896217]\n",
      " [14204.00199106]\n",
      " [14046.56919333]\n",
      " [11322.61566989]\n",
      " [15108.32527102]\n",
      " [11886.44475942]\n",
      " [10279.16573148]\n",
      " [13687.76886363]\n",
      " [11465.4035562 ]\n",
      " [10905.23569452]\n",
      " [14925.26387832]\n",
      " [11410.48513839]\n",
      " [16298.2243236 ]\n",
      " [13166.04389443]\n",
      " [14083.18147188]\n",
      " [14592.09214359]\n",
      " [12190.32667131]\n",
      " [15584.28489205]\n",
      " [10641.62728903]\n",
      " [12470.41060215]\n",
      " [14928.92510617]\n",
      " [13599.89939514]\n",
      " [ 8609.64583001]\n",
      " [12539.97393138]\n",
      " [13559.62588874]\n",
      " [12874.97628003]\n",
      " [10661.76404223]\n",
      " [11410.48513839]\n",
      " [12018.24896217]\n",
      " [18191.07912416]\n",
      " [13922.0874463 ]\n",
      " [14852.03932123]\n",
      " [10870.45402991]\n",
      " [17748.07055382]\n",
      " [15009.47211896]\n",
      " [14279.05716207]\n",
      " [12431.96770968]\n",
      " [12296.50227908]\n",
      " [15531.19708817]\n",
      " [13826.89552209]\n",
      " [12505.19226676]\n",
      " [10780.75394749]\n",
      " [11009.58068837]\n",
      " [ 9513.96910997]\n",
      " [14626.87380821]\n",
      " [15948.57706353]\n",
      " [12582.0780517 ]\n",
      " [11009.58068837]\n",
      " [12992.13557136]\n",
      " [14800.78213128]\n",
      " [12018.24896217]\n",
      " [12230.60017771]\n",
      " [11264.03602423]\n",
      " [11600.8689868 ]\n",
      " [ 8157.48419003]\n",
      " [14279.05716207]\n",
      " [11079.14401759]\n",
      " [12728.52716586]\n",
      " [14000.80384516]\n",
      " [18674.3612009 ]\n",
      " [11264.03602423]\n",
      " [18070.25860498]\n",
      " [14209.49383284]\n",
      " [14105.148839  ]\n",
      " [12261.72061447]\n",
      " [10731.32737146]\n",
      " [14123.45497827]\n",
      " [13801.26692711]\n",
      " [10279.16573148]\n",
      " [12794.42926724]\n",
      " [11447.09741693]\n",
      " [15734.39523407]\n",
      " [15357.2887651 ]\n",
      " [10592.200713  ]\n",
      " [14452.96548514]\n",
      " [10835.6723653 ]\n",
      " [10934.52551736]\n",
      " [14742.20248561]\n",
      " [10418.29238993]\n",
      " [12366.06560831]\n",
      " [11044.36235298]\n",
      " [13058.03767273]\n",
      " [15653.84822128]\n",
      " [12922.57224213]\n",
      " [12150.05316492]\n",
      " [12955.52329282]\n",
      " [11218.27067605]\n",
      " [17131.15366041]\n",
      " [11809.55897448]\n",
      " [12508.85349462]\n",
      " [17524.73565472]\n",
      " [11183.48901144]\n",
      " [16539.86536197]\n",
      " [13687.76886363]\n",
      " [11373.87285985]\n",
      " [15044.25378357]\n",
      " [13237.43783758]\n",
      " [10165.667668  ]\n",
      " [13640.17290153]\n",
      " [14559.14109291]\n",
      " [11287.83400528]\n",
      " [10941.84797307]\n",
      " [16781.50640034]\n",
      " [15584.28489205]\n",
      " [15976.03627244]\n",
      " [ 9653.09576843]\n",
      " [12192.15728524]\n",
      " [15090.01913175]\n",
      " [12106.11843067]\n",
      " [ 9543.2589328 ]\n",
      " [11357.3973345 ]\n",
      " [16016.30977883]\n",
      " [ 8713.99082385]\n",
      " [16018.14039276]\n",
      " [13618.20553441]\n",
      " [14566.46354861]\n",
      " [11264.03602423]\n",
      " [15170.56614454]\n",
      " [13652.98719902]\n",
      " [12122.59395601]\n",
      " [12754.15576084]\n",
      " [13936.73235771]\n",
      " [14888.65159977]\n",
      " [10557.41904839]\n",
      " [15935.76276604]\n",
      " [13305.17055288]\n",
      " [15739.88707585]\n",
      " [13861.6771867 ]\n",
      " [16700.95938755]\n",
      " [11849.83248088]\n",
      " [13826.89552209]\n",
      " [12157.37562062]\n",
      " [12018.24896217]\n",
      " [14595.75337145]\n",
      " [13076.343812  ]\n",
      " [15533.02770209]\n",
      " [13720.71991432]\n",
      " [12984.81311565]\n",
      " [14139.93050361]\n",
      " [15492.7541957 ]\n",
      " [14888.65159977]\n",
      " [12691.91488732]\n",
      " [11959.6693165 ]\n",
      " [12157.37562062]\n",
      " [12911.58855857]\n",
      " [14731.21880205]\n",
      " [ 9305.27912229]\n",
      " [10661.76404223]\n",
      " [ 9861.78575611]\n",
      " [11983.46729755]\n",
      " [14888.65159977]\n",
      " [13861.6771867 ]\n",
      " [ 8331.3925131 ]\n",
      " [17868.891073  ]\n",
      " [12853.0089129 ]\n",
      " [10070.47574379]\n",
      " [12957.35390674]\n",
      " [17131.15366041]\n",
      " [10244.38406686]\n",
      " [12673.60874805]\n",
      " [12270.8736841 ]\n",
      " [18593.81418811]\n",
      " [ 9270.49745767]\n",
      " [12853.0089129 ]\n",
      " [13826.89552209]\n",
      " [17305.06198347]\n",
      " [ 9470.03437572]\n",
      " [10974.79902375]\n",
      " [ 9131.37079922]\n",
      " [ 9543.2589328 ]\n",
      " [12633.33524166]\n",
      " [14870.3454605 ]\n",
      " [10940.01735914]\n",
      " [12270.8736841 ]\n",
      " [14526.19004222]\n",
      " [15584.28489205]\n",
      " [10421.95361778]\n",
      " [14485.91653582]\n",
      " [12713.88225445]\n",
      " [11787.59160736]\n",
      " [14487.74714975]\n",
      " [11586.22407539]\n",
      " [16818.11867888]\n",
      " [12508.85349462]\n",
      " [12226.93894985]\n",
      " [10378.01888354]\n",
      " [14313.83882668]\n",
      " [14522.52881437]\n",
      " [14888.65159977]\n",
      " [13460.77273668]\n",
      " [12609.5372606 ]\n",
      " [13358.25835677]\n",
      " [14324.82251024]\n",
      " [13058.03767273]\n",
      " [13200.82555904]\n",
      " [ 9653.09576843]\n",
      " [14000.80384516]\n",
      " [ 8922.68081153]\n",
      " [12192.15728524]\n",
      " [10568.40273195]\n",
      " [12887.79057751]\n",
      " [14229.63058604]\n",
      " [12362.40438045]\n",
      " [15492.7541957 ]\n",
      " [14313.83882668]\n",
      " [12190.32667131]\n",
      " [17707.79704742]\n",
      " [ 8957.46247615]\n",
      " [12574.75559599]\n",
      " [12948.20083711]\n",
      " [10418.29238993]\n",
      " [13200.82555904]\n",
      " [16435.52036813]\n",
      " [12995.79679921]\n",
      " [19399.28431601]\n",
      " [16459.31834918]\n",
      " [15496.41542355]\n",
      " [13720.71991432]\n",
      " [14083.18147188]\n",
      " [10905.23569452]\n",
      " [14928.92510617]\n",
      " [13717.05868647]\n",
      " [13801.26692711]\n",
      " [15879.01373431]\n",
      " [15705.10541124]\n",
      " [11844.3406391 ]\n",
      " [11425.13004981]\n",
      " [14204.00199106]\n",
      " [12783.44558367]\n",
      " [16574.64702658]\n",
      " [14279.05716207]\n",
      " [12296.50227908]\n",
      " [ 9479.18744536]\n",
      " [15322.50710048]\n",
      " [12915.24978642]\n",
      " [11635.65065142]\n",
      " [14244.27549745]\n",
      " [14925.26387832]\n",
      " [16261.61204506]\n",
      " [16257.9508172 ]\n",
      " [15392.07042971]\n",
      " [11566.08732219]]\n"
     ]
    }
   ],
   "source": [
    "y1_pred = model1.coef_*x1_test + model1.intercept_\n",
    "print(f\"y1_pred: {y1_pred}\")"
   ]
  },
  {
   "cell_type": "code",
   "execution_count": 385,
   "id": "2fdf8980",
   "metadata": {},
   "outputs": [],
   "source": [
    "y_test = y_test.values.reshape(-1,1)"
   ]
  },
  {
   "cell_type": "code",
   "execution_count": 386,
   "id": "98ffd83c",
   "metadata": {},
   "outputs": [],
   "source": [
    "RSS1 = np.sum((y_test - y1_pred) ** 2)"
   ]
  },
  {
   "cell_type": "code",
   "execution_count": 387,
   "id": "e04c43d2",
   "metadata": {},
   "outputs": [
    {
     "name": "stdout",
     "output_type": "stream",
     "text": [
      "RSS :37720249591.561134\n"
     ]
    }
   ],
   "source": [
    "print(f\"RSS :{RSS1}\")"
   ]
  },
  {
   "cell_type": "code",
   "execution_count": 388,
   "id": "179f6f9b",
   "metadata": {},
   "outputs": [
    {
     "data": {
      "image/png": "[encoded data removed]",
      "text/plain": [
       "<Figure size 640x480 with 1 Axes>"
      ]
     },
     "metadata": {},
     "output_type": "display_data"
    }
   ],
   "source": [
    "plt.scatter(x=data['charges'],y=data['smoker'])\n",
    "plt.xlabel(\"charges\")\n",
    "plt.ylabel(\"smoker\")\n",
    "plt.title(\"charges vs smoker\")\n",
    "plt.show()"
   ]
  },
  {
   "cell_type": "code",
   "execution_count": 389,
   "id": "6d82fb14",
   "metadata": {},
   "outputs": [],
   "source": [
    "smoke = pd.get_dummies(data['smoker'],drop_first=True)"
   ]
  },
  {
   "cell_type": "code",
   "execution_count": 390,
   "id": "16b43846",
   "metadata": {},
   "outputs": [],
   "source": [
    "data['smoke'] = smoke"
   ]
  },
  {
   "cell_type": "code",
   "execution_count": 391,
   "id": "376cb1e5",
   "metadata": {},
   "outputs": [
    {
     "data": {
      "text/html": [
       "<div>\n",
       "<style scoped>\n",
       "    .dataframe tbody tr th:only-of-type {\n",
       "        vertical-align: middle;\n",
       "    }\n",
       "\n",
       "    .dataframe tbody tr th {\n",
       "        vertical-align: top;\n",
       "    }\n",
       "\n",
       "    .dataframe thead th {\n",
       "        text-align: right;\n",
       "    }\n",
       "</style>\n",
       "<table border=\"1\" class=\"dataframe\">\n",
       "  <thead>\n",
       "    <tr style=\"text-align: right;\">\n",
       "      <th></th>\n",
       "      <th>age</th>\n",
       "      <th>sex</th>\n",
       "      <th>bmi</th>\n",
       "      <th>children</th>\n",
       "      <th>smoker</th>\n",
       "      <th>region</th>\n",
       "      <th>charges</th>\n",
       "      <th>smoke</th>\n",
       "    </tr>\n",
       "  </thead>\n",
       "  <tbody>\n",
       "    <tr>\n",
       "      <th>0</th>\n",
       "      <td>19</td>\n",
       "      <td>female</td>\n",
       "      <td>27.900</td>\n",
       "      <td>0</td>\n",
       "      <td>yes</td>\n",
       "      <td>southwest</td>\n",
       "      <td>16884.92400</td>\n",
       "      <td>1</td>\n",
       "    </tr>\n",
       "    <tr>\n",
       "      <th>1</th>\n",
       "      <td>18</td>\n",
       "      <td>male</td>\n",
       "      <td>33.770</td>\n",
       "      <td>1</td>\n",
       "      <td>no</td>\n",
       "      <td>southeast</td>\n",
       "      <td>1725.55230</td>\n",
       "      <td>0</td>\n",
       "    </tr>\n",
       "    <tr>\n",
       "      <th>2</th>\n",
       "      <td>28</td>\n",
       "      <td>male</td>\n",
       "      <td>33.000</td>\n",
       "      <td>3</td>\n",
       "      <td>no</td>\n",
       "      <td>southeast</td>\n",
       "      <td>4449.46200</td>\n",
       "      <td>0</td>\n",
       "    </tr>\n",
       "    <tr>\n",
       "      <th>3</th>\n",
       "      <td>33</td>\n",
       "      <td>male</td>\n",
       "      <td>22.705</td>\n",
       "      <td>0</td>\n",
       "      <td>no</td>\n",
       "      <td>northwest</td>\n",
       "      <td>21984.47061</td>\n",
       "      <td>0</td>\n",
       "    </tr>\n",
       "    <tr>\n",
       "      <th>4</th>\n",
       "      <td>32</td>\n",
       "      <td>male</td>\n",
       "      <td>28.880</td>\n",
       "      <td>0</td>\n",
       "      <td>no</td>\n",
       "      <td>northwest</td>\n",
       "      <td>3866.85520</td>\n",
       "      <td>0</td>\n",
       "    </tr>\n",
       "  </tbody>\n",
       "</table>\n",
       "</div>"
      ],
      "text/plain": [
       "   age     sex     bmi  children smoker     region      charges  smoke\n",
       "0   19  female  27.900         0    yes  southwest  16884.92400      1\n",
       "1   18    male  33.770         1     no  southeast   1725.55230      0\n",
       "2   28    male  33.000         3     no  southeast   4449.46200      0\n",
       "3   33    male  22.705         0     no  northwest  21984.47061      0\n",
       "4   32    male  28.880         0     no  northwest   3866.85520      0"
      ]
     },
     "execution_count": 391,
     "metadata": {},
     "output_type": "execute_result"
    }
   ],
   "source": [
    "data.head()"
   ]
  },
  {
   "cell_type": "code",
   "execution_count": 392,
   "id": "7525d528",
   "metadata": {},
   "outputs": [],
   "source": [
    "xa = data['charges']\n",
    "ya = data['smoke']"
   ]
  },
  {
   "cell_type": "code",
   "execution_count": 393,
   "id": "c2ba4f26",
   "metadata": {},
   "outputs": [],
   "source": [
    "xa_train, xa_test, ya_train, ya_test = train_test_split(xa,ya,test_size=0.2,random_state=1)"
   ]
  },
  {
   "cell_type": "code",
   "execution_count": 394,
   "id": "e049eaf3",
   "metadata": {
    "scrolled": false
   },
   "outputs": [
    {
     "name": "stdout",
     "output_type": "stream",
     "text": [
      "(1070,)\n",
      "(268,)\n",
      "(1070,)\n",
      "(268,)\n"
     ]
    }
   ],
   "source": [
    "print(xa_train.shape)\n",
    "print(xa_test.shape)\n",
    "print(ya_train.shape)\n",
    "print(ya_test.shape)"
   ]
  },
  {
   "cell_type": "code",
   "execution_count": 395,
   "id": "45cc52f8",
   "metadata": {},
   "outputs": [],
   "source": [
    "xa_train = xa_train.values.reshape(-1,1)\n",
    "xa_test = xa_test.values.reshape(-1,1)"
   ]
  },
  {
   "cell_type": "code",
   "execution_count": 396,
   "id": "cfe37e9e",
   "metadata": {},
   "outputs": [
    {
     "data": {
      "text/plain": [
       "LogisticRegression()"
      ]
     },
     "execution_count": 396,
     "metadata": {},
     "output_type": "execute_result"
    }
   ],
   "source": [
    "modela = LogisticRegression()\n",
    "modela.fit(xa_train,ya_train)"
   ]
  },
  {
   "cell_type": "code",
   "execution_count": 397,
   "id": "af9654ad",
   "metadata": {},
   "outputs": [
    {
     "data": {
      "text/plain": [
       "0.9104477611940298"
      ]
     },
     "execution_count": 397,
     "metadata": {},
     "output_type": "execute_result"
    }
   ],
   "source": [
    "modela.score(xa_test,ya_test)"
   ]
  },
  {
   "cell_type": "code",
   "execution_count": 398,
   "id": "56578579",
   "metadata": {
    "scrolled": true
   },
   "outputs": [
    {
     "name": "stdout",
     "output_type": "stream",
     "text": [
      "intercept: [-5.65519559]\n",
      "slope: [[0.00025126]]\n"
     ]
    }
   ],
   "source": [
    "print(f\"intercept: {modela.intercept_}\")\n",
    "print(f\"slope: {modela.coef_}\")"
   ]
  },
  {
   "cell_type": "code",
   "execution_count": 399,
   "id": "14528289",
   "metadata": {
    "scrolled": true
   },
   "outputs": [
    {
     "data": {
      "text/plain": [
       "array([0, 1], dtype=uint8)"
      ]
     },
     "execution_count": 399,
     "metadata": {},
     "output_type": "execute_result"
    }
   ],
   "source": [
    "modela.classes_"
   ]
  },
  {
   "cell_type": "code",
   "execution_count": 400,
   "id": "5c3fdf1b",
   "metadata": {},
   "outputs": [
    {
     "data": {
      "text/plain": [
       "array([[9.94735580e-01, 5.26442035e-03],\n",
       "       [9.42812396e-01, 5.71876039e-02],\n",
       "       [9.69064287e-01, 3.09357129e-02],\n",
       "       [9.54639685e-01, 4.53603154e-02],\n",
       "       [9.94099298e-01, 5.90070182e-03],\n",
       "       [1.66198820e-02, 9.83380118e-01],\n",
       "       [9.65015950e-01, 3.49840505e-02],\n",
       "       [9.38539065e-01, 6.14609354e-02],\n",
       "       [9.92487229e-01, 7.51277130e-03],\n",
       "       [6.78235221e-01, 3.21764779e-01],\n",
       "       [9.22852359e-01, 7.71476405e-02],\n",
       "       [9.40251179e-01, 5.97488210e-02],\n",
       "       [9.83087762e-01, 1.69122385e-02],\n",
       "       [9.79838602e-01, 2.01613981e-02],\n",
       "       [9.95364614e-01, 4.63538622e-03],\n",
       "       [9.67759830e-01, 3.22401699e-02],\n",
       "       [5.32771446e-01, 4.67228554e-01],\n",
       "       [9.82766883e-01, 1.72331167e-02],\n",
       "       [1.89608694e-01, 8.10391306e-01],\n",
       "       [9.06577086e-01, 9.34229138e-02],\n",
       "       [9.61291063e-01, 3.87089368e-02],\n",
       "       [9.66359080e-03, 9.90336409e-01],\n",
       "       [9.74378738e-01, 2.56212616e-02],\n",
       "       [9.71623231e-01, 2.83767691e-02],\n",
       "       [9.93949472e-01, 6.05052774e-03],\n",
       "       [9.81667824e-01, 1.83321761e-02],\n",
       "       [9.70480976e-01, 2.95190236e-02],\n",
       "       [9.72716193e-01, 2.72838074e-02],\n",
       "       [9.86674204e-01, 1.33257955e-02],\n",
       "       [9.91331157e-01, 8.66884343e-03],\n",
       "       [9.38306537e-01, 6.16934633e-02],\n",
       "       [9.37373213e-01, 6.26267870e-02],\n",
       "       [3.55578213e-01, 6.44421787e-01],\n",
       "       [5.59848204e-02, 9.44015180e-01],\n",
       "       [3.96368488e-01, 6.03631512e-01],\n",
       "       [9.59953871e-01, 4.00461290e-02],\n",
       "       [2.65773288e-02, 9.73422671e-01],\n",
       "       [7.58958420e-01, 2.41041580e-01],\n",
       "       [9.35601410e-01, 6.43985900e-02],\n",
       "       [1.30423530e-02, 9.86957647e-01],\n",
       "       [9.89670102e-01, 1.03298976e-02],\n",
       "       [9.37283393e-01, 6.27166071e-02],\n",
       "       [6.66605628e-01, 3.33394372e-01],\n",
       "       [9.27760525e-01, 7.22394746e-02],\n",
       "       [9.88062329e-01, 1.19376711e-02],\n",
       "       [1.24763588e-01, 8.75236412e-01],\n",
       "       [2.12329632e-01, 7.87670368e-01],\n",
       "       [4.49294648e-02, 9.55070535e-01],\n",
       "       [9.62018530e-01, 3.79814705e-02],\n",
       "       [8.84769361e-01, 1.15230639e-01],\n",
       "       [9.24135689e-01, 7.58643110e-02],\n",
       "       [9.35222711e-01, 6.47772892e-02],\n",
       "       [9.93719327e-01, 6.28067303e-03],\n",
       "       [9.66696914e-01, 3.33030857e-02],\n",
       "       [7.92292361e-01, 2.07707639e-01],\n",
       "       [9.90543952e-01, 9.45604835e-03],\n",
       "       [9.64231863e-03, 9.90357681e-01],\n",
       "       [9.22589118e-01, 7.74108819e-02],\n",
       "       [5.06983403e-01, 4.93016597e-01],\n",
       "       [9.95350767e-01, 4.64923293e-03],\n",
       "       [9.91912140e-01, 8.08786047e-03],\n",
       "       [9.13151686e-01, 8.68483138e-02],\n",
       "       [7.40766484e-01, 2.59233516e-01],\n",
       "       [9.93167882e-01, 6.83211841e-03],\n",
       "       [9.20838154e-01, 7.91618456e-02],\n",
       "       [9.69314469e-01, 3.06855310e-02],\n",
       "       [9.55896206e-01, 4.41037938e-02],\n",
       "       [5.19744562e-01, 4.80255438e-01],\n",
       "       [9.93135188e-01, 6.86481164e-03],\n",
       "       [8.80143913e-01, 1.19856087e-01],\n",
       "       [8.05893264e-05, 9.99919411e-01],\n",
       "       [1.16018092e-04, 9.99883982e-01],\n",
       "       [9.94606687e-01, 5.39331347e-03],\n",
       "       [9.25496562e-01, 7.45034376e-02],\n",
       "       [9.08900567e-01, 9.10994332e-02],\n",
       "       [9.42186116e-03, 9.90578139e-01],\n",
       "       [9.92997103e-01, 7.00289655e-03],\n",
       "       [9.92859381e-01, 7.14061872e-03],\n",
       "       [9.46523871e-01, 5.34761285e-02],\n",
       "       [9.53400149e-01, 4.65998512e-02],\n",
       "       [9.92303976e-01, 7.69602355e-03],\n",
       "       [9.29054527e-01, 7.09454727e-02],\n",
       "       [9.48133586e-01, 5.18664136e-02],\n",
       "       [9.94281083e-01, 5.71891710e-03],\n",
       "       [1.51331369e-02, 9.84866863e-01],\n",
       "       [7.20232479e-03, 9.92797675e-01],\n",
       "       [9.79864114e-01, 2.01358855e-02],\n",
       "       [2.59005828e-03, 9.97409942e-01],\n",
       "       [9.54754510e-01, 4.52454895e-02],\n",
       "       [9.76063101e-01, 2.39368994e-02],\n",
       "       [6.38968674e-01, 3.61031326e-01],\n",
       "       [4.00826923e-01, 5.99173077e-01],\n",
       "       [8.96380118e-01, 1.03619882e-01],\n",
       "       [9.68513033e-01, 3.14869666e-02],\n",
       "       [9.94759157e-01, 5.24084285e-03],\n",
       "       [9.63430487e-01, 3.65695128e-02],\n",
       "       [9.59977498e-01, 4.00225015e-02],\n",
       "       [9.29123752e-01, 7.08762482e-02],\n",
       "       [9.29613080e-01, 7.03869196e-02],\n",
       "       [9.82817393e-01, 1.71826065e-02],\n",
       "       [9.42765866e-01, 5.72341343e-02],\n",
       "       [8.42996408e-01, 1.57003592e-01],\n",
       "       [7.44082920e-01, 2.55917080e-01],\n",
       "       [4.37848844e-02, 9.56215116e-01],\n",
       "       [2.42599906e-01, 7.57400094e-01],\n",
       "       [7.54710649e-01, 2.45289351e-01],\n",
       "       [9.94614550e-01, 5.38545048e-03],\n",
       "       [9.77806700e-01, 2.21932998e-02],\n",
       "       [9.93925287e-01, 6.07471260e-03],\n",
       "       [9.43709188e-01, 5.62908122e-02],\n",
       "       [9.89499974e-01, 1.05000261e-02],\n",
       "       [9.90572624e-01, 9.42737639e-03],\n",
       "       [9.94754485e-01, 5.24551531e-03],\n",
       "       [8.51539330e-01, 1.48460670e-01],\n",
       "       [9.23209553e-01, 7.67904472e-02],\n",
       "       [9.95227617e-01, 4.77238294e-03],\n",
       "       [9.81660782e-01, 1.83392181e-02],\n",
       "       [8.88302261e-01, 1.11697739e-01],\n",
       "       [6.80562521e-01, 3.19437479e-01],\n",
       "       [9.93861047e-01, 6.13895323e-03],\n",
       "       [9.68042779e-01, 3.19572214e-02],\n",
       "       [9.50612018e-01, 4.93879824e-02],\n",
       "       [9.84532546e-01, 1.54674543e-02],\n",
       "       [9.79354177e-01, 2.06458230e-02],\n",
       "       [4.70842291e-03, 9.95291577e-01],\n",
       "       [9.62757246e-01, 3.72427543e-02],\n",
       "       [9.15045768e-01, 8.49542318e-02],\n",
       "       [6.87876118e-01, 3.12123882e-01],\n",
       "       [4.61225885e-03, 9.95387741e-01],\n",
       "       [9.76114821e-01, 2.38851794e-02],\n",
       "       [3.02461673e-02, 9.69753833e-01],\n",
       "       [9.94485558e-01, 5.51444247e-03],\n",
       "       [9.79365566e-01, 2.06344339e-02],\n",
       "       [1.86349013e-02, 9.81365099e-01],\n",
       "       [3.71291044e-01, 6.28708956e-01],\n",
       "       [9.94622214e-01, 5.37778571e-03],\n",
       "       [9.94753792e-01, 5.24620787e-03],\n",
       "       [9.94754767e-01, 5.24523336e-03],\n",
       "       [9.58703354e-01, 4.12966457e-02],\n",
       "       [9.74945716e-01, 2.50542839e-02],\n",
       "       [8.93458519e-01, 1.06541481e-01],\n",
       "       [9.84694141e-01, 1.53058591e-02],\n",
       "       [7.08493205e-01, 2.91506795e-01],\n",
       "       [8.86816849e-01, 1.13183151e-01],\n",
       "       [9.03448629e-01, 9.65513712e-02],\n",
       "       [9.52264671e-01, 4.77353290e-02],\n",
       "       [9.94638641e-01, 5.36135944e-03],\n",
       "       [9.74827446e-01, 2.51725543e-02],\n",
       "       [9.94627771e-01, 5.37222852e-03],\n",
       "       [9.81569237e-01, 1.84307632e-02],\n",
       "       [9.79325878e-01, 2.06741218e-02],\n",
       "       [9.90815089e-01, 9.18491131e-03],\n",
       "       [5.97975977e-02, 9.40202402e-01],\n",
       "       [9.35257012e-01, 6.47429882e-02],\n",
       "       [9.75738064e-01, 2.42619360e-02],\n",
       "       [9.84559720e-01, 1.54402800e-02],\n",
       "       [9.58970892e-01, 4.10291082e-02],\n",
       "       [9.59033509e-01, 4.09664913e-02],\n",
       "       [9.63785243e-01, 3.62147572e-02],\n",
       "       [9.94492788e-01, 5.50721161e-03],\n",
       "       [9.91202245e-01, 8.79775490e-03],\n",
       "       [1.11040292e-03, 9.98889597e-01],\n",
       "       [9.34222089e-01, 6.57779111e-02],\n",
       "       [9.92793224e-01, 7.20677566e-03],\n",
       "       [9.83940188e-01, 1.60598124e-02],\n",
       "       [9.94881076e-01, 5.11892367e-03],\n",
       "       [1.67732526e-02, 9.83226747e-01],\n",
       "       [9.54041702e-01, 4.59582980e-02],\n",
       "       [9.46490273e-01, 5.35097270e-02],\n",
       "       [9.86360168e-01, 1.36398320e-02],\n",
       "       [9.87390886e-01, 1.26091137e-02],\n",
       "       [9.91519478e-01, 8.48052240e-03],\n",
       "       [5.05921720e-01, 4.94078280e-01],\n",
       "       [3.10672923e-01, 6.89327077e-01],\n",
       "       [9.91938703e-01, 8.06129703e-03],\n",
       "       [9.82156962e-01, 1.78430378e-02],\n",
       "       [9.93618183e-01, 6.38181742e-03],\n",
       "       [8.79646267e-01, 1.20353733e-01],\n",
       "       [9.91140084e-01, 8.85991573e-03],\n",
       "       [9.85021853e-01, 1.49781472e-02],\n",
       "       [9.21024189e-01, 7.89758114e-02],\n",
       "       [9.03251413e-01, 9.67485870e-02],\n",
       "       [9.67604017e-01, 3.23959830e-02],\n",
       "       [9.76633912e-01, 2.33660877e-02],\n",
       "       [9.91440416e-01, 8.55958371e-03],\n",
       "       [7.44691079e-01, 2.55308921e-01],\n",
       "       [9.94021261e-01, 5.97873910e-03],\n",
       "       [9.70741548e-01, 2.92584525e-02],\n",
       "       [9.77334829e-01, 2.26651709e-02],\n",
       "       [9.65707399e-01, 3.42926007e-02],\n",
       "       [8.91623567e-01, 1.08376433e-01],\n",
       "       [1.98123732e-03, 9.98018763e-01],\n",
       "       [9.92123959e-01, 7.87604145e-03],\n",
       "       [9.93135415e-01, 6.86458544e-03],\n",
       "       [9.80413166e-01, 1.95868337e-02],\n",
       "       [9.65352879e-01, 3.46471214e-02],\n",
       "       [9.78857087e-01, 2.11429133e-02],\n",
       "       [9.94052211e-01, 5.94778897e-03],\n",
       "       [9.40509273e-01, 5.94907273e-02],\n",
       "       [9.73051483e-01, 2.69485166e-02],\n",
       "       [9.83288446e-01, 1.67115544e-02],\n",
       "       [9.78181339e-01, 2.18186614e-02],\n",
       "       [9.31902018e-01, 6.80979823e-02],\n",
       "       [4.34046852e-01, 5.65953148e-01],\n",
       "       [9.82580080e-01, 1.74199204e-02],\n",
       "       [9.94775773e-01, 5.22422740e-03],\n",
       "       [9.81957125e-01, 1.80428753e-02],\n",
       "       [9.79858050e-01, 2.01419505e-02],\n",
       "       [9.94271591e-01, 5.72840936e-03],\n",
       "       [9.41414041e-01, 5.85859585e-02],\n",
       "       [9.90200559e-01, 9.79944114e-03],\n",
       "       [4.53782347e-01, 5.46217653e-01],\n",
       "       [7.94362761e-01, 2.05637239e-01],\n",
       "       [9.90558654e-01, 9.44134604e-03],\n",
       "       [9.88811625e-01, 1.11883746e-02],\n",
       "       [1.97073195e-03, 9.98029268e-01],\n",
       "       [9.49905619e-01, 5.00943810e-02],\n",
       "       [3.59601961e-02, 9.64039804e-01],\n",
       "       [9.95365854e-01, 4.63414557e-03],\n",
       "       [1.56153438e-02, 9.84384656e-01],\n",
       "       [9.93549683e-01, 6.45031738e-03],\n",
       "       [5.81621787e-01, 4.18378213e-01],\n",
       "       [9.29072021e-01, 7.09279792e-02],\n",
       "       [9.88365911e-01, 1.16340894e-02],\n",
       "       [9.94749635e-01, 5.25036519e-03],\n",
       "       [9.94292788e-01, 5.70721190e-03],\n",
       "       [9.89650609e-01, 1.03493910e-02],\n",
       "       [9.49910556e-01, 5.00894442e-02],\n",
       "       [7.96299240e-01, 2.03700760e-01],\n",
       "       [8.97121186e-01, 1.02878814e-01],\n",
       "       [9.91470944e-01, 8.52905587e-03],\n",
       "       [8.94463418e-01, 1.05536582e-01],\n",
       "       [1.88760953e-03, 9.98112390e-01],\n",
       "       [9.81264013e-01, 1.87359866e-02],\n",
       "       [9.31867357e-01, 6.81326431e-02],\n",
       "       [9.56420801e-01, 4.35791986e-02],\n",
       "       [7.84620147e-01, 2.15379853e-01],\n",
       "       [9.94744607e-01, 5.25539299e-03],\n",
       "       [9.72318445e-01, 2.76815554e-02],\n",
       "       [9.90353140e-01, 9.64685951e-03],\n",
       "       [9.74017141e-01, 2.59828595e-02],\n",
       "       [9.94210417e-01, 5.78958342e-03],\n",
       "       [9.19716875e-02, 9.08028313e-01],\n",
       "       [9.94275698e-01, 5.72430156e-03],\n",
       "       [6.06718867e-01, 3.93281133e-01],\n",
       "       [3.55782522e-01, 6.44217478e-01],\n",
       "       [7.17049909e-01, 2.82950091e-01],\n",
       "       [9.70873390e-01, 2.91266102e-02],\n",
       "       [7.46042297e-01, 2.53957703e-01],\n",
       "       [8.89396303e-01, 1.10603697e-01],\n",
       "       [9.47916148e-01, 5.20838520e-02],\n",
       "       [9.89431738e-01, 1.05682616e-02],\n",
       "       [9.31131018e-01, 6.88689819e-02],\n",
       "       [9.52651622e-01, 4.73483780e-02],\n",
       "       [9.92805375e-01, 7.19462491e-03],\n",
       "       [9.93056324e-01, 6.94367611e-03],\n",
       "       [4.55186459e-02, 9.54481354e-01],\n",
       "       [5.11013457e-01, 4.88986543e-01],\n",
       "       [9.94763134e-01, 5.23686587e-03],\n",
       "       [1.44882026e-03, 9.98551180e-01],\n",
       "       [9.73142874e-01, 2.68571263e-02],\n",
       "       [9.80376135e-01, 1.96238648e-02],\n",
       "       [9.73002076e-01, 2.69979240e-02],\n",
       "       [1.18735591e-02, 9.88126441e-01],\n",
       "       [5.79452382e-03, 9.94205476e-01],\n",
       "       [4.27208816e-03, 9.95727912e-01],\n",
       "       [9.94049268e-01, 5.95073226e-03],\n",
       "       [9.87151374e-01, 1.28486260e-02]])"
      ]
     },
     "execution_count": 400,
     "metadata": {},
     "output_type": "execute_result"
    }
   ],
   "source": [
    "modela.predict_proba(xa_test)"
   ]
  },
  {
   "cell_type": "code",
   "execution_count": 401,
   "id": "287f0ddf",
   "metadata": {},
   "outputs": [],
   "source": [
    "ya_pred = modela.predict(x_test)"
   ]
  },
  {
   "cell_type": "code",
   "execution_count": 402,
   "id": "81c4c5ef",
   "metadata": {
    "scrolled": true
   },
   "outputs": [
    {
     "name": "stdout",
     "output_type": "stream",
     "text": [
      "ya_pred :[0 0 0 0 0 0 0 0 0 0 0 0 0 0 0 0 0 0 0 0 0 0 0 0 0 0 0 0 0 0 0 0 0 0 0 0 0\n",
      " 0 0 0 0 0 0 0 0 0 0 0 0 0 0 0 0 0 0 0 0 0 0 0 0 0 0 0 0 0 0 0 0 0 0 0 0 0\n",
      " 0 0 0 0 0 0 0 0 0 0 0 0 0 0 0 0 0 0 0 0 0 0 0 0 0 0 0 0 0 0 0 0 0 0 0 0 0\n",
      " 0 0 0 0 0 0 0 0 0 0 0 0 0 0 0 0 0 0 0 0 0 0 0 0 0 0 0 0 0 0 0 0 0 0 0 0 0\n",
      " 0 0 0 0 0 0 0 0 0 0 0 0 0 0 0 0 0 0 0 0 0 0 0 0 0 0 0 0 0 0 0 0 0 0 0 0 0\n",
      " 0 0 0 0 0 0 0 0 0 0 0 0 0 0 0 0 0 0 0 0 0 0 0 0 0 0 0 0 0 0 0 0 0 0 0 0 0\n",
      " 0 0 0 0 0 0 0 0 0 0 0 0 0 0 0 0 0 0 0 0 0 0 0 0 0 0 0 0 0 0 0 0 0 0 0 0 0\n",
      " 0 0 0 0 0 0 0 0 0]\n"
     ]
    }
   ],
   "source": [
    "print(f\"ya_pred :{ya_pred}\")"
   ]
  },
  {
   "cell_type": "code",
   "execution_count": 403,
   "id": "6a86450e",
   "metadata": {},
   "outputs": [
    {
     "data": {
      "text/html": [
       "<div>\n",
       "<style scoped>\n",
       "    .dataframe tbody tr th:only-of-type {\n",
       "        vertical-align: middle;\n",
       "    }\n",
       "\n",
       "    .dataframe tbody tr th {\n",
       "        vertical-align: top;\n",
       "    }\n",
       "\n",
       "    .dataframe thead th {\n",
       "        text-align: right;\n",
       "    }\n",
       "</style>\n",
       "<table border=\"1\" class=\"dataframe\">\n",
       "  <thead>\n",
       "    <tr style=\"text-align: right;\">\n",
       "      <th></th>\n",
       "      <th>Predicted No</th>\n",
       "      <th>Predicted Yes</th>\n",
       "    </tr>\n",
       "  </thead>\n",
       "  <tbody>\n",
       "    <tr>\n",
       "      <th>No</th>\n",
       "      <td>214</td>\n",
       "      <td>0</td>\n",
       "    </tr>\n",
       "    <tr>\n",
       "      <th>Yes</th>\n",
       "      <td>54</td>\n",
       "      <td>0</td>\n",
       "    </tr>\n",
       "  </tbody>\n",
       "</table>\n",
       "</div>"
      ],
      "text/plain": [
       "     Predicted No  Predicted Yes\n",
       "No            214              0\n",
       "Yes            54              0"
      ]
     },
     "execution_count": 403,
     "metadata": {},
     "output_type": "execute_result"
    }
   ],
   "source": [
    "pd.DataFrame(confusion_matrix(ya_test,ya_pred),columns=['Predicted No','Predicted Yes'],index=['No','Yes'])"
   ]
  },
  {
   "cell_type": "code",
   "execution_count": 404,
   "id": "876d25de",
   "metadata": {},
   "outputs": [
    {
     "name": "stdout",
     "output_type": "stream",
     "text": [
      "              precision    recall  f1-score   support\n",
      "\n",
      "           0       0.80      1.00      0.89       214\n",
      "           1       0.00      0.00      0.00        54\n",
      "\n",
      "    accuracy                           0.80       268\n",
      "   macro avg       0.40      0.50      0.44       268\n",
      "weighted avg       0.64      0.80      0.71       268\n",
      "\n"
     ]
    },
    {
     "name": "stderr",
     "output_type": "stream",
     "text": [
      "C:\\Users\\Noah\\anaconda3\\lib\\site-packages\\sklearn\\metrics\\_classification.py:1318: UndefinedMetricWarning: Precision and F-score are ill-defined and being set to 0.0 in labels with no predicted samples. Use `zero_division` parameter to control this behavior.\n",
      "  _warn_prf(average, modifier, msg_start, len(result))\n",
      "C:\\Users\\Noah\\anaconda3\\lib\\site-packages\\sklearn\\metrics\\_classification.py:1318: UndefinedMetricWarning: Precision and F-score are ill-defined and being set to 0.0 in labels with no predicted samples. Use `zero_division` parameter to control this behavior.\n",
      "  _warn_prf(average, modifier, msg_start, len(result))\n",
      "C:\\Users\\Noah\\anaconda3\\lib\\site-packages\\sklearn\\metrics\\_classification.py:1318: UndefinedMetricWarning: Precision and F-score are ill-defined and being set to 0.0 in labels with no predicted samples. Use `zero_division` parameter to control this behavior.\n",
      "  _warn_prf(average, modifier, msg_start, len(result))\n"
     ]
    }
   ],
   "source": [
    "print(classification_report(ya_test,ya_pred))"
   ]
  },
  {
   "cell_type": "code",
   "execution_count": 405,
   "id": "a87d93c7",
   "metadata": {},
   "outputs": [],
   "source": [
    "gender = pd.get_dummies(data['sex'],drop_first=True)"
   ]
  },
  {
   "cell_type": "code",
   "execution_count": 406,
   "id": "cc87743e",
   "metadata": {},
   "outputs": [],
   "source": [
    "data['gender'] = gender"
   ]
  },
  {
   "cell_type": "code",
   "execution_count": 407,
   "id": "40ef269e",
   "metadata": {},
   "outputs": [
    {
     "data": {
      "text/html": [
       "<div>\n",
       "<style scoped>\n",
       "    .dataframe tbody tr th:only-of-type {\n",
       "        vertical-align: middle;\n",
       "    }\n",
       "\n",
       "    .dataframe tbody tr th {\n",
       "        vertical-align: top;\n",
       "    }\n",
       "\n",
       "    .dataframe thead th {\n",
       "        text-align: right;\n",
       "    }\n",
       "</style>\n",
       "<table border=\"1\" class=\"dataframe\">\n",
       "  <thead>\n",
       "    <tr style=\"text-align: right;\">\n",
       "      <th></th>\n",
       "      <th>age</th>\n",
       "      <th>sex</th>\n",
       "      <th>bmi</th>\n",
       "      <th>children</th>\n",
       "      <th>smoker</th>\n",
       "      <th>region</th>\n",
       "      <th>charges</th>\n",
       "      <th>smoke</th>\n",
       "      <th>gender</th>\n",
       "    </tr>\n",
       "  </thead>\n",
       "  <tbody>\n",
       "    <tr>\n",
       "      <th>0</th>\n",
       "      <td>19</td>\n",
       "      <td>female</td>\n",
       "      <td>27.900</td>\n",
       "      <td>0</td>\n",
       "      <td>yes</td>\n",
       "      <td>southwest</td>\n",
       "      <td>16884.92400</td>\n",
       "      <td>1</td>\n",
       "      <td>0</td>\n",
       "    </tr>\n",
       "    <tr>\n",
       "      <th>1</th>\n",
       "      <td>18</td>\n",
       "      <td>male</td>\n",
       "      <td>33.770</td>\n",
       "      <td>1</td>\n",
       "      <td>no</td>\n",
       "      <td>southeast</td>\n",
       "      <td>1725.55230</td>\n",
       "      <td>0</td>\n",
       "      <td>1</td>\n",
       "    </tr>\n",
       "    <tr>\n",
       "      <th>2</th>\n",
       "      <td>28</td>\n",
       "      <td>male</td>\n",
       "      <td>33.000</td>\n",
       "      <td>3</td>\n",
       "      <td>no</td>\n",
       "      <td>southeast</td>\n",
       "      <td>4449.46200</td>\n",
       "      <td>0</td>\n",
       "      <td>1</td>\n",
       "    </tr>\n",
       "    <tr>\n",
       "      <th>3</th>\n",
       "      <td>33</td>\n",
       "      <td>male</td>\n",
       "      <td>22.705</td>\n",
       "      <td>0</td>\n",
       "      <td>no</td>\n",
       "      <td>northwest</td>\n",
       "      <td>21984.47061</td>\n",
       "      <td>0</td>\n",
       "      <td>1</td>\n",
       "    </tr>\n",
       "    <tr>\n",
       "      <th>4</th>\n",
       "      <td>32</td>\n",
       "      <td>male</td>\n",
       "      <td>28.880</td>\n",
       "      <td>0</td>\n",
       "      <td>no</td>\n",
       "      <td>northwest</td>\n",
       "      <td>3866.85520</td>\n",
       "      <td>0</td>\n",
       "      <td>1</td>\n",
       "    </tr>\n",
       "  </tbody>\n",
       "</table>\n",
       "</div>"
      ],
      "text/plain": [
       "   age     sex     bmi  children smoker     region      charges  smoke  gender\n",
       "0   19  female  27.900         0    yes  southwest  16884.92400      1       0\n",
       "1   18    male  33.770         1     no  southeast   1725.55230      0       1\n",
       "2   28    male  33.000         3     no  southeast   4449.46200      0       1\n",
       "3   33    male  22.705         0     no  northwest  21984.47061      0       1\n",
       "4   32    male  28.880         0     no  northwest   3866.85520      0       1"
      ]
     },
     "execution_count": 407,
     "metadata": {},
     "output_type": "execute_result"
    }
   ],
   "source": [
    "data.head()"
   ]
  },
  {
   "cell_type": "code",
   "execution_count": 408,
   "id": "538a9b03",
   "metadata": {},
   "outputs": [],
   "source": [
    "xb = data['charges']\n",
    "yb = data['gender']"
   ]
  },
  {
   "cell_type": "code",
   "execution_count": 409,
   "id": "5682912d",
   "metadata": {},
   "outputs": [],
   "source": [
    "xb_train, xb_test, yb_train, yb_test = train_test_split(xb, yb, test_size = 0.2, random_state=1)"
   ]
  },
  {
   "cell_type": "code",
   "execution_count": 410,
   "id": "3c2b933c",
   "metadata": {},
   "outputs": [
    {
     "name": "stdout",
     "output_type": "stream",
     "text": [
      "(1070,)\n",
      "(268,)\n",
      "(1070,)\n",
      "(268,)\n"
     ]
    }
   ],
   "source": [
    "print(xb_train.shape)\n",
    "print(xb_test.shape)\n",
    "print(yb_train.shape)\n",
    "print(yb_test.shape)"
   ]
  },
  {
   "cell_type": "code",
   "execution_count": 411,
   "id": "7aeab65a",
   "metadata": {},
   "outputs": [],
   "source": [
    "xb_train = xb_train.values.reshape(-1,1)\n",
    "xb_test = xb_test.values.reshape(-1,1)"
   ]
  },
  {
   "cell_type": "code",
   "execution_count": 412,
   "id": "8f0d1b5d",
   "metadata": {},
   "outputs": [],
   "source": [
    "modelb = LogisticRegression()"
   ]
  },
  {
   "cell_type": "code",
   "execution_count": 413,
   "id": "17f2ea13",
   "metadata": {},
   "outputs": [
    {
     "data": {
      "text/plain": [
       "LogisticRegression()"
      ]
     },
     "execution_count": 413,
     "metadata": {},
     "output_type": "execute_result"
    }
   ],
   "source": [
    "modelb.fit(xb_train,yb_train)"
   ]
  },
  {
   "cell_type": "code",
   "execution_count": 414,
   "id": "60b5caa2",
   "metadata": {},
   "outputs": [
    {
     "data": {
      "text/plain": [
       "0.48880597014925375"
      ]
     },
     "execution_count": 414,
     "metadata": {},
     "output_type": "execute_result"
    }
   ],
   "source": [
    "modelb.score(xb_test,yb_test)"
   ]
  },
  {
   "cell_type": "code",
   "execution_count": 415,
   "id": "4fe719c5",
   "metadata": {},
   "outputs": [
    {
     "data": {
      "text/plain": [
       "array([0, 1], dtype=uint8)"
      ]
     },
     "execution_count": 415,
     "metadata": {},
     "output_type": "execute_result"
    }
   ],
   "source": [
    "modelb.classes_"
   ]
  },
  {
   "cell_type": "code",
   "execution_count": 416,
   "id": "2efb9c2a",
   "metadata": {},
   "outputs": [
    {
     "name": "stdout",
     "output_type": "stream",
     "text": [
      "intercept: [-2.47525154e-10]\n",
      "slope: [[5.74297972e-06]]\n"
     ]
    }
   ],
   "source": [
    "print(f\"intercept: {modelb.intercept_}\")\n",
    "print(f\"slope: {modelb.coef_}\")"
   ]
  },
  {
   "cell_type": "code",
   "execution_count": 417,
   "id": "1e05e1d0",
   "metadata": {},
   "outputs": [
    {
     "data": {
      "text/plain": [
       "array([[0.49763616, 0.50236384],\n",
       "       [0.48370543, 0.51629457],\n",
       "       [0.48737015, 0.51262985],\n",
       "       [0.48509926, 0.51490074],\n",
       "       [0.49698055, 0.50301945],\n",
       "       [0.44459853, 0.55540147],\n",
       "       [0.486644  , 0.513356  ],\n",
       "       [0.48326817, 0.51673183],\n",
       "       [0.49559122, 0.50440878],\n",
       "       [0.47197603, 0.52802397],\n",
       "       [0.48187464, 0.51812536],\n",
       "       [0.48343983, 0.51656017],\n",
       "       [0.49090114, 0.50909886],\n",
       "       [0.48987846, 0.51012154],\n",
       "       [0.49836689, 0.50163311],\n",
       "       [0.48712661, 0.51287339],\n",
       "       [0.46847777, 0.53152223],\n",
       "       [0.49079192, 0.50920808],\n",
       "       [0.45947488, 0.54052512],\n",
       "       [0.48068088, 0.51931912],\n",
       "       [0.48604421, 0.51395579],\n",
       "       [0.44150061, 0.55849939],\n",
       "       [0.48847779, 0.51152221],\n",
       "       [0.48787826, 0.51212174],\n",
       "       [0.49683642, 0.50316358],\n",
       "       [0.49043238, 0.50956762],\n",
       "       [0.48764618, 0.51235382],\n",
       "       [0.48810899, 0.51189101],\n",
       "       [0.49228343, 0.50771657],\n",
       "       [0.49476677, 0.50523323],\n",
       "       [0.4832452 , 0.5167548 ],\n",
       "       [0.48315382, 0.51684618],\n",
       "       [0.46434877, 0.53565123],\n",
       "       [0.45169433, 0.54830567],\n",
       "       [0.46533803, 0.53466197],\n",
       "       [0.48584236, 0.51415764],\n",
       "       [0.44730718, 0.55269282],\n",
       "       [0.47426248, 0.52573752],\n",
       "       [0.48298379, 0.51701621],\n",
       "       [0.4432104 , 0.5567896 ],\n",
       "       [0.49375561, 0.50624439],\n",
       "       [0.48314509, 0.51685491],\n",
       "       [0.47167528, 0.52832472],\n",
       "       [0.48228003, 0.51771997],\n",
       "       [0.49291989, 0.50708011],\n",
       "       [0.45666338, 0.54333662],\n",
       "       [0.46027887, 0.53972113],\n",
       "       [0.45038347, 0.54961653],\n",
       "       [0.48615685, 0.51384315],\n",
       "       [0.47934508, 0.52065492],\n",
       "       [0.48197829, 0.51802171],\n",
       "       [0.48294802, 0.51705198],\n",
       "       [0.49662179, 0.50337821],\n",
       "       [0.48693511, 0.51306489],\n",
       "       [0.47535578, 0.52464422],\n",
       "       [0.49426563, 0.50573437],\n",
       "       [0.44148807, 0.55851193],\n",
       "       [0.48185357, 0.51814643],\n",
       "       [0.46788968, 0.53211032],\n",
       "       [0.49834977, 0.50165023],\n",
       "       [0.49516647, 0.50483353],\n",
       "       [0.48113848, 0.51886152],\n",
       "       [0.47370959, 0.52629041],\n",
       "       [0.49613776, 0.50386224],\n",
       "       [0.48171509, 0.51828491],\n",
       "       [0.487418  , 0.512582  ],\n",
       "       [0.48526715, 0.51473285],\n",
       "       [0.46818038, 0.53181962],\n",
       "       [0.4961103 , 0.5038897 ],\n",
       "       [0.47909068, 0.52090932],\n",
       "       [0.41466784, 0.58533216],\n",
       "       [0.41669091, 0.58330909],\n",
       "       [0.49749721, 0.50250279],\n",
       "       [0.48208999, 0.51791001],\n",
       "       [0.48083918, 0.51916082],\n",
       "       [0.44135647, 0.55864353],\n",
       "       [0.49599571, 0.50400429],\n",
       "       [0.49588364, 0.50411636],\n",
       "       [0.48411089, 0.51588911],\n",
       "       [0.48493793, 0.51506207],\n",
       "       [0.49545247, 0.50454753],\n",
       "       [0.48239114, 0.51760886],\n",
       "       [0.48429506, 0.51570494],\n",
       "       [0.49716039, 0.50283961],\n",
       "       [0.44406116, 0.55593884],\n",
       "       [0.43983057, 0.56016943],\n",
       "       [0.48988584, 0.51011416],\n",
       "       [0.43405361, 0.56594639],\n",
       "       [0.48511442, 0.51488558],\n",
       "       [0.48887602, 0.51112398],\n",
       "       [0.47098056, 0.52901944],\n",
       "       [0.4654438 , 0.5345562 ],\n",
       "       [0.48002532, 0.51997468],\n",
       "       [0.48726604, 0.51273396],\n",
       "       [0.49766195, 0.50233805],\n",
       "       [0.48638153, 0.51361847],\n",
       "       [0.48584587, 0.51415413],\n",
       "       [0.48239714, 0.51760286],\n",
       "       [0.48243968, 0.51756032],\n",
       "       [0.49080898, 0.50919102],\n",
       "       [0.48370051, 0.51629949],\n",
       "       [0.47730501, 0.52269499],\n",
       "       [0.47380842, 0.52619158],\n",
       "       [0.4502307 , 0.5497693 ],\n",
       "       [0.46125826, 0.53874174],\n",
       "       [0.47413094, 0.52586906],\n",
       "       [0.49750559, 0.50249441],\n",
       "       [0.48931817, 0.51068183],\n",
       "       [0.49681349, 0.50318651],\n",
       "       [0.48380108, 0.51619892],\n",
       "       [0.4936613 , 0.5063387 ],\n",
       "       [0.49428315, 0.50571685],\n",
       "       [0.49765683, 0.50234317],\n",
       "       [0.47768156, 0.52231844],\n",
       "       [0.48190333, 0.51809667],\n",
       "       [0.49819968, 0.50180032],\n",
       "       [0.49043014, 0.50956986],\n",
       "       [0.47954544, 0.52045456],\n",
       "       [0.47203689, 0.52796311],\n",
       "       [0.49675301, 0.50324699],\n",
       "       [0.48717862, 0.51282138],\n",
       "       [0.48458947, 0.51541053],\n",
       "       [0.49141964, 0.50858036],\n",
       "       [0.48974002, 0.51025998],\n",
       "       [0.43742427, 0.56257573],\n",
       "       [0.48627338, 0.51372662],\n",
       "       [0.48127612, 0.51872388],\n",
       "       [0.47222972, 0.52777028],\n",
       "       [0.43730767, 0.56269233],\n",
       "       [0.48888868, 0.51111132],\n",
       "       [0.44805932, 0.55194068],\n",
       "       [0.4973696 , 0.5026304 ],\n",
       "       [0.48974324, 0.51025676],\n",
       "       [0.44525607, 0.55474393],\n",
       "       [0.46473495, 0.53526505],\n",
       "       [0.49751377, 0.50248623],\n",
       "       [0.49765607, 0.50234393],\n",
       "       [0.49765714, 0.50234286],\n",
       "       [0.48565935, 0.51434065],\n",
       "       [0.48860892, 0.51139108],\n",
       "       [0.47984807, 0.52015193],\n",
       "       [0.49148057, 0.50851943],\n",
       "       [0.47278725, 0.52721275],\n",
       "       [0.47946053, 0.52053947],\n",
       "       [0.48047323, 0.51952677],\n",
       "       [0.48479369, 0.51520631],\n",
       "       [0.49753135, 0.50246865],\n",
       "       [0.48858133, 0.51141867],\n",
       "       [0.49751971, 0.50248029],\n",
       "       [0.49040117, 0.50959883],\n",
       "       [0.48973203, 0.51026797],\n",
       "       [0.49443341, 0.50556659],\n",
       "       [0.45209023, 0.54790977],\n",
       "       [0.48295125, 0.51704875],\n",
       "       [0.48879709, 0.51120291],\n",
       "       [0.49142984, 0.50857016],\n",
       "       [0.48569805, 0.51430195],\n",
       "       [0.48570715, 0.51429285],\n",
       "       [0.4864393 , 0.5135607 ],\n",
       "       [0.49737714, 0.50262286],\n",
       "       [0.49468169, 0.50531831],\n",
       "       [0.42929613, 0.57070387],\n",
       "       [0.48285442, 0.51714558],\n",
       "       [0.49583057, 0.50416943],\n",
       "       [0.49120152, 0.50879848],\n",
       "       [0.49779714, 0.50220286],\n",
       "       [0.44465125, 0.55534875],\n",
       "       [0.48502091, 0.51497909],\n",
       "       [0.4841071 , 0.5158929 ],\n",
       "       [0.49214855, 0.50785145],\n",
       "       [0.49260339, 0.50739661],\n",
       "       [0.49489334, 0.50510666],\n",
       "       [0.46786551, 0.53213449],\n",
       "       [0.4631985 , 0.5368015 ],\n",
       "       [0.49518542, 0.50481458],\n",
       "       [0.4905897 , 0.5094103 ],\n",
       "       [0.49652992, 0.50347008],\n",
       "       [0.47906382, 0.52093618],\n",
       "       [0.49464111, 0.50535889],\n",
       "       [0.49160611, 0.50839389],\n",
       "       [0.48172967, 0.51827033],\n",
       "       [0.48046034, 0.51953966],\n",
       "       [0.48709816, 0.51290184],\n",
       "       [0.48901721, 0.51098279],\n",
       "       [0.49483987, 0.50516013],\n",
       "       [0.47382663, 0.52617337],\n",
       "       [0.49690503, 0.50309497],\n",
       "       [0.48769835, 0.51230165],\n",
       "       [0.48919525, 0.51080475],\n",
       "       [0.48676208, 0.51323792],\n",
       "       [0.47973893, 0.52026107],\n",
       "       [0.43254629, 0.56745371],\n",
       "       [0.49531932, 0.50468068],\n",
       "       [0.49611048, 0.50388952],\n",
       "       [0.49004695, 0.50995305],\n",
       "       [0.48670125, 0.51329875],\n",
       "       [0.48960123, 0.51039877],\n",
       "       [0.49693486, 0.50306514],\n",
       "       [0.48346611, 0.51653389],\n",
       "       [0.48818157, 0.51181843],\n",
       "       [0.4909705 , 0.5090295 ],\n",
       "       [0.4894176 , 0.5105824 ],\n",
       "       [0.48264239, 0.51735761],\n",
       "       [0.46622105, 0.53377895],\n",
       "       [0.49072925, 0.50927075],\n",
       "       [0.49768019, 0.50231981],\n",
       "       [0.49052492, 0.50947508],\n",
       "       [0.48988408, 0.51011592],\n",
       "       [0.49715086, 0.50284914],\n",
       "       [0.48355907, 0.51644093],\n",
       "       [0.49405985, 0.50594015],\n",
       "       [0.46667588, 0.53332412],\n",
       "       [0.47542776, 0.52457224],\n",
       "       [0.49427461, 0.50572539],\n",
       "       [0.49329455, 0.50670545],\n",
       "       [0.43251641, 0.56748359],\n",
       "       [0.48450416, 0.51549584],\n",
       "       [0.44907105, 0.55092895],\n",
       "       [0.49836843, 0.50163157],\n",
       "       [0.44424092, 0.55575908],\n",
       "       [0.49646853, 0.50353147],\n",
       "       [0.46960573, 0.53039427],\n",
       "       [0.48239266, 0.51760734],\n",
       "       [0.4930688 , 0.5069312 ],\n",
       "       [0.49765152, 0.50234848],\n",
       "       [0.49717217, 0.50282783],\n",
       "       [0.49374472, 0.50625528],\n",
       "       [0.48450475, 0.51549525],\n",
       "       [0.47549557, 0.52450443],\n",
       "       [0.48007098, 0.51992902],\n",
       "       [0.49486046, 0.50513954],\n",
       "       [0.47990855, 0.52009145],\n",
       "       [0.4322742 , 0.5677258 ],\n",
       "       [0.49030558, 0.50969442],\n",
       "       [0.48263928, 0.51736072],\n",
       "       [0.48533859, 0.51466141],\n",
       "       [0.47509356, 0.52490644],\n",
       "       [0.49764602, 0.50235398],\n",
       "       [0.488024  , 0.511976  ],\n",
       "       [0.49415039, 0.50584961],\n",
       "       [0.48839564, 0.51160436],\n",
       "       [0.49708982, 0.50291018],\n",
       "       [0.45472609, 0.54527391],\n",
       "       [0.49715498, 0.50284502],\n",
       "       [0.47019845, 0.52980155],\n",
       "       [0.46435383, 0.53564617],\n",
       "       [0.47302539, 0.52697461],\n",
       "       [0.48772491, 0.51227509],\n",
       "       [0.4738672 , 0.5261328 ],\n",
       "       [0.47960861, 0.52039139],\n",
       "       [0.48426987, 0.51573013],\n",
       "       [0.4936239 , 0.5063761 ],\n",
       "       [0.48257342, 0.51742658],\n",
       "       [0.48484247, 0.51515753],\n",
       "       [0.49584028, 0.50415972],\n",
       "       [0.49604458, 0.50395542],\n",
       "       [0.45046067, 0.54953933],\n",
       "       [0.46798144, 0.53201856],\n",
       "       [0.49766631, 0.50233369],\n",
       "       [0.43078836, 0.56921164],\n",
       "       [0.48820151, 0.51179849],\n",
       "       [0.49003594, 0.50996406],\n",
       "       [0.48817082, 0.51182918],\n",
       "       [0.44267423, 0.55732577],\n",
       "       [0.4385982 , 0.5614018 ],\n",
       "       [0.43687489, 0.56312511],\n",
       "       [0.49693202, 0.50306798],\n",
       "       [0.49249451, 0.50750549]])"
      ]
     },
     "execution_count": 417,
     "metadata": {},
     "output_type": "execute_result"
    }
   ],
   "source": [
    "modelb.predict_proba(xb_test)"
   ]
  },
  {
   "cell_type": "code",
   "execution_count": 418,
   "id": "0f17a58e",
   "metadata": {},
   "outputs": [],
   "source": [
    "yb_pred = modelb.predict(xb_test)"
   ]
  },
  {
   "cell_type": "code",
   "execution_count": 419,
   "id": "4abff75f",
   "metadata": {
    "scrolled": true
   },
   "outputs": [
    {
     "name": "stdout",
     "output_type": "stream",
     "text": [
      "yb_pred:[1 1 1 1 1 1 1 1 1 1 1 1 1 1 1 1 1 1 1 1 1 1 1 1 1 1 1 1 1 1 1 1 1 1 1 1 1\n",
      " 1 1 1 1 1 1 1 1 1 1 1 1 1 1 1 1 1 1 1 1 1 1 1 1 1 1 1 1 1 1 1 1 1 1 1 1 1\n",
      " 1 1 1 1 1 1 1 1 1 1 1 1 1 1 1 1 1 1 1 1 1 1 1 1 1 1 1 1 1 1 1 1 1 1 1 1 1\n",
      " 1 1 1 1 1 1 1 1 1 1 1 1 1 1 1 1 1 1 1 1 1 1 1 1 1 1 1 1 1 1 1 1 1 1 1 1 1\n",
      " 1 1 1 1 1 1 1 1 1 1 1 1 1 1 1 1 1 1 1 1 1 1 1 1 1 1 1 1 1 1 1 1 1 1 1 1 1\n",
      " 1 1 1 1 1 1 1 1 1 1 1 1 1 1 1 1 1 1 1 1 1 1 1 1 1 1 1 1 1 1 1 1 1 1 1 1 1\n",
      " 1 1 1 1 1 1 1 1 1 1 1 1 1 1 1 1 1 1 1 1 1 1 1 1 1 1 1 1 1 1 1 1 1 1 1 1 1\n",
      " 1 1 1 1 1 1 1 1 1]\n"
     ]
    }
   ],
   "source": [
    "print(f\"yb_pred:{yb_pred}\")"
   ]
  },
  {
   "cell_type": "code",
   "execution_count": 420,
   "id": "bdd5233b",
   "metadata": {},
   "outputs": [
    {
     "data": {
      "text/html": [
       "<div>\n",
       "<style scoped>\n",
       "    .dataframe tbody tr th:only-of-type {\n",
       "        vertical-align: middle;\n",
       "    }\n",
       "\n",
       "    .dataframe tbody tr th {\n",
       "        vertical-align: top;\n",
       "    }\n",
       "\n",
       "    .dataframe thead th {\n",
       "        text-align: right;\n",
       "    }\n",
       "</style>\n",
       "<table border=\"1\" class=\"dataframe\">\n",
       "  <thead>\n",
       "    <tr style=\"text-align: right;\">\n",
       "      <th></th>\n",
       "      <th>Predicted No</th>\n",
       "      <th>Predicted Yes</th>\n",
       "    </tr>\n",
       "  </thead>\n",
       "  <tbody>\n",
       "    <tr>\n",
       "      <th>No</th>\n",
       "      <td>0</td>\n",
       "      <td>137</td>\n",
       "    </tr>\n",
       "    <tr>\n",
       "      <th>Yes</th>\n",
       "      <td>0</td>\n",
       "      <td>131</td>\n",
       "    </tr>\n",
       "  </tbody>\n",
       "</table>\n",
       "</div>"
      ],
      "text/plain": [
       "     Predicted No  Predicted Yes\n",
       "No              0            137\n",
       "Yes             0            131"
      ]
     },
     "execution_count": 420,
     "metadata": {},
     "output_type": "execute_result"
    }
   ],
   "source": [
    "pd.DataFrame(confusion_matrix(yb_test,yb_pred),columns=['Predicted No','Predicted Yes'],index=['No','Yes'])"
   ]
  },
  {
   "cell_type": "code",
   "execution_count": 421,
   "id": "4f16434d",
   "metadata": {},
   "outputs": [
    {
     "name": "stdout",
     "output_type": "stream",
     "text": [
      "              precision    recall  f1-score   support\n",
      "\n",
      "           0       0.00      0.00      0.00       137\n",
      "           1       0.49      1.00      0.66       131\n",
      "\n",
      "    accuracy                           0.49       268\n",
      "   macro avg       0.24      0.50      0.33       268\n",
      "weighted avg       0.24      0.49      0.32       268\n",
      "\n"
     ]
    },
    {
     "name": "stderr",
     "output_type": "stream",
     "text": [
      "C:\\Users\\Noah\\anaconda3\\lib\\site-packages\\sklearn\\metrics\\_classification.py:1318: UndefinedMetricWarning: Precision and F-score are ill-defined and being set to 0.0 in labels with no predicted samples. Use `zero_division` parameter to control this behavior.\n",
      "  _warn_prf(average, modifier, msg_start, len(result))\n",
      "C:\\Users\\Noah\\anaconda3\\lib\\site-packages\\sklearn\\metrics\\_classification.py:1318: UndefinedMetricWarning: Precision and F-score are ill-defined and being set to 0.0 in labels with no predicted samples. Use `zero_division` parameter to control this behavior.\n",
      "  _warn_prf(average, modifier, msg_start, len(result))\n",
      "C:\\Users\\Noah\\anaconda3\\lib\\site-packages\\sklearn\\metrics\\_classification.py:1318: UndefinedMetricWarning: Precision and F-score are ill-defined and being set to 0.0 in labels with no predicted samples. Use `zero_division` parameter to control this behavior.\n",
      "  _warn_prf(average, modifier, msg_start, len(result))\n"
     ]
    }
   ],
   "source": [
    "print(classification_report(yb_test,yb_pred))"
   ]
  },
  {
   "cell_type": "code",
   "execution_count": 422,
   "id": "531d89ec",
   "metadata": {},
   "outputs": [],
   "source": [
    "xc = data['bmi']\n",
    "yc = data['gender']"
   ]
  },
  {
   "cell_type": "code",
   "execution_count": 423,
   "id": "7b485d2e",
   "metadata": {},
   "outputs": [],
   "source": [
    "xc_train, xc_test, yc_train, yc_test = train_test_split(xc, yc, test_size=0.2, random_state=1)"
   ]
  },
  {
   "cell_type": "code",
   "execution_count": 424,
   "id": "95809b4f",
   "metadata": {},
   "outputs": [
    {
     "name": "stdout",
     "output_type": "stream",
     "text": [
      "(1070,)\n",
      "(268,)\n",
      "(1070,)\n",
      "(268,)\n"
     ]
    }
   ],
   "source": [
    "print(xc_train.shape)\n",
    "print(xc_test.shape)\n",
    "print(yc_train.shape)\n",
    "print(yc_test.shape)"
   ]
  },
  {
   "cell_type": "code",
   "execution_count": 425,
   "id": "42e9745b",
   "metadata": {},
   "outputs": [],
   "source": [
    "xc_train = xc_train.values.reshape(-1,1)\n",
    "xc_test = xc_test.values.reshape(-1,1)"
   ]
  },
  {
   "cell_type": "code",
   "execution_count": 426,
   "id": "a0dd5166",
   "metadata": {},
   "outputs": [],
   "source": [
    "modelc = LogisticRegression()"
   ]
  },
  {
   "cell_type": "code",
   "execution_count": 427,
   "id": "af62d35b",
   "metadata": {},
   "outputs": [
    {
     "data": {
      "text/plain": [
       "LogisticRegression()"
      ]
     },
     "execution_count": 427,
     "metadata": {},
     "output_type": "execute_result"
    }
   ],
   "source": [
    "modelc.fit(xc_train,yc_train)"
   ]
  },
  {
   "cell_type": "code",
   "execution_count": 428,
   "id": "372d03a6",
   "metadata": {},
   "outputs": [
    {
     "data": {
      "text/plain": [
       "0.5223880597014925"
      ]
     },
     "execution_count": 428,
     "metadata": {},
     "output_type": "execute_result"
    }
   ],
   "source": [
    "modelc.score(xc_test,yc_test)"
   ]
  },
  {
   "cell_type": "code",
   "execution_count": 429,
   "id": "d898c378",
   "metadata": {},
   "outputs": [
    {
     "data": {
      "text/plain": [
       "array([0, 1], dtype=uint8)"
      ]
     },
     "execution_count": 429,
     "metadata": {},
     "output_type": "execute_result"
    }
   ],
   "source": [
    "modelc.classes_"
   ]
  },
  {
   "cell_type": "code",
   "execution_count": 430,
   "id": "78f58839",
   "metadata": {},
   "outputs": [
    {
     "name": "stdout",
     "output_type": "stream",
     "text": [
      "modelc intercept: [-0.33149167]\n"
     ]
    }
   ],
   "source": [
    "print(f\"modelc intercept: {modelc.intercept_}\")"
   ]
  },
  {
   "cell_type": "code",
   "execution_count": 431,
   "id": "356f26c8",
   "metadata": {},
   "outputs": [
    {
     "name": "stdout",
     "output_type": "stream",
     "text": [
      "modelc slope: [[0.01202926]]\n"
     ]
    }
   ],
   "source": [
    "print(f\"modelc slope: {modelc.coef_}\")"
   ]
  },
  {
   "cell_type": "code",
   "execution_count": 432,
   "id": "b4066550",
   "metadata": {},
   "outputs": [
    {
     "data": {
      "text/plain": [
       "array([[0.47604136, 0.52395864],\n",
       "       [0.48802447, 0.51197553],\n",
       "       [0.47163274, 0.52836726],\n",
       "       [0.472742  , 0.527258  ],\n",
       "       [0.51580451, 0.48419549],\n",
       "       [0.4794629 , 0.5205371 ],\n",
       "       [0.47010421, 0.52989579],\n",
       "       [0.49687877, 0.50312123],\n",
       "       [0.50459236, 0.49540764],\n",
       "       [0.50347973, 0.49652027],\n",
       "       [0.50910246, 0.49089754],\n",
       "       [0.44268433, 0.55731567],\n",
       "       [0.4856203 , 0.5143797 ],\n",
       "       [0.49566087, 0.50433913],\n",
       "       [0.47934281, 0.52065719],\n",
       "       [0.49205266, 0.50794734],\n",
       "       [0.51458768, 0.48541232],\n",
       "       [0.49957028, 0.50042972],\n",
       "       [0.47307183, 0.52692817],\n",
       "       [0.48303655, 0.51696345],\n",
       "       [0.48288636, 0.51711364],\n",
       "       [0.46549219, 0.53450781],\n",
       "       [0.49944998, 0.50055002],\n",
       "       [0.50287829, 0.49712171],\n",
       "       [0.49230822, 0.50769178],\n",
       "       [0.49745014, 0.50254986],\n",
       "       [0.50059276, 0.49940724],\n",
       "       [0.48264606, 0.51735394],\n",
       "       [0.48393776, 0.51606224],\n",
       "       [0.50630633, 0.49369367],\n",
       "       [0.47523131, 0.52476869],\n",
       "       [0.50167539, 0.49832461],\n",
       "       [0.51487312, 0.48512688],\n",
       "       [0.48688241, 0.51311759],\n",
       "       [0.50513363, 0.49486637],\n",
       "       [0.50973377, 0.49026623],\n",
       "       [0.4767315 , 0.5232685 ],\n",
       "       [0.50558467, 0.49441533],\n",
       "       [0.46549219, 0.53450781],\n",
       "       [0.49116575, 0.50883425],\n",
       "       [0.48363735, 0.51636265],\n",
       "       [0.4794629 , 0.5205371 ],\n",
       "       [0.49917933, 0.50082067],\n",
       "       [0.47133298, 0.52866702],\n",
       "       [0.51189802, 0.48810198],\n",
       "       [0.49687877, 0.50312123],\n",
       "       [0.47670149, 0.52329851],\n",
       "       [0.4876037 , 0.5123963 ],\n",
       "       [0.52855975, 0.47144025],\n",
       "       [0.49630741, 0.50369259],\n",
       "       [0.48793431, 0.51206569],\n",
       "       [0.493556  , 0.506444  ],\n",
       "       [0.51173271, 0.48826729],\n",
       "       [0.50558467, 0.49441533],\n",
       "       [0.50059276, 0.49940724],\n",
       "       [0.45005653, 0.54994347],\n",
       "       [0.48495926, 0.51504074],\n",
       "       [0.47733169, 0.52266831],\n",
       "       [0.51001936, 0.48998064],\n",
       "       [0.45366163, 0.54633837],\n",
       "       [0.47604136, 0.52395864],\n",
       "       [0.48203033, 0.51796967],\n",
       "       [0.49719453, 0.50280547],\n",
       "       [0.49830721, 0.50169279],\n",
       "       [0.47176763, 0.52823237],\n",
       "       [0.48574049, 0.51425951],\n",
       "       [0.49659309, 0.50340691],\n",
       "       [0.51075583, 0.48924417],\n",
       "       [0.50887698, 0.49112302],\n",
       "       [0.52115017, 0.47884983],\n",
       "       [0.47917769, 0.52082231],\n",
       "       [0.4683516 , 0.5316484 ],\n",
       "       [0.49596158, 0.50403842],\n",
       "       [0.50887698, 0.49112302],\n",
       "       [0.49259385, 0.50740615],\n",
       "       [0.47775187, 0.52224813],\n",
       "       [0.50059276, 0.49940724],\n",
       "       [0.49884852, 0.50115148],\n",
       "       [0.50678742, 0.49321258],\n",
       "       [0.50402102, 0.49597898],\n",
       "       [0.53226003, 0.46773997],\n",
       "       [0.48203033, 0.51796967],\n",
       "       [0.50830576, 0.49169424],\n",
       "       [0.49475876, 0.50524124],\n",
       "       [0.4843133 , 0.5156867 ],\n",
       "       [0.44612967, 0.55387033],\n",
       "       [0.50678742, 0.49321258],\n",
       "       [0.45103923, 0.54896077],\n",
       "       [0.48260101, 0.51739899],\n",
       "       [0.4834571 , 0.5165429 ],\n",
       "       [0.4985929 , 0.5014071 ],\n",
       "       [0.51116162, 0.48883838],\n",
       "       [0.4833069 , 0.5166931 ],\n",
       "       [0.48595084, 0.51404916],\n",
       "       [0.51487312, 0.48512688],\n",
       "       [0.49421751, 0.50578249],\n",
       "       [0.50528398, 0.49471602],\n",
       "       [0.47010421, 0.52989579],\n",
       "       [0.47319178, 0.52680822],\n",
       "       [0.51230377, 0.48769623],\n",
       "       [0.48060385, 0.51939615],\n",
       "       [0.51030493, 0.48969507],\n",
       "       [0.50949328, 0.49050672],\n",
       "       [0.4782321 , 0.5217679 ],\n",
       "       [0.51373128, 0.48626872],\n",
       "       [0.49773583, 0.50226417],\n",
       "       [0.50859138, 0.49140862],\n",
       "       [0.49205266, 0.50794734],\n",
       "       [0.47076351, 0.52923649],\n",
       "       [0.49316512, 0.50683488],\n",
       "       [0.49951013, 0.50048987],\n",
       "       [0.49289451, 0.50710549],\n",
       "       [0.50716326, 0.49283674],\n",
       "       [0.45868998, 0.54131002],\n",
       "       [0.50230692, 0.49769308],\n",
       "       [0.49656301, 0.50343699],\n",
       "       [0.45548094, 0.54451906],\n",
       "       [0.50744889, 0.49255111],\n",
       "       [0.46351737, 0.53648263],\n",
       "       [0.48688241, 0.51311759],\n",
       "       [0.50588537, 0.49411463],\n",
       "       [0.47575633, 0.52424367],\n",
       "       [0.49057952, 0.50942048],\n",
       "       [0.51580451, 0.48419549],\n",
       "       [0.4872731 , 0.5127269 ],\n",
       "       [0.4797331 , 0.5202669 ],\n",
       "       [0.50659198, 0.49340802],\n",
       "       [0.50943315, 0.49056685],\n",
       "       [0.46154369, 0.53845631],\n",
       "       [0.47133298, 0.52866702],\n",
       "       [0.46812696, 0.53187304],\n",
       "       [0.52000933, 0.47999067],\n",
       "       [0.49916429, 0.50083571],\n",
       "       [0.47538131, 0.52461869],\n",
       "       [0.49987101, 0.50012899],\n",
       "       [0.52091001, 0.47908999],\n",
       "       [0.50602068, 0.49397932],\n",
       "       [0.46779751, 0.53220249],\n",
       "       [0.52770538, 0.47229462],\n",
       "       [0.46778254, 0.53221746],\n",
       "       [0.48745343, 0.51254657],\n",
       "       [0.47967306, 0.52032694],\n",
       "       [0.50678742, 0.49321258],\n",
       "       [0.47472135, 0.52527865],\n",
       "       [0.48716792, 0.51283208],\n",
       "       [0.49973568, 0.50026432],\n",
       "       [0.49454827, 0.50545173],\n",
       "       [0.48483908, 0.51516092],\n",
       "       [0.47703159, 0.52296841],\n",
       "       [0.51258929, 0.48741071],\n",
       "       [0.46845643, 0.53154357],\n",
       "       [0.49002337, 0.50997663],\n",
       "       [0.47005926, 0.52994074],\n",
       "       [0.48545503, 0.51454497],\n",
       "       [0.46220145, 0.53779855],\n",
       "       [0.50197612, 0.49802388],\n",
       "       [0.48574049, 0.51425951],\n",
       "       [0.49944998, 0.50055002],\n",
       "       [0.50059276, 0.49940724],\n",
       "       [0.47943287, 0.52056713],\n",
       "       [0.49190233, 0.50809767],\n",
       "       [0.47175264, 0.52824736],\n",
       "       [0.48661195, 0.51338805],\n",
       "       [0.49265398, 0.50734602],\n",
       "       [0.48317173, 0.51682827],\n",
       "       [0.4720824 , 0.5279176 ],\n",
       "       [0.47703159, 0.52296841],\n",
       "       [0.49505946, 0.50494054],\n",
       "       [0.50107393, 0.49892607],\n",
       "       [0.49944998, 0.50055002],\n",
       "       [0.49325532, 0.50674468],\n",
       "       [0.47832215, 0.52167785],\n",
       "       [0.52286102, 0.47713898],\n",
       "       [0.51173271, 0.48826729],\n",
       "       [0.51829768, 0.48170232],\n",
       "       [0.50087846, 0.49912154],\n",
       "       [0.47703159, 0.52296841],\n",
       "       [0.48545503, 0.51454497],\n",
       "       [0.53083724, 0.46916276],\n",
       "       [0.45267792, 0.54732208],\n",
       "       [0.49373641, 0.50626359],\n",
       "       [0.5165856 , 0.4834144 ],\n",
       "       [0.49287948, 0.50712052],\n",
       "       [0.45868998, 0.54131002],\n",
       "       [0.51515856, 0.48484144],\n",
       "       [0.49520981, 0.50479019],\n",
       "       [0.49851772, 0.50148228],\n",
       "       [0.44678369, 0.55321631],\n",
       "       [0.52314611, 0.47685389],\n",
       "       [0.49373641, 0.50626359],\n",
       "       [0.48574049, 0.51425951],\n",
       "       [0.4572716 , 0.5427284 ],\n",
       "       [0.52151039, 0.47848961],\n",
       "       [0.50916259, 0.49083741],\n",
       "       [0.52428632, 0.47571368],\n",
       "       [0.52091001, 0.47908999],\n",
       "       [0.49554059, 0.50445941],\n",
       "       [0.47718164, 0.52281836],\n",
       "       [0.50944818, 0.49055182],\n",
       "       [0.49851772, 0.50148228],\n",
       "       [0.48000332, 0.51999668],\n",
       "       [0.47133298, 0.52866702],\n",
       "       [0.51370123, 0.48629877],\n",
       "       [0.48033361, 0.51966639],\n",
       "       [0.49487904, 0.50512096],\n",
       "       [0.50248735, 0.49751265],\n",
       "       [0.48031859, 0.51968141],\n",
       "       [0.5041413 , 0.4958587 ],\n",
       "       [0.46124475, 0.53875525],\n",
       "       [0.49656301, 0.50343699],\n",
       "       [0.4988786 , 0.5011214 ],\n",
       "       [0.51406183, 0.48593817],\n",
       "       [0.48174501, 0.51825499],\n",
       "       [0.48003335, 0.51996665],\n",
       "       [0.47703159, 0.52296841],\n",
       "       [0.48874584, 0.51125416],\n",
       "       [0.49573605, 0.50426395],\n",
       "       [0.48958749, 0.51041251],\n",
       "       [0.48165491, 0.51834509],\n",
       "       [0.49205266, 0.50794734],\n",
       "       [0.49088015, 0.50911985],\n",
       "       [0.52000933, 0.47999067],\n",
       "       [0.4843133 , 0.5156867 ],\n",
       "       [0.52599615, 0.47400385],\n",
       "       [0.49916429, 0.50083571],\n",
       "       [0.51249913, 0.48750087],\n",
       "       [0.49345076, 0.50654924],\n",
       "       [0.48243581, 0.51756419],\n",
       "       [0.4977659 , 0.5022341 ],\n",
       "       [0.4720824 , 0.5279176 ],\n",
       "       [0.48174501, 0.51825499],\n",
       "       [0.49917933, 0.50082067],\n",
       "       [0.45398961, 0.54601039],\n",
       "       [0.52571122, 0.47428878],\n",
       "       [0.49602173, 0.50397827],\n",
       "       [0.49295465, 0.50704535],\n",
       "       [0.51373128, 0.48626872],\n",
       "       [0.49088015, 0.50911985],\n",
       "       [0.46436999, 0.53563001],\n",
       "       [0.49256378, 0.50743622],\n",
       "       [0.44025213, 0.55974787],\n",
       "       [0.46417552, 0.53582448],\n",
       "       [0.47205242, 0.52794758],\n",
       "       [0.48661195, 0.51338805],\n",
       "       [0.48363735, 0.51636265],\n",
       "       [0.50973377, 0.49026623],\n",
       "       [0.47670149, 0.52329851],\n",
       "       [0.486642  , 0.513358  ],\n",
       "       [0.48595084, 0.51404916],\n",
       "       [0.46892074, 0.53107926],\n",
       "       [0.47034394, 0.52965606],\n",
       "       [0.50202123, 0.49797877],\n",
       "       [0.5054644 , 0.4945356 ],\n",
       "       [0.48264606, 0.51735394],\n",
       "       [0.49430772, 0.50569228],\n",
       "       [0.4632332 , 0.5367668 ],\n",
       "       [0.48203033, 0.51796967],\n",
       "       [0.49830721, 0.50169279],\n",
       "       [0.52143535, 0.47856465],\n",
       "       [0.47347666, 0.52652334],\n",
       "       [0.49322525, 0.50677475],\n",
       "       [0.50373534, 0.49626466],\n",
       "       [0.48231566, 0.51768434],\n",
       "       [0.4767315 , 0.5232685 ],\n",
       "       [0.4657915 , 0.5342085 ],\n",
       "       [0.46582143, 0.53417857],\n",
       "       [0.47290691, 0.52709309],\n",
       "       [0.50430669, 0.49569331]])"
      ]
     },
     "execution_count": 432,
     "metadata": {},
     "output_type": "execute_result"
    }
   ],
   "source": [
    "modelc.predict_proba(xc_test)"
   ]
  },
  {
   "cell_type": "code",
   "execution_count": 433,
   "id": "4aaa6360",
   "metadata": {},
   "outputs": [],
   "source": [
    "yc_pred = modelc.predict(xc_test)"
   ]
  },
  {
   "cell_type": "code",
   "execution_count": 434,
   "id": "df21e25c",
   "metadata": {},
   "outputs": [
    {
     "data": {
      "text/html": [
       "<div>\n",
       "<style scoped>\n",
       "    .dataframe tbody tr th:only-of-type {\n",
       "        vertical-align: middle;\n",
       "    }\n",
       "\n",
       "    .dataframe tbody tr th {\n",
       "        vertical-align: top;\n",
       "    }\n",
       "\n",
       "    .dataframe thead th {\n",
       "        text-align: right;\n",
       "    }\n",
       "</style>\n",
       "<table border=\"1\" class=\"dataframe\">\n",
       "  <thead>\n",
       "    <tr style=\"text-align: right;\">\n",
       "      <th></th>\n",
       "      <th>Predicted No</th>\n",
       "      <th>Predicted Yes</th>\n",
       "    </tr>\n",
       "  </thead>\n",
       "  <tbody>\n",
       "    <tr>\n",
       "      <th>No</th>\n",
       "      <td>45</td>\n",
       "      <td>92</td>\n",
       "    </tr>\n",
       "    <tr>\n",
       "      <th>Yes</th>\n",
       "      <td>36</td>\n",
       "      <td>95</td>\n",
       "    </tr>\n",
       "  </tbody>\n",
       "</table>\n",
       "</div>"
      ],
      "text/plain": [
       "     Predicted No  Predicted Yes\n",
       "No             45             92\n",
       "Yes            36             95"
      ]
     },
     "execution_count": 434,
     "metadata": {},
     "output_type": "execute_result"
    }
   ],
   "source": [
    "pd.DataFrame(confusion_matrix(yc_test,yc_pred), columns = ['Predicted No','Predicted Yes'], index = ['No','Yes'])"
   ]
  },
  {
   "cell_type": "code",
   "execution_count": 435,
   "id": "15d55726",
   "metadata": {
    "scrolled": true
   },
   "outputs": [
    {
     "name": "stdout",
     "output_type": "stream",
     "text": [
      "              precision    recall  f1-score   support\n",
      "\n",
      "           0       0.56      0.33      0.41       137\n",
      "           1       0.51      0.73      0.60       131\n",
      "\n",
      "    accuracy                           0.52       268\n",
      "   macro avg       0.53      0.53      0.51       268\n",
      "weighted avg       0.53      0.52      0.50       268\n",
      "\n"
     ]
    }
   ],
   "source": [
    "print(classification_report(yc_test,yc_pred))"
   ]
  },
  {
   "cell_type": "code",
   "execution_count": 436,
   "id": "39aada2a",
   "metadata": {},
   "outputs": [],
   "source": [
    "from sklearn.neighbors import KNeighborsClassifier"
   ]
  },
  {
   "cell_type": "code",
   "execution_count": 437,
   "id": "31869bd9",
   "metadata": {},
   "outputs": [
    {
     "name": "stdout",
     "output_type": "stream",
     "text": [
      "   age     sex     bmi  children smoker  region      charges  smoke  gender\n",
      "0   19  female  27.900         0    yes       3  16884.92400      1       0\n",
      "1   18    male  33.770         1     no       2   1725.55230      0       1\n",
      "2   28    male  33.000         3     no       2   4449.46200      0       1\n",
      "3   33    male  22.705         0     no       1  21984.47061      0       1\n",
      "4   32    male  28.880         0     no       1   3866.85520      0       1\n"
     ]
    }
   ],
   "source": [
    "from sklearn import preprocessing\n",
    "label_encoder = preprocessing.LabelEncoder()\n",
    "data['region'] = label_encoder.fit_transform(data['region'])\n",
    "print(data.head())"
   ]
  },
  {
   "cell_type": "code",
   "execution_count": 438,
   "id": "35fed9eb",
   "metadata": {},
   "outputs": [
    {
     "data": {
      "text/plain": [
       "0       3\n",
       "1       2\n",
       "2       2\n",
       "3       1\n",
       "4       1\n",
       "       ..\n",
       "1333    1\n",
       "1334    0\n",
       "1335    2\n",
       "1336    3\n",
       "1337    1\n",
       "Name: region, Length: 1338, dtype: int32"
      ]
     },
     "execution_count": 438,
     "metadata": {},
     "output_type": "execute_result"
    }
   ],
   "source": [
    "xk = data['bmi']\n",
    "yk = data['region']\n",
    "xk\n",
    "yk"
   ]
  },
  {
   "cell_type": "code",
   "execution_count": 439,
   "id": "4ab01a28",
   "metadata": {},
   "outputs": [],
   "source": [
    "xk_train,xk_test,yk_train,yk_test = train_test_split(xk,yk,test_size=0.2,random_state=1)"
   ]
  },
  {
   "cell_type": "code",
   "execution_count": 440,
   "id": "551c719d",
   "metadata": {},
   "outputs": [
    {
     "name": "stdout",
     "output_type": "stream",
     "text": [
      "(1070,)\n",
      "(268,)\n",
      "(1070,)\n",
      "(268,)\n"
     ]
    }
   ],
   "source": [
    "print(xk_train.shape)\n",
    "print(xk_test.shape)\n",
    "print(yk_train.shape)\n",
    "print(yk_test.shape)"
   ]
  },
  {
   "cell_type": "code",
   "execution_count": 441,
   "id": "8c58804b",
   "metadata": {},
   "outputs": [],
   "source": [
    "xk_train = xk_train.values.reshape(-1,1)\n",
    "xk_test = xk_test.values.reshape(-1,1)"
   ]
  },
  {
   "cell_type": "code",
   "execution_count": 442,
   "id": "fbf97fe4",
   "metadata": {},
   "outputs": [],
   "source": [
    "NN = KNeighborsClassifier(n_neighbors=5)"
   ]
  },
  {
   "cell_type": "code",
   "execution_count": 443,
   "id": "a4fcd2c1",
   "metadata": {},
   "outputs": [
    {
     "data": {
      "text/plain": [
       "KNeighborsClassifier()"
      ]
     },
     "execution_count": 443,
     "metadata": {},
     "output_type": "execute_result"
    }
   ],
   "source": [
    "NN.fit(xk_train,yk_train)"
   ]
  },
  {
   "cell_type": "code",
   "execution_count": 444,
   "id": "1074afe0",
   "metadata": {},
   "outputs": [
    {
     "name": "stderr",
     "output_type": "stream",
     "text": [
      "C:\\Users\\Noah\\anaconda3\\lib\\site-packages\\sklearn\\neighbors\\_classification.py:228: FutureWarning: Unlike other reduction functions (e.g. `skew`, `kurtosis`), the default behavior of `mode` typically preserves the axis it acts along. In SciPy 1.11.0, this behavior will change: the default value of `keepdims` will become False, the `axis` over which the statistic is taken will be eliminated, and the value None will no longer be accepted. Set `keepdims` to True or False to avoid this warning.\n",
      "  mode, _ = stats.mode(_y[neigh_ind, k], axis=1)\n"
     ]
    },
    {
     "data": {
      "text/plain": [
       "0.40298507462686567"
      ]
     },
     "execution_count": 444,
     "metadata": {},
     "output_type": "execute_result"
    }
   ],
   "source": [
    "NN.score(xk_test,yk_test)"
   ]
  },
  {
   "cell_type": "code",
   "execution_count": 445,
   "id": "3c4dfba9",
   "metadata": {},
   "outputs": [
    {
     "name": "stderr",
     "output_type": "stream",
     "text": [
      "C:\\Users\\Noah\\anaconda3\\lib\\site-packages\\sklearn\\neighbors\\_classification.py:228: FutureWarning: Unlike other reduction functions (e.g. `skew`, `kurtosis`), the default behavior of `mode` typically preserves the axis it acts along. In SciPy 1.11.0, this behavior will change: the default value of `keepdims` will become False, the `axis` over which the statistic is taken will be eliminated, and the value None will no longer be accepted. Set `keepdims` to True or False to avoid this warning.\n",
      "  mode, _ = stats.mode(_y[neigh_ind, k], axis=1)\n"
     ]
    }
   ],
   "source": [
    "yNN_pred = NN.predict(xk_test)"
   ]
  },
  {
   "cell_type": "code",
   "execution_count": 446,
   "id": "d364cc61",
   "metadata": {},
   "outputs": [
    {
     "name": "stdout",
     "output_type": "stream",
     "text": [
      "yNN_pred : [2 3 1 1 0 3 3 1 0 1 3 2 0 0 2 3 0 2 1 0 0 2 0 1 1 3 0 2 0 0 1 0 1 0 1 1 0\n",
      " 2 2 1 2 3 1 3 0 1 3 0 0 0 3 2 1 2 0 3 0 2 3 2 2 2 0 1 1 1 3 0 3 3 2 2 3 3\n",
      " 1 0 0 1 0 1 0 2 0 2 1 2 0 3 0 3 0 3 2 3 1 2 3 3 1 0 2 1 1 3 0 1 1 3 2 0 2\n",
      " 2 0 0 2 3 2 0 3 0 3 1 0 0 2 2 1 1 0 3 0 2 1 2 3 3 3 0 3 0 0 2 0 2 0 1 3 2\n",
      " 2 0 2 1 2 0 2 1 1 0 0 3 1 1 0 1 0 2 2 2 1 0 3 3 1 1 3 0 2 0 0 3 0 0 2 0 0\n",
      " 1 0 2 0 0 1 2 0 2 3 3 1 2 1 0 2 3 0 3 2 3 1 1 1 3 1 0 1 3 2 1 0 2 2 3 1 2\n",
      " 1 0 1 0 1 3 1 2 1 1 2 0 1 2 0 1 3 1 2 2 2 0 2 1 3 0 3 3 3 1 2 2 2 2 2 1 0\n",
      " 3 2 1 3 0 2 2 1 0]\n"
     ]
    }
   ],
   "source": [
    "print(f\"yNN_pred : {yNN_pred}\")"
   ]
  },
  {
   "cell_type": "code",
   "execution_count": 447,
   "id": "186419ce",
   "metadata": {},
   "outputs": [
    {
     "data": {
      "text/html": [
       "<div>\n",
       "<style scoped>\n",
       "    .dataframe tbody tr th:only-of-type {\n",
       "        vertical-align: middle;\n",
       "    }\n",
       "\n",
       "    .dataframe tbody tr th {\n",
       "        vertical-align: top;\n",
       "    }\n",
       "\n",
       "    .dataframe thead th {\n",
       "        text-align: right;\n",
       "    }\n",
       "</style>\n",
       "<table border=\"1\" class=\"dataframe\">\n",
       "  <thead>\n",
       "    <tr style=\"text-align: right;\">\n",
       "      <th></th>\n",
       "      <th>Predicted 0</th>\n",
       "      <th>Predicted 1</th>\n",
       "      <th>Predicted 2</th>\n",
       "      <th>Predicted 3</th>\n",
       "    </tr>\n",
       "  </thead>\n",
       "  <tbody>\n",
       "    <tr>\n",
       "      <th>Actual 0</th>\n",
       "      <td>29</td>\n",
       "      <td>20</td>\n",
       "      <td>6</td>\n",
       "      <td>6</td>\n",
       "    </tr>\n",
       "    <tr>\n",
       "      <th>Actual 1</th>\n",
       "      <td>17</td>\n",
       "      <td>23</td>\n",
       "      <td>11</td>\n",
       "      <td>15</td>\n",
       "    </tr>\n",
       "    <tr>\n",
       "      <th>Actual 2</th>\n",
       "      <td>16</td>\n",
       "      <td>14</td>\n",
       "      <td>37</td>\n",
       "      <td>15</td>\n",
       "    </tr>\n",
       "    <tr>\n",
       "      <th>Actual 3</th>\n",
       "      <td>15</td>\n",
       "      <td>10</td>\n",
       "      <td>15</td>\n",
       "      <td>19</td>\n",
       "    </tr>\n",
       "  </tbody>\n",
       "</table>\n",
       "</div>"
      ],
      "text/plain": [
       "          Predicted 0  Predicted 1  Predicted 2  Predicted 3\n",
       "Actual 0           29           20            6            6\n",
       "Actual 1           17           23           11           15\n",
       "Actual 2           16           14           37           15\n",
       "Actual 3           15           10           15           19"
      ]
     },
     "execution_count": 447,
     "metadata": {},
     "output_type": "execute_result"
    }
   ],
   "source": [
    "pd.DataFrame(confusion_matrix(yk_test,yNN_pred),columns=['Predicted 0','Predicted 1','Predicted 2','Predicted 3'],index = ['Actual 0','Actual 1','Actual 2', 'Actual 3'])"
   ]
  },
  {
   "cell_type": "code",
   "execution_count": 448,
   "id": "d257ccb0",
   "metadata": {},
   "outputs": [
    {
     "name": "stdout",
     "output_type": "stream",
     "text": [
      "              precision    recall  f1-score   support\n",
      "\n",
      "           0       0.38      0.48      0.42        61\n",
      "           1       0.34      0.35      0.35        66\n",
      "           2       0.54      0.45      0.49        82\n",
      "           3       0.35      0.32      0.33        59\n",
      "\n",
      "    accuracy                           0.40       268\n",
      "   macro avg       0.40      0.40      0.40       268\n",
      "weighted avg       0.41      0.40      0.40       268\n",
      "\n"
     ]
    }
   ],
   "source": [
    "print(classification_report(yk_test,yNN_pred))"
   ]
  },
  {
   "cell_type": "code",
   "execution_count": 449,
   "id": "db411d1a",
   "metadata": {},
   "outputs": [
    {
     "data": {
      "text/plain": [
       "0       16884.92400\n",
       "1        1725.55230\n",
       "2        4449.46200\n",
       "3       21984.47061\n",
       "4        3866.85520\n",
       "           ...     \n",
       "1333    10600.54830\n",
       "1334     2205.98080\n",
       "1335     1629.83350\n",
       "1336     2007.94500\n",
       "1337    29141.36030\n",
       "Name: charges, Length: 1338, dtype: float64"
      ]
     },
     "execution_count": 449,
     "metadata": {},
     "output_type": "execute_result"
    }
   ],
   "source": [
    "xk1 = data['charges']\n",
    "xk1\n"
   ]
  },
  {
   "cell_type": "code",
   "execution_count": 450,
   "id": "ca586254",
   "metadata": {},
   "outputs": [
    {
     "data": {
      "text/plain": [
       "0       3\n",
       "1       2\n",
       "2       2\n",
       "3       1\n",
       "4       1\n",
       "       ..\n",
       "1333    1\n",
       "1334    0\n",
       "1335    2\n",
       "1336    3\n",
       "1337    1\n",
       "Name: region, Length: 1338, dtype: int32"
      ]
     },
     "execution_count": 450,
     "metadata": {},
     "output_type": "execute_result"
    }
   ],
   "source": [
    "yk = data['region']\n",
    "yk"
   ]
  },
  {
   "cell_type": "code",
   "execution_count": 451,
   "id": "726df39f",
   "metadata": {},
   "outputs": [],
   "source": [
    "xk1_train, xk1_test, yk_train, yk_test = train_test_split(xk1,yk,test_size=0.2,random_state=1)"
   ]
  },
  {
   "cell_type": "code",
   "execution_count": 452,
   "id": "24a73b73",
   "metadata": {},
   "outputs": [
    {
     "name": "stdout",
     "output_type": "stream",
     "text": [
      "(268,)\n",
      "(1070,)\n",
      "(268,)\n",
      "(1070,)\n"
     ]
    }
   ],
   "source": [
    "print(xk1_test.shape)\n",
    "print(xk1_train.shape)\n",
    "print(yk_test.shape)\n",
    "print(yk_train.shape)"
   ]
  },
  {
   "cell_type": "code",
   "execution_count": 453,
   "id": "86767a60",
   "metadata": {},
   "outputs": [],
   "source": [
    "xk1_test = xk1_test.values.reshape(-1,1)\n",
    "xk1_train = xk1_train.values.reshape(-1,1)"
   ]
  },
  {
   "cell_type": "code",
   "execution_count": 454,
   "id": "f8be93d7",
   "metadata": {},
   "outputs": [],
   "source": [
    "NN1 = KNeighborsClassifier(n_neighbors=5)"
   ]
  },
  {
   "cell_type": "code",
   "execution_count": 455,
   "id": "dde6cd17",
   "metadata": {},
   "outputs": [
    {
     "data": {
      "text/plain": [
       "KNeighborsClassifier()"
      ]
     },
     "execution_count": 455,
     "metadata": {},
     "output_type": "execute_result"
    }
   ],
   "source": [
    "NN1.fit(xk1_train,yk_train)"
   ]
  },
  {
   "cell_type": "code",
   "execution_count": 456,
   "id": "aba64724",
   "metadata": {},
   "outputs": [
    {
     "name": "stderr",
     "output_type": "stream",
     "text": [
      "C:\\Users\\Noah\\anaconda3\\lib\\site-packages\\sklearn\\neighbors\\_classification.py:228: FutureWarning: Unlike other reduction functions (e.g. `skew`, `kurtosis`), the default behavior of `mode` typically preserves the axis it acts along. In SciPy 1.11.0, this behavior will change: the default value of `keepdims` will become False, the `axis` over which the statistic is taken will be eliminated, and the value None will no longer be accepted. Set `keepdims` to True or False to avoid this warning.\n",
      "  mode, _ = stats.mode(_y[neigh_ind, k], axis=1)\n"
     ]
    },
    {
     "data": {
      "text/plain": [
       "0.332089552238806"
      ]
     },
     "execution_count": 456,
     "metadata": {},
     "output_type": "execute_result"
    }
   ],
   "source": [
    "NN1.score(xk1_test,yk_test)"
   ]
  },
  {
   "cell_type": "code",
   "execution_count": 457,
   "id": "984a69ce",
   "metadata": {
    "scrolled": true
   },
   "outputs": [
    {
     "name": "stderr",
     "output_type": "stream",
     "text": [
      "C:\\Users\\Noah\\anaconda3\\lib\\site-packages\\sklearn\\neighbors\\_classification.py:228: FutureWarning: Unlike other reduction functions (e.g. `skew`, `kurtosis`), the default behavior of `mode` typically preserves the axis it acts along. In SciPy 1.11.0, this behavior will change: the default value of `keepdims` will become False, the `axis` over which the statistic is taken will be eliminated, and the value None will no longer be accepted. Set `keepdims` to True or False to avoid this warning.\n",
      "  mode, _ = stats.mode(_y[neigh_ind, k], axis=1)\n"
     ]
    }
   ],
   "source": [
    "yNN1_pred = NN1.predict(xk1_test)"
   ]
  },
  {
   "cell_type": "code",
   "execution_count": 458,
   "id": "ca7fd67d",
   "metadata": {},
   "outputs": [
    {
     "name": "stdout",
     "output_type": "stream",
     "text": [
      "yNN1_pred : [2 3 3 0 1 0 0 0 0 2 1 0 1 0 2 1 1 1 1 2 0 0 1 1 0 0 0 3 1 3 0 0 0 0 1 0 2\n",
      " 0 3 2 0 0 0 0 1 1 0 3 3 0 1 2 0 2 2 1 0 2 3 2 2 0 1 1 0 3 1 2 1 0 2 2 3 1\n",
      " 1 0 1 1 1 0 1 1 3 3 0 2 0 2 0 1 0 1 0 0 2 0 3 1 1 1 3 3 1 3 2 0 3 1 0 1 1\n",
      " 2 2 0 1 3 0 1 2 0 0 3 2 3 1 0 3 2 1 1 3 2 3 2 2 3 2 2 0 0 0 3 3 1 0 1 2 0\n",
      " 2 0 2 0 0 2 2 2 0 3 0 2 2 2 0 2 1 2 0 0 1 2 1 3 3 0 2 1 0 1 2 2 0 0 1 2 3\n",
      " 1 3 2 1 1 2 2 0 1 0 0 1 1 0 2 3 3 1 0 2 2 3 0 3 1 1 0 2 2 0 2 3 3 2 0 2 3\n",
      " 1 2 2 3 0 3 2 1 3 0 3 0 1 1 1 2 0 1 3 1 1 3 0 0 1 0 1 3 2 0 1 2 2 0 3 3 2\n",
      " 2 2 0 2 1 2 2 1 3]\n"
     ]
    }
   ],
   "source": [
    "print(f\"yNN1_pred : {yNN1_pred}\")"
   ]
  },
  {
   "cell_type": "code",
   "execution_count": 459,
   "id": "d3db0c8a",
   "metadata": {},
   "outputs": [
    {
     "data": {
      "text/html": [
       "<div>\n",
       "<style scoped>\n",
       "    .dataframe tbody tr th:only-of-type {\n",
       "        vertical-align: middle;\n",
       "    }\n",
       "\n",
       "    .dataframe tbody tr th {\n",
       "        vertical-align: top;\n",
       "    }\n",
       "\n",
       "    .dataframe thead th {\n",
       "        text-align: right;\n",
       "    }\n",
       "</style>\n",
       "<table border=\"1\" class=\"dataframe\">\n",
       "  <thead>\n",
       "    <tr style=\"text-align: right;\">\n",
       "      <th></th>\n",
       "      <th>Predicted 0</th>\n",
       "      <th>Predicted 1</th>\n",
       "      <th>Predicted 2</th>\n",
       "      <th>Predicted 3</th>\n",
       "    </tr>\n",
       "  </thead>\n",
       "  <tbody>\n",
       "    <tr>\n",
       "      <th>Actual 0</th>\n",
       "      <td>25</td>\n",
       "      <td>11</td>\n",
       "      <td>12</td>\n",
       "      <td>13</td>\n",
       "    </tr>\n",
       "    <tr>\n",
       "      <th>Actual 1</th>\n",
       "      <td>20</td>\n",
       "      <td>22</td>\n",
       "      <td>14</td>\n",
       "      <td>10</td>\n",
       "    </tr>\n",
       "    <tr>\n",
       "      <th>Actual 2</th>\n",
       "      <td>18</td>\n",
       "      <td>21</td>\n",
       "      <td>30</td>\n",
       "      <td>13</td>\n",
       "    </tr>\n",
       "    <tr>\n",
       "      <th>Actual 3</th>\n",
       "      <td>18</td>\n",
       "      <td>16</td>\n",
       "      <td>13</td>\n",
       "      <td>12</td>\n",
       "    </tr>\n",
       "  </tbody>\n",
       "</table>\n",
       "</div>"
      ],
      "text/plain": [
       "          Predicted 0  Predicted 1  Predicted 2  Predicted 3\n",
       "Actual 0           25           11           12           13\n",
       "Actual 1           20           22           14           10\n",
       "Actual 2           18           21           30           13\n",
       "Actual 3           18           16           13           12"
      ]
     },
     "execution_count": 459,
     "metadata": {},
     "output_type": "execute_result"
    }
   ],
   "source": [
    "pd.DataFrame(confusion_matrix(yk_test,yNN1_pred),columns=['Predicted 0','Predicted 1','Predicted 2','Predicted 3'],index = ['Actual 0','Actual 1','Actual 2', 'Actual 3'])"
   ]
  },
  {
   "cell_type": "code",
   "execution_count": 460,
   "id": "f280e2ad",
   "metadata": {
    "scrolled": false
   },
   "outputs": [
    {
     "name": "stdout",
     "output_type": "stream",
     "text": [
      "              precision    recall  f1-score   support\n",
      "\n",
      "           0       0.31      0.41      0.35        61\n",
      "           1       0.31      0.33      0.32        66\n",
      "           2       0.43      0.37      0.40        82\n",
      "           3       0.25      0.20      0.22        59\n",
      "\n",
      "    accuracy                           0.33       268\n",
      "   macro avg       0.33      0.33      0.32       268\n",
      "weighted avg       0.34      0.33      0.33       268\n",
      "\n"
     ]
    }
   ],
   "source": [
    "print(classification_report(yk_test,yNN1_pred))"
   ]
  },
  {
   "cell_type": "markdown",
   "id": "4518ff56",
   "metadata": {},
   "source": [
    "KNN not good on large datasets"
   ]
  },
  {
   "cell_type": "code",
   "execution_count": 461,
   "id": "2da237e7",
   "metadata": {},
   "outputs": [
    {
     "data": {
      "text/html": [
       "<div>\n",
       "<style scoped>\n",
       "    .dataframe tbody tr th:only-of-type {\n",
       "        vertical-align: middle;\n",
       "    }\n",
       "\n",
       "    .dataframe tbody tr th {\n",
       "        vertical-align: top;\n",
       "    }\n",
       "\n",
       "    .dataframe thead th {\n",
       "        text-align: right;\n",
       "    }\n",
       "</style>\n",
       "<table border=\"1\" class=\"dataframe\">\n",
       "  <thead>\n",
       "    <tr style=\"text-align: right;\">\n",
       "      <th></th>\n",
       "      <th>age</th>\n",
       "      <th>sex</th>\n",
       "      <th>bmi</th>\n",
       "      <th>children</th>\n",
       "      <th>smoker</th>\n",
       "      <th>region</th>\n",
       "      <th>charges</th>\n",
       "      <th>smoke</th>\n",
       "      <th>gender</th>\n",
       "    </tr>\n",
       "  </thead>\n",
       "  <tbody>\n",
       "    <tr>\n",
       "      <th>0</th>\n",
       "      <td>19</td>\n",
       "      <td>female</td>\n",
       "      <td>27.900</td>\n",
       "      <td>0</td>\n",
       "      <td>yes</td>\n",
       "      <td>3</td>\n",
       "      <td>16884.92400</td>\n",
       "      <td>1</td>\n",
       "      <td>0</td>\n",
       "    </tr>\n",
       "    <tr>\n",
       "      <th>1</th>\n",
       "      <td>18</td>\n",
       "      <td>male</td>\n",
       "      <td>33.770</td>\n",
       "      <td>1</td>\n",
       "      <td>no</td>\n",
       "      <td>2</td>\n",
       "      <td>1725.55230</td>\n",
       "      <td>0</td>\n",
       "      <td>1</td>\n",
       "    </tr>\n",
       "    <tr>\n",
       "      <th>2</th>\n",
       "      <td>28</td>\n",
       "      <td>male</td>\n",
       "      <td>33.000</td>\n",
       "      <td>3</td>\n",
       "      <td>no</td>\n",
       "      <td>2</td>\n",
       "      <td>4449.46200</td>\n",
       "      <td>0</td>\n",
       "      <td>1</td>\n",
       "    </tr>\n",
       "    <tr>\n",
       "      <th>3</th>\n",
       "      <td>33</td>\n",
       "      <td>male</td>\n",
       "      <td>22.705</td>\n",
       "      <td>0</td>\n",
       "      <td>no</td>\n",
       "      <td>1</td>\n",
       "      <td>21984.47061</td>\n",
       "      <td>0</td>\n",
       "      <td>1</td>\n",
       "    </tr>\n",
       "    <tr>\n",
       "      <th>4</th>\n",
       "      <td>32</td>\n",
       "      <td>male</td>\n",
       "      <td>28.880</td>\n",
       "      <td>0</td>\n",
       "      <td>no</td>\n",
       "      <td>1</td>\n",
       "      <td>3866.85520</td>\n",
       "      <td>0</td>\n",
       "      <td>1</td>\n",
       "    </tr>\n",
       "  </tbody>\n",
       "</table>\n",
       "</div>"
      ],
      "text/plain": [
       "   age     sex     bmi  children smoker  region      charges  smoke  gender\n",
       "0   19  female  27.900         0    yes       3  16884.92400      1       0\n",
       "1   18    male  33.770         1     no       2   1725.55230      0       1\n",
       "2   28    male  33.000         3     no       2   4449.46200      0       1\n",
       "3   33    male  22.705         0     no       1  21984.47061      0       1\n",
       "4   32    male  28.880         0     no       1   3866.85520      0       1"
      ]
     },
     "execution_count": 461,
     "metadata": {},
     "output_type": "execute_result"
    }
   ],
   "source": [
    "data.head()"
   ]
  },
  {
   "cell_type": "code",
   "execution_count": 462,
   "id": "284131e9",
   "metadata": {},
   "outputs": [],
   "source": [
    "from sklearn import svm"
   ]
  },
  {
   "cell_type": "code",
   "execution_count": 463,
   "id": "1ae54abc",
   "metadata": {},
   "outputs": [],
   "source": [
    "xs = data['charges']"
   ]
  },
  {
   "cell_type": "code",
   "execution_count": 464,
   "id": "056dcd0e",
   "metadata": {},
   "outputs": [],
   "source": [
    "ys = data['smoke']"
   ]
  },
  {
   "cell_type": "code",
   "execution_count": 465,
   "id": "9519ac10",
   "metadata": {},
   "outputs": [
    {
     "name": "stdout",
     "output_type": "stream",
     "text": [
      "0       16884.92400\n",
      "1        1725.55230\n",
      "2        4449.46200\n",
      "3       21984.47061\n",
      "4        3866.85520\n",
      "           ...     \n",
      "1333    10600.54830\n",
      "1334     2205.98080\n",
      "1335     1629.83350\n",
      "1336     2007.94500\n",
      "1337    29141.36030\n",
      "Name: charges, Length: 1338, dtype: float64\n"
     ]
    }
   ],
   "source": [
    "print(xs)"
   ]
  },
  {
   "cell_type": "code",
   "execution_count": 466,
   "id": "60fa2c6b",
   "metadata": {},
   "outputs": [
    {
     "name": "stdout",
     "output_type": "stream",
     "text": [
      "0       1\n",
      "1       0\n",
      "2       0\n",
      "3       0\n",
      "4       0\n",
      "       ..\n",
      "1333    0\n",
      "1334    0\n",
      "1335    0\n",
      "1336    0\n",
      "1337    1\n",
      "Name: smoke, Length: 1338, dtype: uint8\n"
     ]
    }
   ],
   "source": [
    "print(ys)"
   ]
  },
  {
   "cell_type": "code",
   "execution_count": 467,
   "id": "ea5f0653",
   "metadata": {},
   "outputs": [],
   "source": [
    "xs_train, xs_test, ys_train, ys_test = train_test_split(xs,ys,test_size=0.2,random_state=1)"
   ]
  },
  {
   "cell_type": "code",
   "execution_count": 468,
   "id": "cd4fd4ee",
   "metadata": {
    "scrolled": false
   },
   "outputs": [
    {
     "name": "stdout",
     "output_type": "stream",
     "text": [
      "(1070,)\n",
      "(268,)\n",
      "(1070,)\n",
      "(268,)\n"
     ]
    }
   ],
   "source": [
    "print(xs_train.shape)\n",
    "print(xs_test.shape)\n",
    "print(ys_train.shape)\n",
    "print(ys_test.shape)"
   ]
  },
  {
   "cell_type": "code",
   "execution_count": 469,
   "id": "c55faaa4",
   "metadata": {},
   "outputs": [],
   "source": [
    "xs_train = xs_train.values.reshape(-1,1)\n",
    "xs_test = xs_test.values.reshape(-1,1)"
   ]
  },
  {
   "cell_type": "code",
   "execution_count": 470,
   "id": "8f6e9a92",
   "metadata": {},
   "outputs": [
    {
     "data": {
      "text/plain": [
       "SVC()"
      ]
     },
     "execution_count": 470,
     "metadata": {},
     "output_type": "execute_result"
    }
   ],
   "source": [
    "models = svm.SVC()\n",
    "models.fit(xs_train,ys_train)"
   ]
  },
  {
   "cell_type": "code",
   "execution_count": 471,
   "id": "ef2716bd",
   "metadata": {
    "scrolled": true
   },
   "outputs": [
    {
     "data": {
      "text/plain": [
       "0.9328358208955224"
      ]
     },
     "execution_count": 471,
     "metadata": {},
     "output_type": "execute_result"
    }
   ],
   "source": [
    "models.score(xs_test,ys_test)"
   ]
  },
  {
   "cell_type": "code",
   "execution_count": 472,
   "id": "a8e1ba78",
   "metadata": {},
   "outputs": [
    {
     "data": {
      "image/png": "[encoded data removed]",
      "text/plain": [
       "<Figure size 640x480 with 1 Axes>"
      ]
     },
     "metadata": {},
     "output_type": "display_data"
    }
   ],
   "source": [
    "plt.scatter(x = data['charges'],y = data['smoke'])\n",
    "plt.xlabel('charges')\n",
    "plt.ylabel(\"smoke\")\n",
    "plt.show()"
   ]
  },
  {
   "cell_type": "code",
   "execution_count": 473,
   "id": "fa2adacb",
   "metadata": {},
   "outputs": [],
   "source": [
    "from sklearn.ensemble import RandomForestRegressor"
   ]
  },
  {
   "cell_type": "code",
   "execution_count": 476,
   "id": "a69851ac",
   "metadata": {},
   "outputs": [
    {
     "data": {
      "text/plain": [
       "RandomForestRegressor(n_estimators=500, random_state=1)"
      ]
     },
     "execution_count": 476,
     "metadata": {},
     "output_type": "execute_result"
    }
   ],
   "source": [
    "regressor = RandomForestRegressor(n_estimators = 500, random_state = 1)\n",
    "regressor.fit(xs_train,ys_train)"
   ]
  },
  {
   "cell_type": "code",
   "execution_count": 477,
   "id": "a027c5a3",
   "metadata": {},
   "outputs": [
    {
     "data": {
      "text/plain": [
       "0.9414024055614973"
      ]
     },
     "execution_count": 477,
     "metadata": {},
     "output_type": "execute_result"
    }
   ],
   "source": [
    "regressor.score(xs_train,ys_train)"
   ]
  }
 ],
 "metadata": {
  "kernelspec": {
   "display_name": "Python 3 (ipykernel)",
   "language": "python",
   "name": "python3"
  },
  "language_info": {
   "codemirror_mode": {
    "name": "ipython",
    "version": 3
   },
   "file_extension": ".py",
   "mimetype": "text/x-python",
   "name": "python",
   "nbconvert_exporter": "python",
   "pygments_lexer": "ipython3",
   "version": "3.9.13"
  }
 },
 "nbformat": 4,
 "nbformat_minor": 5
}
