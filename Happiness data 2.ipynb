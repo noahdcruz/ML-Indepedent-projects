{
 "cells": [
  {
   "cell_type": "code",
   "execution_count": 331,
   "id": "435ef018",
   "metadata": {},
   "outputs": [],
   "source": [
    "import numpy as np\n",
    "import pandas as pd\n",
    "import seaborn as sns\n",
    "import matplotlib.pyplot as plt\n",
    "from sklearn.model_selection import train_test_split"
   ]
  },
  {
   "cell_type": "code",
   "execution_count": 332,
   "id": "4d6d6ed2",
   "metadata": {},
   "outputs": [],
   "source": [
    "data = pd.read_csv(\"2018.csv\")"
   ]
  },
  {
   "cell_type": "code",
   "execution_count": 333,
   "id": "02646531",
   "metadata": {},
   "outputs": [
    {
     "data": {
      "text/html": [
       "<div>\n",
       "<style scoped>\n",
       "    .dataframe tbody tr th:only-of-type {\n",
       "        vertical-align: middle;\n",
       "    }\n",
       "\n",
       "    .dataframe tbody tr th {\n",
       "        vertical-align: top;\n",
       "    }\n",
       "\n",
       "    .dataframe thead th {\n",
       "        text-align: right;\n",
       "    }\n",
       "</style>\n",
       "<table border=\"1\" class=\"dataframe\">\n",
       "  <thead>\n",
       "    <tr style=\"text-align: right;\">\n",
       "      <th></th>\n",
       "      <th>Overall rank</th>\n",
       "      <th>Country or region</th>\n",
       "      <th>Score</th>\n",
       "      <th>GDP per capita</th>\n",
       "      <th>Social support</th>\n",
       "      <th>Healthy life expectancy</th>\n",
       "      <th>Freedom to make life choices</th>\n",
       "      <th>Generosity</th>\n",
       "      <th>Perceptions of corruption</th>\n",
       "    </tr>\n",
       "  </thead>\n",
       "  <tbody>\n",
       "    <tr>\n",
       "      <th>0</th>\n",
       "      <td>1</td>\n",
       "      <td>Finland</td>\n",
       "      <td>7.632</td>\n",
       "      <td>1.305</td>\n",
       "      <td>1.592</td>\n",
       "      <td>0.874</td>\n",
       "      <td>0.681</td>\n",
       "      <td>0.202</td>\n",
       "      <td>0.393</td>\n",
       "    </tr>\n",
       "    <tr>\n",
       "      <th>1</th>\n",
       "      <td>2</td>\n",
       "      <td>Norway</td>\n",
       "      <td>7.594</td>\n",
       "      <td>1.456</td>\n",
       "      <td>1.582</td>\n",
       "      <td>0.861</td>\n",
       "      <td>0.686</td>\n",
       "      <td>0.286</td>\n",
       "      <td>0.340</td>\n",
       "    </tr>\n",
       "    <tr>\n",
       "      <th>2</th>\n",
       "      <td>3</td>\n",
       "      <td>Denmark</td>\n",
       "      <td>7.555</td>\n",
       "      <td>1.351</td>\n",
       "      <td>1.590</td>\n",
       "      <td>0.868</td>\n",
       "      <td>0.683</td>\n",
       "      <td>0.284</td>\n",
       "      <td>0.408</td>\n",
       "    </tr>\n",
       "    <tr>\n",
       "      <th>3</th>\n",
       "      <td>4</td>\n",
       "      <td>Iceland</td>\n",
       "      <td>7.495</td>\n",
       "      <td>1.343</td>\n",
       "      <td>1.644</td>\n",
       "      <td>0.914</td>\n",
       "      <td>0.677</td>\n",
       "      <td>0.353</td>\n",
       "      <td>0.138</td>\n",
       "    </tr>\n",
       "    <tr>\n",
       "      <th>4</th>\n",
       "      <td>5</td>\n",
       "      <td>Switzerland</td>\n",
       "      <td>7.487</td>\n",
       "      <td>1.420</td>\n",
       "      <td>1.549</td>\n",
       "      <td>0.927</td>\n",
       "      <td>0.660</td>\n",
       "      <td>0.256</td>\n",
       "      <td>0.357</td>\n",
       "    </tr>\n",
       "    <tr>\n",
       "      <th>...</th>\n",
       "      <td>...</td>\n",
       "      <td>...</td>\n",
       "      <td>...</td>\n",
       "      <td>...</td>\n",
       "      <td>...</td>\n",
       "      <td>...</td>\n",
       "      <td>...</td>\n",
       "      <td>...</td>\n",
       "      <td>...</td>\n",
       "    </tr>\n",
       "    <tr>\n",
       "      <th>151</th>\n",
       "      <td>152</td>\n",
       "      <td>Yemen</td>\n",
       "      <td>3.355</td>\n",
       "      <td>0.442</td>\n",
       "      <td>1.073</td>\n",
       "      <td>0.343</td>\n",
       "      <td>0.244</td>\n",
       "      <td>0.083</td>\n",
       "      <td>0.064</td>\n",
       "    </tr>\n",
       "    <tr>\n",
       "      <th>152</th>\n",
       "      <td>153</td>\n",
       "      <td>Tanzania</td>\n",
       "      <td>3.303</td>\n",
       "      <td>0.455</td>\n",
       "      <td>0.991</td>\n",
       "      <td>0.381</td>\n",
       "      <td>0.481</td>\n",
       "      <td>0.270</td>\n",
       "      <td>0.097</td>\n",
       "    </tr>\n",
       "    <tr>\n",
       "      <th>153</th>\n",
       "      <td>154</td>\n",
       "      <td>South Sudan</td>\n",
       "      <td>3.254</td>\n",
       "      <td>0.337</td>\n",
       "      <td>0.608</td>\n",
       "      <td>0.177</td>\n",
       "      <td>0.112</td>\n",
       "      <td>0.224</td>\n",
       "      <td>0.106</td>\n",
       "    </tr>\n",
       "    <tr>\n",
       "      <th>154</th>\n",
       "      <td>155</td>\n",
       "      <td>Central African Republic</td>\n",
       "      <td>3.083</td>\n",
       "      <td>0.024</td>\n",
       "      <td>0.000</td>\n",
       "      <td>0.010</td>\n",
       "      <td>0.305</td>\n",
       "      <td>0.218</td>\n",
       "      <td>0.038</td>\n",
       "    </tr>\n",
       "    <tr>\n",
       "      <th>155</th>\n",
       "      <td>156</td>\n",
       "      <td>Burundi</td>\n",
       "      <td>2.905</td>\n",
       "      <td>0.091</td>\n",
       "      <td>0.627</td>\n",
       "      <td>0.145</td>\n",
       "      <td>0.065</td>\n",
       "      <td>0.149</td>\n",
       "      <td>0.076</td>\n",
       "    </tr>\n",
       "  </tbody>\n",
       "</table>\n",
       "<p>156 rows × 9 columns</p>\n",
       "</div>"
      ],
      "text/plain": [
       "     Overall rank         Country or region  Score  GDP per capita  \\\n",
       "0               1                   Finland  7.632           1.305   \n",
       "1               2                    Norway  7.594           1.456   \n",
       "2               3                   Denmark  7.555           1.351   \n",
       "3               4                   Iceland  7.495           1.343   \n",
       "4               5               Switzerland  7.487           1.420   \n",
       "..            ...                       ...    ...             ...   \n",
       "151           152                     Yemen  3.355           0.442   \n",
       "152           153                  Tanzania  3.303           0.455   \n",
       "153           154               South Sudan  3.254           0.337   \n",
       "154           155  Central African Republic  3.083           0.024   \n",
       "155           156                   Burundi  2.905           0.091   \n",
       "\n",
       "     Social support  Healthy life expectancy  Freedom to make life choices  \\\n",
       "0             1.592                    0.874                         0.681   \n",
       "1             1.582                    0.861                         0.686   \n",
       "2             1.590                    0.868                         0.683   \n",
       "3             1.644                    0.914                         0.677   \n",
       "4             1.549                    0.927                         0.660   \n",
       "..              ...                      ...                           ...   \n",
       "151           1.073                    0.343                         0.244   \n",
       "152           0.991                    0.381                         0.481   \n",
       "153           0.608                    0.177                         0.112   \n",
       "154           0.000                    0.010                         0.305   \n",
       "155           0.627                    0.145                         0.065   \n",
       "\n",
       "     Generosity  Perceptions of corruption  \n",
       "0         0.202                      0.393  \n",
       "1         0.286                      0.340  \n",
       "2         0.284                      0.408  \n",
       "3         0.353                      0.138  \n",
       "4         0.256                      0.357  \n",
       "..          ...                        ...  \n",
       "151       0.083                      0.064  \n",
       "152       0.270                      0.097  \n",
       "153       0.224                      0.106  \n",
       "154       0.218                      0.038  \n",
       "155       0.149                      0.076  \n",
       "\n",
       "[156 rows x 9 columns]"
      ]
     },
     "execution_count": 333,
     "metadata": {},
     "output_type": "execute_result"
    }
   ],
   "source": [
    "data"
   ]
  },
  {
   "cell_type": "code",
   "execution_count": 334,
   "id": "c4a281e2",
   "metadata": {},
   "outputs": [
    {
     "data": {
      "text/html": [
       "<div>\n",
       "<style scoped>\n",
       "    .dataframe tbody tr th:only-of-type {\n",
       "        vertical-align: middle;\n",
       "    }\n",
       "\n",
       "    .dataframe tbody tr th {\n",
       "        vertical-align: top;\n",
       "    }\n",
       "\n",
       "    .dataframe thead th {\n",
       "        text-align: right;\n",
       "    }\n",
       "</style>\n",
       "<table border=\"1\" class=\"dataframe\">\n",
       "  <thead>\n",
       "    <tr style=\"text-align: right;\">\n",
       "      <th></th>\n",
       "      <th>Overall rank</th>\n",
       "      <th>Score</th>\n",
       "      <th>GDP per capita</th>\n",
       "      <th>Social support</th>\n",
       "      <th>Healthy life expectancy</th>\n",
       "      <th>Freedom to make life choices</th>\n",
       "      <th>Generosity</th>\n",
       "      <th>Perceptions of corruption</th>\n",
       "    </tr>\n",
       "  </thead>\n",
       "  <tbody>\n",
       "    <tr>\n",
       "      <th>count</th>\n",
       "      <td>156.000000</td>\n",
       "      <td>156.000000</td>\n",
       "      <td>156.000000</td>\n",
       "      <td>156.000000</td>\n",
       "      <td>156.000000</td>\n",
       "      <td>156.000000</td>\n",
       "      <td>156.000000</td>\n",
       "      <td>155.000000</td>\n",
       "    </tr>\n",
       "    <tr>\n",
       "      <th>mean</th>\n",
       "      <td>78.500000</td>\n",
       "      <td>5.375917</td>\n",
       "      <td>0.891449</td>\n",
       "      <td>1.213237</td>\n",
       "      <td>0.597346</td>\n",
       "      <td>0.454506</td>\n",
       "      <td>0.181006</td>\n",
       "      <td>0.112000</td>\n",
       "    </tr>\n",
       "    <tr>\n",
       "      <th>std</th>\n",
       "      <td>45.177428</td>\n",
       "      <td>1.119506</td>\n",
       "      <td>0.391921</td>\n",
       "      <td>0.302372</td>\n",
       "      <td>0.247579</td>\n",
       "      <td>0.162424</td>\n",
       "      <td>0.098471</td>\n",
       "      <td>0.096492</td>\n",
       "    </tr>\n",
       "    <tr>\n",
       "      <th>min</th>\n",
       "      <td>1.000000</td>\n",
       "      <td>2.905000</td>\n",
       "      <td>0.000000</td>\n",
       "      <td>0.000000</td>\n",
       "      <td>0.000000</td>\n",
       "      <td>0.000000</td>\n",
       "      <td>0.000000</td>\n",
       "      <td>0.000000</td>\n",
       "    </tr>\n",
       "    <tr>\n",
       "      <th>25%</th>\n",
       "      <td>39.750000</td>\n",
       "      <td>4.453750</td>\n",
       "      <td>0.616250</td>\n",
       "      <td>1.066750</td>\n",
       "      <td>0.422250</td>\n",
       "      <td>0.356000</td>\n",
       "      <td>0.109500</td>\n",
       "      <td>0.051000</td>\n",
       "    </tr>\n",
       "    <tr>\n",
       "      <th>50%</th>\n",
       "      <td>78.500000</td>\n",
       "      <td>5.378000</td>\n",
       "      <td>0.949500</td>\n",
       "      <td>1.255000</td>\n",
       "      <td>0.644000</td>\n",
       "      <td>0.487000</td>\n",
       "      <td>0.174000</td>\n",
       "      <td>0.082000</td>\n",
       "    </tr>\n",
       "    <tr>\n",
       "      <th>75%</th>\n",
       "      <td>117.250000</td>\n",
       "      <td>6.168500</td>\n",
       "      <td>1.197750</td>\n",
       "      <td>1.463000</td>\n",
       "      <td>0.777250</td>\n",
       "      <td>0.578500</td>\n",
       "      <td>0.239000</td>\n",
       "      <td>0.137000</td>\n",
       "    </tr>\n",
       "    <tr>\n",
       "      <th>max</th>\n",
       "      <td>156.000000</td>\n",
       "      <td>7.632000</td>\n",
       "      <td>2.096000</td>\n",
       "      <td>1.644000</td>\n",
       "      <td>1.030000</td>\n",
       "      <td>0.724000</td>\n",
       "      <td>0.598000</td>\n",
       "      <td>0.457000</td>\n",
       "    </tr>\n",
       "  </tbody>\n",
       "</table>\n",
       "</div>"
      ],
      "text/plain": [
       "       Overall rank       Score  GDP per capita  Social support  \\\n",
       "count    156.000000  156.000000      156.000000      156.000000   \n",
       "mean      78.500000    5.375917        0.891449        1.213237   \n",
       "std       45.177428    1.119506        0.391921        0.302372   \n",
       "min        1.000000    2.905000        0.000000        0.000000   \n",
       "25%       39.750000    4.453750        0.616250        1.066750   \n",
       "50%       78.500000    5.378000        0.949500        1.255000   \n",
       "75%      117.250000    6.168500        1.197750        1.463000   \n",
       "max      156.000000    7.632000        2.096000        1.644000   \n",
       "\n",
       "       Healthy life expectancy  Freedom to make life choices  Generosity  \\\n",
       "count               156.000000                    156.000000  156.000000   \n",
       "mean                  0.597346                      0.454506    0.181006   \n",
       "std                   0.247579                      0.162424    0.098471   \n",
       "min                   0.000000                      0.000000    0.000000   \n",
       "25%                   0.422250                      0.356000    0.109500   \n",
       "50%                   0.644000                      0.487000    0.174000   \n",
       "75%                   0.777250                      0.578500    0.239000   \n",
       "max                   1.030000                      0.724000    0.598000   \n",
       "\n",
       "       Perceptions of corruption  \n",
       "count                 155.000000  \n",
       "mean                    0.112000  \n",
       "std                     0.096492  \n",
       "min                     0.000000  \n",
       "25%                     0.051000  \n",
       "50%                     0.082000  \n",
       "75%                     0.137000  \n",
       "max                     0.457000  "
      ]
     },
     "execution_count": 334,
     "metadata": {},
     "output_type": "execute_result"
    }
   ],
   "source": [
    "data.describe()"
   ]
  },
  {
   "cell_type": "code",
   "execution_count": 335,
   "id": "85852dd9",
   "metadata": {},
   "outputs": [
    {
     "name": "stdout",
     "output_type": "stream",
     "text": [
      "<class 'pandas.core.frame.DataFrame'>\n",
      "RangeIndex: 156 entries, 0 to 155\n",
      "Data columns (total 9 columns):\n",
      " #   Column                        Non-Null Count  Dtype  \n",
      "---  ------                        --------------  -----  \n",
      " 0   Overall rank                  156 non-null    int64  \n",
      " 1   Country or region             156 non-null    object \n",
      " 2   Score                         156 non-null    float64\n",
      " 3   GDP per capita                156 non-null    float64\n",
      " 4   Social support                156 non-null    float64\n",
      " 5   Healthy life expectancy       156 non-null    float64\n",
      " 6   Freedom to make life choices  156 non-null    float64\n",
      " 7   Generosity                    156 non-null    float64\n",
      " 8   Perceptions of corruption     155 non-null    float64\n",
      "dtypes: float64(7), int64(1), object(1)\n",
      "memory usage: 11.1+ KB\n"
     ]
    }
   ],
   "source": [
    "data.info()"
   ]
  },
  {
   "cell_type": "code",
   "execution_count": 336,
   "id": "2de46fca",
   "metadata": {},
   "outputs": [
    {
     "data": {
      "text/html": [
       "<div>\n",
       "<style scoped>\n",
       "    .dataframe tbody tr th:only-of-type {\n",
       "        vertical-align: middle;\n",
       "    }\n",
       "\n",
       "    .dataframe tbody tr th {\n",
       "        vertical-align: top;\n",
       "    }\n",
       "\n",
       "    .dataframe thead th {\n",
       "        text-align: right;\n",
       "    }\n",
       "</style>\n",
       "<table border=\"1\" class=\"dataframe\">\n",
       "  <thead>\n",
       "    <tr style=\"text-align: right;\">\n",
       "      <th></th>\n",
       "      <th>Overall rank</th>\n",
       "      <th>Score</th>\n",
       "      <th>GDP per capita</th>\n",
       "      <th>Social support</th>\n",
       "      <th>Healthy life expectancy</th>\n",
       "      <th>Freedom to make life choices</th>\n",
       "      <th>Generosity</th>\n",
       "      <th>Perceptions of corruption</th>\n",
       "    </tr>\n",
       "  </thead>\n",
       "  <tbody>\n",
       "    <tr>\n",
       "      <th>Overall rank</th>\n",
       "      <td>1.000000</td>\n",
       "      <td>-0.991749</td>\n",
       "      <td>-0.805897</td>\n",
       "      <td>-0.737500</td>\n",
       "      <td>-0.778700</td>\n",
       "      <td>-0.530786</td>\n",
       "      <td>-0.103602</td>\n",
       "      <td>-0.371133</td>\n",
       "    </tr>\n",
       "    <tr>\n",
       "      <th>Score</th>\n",
       "      <td>-0.991749</td>\n",
       "      <td>1.000000</td>\n",
       "      <td>0.802124</td>\n",
       "      <td>0.745760</td>\n",
       "      <td>0.775814</td>\n",
       "      <td>0.544280</td>\n",
       "      <td>0.135825</td>\n",
       "      <td>0.405292</td>\n",
       "    </tr>\n",
       "    <tr>\n",
       "      <th>GDP per capita</th>\n",
       "      <td>-0.805897</td>\n",
       "      <td>0.802124</td>\n",
       "      <td>1.000000</td>\n",
       "      <td>0.672080</td>\n",
       "      <td>0.844273</td>\n",
       "      <td>0.332275</td>\n",
       "      <td>-0.011241</td>\n",
       "      <td>0.319582</td>\n",
       "    </tr>\n",
       "    <tr>\n",
       "      <th>Social support</th>\n",
       "      <td>-0.737500</td>\n",
       "      <td>0.745760</td>\n",
       "      <td>0.672080</td>\n",
       "      <td>1.000000</td>\n",
       "      <td>0.667288</td>\n",
       "      <td>0.411087</td>\n",
       "      <td>0.018226</td>\n",
       "      <td>0.218364</td>\n",
       "    </tr>\n",
       "    <tr>\n",
       "      <th>Healthy life expectancy</th>\n",
       "      <td>-0.778700</td>\n",
       "      <td>0.775814</td>\n",
       "      <td>0.844273</td>\n",
       "      <td>0.667288</td>\n",
       "      <td>1.000000</td>\n",
       "      <td>0.355475</td>\n",
       "      <td>0.020751</td>\n",
       "      <td>0.315569</td>\n",
       "    </tr>\n",
       "    <tr>\n",
       "      <th>Freedom to make life choices</th>\n",
       "      <td>-0.530786</td>\n",
       "      <td>0.544280</td>\n",
       "      <td>0.332275</td>\n",
       "      <td>0.411087</td>\n",
       "      <td>0.355475</td>\n",
       "      <td>1.000000</td>\n",
       "      <td>0.297988</td>\n",
       "      <td>0.462446</td>\n",
       "    </tr>\n",
       "    <tr>\n",
       "      <th>Generosity</th>\n",
       "      <td>-0.103602</td>\n",
       "      <td>0.135825</td>\n",
       "      <td>-0.011241</td>\n",
       "      <td>0.018226</td>\n",
       "      <td>0.020751</td>\n",
       "      <td>0.297988</td>\n",
       "      <td>1.000000</td>\n",
       "      <td>0.362249</td>\n",
       "    </tr>\n",
       "    <tr>\n",
       "      <th>Perceptions of corruption</th>\n",
       "      <td>-0.371133</td>\n",
       "      <td>0.405292</td>\n",
       "      <td>0.319582</td>\n",
       "      <td>0.218364</td>\n",
       "      <td>0.315569</td>\n",
       "      <td>0.462446</td>\n",
       "      <td>0.362249</td>\n",
       "      <td>1.000000</td>\n",
       "    </tr>\n",
       "  </tbody>\n",
       "</table>\n",
       "</div>"
      ],
      "text/plain": [
       "                              Overall rank     Score  GDP per capita  \\\n",
       "Overall rank                      1.000000 -0.991749       -0.805897   \n",
       "Score                            -0.991749  1.000000        0.802124   \n",
       "GDP per capita                   -0.805897  0.802124        1.000000   \n",
       "Social support                   -0.737500  0.745760        0.672080   \n",
       "Healthy life expectancy          -0.778700  0.775814        0.844273   \n",
       "Freedom to make life choices     -0.530786  0.544280        0.332275   \n",
       "Generosity                       -0.103602  0.135825       -0.011241   \n",
       "Perceptions of corruption        -0.371133  0.405292        0.319582   \n",
       "\n",
       "                              Social support  Healthy life expectancy  \\\n",
       "Overall rank                       -0.737500                -0.778700   \n",
       "Score                               0.745760                 0.775814   \n",
       "GDP per capita                      0.672080                 0.844273   \n",
       "Social support                      1.000000                 0.667288   \n",
       "Healthy life expectancy             0.667288                 1.000000   \n",
       "Freedom to make life choices        0.411087                 0.355475   \n",
       "Generosity                          0.018226                 0.020751   \n",
       "Perceptions of corruption           0.218364                 0.315569   \n",
       "\n",
       "                              Freedom to make life choices  Generosity  \\\n",
       "Overall rank                                     -0.530786   -0.103602   \n",
       "Score                                             0.544280    0.135825   \n",
       "GDP per capita                                    0.332275   -0.011241   \n",
       "Social support                                    0.411087    0.018226   \n",
       "Healthy life expectancy                           0.355475    0.020751   \n",
       "Freedom to make life choices                      1.000000    0.297988   \n",
       "Generosity                                        0.297988    1.000000   \n",
       "Perceptions of corruption                         0.462446    0.362249   \n",
       "\n",
       "                              Perceptions of corruption  \n",
       "Overall rank                                  -0.371133  \n",
       "Score                                          0.405292  \n",
       "GDP per capita                                 0.319582  \n",
       "Social support                                 0.218364  \n",
       "Healthy life expectancy                        0.315569  \n",
       "Freedom to make life choices                   0.462446  \n",
       "Generosity                                     0.362249  \n",
       "Perceptions of corruption                      1.000000  "
      ]
     },
     "execution_count": 336,
     "metadata": {},
     "output_type": "execute_result"
    }
   ],
   "source": [
    "data.corr()"
   ]
  },
  {
   "cell_type": "code",
   "execution_count": 337,
   "id": "ee798a16",
   "metadata": {},
   "outputs": [
    {
     "data": {
      "text/plain": [
       "0      0.202\n",
       "1      0.286\n",
       "2      0.284\n",
       "3      0.353\n",
       "4      0.256\n",
       "       ...  \n",
       "151    0.083\n",
       "152    0.270\n",
       "153    0.224\n",
       "154    0.218\n",
       "155    0.149\n",
       "Name: Generosity, Length: 156, dtype: float64"
      ]
     },
     "execution_count": 337,
     "metadata": {},
     "output_type": "execute_result"
    }
   ],
   "source": [
    "x = data['Generosity']\n",
    "x"
   ]
  },
  {
   "cell_type": "code",
   "execution_count": 338,
   "id": "605af94a",
   "metadata": {},
   "outputs": [
    {
     "data": {
      "text/plain": [
       "0      7.632\n",
       "1      7.594\n",
       "2      7.555\n",
       "3      7.495\n",
       "4      7.487\n",
       "       ...  \n",
       "151    3.355\n",
       "152    3.303\n",
       "153    3.254\n",
       "154    3.083\n",
       "155    2.905\n",
       "Name: Score, Length: 156, dtype: float64"
      ]
     },
     "execution_count": 338,
     "metadata": {},
     "output_type": "execute_result"
    }
   ],
   "source": [
    "y = data['Score']\n",
    "y"
   ]
  },
  {
   "cell_type": "code",
   "execution_count": 339,
   "id": "9f8e6952",
   "metadata": {},
   "outputs": [
    {
     "data": {
      "image/png": "[encoded data removed]",
      "text/plain": [
       "<Figure size 640x480 with 1 Axes>"
      ]
     },
     "metadata": {},
     "output_type": "display_data"
    }
   ],
   "source": [
    "plt.scatter(x,y, c='red')\n",
    "plt.xlabel(\"Generosity\")\n",
    "plt.ylabel(\"Score\")\n",
    "plt.show()"
   ]
  },
  {
   "cell_type": "code",
   "execution_count": 340,
   "id": "0139e11f",
   "metadata": {},
   "outputs": [],
   "source": [
    "x_train, x_test, y_train, y_test = train_test_split(x,y, test_size = 0.2, random_state = 1)"
   ]
  },
  {
   "cell_type": "code",
   "execution_count": 341,
   "id": "5cd07714",
   "metadata": {},
   "outputs": [
    {
     "name": "stdout",
     "output_type": "stream",
     "text": [
      "(124,)\n",
      "(32,)\n",
      "(124,)\n",
      "(32,)\n"
     ]
    }
   ],
   "source": [
    "print(x_train.shape)\n",
    "print(x_test.shape)\n",
    "print(y_train.shape)\n",
    "print(y_test.shape)"
   ]
  },
  {
   "cell_type": "code",
   "execution_count": 342,
   "id": "3930cd39",
   "metadata": {},
   "outputs": [],
   "source": [
    "x_train = x_train.values.reshape(-1,1)"
   ]
  },
  {
   "cell_type": "code",
   "execution_count": 343,
   "id": "7497a6a8",
   "metadata": {},
   "outputs": [],
   "source": [
    "from sklearn.linear_model import LinearRegression\n",
    "model = LinearRegression()\n"
   ]
  },
  {
   "cell_type": "code",
   "execution_count": 344,
   "id": "7b59c28f",
   "metadata": {},
   "outputs": [],
   "source": [
    "x_test = x_test.values.reshape(-1,1)"
   ]
  },
  {
   "cell_type": "code",
   "execution_count": 345,
   "id": "dc60645a",
   "metadata": {},
   "outputs": [
    {
     "data": {
      "text/plain": [
       "0.01623481625805867"
      ]
     },
     "execution_count": 345,
     "metadata": {},
     "output_type": "execute_result"
    }
   ],
   "source": [
    "model.fit(x_test,y_test)\n",
    "model.score(x_test,y_test)"
   ]
  },
  {
   "cell_type": "code",
   "execution_count": 346,
   "id": "0c7dea36",
   "metadata": {},
   "outputs": [
    {
     "name": "stdout",
     "output_type": "stream",
     "text": [
      "Intercept: 5.013574253181054\n",
      "Slope: [1.80400933]\n"
     ]
    }
   ],
   "source": [
    "print(f\"Intercept: {model.intercept_}\")\n",
    "print(f\"Slope: {model.coef_}\")"
   ]
  },
  {
   "cell_type": "code",
   "execution_count": 347,
   "id": "bd737c3e",
   "metadata": {},
   "outputs": [
    {
     "name": "stdout",
     "output_type": "stream",
     "text": [
      "y_pred \n",
      ": [[5.26433155]\n",
      " [5.45736055]\n",
      " [5.17232707]\n",
      " [5.47540064]\n",
      " [5.26974358]\n",
      " [5.38880819]\n",
      " [5.5060688 ]\n",
      " [5.4284964 ]\n",
      " [5.15609099]\n",
      " [5.39241621]\n",
      " [5.37437612]\n",
      " [5.01357425]\n",
      " [5.40324027]\n",
      " [5.37618013]\n",
      " [5.24809547]\n",
      " [5.61430936]\n",
      " [5.64858554]\n",
      " [5.36716008]\n",
      " [5.34911999]\n",
      " [5.33649192]\n",
      " [5.32927589]\n",
      " [5.25170348]\n",
      " [5.2931957 ]\n",
      " [5.12903085]\n",
      " [5.46998861]\n",
      " [5.22283934]\n",
      " [5.3328839 ]\n",
      " [5.45194852]\n",
      " [5.38520017]\n",
      " [5.31484381]\n",
      " [5.52230488]\n",
      " [5.29860773]]\n"
     ]
    }
   ],
   "source": [
    "y_pred = model.intercept_ + model.coef_*x_test\n",
    "print(f\"y_pred \\n: {y_pred}\")"
   ]
  },
  {
   "cell_type": "code",
   "execution_count": 348,
   "id": "0eaccc47",
   "metadata": {},
   "outputs": [
    {
     "data": {
      "text/plain": [
       "0      0.681\n",
       "1      0.686\n",
       "2      0.683\n",
       "3      0.677\n",
       "4      0.660\n",
       "       ...  \n",
       "151    0.244\n",
       "152    0.481\n",
       "153    0.112\n",
       "154    0.305\n",
       "155    0.065\n",
       "Name: Freedom to make life choices, Length: 156, dtype: float64"
      ]
     },
     "execution_count": 348,
     "metadata": {},
     "output_type": "execute_result"
    }
   ],
   "source": [
    "x1= data['Freedom to make life choices']\n",
    "x1"
   ]
  },
  {
   "cell_type": "code",
   "execution_count": 349,
   "id": "915742a5",
   "metadata": {},
   "outputs": [
    {
     "data": {
      "image/png": "[encoded data removed]",
      "text/plain": [
       "<Figure size 640x480 with 1 Axes>"
      ]
     },
     "metadata": {},
     "output_type": "display_data"
    }
   ],
   "source": [
    "plt.scatter(x1,y,c='blue')\n",
    "plt.xlabel('Freedom to make life choices')\n",
    "plt.ylabel('Score')\n",
    "plt.show()"
   ]
  },
  {
   "cell_type": "code",
   "execution_count": 350,
   "id": "15dc5332",
   "metadata": {},
   "outputs": [],
   "source": [
    "x1_train, x1_test, y_train, y_test = train_test_split(x1,y,test_size=0.2,random_state=1)"
   ]
  },
  {
   "cell_type": "code",
   "execution_count": 351,
   "id": "fbced9ea",
   "metadata": {},
   "outputs": [
    {
     "name": "stdout",
     "output_type": "stream",
     "text": [
      "(124,)\n",
      "(32,)\n",
      "(124,)\n",
      "(32,)\n"
     ]
    }
   ],
   "source": [
    "print(x1_train.shape)\n",
    "print(x1_test.shape)\n",
    "print(y_train.shape)\n",
    "print(y_test.shape)"
   ]
  },
  {
   "cell_type": "code",
   "execution_count": 352,
   "id": "b99cf620",
   "metadata": {},
   "outputs": [],
   "source": [
    "x1_test = x1_test.values.reshape(-1,1)"
   ]
  },
  {
   "cell_type": "code",
   "execution_count": 353,
   "id": "d9d621d5",
   "metadata": {},
   "outputs": [
    {
     "data": {
      "text/plain": [
       "0.05897612626358284"
      ]
     },
     "execution_count": 353,
     "metadata": {},
     "output_type": "execute_result"
    }
   ],
   "source": [
    "model1 = LinearRegression()\n",
    "model1.fit(x1_test,y_test)\n",
    "model1.score(x1_test,y_test)"
   ]
  },
  {
   "cell_type": "code",
   "execution_count": 354,
   "id": "4292a36e",
   "metadata": {},
   "outputs": [
    {
     "name": "stdout",
     "output_type": "stream",
     "text": [
      "Intercept is: 4.443215240751754\n",
      "Slope is: [1.90004003]\n"
     ]
    }
   ],
   "source": [
    "print(f\"Intercept is: {model1.intercept_}\")\n",
    "print(f\"Slope is: {model1.coef_}\")"
   ]
  },
  {
   "cell_type": "code",
   "execution_count": 355,
   "id": "c9d4f917",
   "metadata": {},
   "outputs": [
    {
     "name": "stdout",
     "output_type": "stream",
     "text": [
      "y1_pred: [[5.14052993]\n",
      " [5.43883622]\n",
      " [5.44643638]\n",
      " [5.68584142]\n",
      " [5.29633322]\n",
      " [5.44453634]\n",
      " [5.5566387 ]\n",
      " [5.6326403 ]\n",
      " [5.49393738]\n",
      " [5.4521365 ]\n",
      " [5.6516407 ]\n",
      " [4.69212048]\n",
      " [4.97522645]\n",
      " [5.32103374]\n",
      " [5.33243398]\n",
      " [5.65544078]\n",
      " [5.40083542]\n",
      " [5.64404054]\n",
      " [4.98282661]\n",
      " [5.59083942]\n",
      " [4.90682501]\n",
      " [5.21463149]\n",
      " [4.86312409]\n",
      " [5.12532961]\n",
      " [5.19373105]\n",
      " [5.3856351 ]\n",
      " [5.61743998]\n",
      " [5.57183902]\n",
      " [5.4521365 ]\n",
      " [5.49583742]\n",
      " [5.31533362]\n",
      " [5.26783261]]\n"
     ]
    }
   ],
   "source": [
    "y1_pred = model1.intercept_ + model1.coef_*x1_test\n",
    "print(f\"y1_pred: {y1_pred}\")"
   ]
  },
  {
   "cell_type": "code",
   "execution_count": 356,
   "id": "71a12ad0",
   "metadata": {},
   "outputs": [
    {
     "data": {
      "text/html": [
       "<div>\n",
       "<style scoped>\n",
       "    .dataframe tbody tr th:only-of-type {\n",
       "        vertical-align: middle;\n",
       "    }\n",
       "\n",
       "    .dataframe tbody tr th {\n",
       "        vertical-align: top;\n",
       "    }\n",
       "\n",
       "    .dataframe thead th {\n",
       "        text-align: right;\n",
       "    }\n",
       "</style>\n",
       "<table border=\"1\" class=\"dataframe\">\n",
       "  <thead>\n",
       "    <tr style=\"text-align: right;\">\n",
       "      <th></th>\n",
       "      <th>GDP per capita</th>\n",
       "      <th>Social support</th>\n",
       "      <th>Healthy life expectancy</th>\n",
       "    </tr>\n",
       "  </thead>\n",
       "  <tbody>\n",
       "    <tr>\n",
       "      <th>0</th>\n",
       "      <td>1.305</td>\n",
       "      <td>1.592</td>\n",
       "      <td>0.874</td>\n",
       "    </tr>\n",
       "    <tr>\n",
       "      <th>1</th>\n",
       "      <td>1.456</td>\n",
       "      <td>1.582</td>\n",
       "      <td>0.861</td>\n",
       "    </tr>\n",
       "    <tr>\n",
       "      <th>2</th>\n",
       "      <td>1.351</td>\n",
       "      <td>1.590</td>\n",
       "      <td>0.868</td>\n",
       "    </tr>\n",
       "    <tr>\n",
       "      <th>3</th>\n",
       "      <td>1.343</td>\n",
       "      <td>1.644</td>\n",
       "      <td>0.914</td>\n",
       "    </tr>\n",
       "    <tr>\n",
       "      <th>4</th>\n",
       "      <td>1.420</td>\n",
       "      <td>1.549</td>\n",
       "      <td>0.927</td>\n",
       "    </tr>\n",
       "    <tr>\n",
       "      <th>...</th>\n",
       "      <td>...</td>\n",
       "      <td>...</td>\n",
       "      <td>...</td>\n",
       "    </tr>\n",
       "    <tr>\n",
       "      <th>151</th>\n",
       "      <td>0.442</td>\n",
       "      <td>1.073</td>\n",
       "      <td>0.343</td>\n",
       "    </tr>\n",
       "    <tr>\n",
       "      <th>152</th>\n",
       "      <td>0.455</td>\n",
       "      <td>0.991</td>\n",
       "      <td>0.381</td>\n",
       "    </tr>\n",
       "    <tr>\n",
       "      <th>153</th>\n",
       "      <td>0.337</td>\n",
       "      <td>0.608</td>\n",
       "      <td>0.177</td>\n",
       "    </tr>\n",
       "    <tr>\n",
       "      <th>154</th>\n",
       "      <td>0.024</td>\n",
       "      <td>0.000</td>\n",
       "      <td>0.010</td>\n",
       "    </tr>\n",
       "    <tr>\n",
       "      <th>155</th>\n",
       "      <td>0.091</td>\n",
       "      <td>0.627</td>\n",
       "      <td>0.145</td>\n",
       "    </tr>\n",
       "  </tbody>\n",
       "</table>\n",
       "<p>156 rows × 3 columns</p>\n",
       "</div>"
      ],
      "text/plain": [
       "     GDP per capita  Social support  Healthy life expectancy\n",
       "0             1.305           1.592                    0.874\n",
       "1             1.456           1.582                    0.861\n",
       "2             1.351           1.590                    0.868\n",
       "3             1.343           1.644                    0.914\n",
       "4             1.420           1.549                    0.927\n",
       "..              ...             ...                      ...\n",
       "151           0.442           1.073                    0.343\n",
       "152           0.455           0.991                    0.381\n",
       "153           0.337           0.608                    0.177\n",
       "154           0.024           0.000                    0.010\n",
       "155           0.091           0.627                    0.145\n",
       "\n",
       "[156 rows x 3 columns]"
      ]
     },
     "execution_count": 356,
     "metadata": {},
     "output_type": "execute_result"
    }
   ],
   "source": [
    "xmulti = data.iloc[:,3:6]\n",
    "xmulti"
   ]
  },
  {
   "cell_type": "code",
   "execution_count": 357,
   "id": "be74fd4f",
   "metadata": {},
   "outputs": [],
   "source": [
    "xmulti_train, xmulti_test, y_train, y_test = train_test_split(xmulti, y, test_size=0.2, random_state = 1)"
   ]
  },
  {
   "cell_type": "code",
   "execution_count": 358,
   "id": "424dd182",
   "metadata": {},
   "outputs": [
    {
     "name": "stdout",
     "output_type": "stream",
     "text": [
      "(124, 3)\n",
      "(32, 3)\n",
      "(124,)\n",
      "(32,)\n"
     ]
    }
   ],
   "source": [
    "print(xmulti_train.shape)\n",
    "print(xmulti_test.shape)\n",
    "print(y_train.shape)\n",
    "print(y_test.shape)"
   ]
  },
  {
   "cell_type": "code",
   "execution_count": 359,
   "id": "4075005b",
   "metadata": {},
   "outputs": [
    {
     "data": {
      "text/plain": [
       "0.7667812201092875"
      ]
     },
     "execution_count": 359,
     "metadata": {},
     "output_type": "execute_result"
    }
   ],
   "source": [
    "modelm = LinearRegression()\n",
    "modelm.fit(xmulti_test,y_test)\n",
    "modelm.score(xmulti_test,y_test)"
   ]
  },
  {
   "cell_type": "code",
   "execution_count": 360,
   "id": "8a91393e",
   "metadata": {},
   "outputs": [
    {
     "name": "stdout",
     "output_type": "stream",
     "text": [
      "Intercept: 2.5683505615348445\n",
      "slope: [ 1.52319243  1.14897506 -0.01656893]\n"
     ]
    }
   ],
   "source": [
    "print(f\"Intercept: {modelm.intercept_}\")\n",
    "print(f\"slope: {modelm.coef_}\")"
   ]
  },
  {
   "cell_type": "code",
   "execution_count": 362,
   "id": "239eabf8",
   "metadata": {},
   "outputs": [
    {
     "name": "stdout",
     "output_type": "stream",
     "text": [
      "ym_pred is :      GDP per capita  Social support  Healthy life expectancy\n",
      "117        3.131932        3.985037                 2.565832\n",
      "75         4.708436        4.050528                 2.551285\n",
      "51         4.268233        3.968951                 2.556322\n",
      "31         5.080095        4.065465                 2.555957\n",
      "35         4.473864        4.335474                 2.552362\n",
      "40         3.585843        4.083849                 2.556752\n",
      "14         4.609428        4.261940                 2.554085\n",
      "109        3.665049        3.756391                 2.561044\n",
      "53         4.539362        4.248152                 2.551980\n",
      "146        2.851664        3.189946                 2.563280\n",
      "150        3.074050        3.597832                 2.561723\n",
      "78         4.326115        3.949419                 2.553786\n",
      "92         3.962072        3.806946                 2.555791\n",
      "90         3.617830        3.914949                 2.567555\n",
      "89         3.820415        4.021804                 2.557664\n",
      "5          4.641415        4.278025                 2.553803\n",
      "123        3.319284        3.772476                 2.560828\n",
      "16         4.968902        4.314793                 2.553505\n",
      "19         5.760962        3.459955                 2.557249\n",
      "29         3.757964        4.025251                 2.558277\n",
      "56         4.496712        3.951717                 2.552527\n",
      "143        3.112130        3.825329                 2.564241\n",
      "142        2.967427        3.611620                 2.561690\n",
      "99         4.173795        4.309048                 2.556553\n",
      "93         3.960548        4.311346                 2.558823\n",
      "69         4.068695        4.119467                 2.559188\n",
      "94         3.657433        4.136702                 2.556719\n",
      "42         4.606382        4.137850                 2.556785\n",
      "122        2.869943        3.604726                 2.565484\n",
      "44         4.813536        4.063167                 2.557167\n",
      "105        4.181411        3.454210                 2.556901\n",
      "138        2.962857        3.112965                 2.564159\n"
     ]
    }
   ],
   "source": [
    "ym_pred = modelm.intercept_ + modelm.coef_*xmulti_test\n",
    "print(f\"ym_pred is : {ym_pred}\")"
   ]
  }
 ],
 "metadata": {
  "kernelspec": {
   "display_name": "Python 3 (ipykernel)",
   "language": "python",
   "name": "python3"
  },
  "language_info": {
   "codemirror_mode": {
    "name": "ipython",
    "version": 3
   },
   "file_extension": ".py",
   "mimetype": "text/x-python",
   "name": "python",
   "nbconvert_exporter": "python",
   "pygments_lexer": "ipython3",
   "version": "3.9.13"
  }
 },
 "nbformat": 4,
 "nbformat_minor": 5
}
